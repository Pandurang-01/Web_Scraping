{
 "cells": [
  {
   "cell_type": "code",
   "execution_count": 68,
   "id": "63fa81b9",
   "metadata": {},
   "outputs": [],
   "source": [
    "# importing libraries \n",
    "\n",
    "import pandas as pd\n",
    "import numpy as np\n",
    "import plotly.express as px\n",
    "import plotly.graph_objects as go\n",
    "from bs4 import BeautifulSoup\n",
    "import requests\n",
    "import warnings\n",
    "warnings.filterwarnings(action = 'ignore')\n"
   ]
  },
  {
   "cell_type": "code",
   "execution_count": 47,
   "id": "63df643d",
   "metadata": {},
   "outputs": [],
   "source": [
    "# Medical Colleges \n",
    "\n",
    "url = \"https://ceoworld.biz/2022/03/26/best-medical-schools-in-the-world-for-2022/\""
   ]
  },
  {
   "cell_type": "code",
   "execution_count": 48,
   "id": "ca60c69c",
   "metadata": {},
   "outputs": [],
   "source": [
    "req = requests.get(url)"
   ]
  },
  {
   "cell_type": "code",
   "execution_count": 49,
   "id": "715726a0",
   "metadata": {},
   "outputs": [
    {
     "data": {
      "text/plain": [
       "<Response [200]>"
      ]
     },
     "execution_count": 49,
     "metadata": {},
     "output_type": "execute_result"
    }
   ],
   "source": [
    "req\n"
   ]
  },
  {
   "cell_type": "code",
   "execution_count": 50,
   "id": "5269ceb3",
   "metadata": {},
   "outputs": [],
   "source": [
    "soup=BeautifulSoup(req.text,\"html.parser\")\n"
   ]
  },
  {
   "cell_type": "code",
   "execution_count": 51,
   "id": "ada5f15d",
   "metadata": {},
   "outputs": [
    {
     "data": {
      "text/plain": [
       "<!DOCTYPE html>\n",
       "\n",
       "<html lang=\"en-US\">\n",
       "<head>\n",
       "<meta charset=\"utf-8\"/>\n",
       "<meta content=\"IE=edge\" http-equiv=\"X-UA-Compatible\"/>\n",
       "<meta content=\"width=device-width, initial-scale=1.0\" name=\"viewport\"/>\n",
       "<link href=\"https://gmpg.org/xfn/11\" rel=\"profile\"/>\n",
       "<link href=\"https://ceoworld.biz/xmlrpc.php\" rel=\"pingback\"/>\n",
       "<script type=\"application/javascript\">var bingo_ruby_ajax_url = \"https://ceoworld.biz/wp-admin/admin-ajax.php\"</script><meta content=\"index, follow, max-image-preview:large, max-snippet:-1, max-video-preview:-1\" name=\"robots\">\n",
       "<style>img:is([sizes=\"auto\" i], [sizes^=\"auto,\" i]) { contain-intrinsic-size: 3000px 1500px }</style>\n",
       "<!-- This site is optimized with the Yoast SEO Premium plugin v23.9 (Yoast SEO v23.9) - https://yoast.com/wordpress/plugins/seo/ -->\n",
       "<title>Best Medical Schools In The World, 2024 - CEOWORLD magazine</title>\n",
       "<link crossorigin=\"\" href=\"https://fonts.gstatic.com\" rel=\"preconnect\"/><link as=\"style\" crossorigin=\"\" href=\"https://fonts.googleapis.com/css?family=Lato%3A100%2C300%2C400%2C700%2C900%2C100italic%2C300italic%2C400italic%2C700italic%2C900italic%7CMontserrat%3A700%2C400%2C600%2C500&amp;display=swap\" id=\"rb-preload-gfonts\" onload=\"this.onload=null;this.rel='stylesheet'\" rel=\"preload\"/><noscript><link href=\"https://fonts.googleapis.com/css?family=Lato%3A100%2C300%2C400%2C700%2C900%2C100italic%2C300italic%2C400italic%2C700italic%2C900italic%7CMontserrat%3A700%2C400%2C600%2C500&amp;display=swap\" id=\"rb-preload-gfonts\" rel=\"stylesheet\"/></noscript><link href=\"https://ceoworld.biz/2024/04/02/best-medical-schools-in-the-world-2024/\" rel=\"canonical\">\n",
       "<meta content=\"en_US\" property=\"og:locale\">\n",
       "<meta content=\"article\" property=\"og:type\"/>\n",
       "<meta content=\"Best Medical Schools In The World, 2024 - CEOWORLD magazine\" property=\"og:title\"/>\n",
       "<meta content=\"Harvard Medical School takes the prestigious title of the world’s medical school for 2024, that’s according to the CEOWORLD magazine. Johns Hopkins University School of Medicine earned itself a respectable second place, while NYU Grossman School of Medicine is ranked third. The 2024 rankings placed Perelman School of Medicine at the University of Pennsylvania in […]\" property=\"og:description\"/>\n",
       "<meta content=\"https://ceoworld.biz/2024/04/02/best-medical-schools-in-the-world-2024/\" property=\"og:url\"/>\n",
       "<meta content=\"CEOWORLD magazine\" property=\"og:site_name\"/>\n",
       "<meta content=\"https://www.facebook.com/ceoworldmag\" property=\"article:publisher\"/>\n",
       "<meta content=\"2024-04-01T22:55:25+00:00\" property=\"article:published_time\"/>\n",
       "<meta content=\"https://ceoworld.biz/wp-content/uploads/2021/03/Medical-School-Students-1.jpg\" property=\"og:image\"/>\n",
       "<meta content=\"960\" property=\"og:image:width\"/>\n",
       "<meta content=\"640\" property=\"og:image:height\"/>\n",
       "<meta content=\"image/jpeg\" property=\"og:image:type\"/>\n",
       "<meta content=\"Despina Wilson\" name=\"author\"/>\n",
       "<meta content=\"summary_large_image\" name=\"twitter:card\"/>\n",
       "<meta content=\"@ceoworld\" name=\"twitter:creator\"/>\n",
       "<meta content=\"@ceoworld\" name=\"twitter:site\"/>\n",
       "<meta content=\"Written by\" name=\"twitter:label1\"/>\n",
       "<meta content=\"Despina Wilson\" name=\"twitter:data1\"/>\n",
       "<meta content=\"Est. reading time\" name=\"twitter:label2\"/>\n",
       "<meta content=\"3 minutes\" name=\"twitter:data2\"/>\n",
       "<script class=\"yoast-schema-graph\" type=\"application/ld+json\">{\"@context\":\"https://schema.org\",\"@graph\":[{\"@type\":\"Article\",\"@id\":\"https://ceoworld.biz/2024/04/02/best-medical-schools-in-the-world-2024/#article\",\"isPartOf\":{\"@id\":\"https://ceoworld.biz/2024/04/02/best-medical-schools-in-the-world-2024/\"},\"author\":{\"name\":\"Despina Wilson\",\"@id\":\"https://ceoworld.biz/#/schema/person/a1ecc805d2d92f487e324e000637c953\"},\"headline\":\"Best Medical Schools In The World, 2024\",\"datePublished\":\"2024-04-01T22:55:25+00:00\",\"dateModified\":\"2024-04-01T22:55:25+00:00\",\"mainEntityOfPage\":{\"@id\":\"https://ceoworld.biz/2024/04/02/best-medical-schools-in-the-world-2024/\"},\"wordCount\":651,\"publisher\":{\"@id\":\"https://ceoworld.biz/#organization\"},\"image\":{\"@id\":\"https://ceoworld.biz/2024/04/02/best-medical-schools-in-the-world-2024/#primaryimage\"},\"thumbnailUrl\":\"https://ceoworld.biz/wp-content/uploads/2021/03/Medical-School-Students-1.jpg\",\"keywords\":[\"C-Suite Executives Insider\",\"Chief Investment Officer Insider\",\"Chief Risk Officer Insider\",\"Chief software officer Insider\",\"Chief Virtual Reality Officer Insider\",\"Director of Human Empowerment Insider\",\"Non-Executive Chairman Insider\",\"Ultra Rich Insider\"],\"articleSection\":[\"Education and Career\"],\"inLanguage\":\"en-US\",\"copyrightYear\":\"2024\",\"copyrightHolder\":{\"@id\":\"https://ceoworld.biz/#organization\"}},{\"@type\":\"WebPage\",\"@id\":\"https://ceoworld.biz/2024/04/02/best-medical-schools-in-the-world-2024/\",\"url\":\"https://ceoworld.biz/2024/04/02/best-medical-schools-in-the-world-2024/\",\"name\":\"Best Medical Schools In The World, 2024 - CEOWORLD magazine\",\"isPartOf\":{\"@id\":\"https://ceoworld.biz/#website\"},\"primaryImageOfPage\":{\"@id\":\"https://ceoworld.biz/2024/04/02/best-medical-schools-in-the-world-2024/#primaryimage\"},\"image\":{\"@id\":\"https://ceoworld.biz/2024/04/02/best-medical-schools-in-the-world-2024/#primaryimage\"},\"thumbnailUrl\":\"https://ceoworld.biz/wp-content/uploads/2021/03/Medical-School-Students-1.jpg\",\"datePublished\":\"2024-04-01T22:55:25+00:00\",\"dateModified\":\"2024-04-01T22:55:25+00:00\",\"breadcrumb\":{\"@id\":\"https://ceoworld.biz/2024/04/02/best-medical-schools-in-the-world-2024/#breadcrumb\"},\"inLanguage\":\"en-US\",\"potentialAction\":[{\"@type\":\"ReadAction\",\"target\":[\"https://ceoworld.biz/2024/04/02/best-medical-schools-in-the-world-2024/\"]}]},{\"@type\":\"ImageObject\",\"inLanguage\":\"en-US\",\"@id\":\"https://ceoworld.biz/2024/04/02/best-medical-schools-in-the-world-2024/#primaryimage\",\"url\":\"https://ceoworld.biz/wp-content/uploads/2021/03/Medical-School-Students-1.jpg\",\"contentUrl\":\"https://ceoworld.biz/wp-content/uploads/2021/03/Medical-School-Students-1.jpg\",\"width\":960,\"height\":640},{\"@type\":\"BreadcrumbList\",\"@id\":\"https://ceoworld.biz/2024/04/02/best-medical-schools-in-the-world-2024/#breadcrumb\",\"itemListElement\":[{\"@type\":\"ListItem\",\"position\":1,\"name\":\"CEOWORLD magazine\",\"item\":\"https://ceoworld.biz/\"},{\"@type\":\"ListItem\",\"position\":2,\"name\":\"Latest\",\"item\":\"https://ceoworld.biz/latest/\"},{\"@type\":\"ListItem\",\"position\":3,\"name\":\"Education and Career\",\"item\":\"https://ceoworld.biz/education-and-career/\"},{\"@type\":\"ListItem\",\"position\":4,\"name\":\"Best Medical Schools In The World, 2024\"}]},{\"@type\":\"WebSite\",\"@id\":\"https://ceoworld.biz/#website\",\"url\":\"https://ceoworld.biz/\",\"name\":\"CEOWORLD magazine\",\"description\":\"CEOWORLD magazine is a reputable business magazine and news site that serves successful CEOs, CFOs, other corporate executives, business leaders, and high-net-worth individuals globally.\",\"publisher\":{\"@id\":\"https://ceoworld.biz/#organization\"},\"potentialAction\":[{\"@type\":\"SearchAction\",\"target\":{\"@type\":\"EntryPoint\",\"urlTemplate\":\"https://ceoworld.biz/?s={search_term_string}\"},\"query-input\":{\"@type\":\"PropertyValueSpecification\",\"valueRequired\":true,\"valueName\":\"search_term_string\"}}],\"inLanguage\":\"en-US\"},{\"@type\":\"Organization\",\"@id\":\"https://ceoworld.biz/#organization\",\"name\":\"CEOWORLD magazine\",\"url\":\"https://ceoworld.biz/\",\"logo\":{\"@type\":\"ImageObject\",\"inLanguage\":\"en-US\",\"@id\":\"https://ceoworld.biz/#/schema/logo/image/\",\"url\":\"https://ceoworld.biz/wp-content/uploads/2021/03/CEOWORLD-magazine-Logo-2.png\",\"contentUrl\":\"https://ceoworld.biz/wp-content/uploads/2021/03/CEOWORLD-magazine-Logo-2.png\",\"width\":1024,\"height\":576,\"caption\":\"CEOWORLD magazine\"},\"image\":{\"@id\":\"https://ceoworld.biz/#/schema/logo/image/\"},\"sameAs\":[\"https://www.facebook.com/ceoworldmag\",\"https://x.com/ceoworld\",\"https://www.instagram.com/ceoworldmagazine/\",\"https://www.linkedin.com/company/ceoworldmagazine/\",\"https://news.google.com/publications/CAAqJggKIiBDQklTRWdnTWFnNEtER05sYjNkdmNteGtMbUpwZWlnQVAB?hl=en-US&gl=US&ceid=US:en\"]},{\"@type\":\"Person\",\"@id\":\"https://ceoworld.biz/#/schema/person/a1ecc805d2d92f487e324e000637c953\",\"name\":\"Despina Wilson\",\"image\":{\"@type\":\"ImageObject\",\"inLanguage\":\"en-US\",\"@id\":\"https://ceoworld.biz/#/schema/person/image/\",\"url\":\"https://ceoworld.biz/wp-content/uploads/2023/10/file1-150x150.jpg\",\"contentUrl\":\"https://ceoworld.biz/wp-content/uploads/2023/10/file1-150x150.jpg\",\"caption\":\"Despina Wilson\"},\"description\":\"I am a senior editor and data journalist at CEOWORLD magazine. My job involves using infographics to report on news topics related to business and policy, with a global perspective. I hold a master's degree in journalism and have worked for newspapers and reporting projects in both the US and the UK, giving me a unique transatlantic perspective. I believe that data can enhance coverage of all news topics. As a contributor, I plan cover a wide range of issues, such as gender equality, climate change, labor, and immigration, using relevant statistics and insightful visualizations. Email: despina@ceoworld.biz\",\"url\":\"https://ceoworld.biz/author/despina/\"}]}</script>\n",
       "<!-- / Yoast SEO Premium plugin. -->\n",
       "<link href=\"//fonts.googleapis.com\" rel=\"dns-prefetch\">\n",
       "<link href=\"https://ceoworld.biz/feed/\" rel=\"alternate\" title=\"CEOWORLD magazine » Feed\" type=\"application/rss+xml\">\n",
       "<link href=\"https://ceoworld.biz/comments/feed/\" rel=\"alternate\" title=\"CEOWORLD magazine » Comments Feed\" type=\"application/rss+xml\"/>\n",
       "<link href=\"https://ceoworld.biz/wp-content/uploads/2021/03/CEOWORLD-magazine-icon-72.png\" rel=\"apple-touch-icon\"/><meta content=\"#ffffff\" name=\"msapplication-TileColor\"/><meta content=\"https://ceoworld.biz/wp-content/uploads/2021/03/ceoworld-icon-144.png\" name=\"msapplication-TileImage\"><script type=\"text/javascript\">\n",
       "/* <![CDATA[ */\n",
       "window._wpemojiSettings = {\"baseUrl\":\"https:\\/\\/s.w.org\\/images\\/core\\/emoji\\/15.0.3\\/72x72\\/\",\"ext\":\".png\",\"svgUrl\":\"https:\\/\\/s.w.org\\/images\\/core\\/emoji\\/15.0.3\\/svg\\/\",\"svgExt\":\".svg\",\"source\":{\"concatemoji\":\"https:\\/\\/ceoworld.biz\\/wp-includes\\/js\\/wp-emoji-release.min.js?ver=f56e9498862ea81294840c958aba8768\"}};\n",
       "/*! This file is auto-generated */\n",
       "!function(i,n){var o,s,e;function c(e){try{var t={supportTests:e,timestamp:(new Date).valueOf()};sessionStorage.setItem(o,JSON.stringify(t))}catch(e){}}function p(e,t,n){e.clearRect(0,0,e.canvas.width,e.canvas.height),e.fillText(t,0,0);var t=new Uint32Array(e.getImageData(0,0,e.canvas.width,e.canvas.height).data),r=(e.clearRect(0,0,e.canvas.width,e.canvas.height),e.fillText(n,0,0),new Uint32Array(e.getImageData(0,0,e.canvas.width,e.canvas.height).data));return t.every(function(e,t){return e===r[t]})}function u(e,t,n){switch(t){case\"flag\":return n(e,\"\\ud83c\\udff3\\ufe0f\\u200d\\u26a7\\ufe0f\",\"\\ud83c\\udff3\\ufe0f\\u200b\\u26a7\\ufe0f\")?!1:!n(e,\"\\ud83c\\uddfa\\ud83c\\uddf3\",\"\\ud83c\\uddfa\\u200b\\ud83c\\uddf3\")&&!n(e,\"\\ud83c\\udff4\\udb40\\udc67\\udb40\\udc62\\udb40\\udc65\\udb40\\udc6e\\udb40\\udc67\\udb40\\udc7f\",\"\\ud83c\\udff4\\u200b\\udb40\\udc67\\u200b\\udb40\\udc62\\u200b\\udb40\\udc65\\u200b\\udb40\\udc6e\\u200b\\udb40\\udc67\\u200b\\udb40\\udc7f\");case\"emoji\":return!n(e,\"\\ud83d\\udc26\\u200d\\u2b1b\",\"\\ud83d\\udc26\\u200b\\u2b1b\")}return!1}function f(e,t,n){var r=\"undefined\"!=typeof WorkerGlobalScope&&self instanceof WorkerGlobalScope?new OffscreenCanvas(300,150):i.createElement(\"canvas\"),a=r.getContext(\"2d\",{willReadFrequently:!0}),o=(a.textBaseline=\"top\",a.font=\"600 32px Arial\",{});return e.forEach(function(e){o[e]=t(a,e,n)}),o}function t(e){var t=i.createElement(\"script\");t.src=e,t.defer=!0,i.head.appendChild(t)}\"undefined\"!=typeof Promise&&(o=\"wpEmojiSettingsSupports\",s=[\"flag\",\"emoji\"],n.supports={everything:!0,everythingExceptFlag:!0},e=new Promise(function(e){i.addEventListener(\"DOMContentLoaded\",e,{once:!0})}),new Promise(function(t){var n=function(){try{var e=JSON.parse(sessionStorage.getItem(o));if(\"object\"==typeof e&&\"number\"==typeof e.timestamp&&(new Date).valueOf()<e.timestamp+604800&&\"object\"==typeof e.supportTests)return e.supportTests}catch(e){}return null}();if(!n){if(\"undefined\"!=typeof Worker&&\"undefined\"!=typeof OffscreenCanvas&&\"undefined\"!=typeof URL&&URL.createObjectURL&&\"undefined\"!=typeof Blob)try{var e=\"postMessage(\"+f.toString()+\"(\"+[JSON.stringify(s),u.toString(),p.toString()].join(\",\")+\"));\",r=new Blob([e],{type:\"text/javascript\"}),a=new Worker(URL.createObjectURL(r),{name:\"wpTestEmojiSupports\"});return void(a.onmessage=function(e){c(n=e.data),a.terminate(),t(n)})}catch(e){}c(n=f(s,u,p))}t(n)}).then(function(e){for(var t in e)n.supports[t]=e[t],n.supports.everything=n.supports.everything&&n.supports[t],\"flag\"!==t&&(n.supports.everythingExceptFlag=n.supports.everythingExceptFlag&&n.supports[t]);n.supports.everythingExceptFlag=n.supports.everythingExceptFlag&&!n.supports.flag,n.DOMReady=!1,n.readyCallback=function(){n.DOMReady=!0}}).then(function(){return e}).then(function(){var e;n.supports.everything||(n.readyCallback(),(e=n.source||{}).concatemoji?t(e.concatemoji):e.wpemoji&&e.twemoji&&(t(e.twemoji),t(e.wpemoji)))}))}((window,document),window._wpemojiSettings);\n",
       "/* ]]> */\n",
       "</script>\n",
       "<link href=\"https://ceoworld.biz/wp-content/plugins/bingo-ruby-core/assets/style.css?ver=3.6\" id=\"bingo_ruby_plugin_style-css\" media=\"all\" rel=\"stylesheet\" type=\"text/css\"/>\n",
       "<style id=\"wp-emoji-styles-inline-css\" type=\"text/css\">\n",
       "\n",
       "\timg.wp-smiley, img.emoji {\n",
       "\t\tdisplay: inline !important;\n",
       "\t\tborder: none !important;\n",
       "\t\tbox-shadow: none !important;\n",
       "\t\theight: 1em !important;\n",
       "\t\twidth: 1em !important;\n",
       "\t\tmargin: 0 0.07em !important;\n",
       "\t\tvertical-align: -0.1em !important;\n",
       "\t\tbackground: none !important;\n",
       "\t\tpadding: 0 !important;\n",
       "\t}\n",
       "</style>\n",
       "<link href=\"https://ceoworld.biz/wp-includes/css/dist/block-library/style.min.css?ver=f56e9498862ea81294840c958aba8768\" id=\"wp-block-library-css\" media=\"all\" rel=\"stylesheet\" type=\"text/css\"/>\n",
       "<style id=\"classic-theme-styles-inline-css\" type=\"text/css\">\n",
       "/*! This file is auto-generated */\n",
       ".wp-block-button__link{color:#fff;background-color:#32373c;border-radius:9999px;box-shadow:none;text-decoration:none;padding:calc(.667em + 2px) calc(1.333em + 2px);font-size:1.125em}.wp-block-file__button{background:#32373c;color:#fff;text-decoration:none}\n",
       "</style>\n",
       "<style id=\"global-styles-inline-css\" type=\"text/css\">\n",
       ":root{--wp--preset--aspect-ratio--square: 1;--wp--preset--aspect-ratio--4-3: 4/3;--wp--preset--aspect-ratio--3-4: 3/4;--wp--preset--aspect-ratio--3-2: 3/2;--wp--preset--aspect-ratio--2-3: 2/3;--wp--preset--aspect-ratio--16-9: 16/9;--wp--preset--aspect-ratio--9-16: 9/16;--wp--preset--color--black: #000000;--wp--preset--color--cyan-bluish-gray: #abb8c3;--wp--preset--color--white: #ffffff;--wp--preset--color--pale-pink: #f78da7;--wp--preset--color--vivid-red: #cf2e2e;--wp--preset--color--luminous-vivid-orange: #ff6900;--wp--preset--color--luminous-vivid-amber: #fcb900;--wp--preset--color--light-green-cyan: #7bdcb5;--wp--preset--color--vivid-green-cyan: #00d084;--wp--preset--color--pale-cyan-blue: #8ed1fc;--wp--preset--color--vivid-cyan-blue: #0693e3;--wp--preset--color--vivid-purple: #9b51e0;--wp--preset--gradient--vivid-cyan-blue-to-vivid-purple: linear-gradient(135deg,rgba(6,147,227,1) 0%,rgb(155,81,224) 100%);--wp--preset--gradient--light-green-cyan-to-vivid-green-cyan: linear-gradient(135deg,rgb(122,220,180) 0%,rgb(0,208,130) 100%);--wp--preset--gradient--luminous-vivid-amber-to-luminous-vivid-orange: linear-gradient(135deg,rgba(252,185,0,1) 0%,rgba(255,105,0,1) 100%);--wp--preset--gradient--luminous-vivid-orange-to-vivid-red: linear-gradient(135deg,rgba(255,105,0,1) 0%,rgb(207,46,46) 100%);--wp--preset--gradient--very-light-gray-to-cyan-bluish-gray: linear-gradient(135deg,rgb(238,238,238) 0%,rgb(169,184,195) 100%);--wp--preset--gradient--cool-to-warm-spectrum: linear-gradient(135deg,rgb(74,234,220) 0%,rgb(151,120,209) 20%,rgb(207,42,186) 40%,rgb(238,44,130) 60%,rgb(251,105,98) 80%,rgb(254,248,76) 100%);--wp--preset--gradient--blush-light-purple: linear-gradient(135deg,rgb(255,206,236) 0%,rgb(152,150,240) 100%);--wp--preset--gradient--blush-bordeaux: linear-gradient(135deg,rgb(254,205,165) 0%,rgb(254,45,45) 50%,rgb(107,0,62) 100%);--wp--preset--gradient--luminous-dusk: linear-gradient(135deg,rgb(255,203,112) 0%,rgb(199,81,192) 50%,rgb(65,88,208) 100%);--wp--preset--gradient--pale-ocean: linear-gradient(135deg,rgb(255,245,203) 0%,rgb(182,227,212) 50%,rgb(51,167,181) 100%);--wp--preset--gradient--electric-grass: linear-gradient(135deg,rgb(202,248,128) 0%,rgb(113,206,126) 100%);--wp--preset--gradient--midnight: linear-gradient(135deg,rgb(2,3,129) 0%,rgb(40,116,252) 100%);--wp--preset--font-size--small: 13px;--wp--preset--font-size--medium: 20px;--wp--preset--font-size--large: 36px;--wp--preset--font-size--x-large: 42px;--wp--preset--spacing--20: 0.44rem;--wp--preset--spacing--30: 0.67rem;--wp--preset--spacing--40: 1rem;--wp--preset--spacing--50: 1.5rem;--wp--preset--spacing--60: 2.25rem;--wp--preset--spacing--70: 3.38rem;--wp--preset--spacing--80: 5.06rem;--wp--preset--shadow--natural: 6px 6px 9px rgba(0, 0, 0, 0.2);--wp--preset--shadow--deep: 12px 12px 50px rgba(0, 0, 0, 0.4);--wp--preset--shadow--sharp: 6px 6px 0px rgba(0, 0, 0, 0.2);--wp--preset--shadow--outlined: 6px 6px 0px -3px rgba(255, 255, 255, 1), 6px 6px rgba(0, 0, 0, 1);--wp--preset--shadow--crisp: 6px 6px 0px rgba(0, 0, 0, 1);}:where(.is-layout-flex){gap: 0.5em;}:where(.is-layout-grid){gap: 0.5em;}body .is-layout-flex{display: flex;}.is-layout-flex{flex-wrap: wrap;align-items: center;}.is-layout-flex > :is(*, div){margin: 0;}body .is-layout-grid{display: grid;}.is-layout-grid > :is(*, div){margin: 0;}:where(.wp-block-columns.is-layout-flex){gap: 2em;}:where(.wp-block-columns.is-layout-grid){gap: 2em;}:where(.wp-block-post-template.is-layout-flex){gap: 1.25em;}:where(.wp-block-post-template.is-layout-grid){gap: 1.25em;}.has-black-color{color: var(--wp--preset--color--black) !important;}.has-cyan-bluish-gray-color{color: var(--wp--preset--color--cyan-bluish-gray) !important;}.has-white-color{color: var(--wp--preset--color--white) !important;}.has-pale-pink-color{color: var(--wp--preset--color--pale-pink) !important;}.has-vivid-red-color{color: var(--wp--preset--color--vivid-red) !important;}.has-luminous-vivid-orange-color{color: var(--wp--preset--color--luminous-vivid-orange) !important;}.has-luminous-vivid-amber-color{color: var(--wp--preset--color--luminous-vivid-amber) !important;}.has-light-green-cyan-color{color: var(--wp--preset--color--light-green-cyan) !important;}.has-vivid-green-cyan-color{color: var(--wp--preset--color--vivid-green-cyan) !important;}.has-pale-cyan-blue-color{color: var(--wp--preset--color--pale-cyan-blue) !important;}.has-vivid-cyan-blue-color{color: var(--wp--preset--color--vivid-cyan-blue) !important;}.has-vivid-purple-color{color: var(--wp--preset--color--vivid-purple) !important;}.has-black-background-color{background-color: var(--wp--preset--color--black) !important;}.has-cyan-bluish-gray-background-color{background-color: var(--wp--preset--color--cyan-bluish-gray) !important;}.has-white-background-color{background-color: var(--wp--preset--color--white) !important;}.has-pale-pink-background-color{background-color: var(--wp--preset--color--pale-pink) !important;}.has-vivid-red-background-color{background-color: var(--wp--preset--color--vivid-red) !important;}.has-luminous-vivid-orange-background-color{background-color: var(--wp--preset--color--luminous-vivid-orange) !important;}.has-luminous-vivid-amber-background-color{background-color: var(--wp--preset--color--luminous-vivid-amber) !important;}.has-light-green-cyan-background-color{background-color: var(--wp--preset--color--light-green-cyan) !important;}.has-vivid-green-cyan-background-color{background-color: var(--wp--preset--color--vivid-green-cyan) !important;}.has-pale-cyan-blue-background-color{background-color: var(--wp--preset--color--pale-cyan-blue) !important;}.has-vivid-cyan-blue-background-color{background-color: var(--wp--preset--color--vivid-cyan-blue) !important;}.has-vivid-purple-background-color{background-color: var(--wp--preset--color--vivid-purple) !important;}.has-black-border-color{border-color: var(--wp--preset--color--black) !important;}.has-cyan-bluish-gray-border-color{border-color: var(--wp--preset--color--cyan-bluish-gray) !important;}.has-white-border-color{border-color: var(--wp--preset--color--white) !important;}.has-pale-pink-border-color{border-color: var(--wp--preset--color--pale-pink) !important;}.has-vivid-red-border-color{border-color: var(--wp--preset--color--vivid-red) !important;}.has-luminous-vivid-orange-border-color{border-color: var(--wp--preset--color--luminous-vivid-orange) !important;}.has-luminous-vivid-amber-border-color{border-color: var(--wp--preset--color--luminous-vivid-amber) !important;}.has-light-green-cyan-border-color{border-color: var(--wp--preset--color--light-green-cyan) !important;}.has-vivid-green-cyan-border-color{border-color: var(--wp--preset--color--vivid-green-cyan) !important;}.has-pale-cyan-blue-border-color{border-color: var(--wp--preset--color--pale-cyan-blue) !important;}.has-vivid-cyan-blue-border-color{border-color: var(--wp--preset--color--vivid-cyan-blue) !important;}.has-vivid-purple-border-color{border-color: var(--wp--preset--color--vivid-purple) !important;}.has-vivid-cyan-blue-to-vivid-purple-gradient-background{background: var(--wp--preset--gradient--vivid-cyan-blue-to-vivid-purple) !important;}.has-light-green-cyan-to-vivid-green-cyan-gradient-background{background: var(--wp--preset--gradient--light-green-cyan-to-vivid-green-cyan) !important;}.has-luminous-vivid-amber-to-luminous-vivid-orange-gradient-background{background: var(--wp--preset--gradient--luminous-vivid-amber-to-luminous-vivid-orange) !important;}.has-luminous-vivid-orange-to-vivid-red-gradient-background{background: var(--wp--preset--gradient--luminous-vivid-orange-to-vivid-red) !important;}.has-very-light-gray-to-cyan-bluish-gray-gradient-background{background: var(--wp--preset--gradient--very-light-gray-to-cyan-bluish-gray) !important;}.has-cool-to-warm-spectrum-gradient-background{background: var(--wp--preset--gradient--cool-to-warm-spectrum) !important;}.has-blush-light-purple-gradient-background{background: var(--wp--preset--gradient--blush-light-purple) !important;}.has-blush-bordeaux-gradient-background{background: var(--wp--preset--gradient--blush-bordeaux) !important;}.has-luminous-dusk-gradient-background{background: var(--wp--preset--gradient--luminous-dusk) !important;}.has-pale-ocean-gradient-background{background: var(--wp--preset--gradient--pale-ocean) !important;}.has-electric-grass-gradient-background{background: var(--wp--preset--gradient--electric-grass) !important;}.has-midnight-gradient-background{background: var(--wp--preset--gradient--midnight) !important;}.has-small-font-size{font-size: var(--wp--preset--font-size--small) !important;}.has-medium-font-size{font-size: var(--wp--preset--font-size--medium) !important;}.has-large-font-size{font-size: var(--wp--preset--font-size--large) !important;}.has-x-large-font-size{font-size: var(--wp--preset--font-size--x-large) !important;}\n",
       ":where(.wp-block-post-template.is-layout-flex){gap: 1.25em;}:where(.wp-block-post-template.is-layout-grid){gap: 1.25em;}\n",
       ":where(.wp-block-columns.is-layout-flex){gap: 2em;}:where(.wp-block-columns.is-layout-grid){gap: 2em;}\n",
       ":root :where(.wp-block-pullquote){font-size: 1.5em;line-height: 1.6;}\n",
       "</style>\n",
       "<link href=\"https://ceoworld.biz/wp-content/plugins/official-mailerlite-sign-up-forms/assets/css/mailerlite_forms.css?ver=1.7.13\" id=\"mailerlite_forms.css-css\" media=\"all\" rel=\"stylesheet\" type=\"text/css\"/>\n",
       "<link href=\"https://ceoworld.biz/wp-content/plugins/wp-user-avatar/assets/css/frontend.min.css?ver=4.15.18\" id=\"ppress-frontend-css\" media=\"all\" rel=\"stylesheet\" type=\"text/css\"/>\n",
       "<link href=\"https://ceoworld.biz/wp-content/plugins/wp-user-avatar/assets/flatpickr/flatpickr.min.css?ver=4.15.18\" id=\"ppress-flatpickr-css\" media=\"all\" rel=\"stylesheet\" type=\"text/css\"/>\n",
       "<link href=\"https://ceoworld.biz/wp-content/plugins/wp-user-avatar/assets/select2/select2.min.css?ver=f56e9498862ea81294840c958aba8768\" id=\"ppress-select2-css\" media=\"all\" rel=\"stylesheet\" type=\"text/css\"/>\n",
       "<link href=\"https://ceoworld.biz/wp-content/themes/news/assets/external/bootstrap.css?ver=v3.3.1\" id=\"bootstrap-css\" media=\"all\" rel=\"stylesheet\" type=\"text/css\"/>\n",
       "<link href=\"https://ceoworld.biz/wp-content/themes/news/assets/external/miscellaneous.css?ver=3.6\" id=\"bingo_ruby_style_miscellaneous-css\" media=\"all\" rel=\"stylesheet\" type=\"text/css\"/>\n",
       "<link href=\"https://ceoworld.biz/wp-content/themes/news/assets/css/theme-style.css?ver=3.6\" id=\"bingo_ruby_style_main-css\" media=\"all\" rel=\"stylesheet\" type=\"text/css\"/>\n",
       "<link href=\"https://ceoworld.biz/wp-content/themes/news/assets/css/theme-responsive.css?ver=3.6\" id=\"bingo_ruby_style_responsive-css\" media=\"all\" rel=\"stylesheet\" type=\"text/css\"/>\n",
       "<link href=\"https://ceoworld.biz/wp-content/themes/news/style.css?ver=3.6\" id=\"bingo_ruby_style_default-css\" media=\"all\" rel=\"stylesheet\" type=\"text/css\"/>\n",
       "<style id=\"bingo_ruby_style_default-inline-css\" type=\"text/css\">\n",
       "input[type=\"button\"]:hover, button:hover, .header-search-not-found, .breaking-news-title span, .breaking-news-title .mobile-headline,.post-title a:hover, .post-title a:focus, .comment-title h3, h3.comment-reply-title, .comment-list .edit-link, .single-nav a:hover, .single-nav a:focus,.subscribe-icon-mail i, .flickr-btn-wrap a, .twitter-content a, .entry del, .entry blockquote p, .entry a:not(button),.entry p a, .comment-list .comment-content blockquote p, .author-content-wrap .author-title a:hover, .author-description a, #wp-calendar #today{ color: #3a57bc;}.page-numbers.current, a.page-numbers:hover, a.page-numbers:focus, .topbar-subscribe-button a span, .topbar-style-2 .topbar-subscribe-button a span:hover,.post-editor:hover, .cat-info-el, .comment-list .comment-reply-link, .single-nav a:hover .ruby-nav-icon, .single-nav a:focus .ruby-nav-icon, input[type=\"button\"].ninja-forms-field,.page-search-form .search-submit input[type=\"submit\"], .post-widget-inner .post-counter, .widget_search .search-submit input[type=\"submit\"], .single-page-links .pagination-num > span,.single-page-links .pagination-num > a:hover > span, .subscribe-form-wrap .mc4wp-form-fields input[type=\"submit\"], .widget-social-link-info a i, #ruby-back-top i, .entry ul li:before,.ruby-trigger .icon-wrap, .ruby-trigger .icon-wrap:before, .ruby-trigger .icon-wrap:after, .subscribe-layout-3 .subscribe-box .subscribe-form input[type=\"submit\"], .table-link a:before{ background-color: #3a57bc;}.off-canvas-wrap::-webkit-scrollbar-corner, .off-canvas-wrap::-webkit-scrollbar-thumb, .video-playlist-iframe-nav::-webkit-scrollbar-corner, .video-playlist-iframe-nav::-webkit-scrollbar-thumb,.fw-block-v2 .video-playlist-iframe-nav::-webkit-scrollbar-corner, .fw-block-v2 .video-playlist-iframe-nav::-webkit-scrollbar-thumb,.ruby-coll-scroll::-webkit-scrollbar-corner, .ruby-coll-scroll::-webkit-scrollbar-thumb{ background-color: #3a57bc !important;}.page-numbers.current, a.page-numbers:hover, a.page-numbers:focus, .entry blockquote p, .entry blockquote{ border-color: #3a57bc;}.total-caption { font-family :Lato;}.banner-background-color { background-color: #0f2741; }.navbar-wrap, .navbar-social a, .header-search-popup, .header-search-popup #ruby-search-input { background-color: #163a64; }.navbar-inner, .header-search-popup .btn, .header-search-popup #ruby-search-input, .logo-mobile-text > * { color: #ffffff; }.show-social .ruby-icon-show, .show-social .ruby-icon-show:before, .show-social .ruby-icon-show:after,.extend-social .ruby-icon-close:before, .extend-social .ruby-icon-close:after,.ruby-trigger .icon-wrap, .ruby-trigger .icon-wrap:before, .ruby-trigger .icon-wrap:after{ background-color: #ffffff; }.show-social .ruby-icon-show, .show-social .ruby-icon-show:before, .show-social .ruby-icon-show:after, .extend-social .ruby-icon-close:before, .extend-social .ruby-icon-close:after{ border-color: #ffffff; }.main-menu-inner > li:hover > a, .main-menu-inner > li:focus > a, .main-menu-inner > .current-menu-item > a { color: #ffffff; }.main-menu-inner .sub-menu { background-color: #ffffff; }.main-menu-inner > li.is-mega-menu:hover > a:after, .main-menu-inner > li.is-mega-menu:focus > a:after, .main-menu-inner > li.menu-item-has-children:hover > a:after, .main-menu-inner > li.menu-item-has-children:focus > a:after{ border-bottom-color: #ffffff; }.main-menu-inner > li.is-mega-menu:hover > a:before, .main-menu-inner > li.is-mega-menu:focus > a:before, .main-menu-inner > li.menu-item-has-children:hover > a:before, .main-menu-inner > li.menu-item-has-children:focus > a:before { border-bottom-color: #ffffff; }.main-menu-inner .sub-menu, .mega-category-menu .post-title,.mega-category-menu .post-meta-info, .mega-category-menu .post-meta-info .vcard { color: #0f2741; }.main-menu-inner .sub-menu.is-sub-default a:hover, .main-menu-inner .sub-menu .current-menu-item > a { color: #316292; }.cat-info-el.cat-info-id-27496{ background-color: #ba8404 !important;}.cat-info-el.cat-info-id-12038{ background-color: #02270a !important;}.footer-copyright-wrap p { color: #ffffff; }.footer-copyright-wrap { background-color: #282828; }.post-excerpt{ font-size :14px;}\n",
       "</style>\n",
       "<script id=\"jquery-core-js-extra\" type=\"text/javascript\">\n",
       "/* <![CDATA[ */\n",
       "var appp_ajax_login = {\"processing\":\"Logging in....\",\"required\":\"Fields are required\",\"error\":\"Error Logging in\"};\n",
       "/* ]]> */\n",
       "</script>\n",
       "<script id=\"jquery-core-js\" src=\"https://ceoworld.biz/wp-includes/js/jquery/jquery.min.js?ver=3.7.1\" type=\"text/javascript\"></script>\n",
       "<script id=\"jquery-migrate-js\" src=\"https://ceoworld.biz/wp-includes/js/jquery/jquery-migrate.min.js?ver=3.4.1\" type=\"text/javascript\"></script>\n",
       "<script id=\"ppress-flatpickr-js\" src=\"https://ceoworld.biz/wp-content/plugins/wp-user-avatar/assets/flatpickr/flatpickr.min.js?ver=4.15.18\" type=\"text/javascript\"></script>\n",
       "<script id=\"ppress-select2-js\" src=\"https://ceoworld.biz/wp-content/plugins/wp-user-avatar/assets/select2/select2.min.js?ver=4.15.18\" type=\"text/javascript\"></script>\n",
       "<!--[if lt IE 9]>\n",
       "<script type=\"text/javascript\" src=\"https://ceoworld.biz/wp-content/themes/news/assets/external/html5.min.js?ver=3.7.3\" id=\"html5-js\"></script>\n",
       "<![endif]-->\n",
       "<script id=\"appp-no-app-js\" src=\"https://ceoworld.biz/wp-content/plugins/apppresser/js/no-app.js?ver=4.4.7\" type=\"text/javascript\"></script>\n",
       "<link as=\"font\" crossorigin=\"anonymous\" href=\"https://ceoworld.biz/wp-content/themes/news/assets/external/fonts/icons.woff2?2.0.2\" rel=\"preload\" type=\"font/woff2\"/> <link href=\"https://ceoworld.biz/wp-json/\" rel=\"https://api.w.org/\"><link href=\"https://ceoworld.biz/wp-json/wp/v2/posts/215695\" rel=\"alternate\" title=\"JSON\" type=\"application/json\"/><link href=\"https://ceoworld.biz/xmlrpc.php?rsd\" rel=\"EditURI\" title=\"RSD\" type=\"application/rsd+xml\"/>\n",
       "<link href=\"https://ceoworld.biz/wp-json/oembed/1.0/embed?url=https%3A%2F%2Fceoworld.biz%2F2024%2F04%2F02%2Fbest-medical-schools-in-the-world-2024%2F\" rel=\"alternate\" title=\"oEmbed (JSON)\" type=\"application/json+oembed\"/>\n",
       "<link href=\"https://ceoworld.biz/wp-json/oembed/1.0/embed?url=https%3A%2F%2Fceoworld.biz%2F2024%2F04%2F02%2Fbest-medical-schools-in-the-world-2024%2F&amp;format=xml\" rel=\"alternate\" title=\"oEmbed (XML)\" type=\"text/xml+oembed\"/>\n",
       "<script type=\"application/ld+json\">{\"@context\":\"https://schema.org\",\"@type\":\"WebSite\",\"@id\":\"https://ceoworld.biz/#website\",\"url\":\"https://ceoworld.biz/\",\"name\":\"CEOWORLD magazine\",\"potentialAction\":{\"@type\":\"SearchAction\",\"target\":\"https://ceoworld.biz/?s={search_term_string}\",\"query-input\":\"required name=search_term_string\"}}</script>\n",
       "<!-- MailerLite Universal -->\n",
       "<script>\n",
       "            (function(w,d,e,u,f,l,n){w[f]=w[f]||function(){(w[f].q=w[f].q||[])\n",
       "                .push(arguments);},l=d.createElement(e),l.async=1,l.src=u,\n",
       "                n=d.getElementsByTagName(e)[0],n.parentNode.insertBefore(l,n);})\n",
       "            (window,document,'script','https://assets.mailerlite.com/js/universal.js','ml');\n",
       "            ml('account', '569787');\n",
       "            ml('enablePopups', true);\n",
       "        </script>\n",
       "<!-- End MailerLite Universal -->\n",
       "<!-- Clicky Web Analytics - https://clicky.com, WordPress Plugin by Yoast - https://yoast.com/wordpress/plugins/clicky/ --><script>\n",
       "\t\n",
       "\tvar clicky_site_ids = clicky_site_ids || [];\n",
       "\tclicky_site_ids.push(\"209594\");\n",
       "</script>\n",
       "<script async=\"\" src=\"//static.getclicky.com/js\"></script><link href=\"https://ceoworld.biz/wp-content/uploads/2021/03/cropped-ceoworld-icon-32x32.png\" rel=\"icon\" sizes=\"32x32\"/>\n",
       "<link href=\"https://ceoworld.biz/wp-content/uploads/2021/03/cropped-ceoworld-icon-192x192.png\" rel=\"icon\" sizes=\"192x192\"/>\n",
       "<link href=\"https://ceoworld.biz/wp-content/uploads/2021/03/cropped-ceoworld-icon-180x180.png\" rel=\"apple-touch-icon\"/>\n",
       "<meta content=\"https://ceoworld.biz/wp-content/uploads/2021/03/cropped-ceoworld-icon-270x270.png\" name=\"msapplication-TileImage\"/>\n",
       "<style id=\"wp-custom-css\" type=\"text/css\">\n",
       "\t\t\t.author-title:after {\n",
       "    content: '\\f058';\n",
       "    font-family: FontAwesome;\n",
       "                font-size: 20px;\n",
       "    margin-left:8px;\n",
       "        color:#1da1f2;}\n",
       ".author-title{\n",
       "        color:#1da1f2;\n",
       "}\n",
       ".author-title:after {\n",
       "    content: \"\\e983\";\n",
       "    font-family: \"ruby-icon\";\n",
       "    color:#1da1f2;\n",
       "    font-size: 1.2em;\n",
       "    top: -.3em;\n",
       "    padding-left: 2px;\n",
       "    position: relative;\n",
       "}\t\t\n",
       "\n",
       ".author-content-wrap .author-title {\n",
       "    overflow: inherit;\n",
       "}\t\t</style>\n",
       "<style class=\"options-output\" title=\"dynamic-css\" type=\"text/css\">.footer-inner{background-color:#ffffff;background-repeat:no-repeat;background-size:cover;background-attachment:fixed;background-position:center center;}.topbar-wrap{font-family:Lato;text-transform:capitalize;font-weight:400;font-style:normal;font-size:13px;}.main-menu-inner,.off-canvas-nav-inner{font-family:Lato;text-transform:uppercase;letter-spacing:0px;font-weight:700;font-style:normal;font-size:15px;}.main-menu-inner .sub-menu,.off-canvas-nav-inner .sub-menu{font-family:Lato;text-transform:capitalize;letter-spacing:0px;font-weight:400;font-style:normal;font-size:14px;}.logo-wrap.is-logo-text .logo-text h1{font-family:Montserrat;text-transform:uppercase;letter-spacing:-1px;font-weight:700;font-style:normal;font-size:40px;}.logo-mobile-text span{font-family:Montserrat;text-transform:uppercase;letter-spacing:-1px;font-weight:700;font-style:normal;font-size:28px;}body, p{font-family:Lato;line-height:24px;font-weight:400;font-style:normal;color:#282828;font-size:15px;}.post-title.is-size-1{font-family:Montserrat;font-weight:700;font-style:normal;color:#282828;font-size:36px;}.post-title.is-size-2{font-family:Montserrat;font-weight:700;font-style:normal;color:#282828;font-size:30px;}.post-title.is-size-3{font-family:Montserrat;font-weight:700;font-style:normal;color:#282828;font-size:21px;}.post-title.is-size-4{font-family:Montserrat;font-weight:700;font-style:normal;color:#282828;font-size:18px;}.post-title.is-size-5{font-family:Montserrat;font-weight:700;font-style:normal;color:#282828;font-size:14px;}.post-title.is-size-6{font-family:Montserrat;font-weight:400;font-style:normal;color:#282828;font-size:13px;}h1,h2,h3,h4,h5,h6{font-family:Montserrat;text-transform:none;font-weight:700;font-style:normal;}.post-meta-info,.single-post-top,.counter-element{font-family:Lato;font-weight:400;font-style:normal;color:#999;font-size:12px;}.post-cat-info{font-family:Lato;text-transform:uppercase;font-weight:700;font-style:normal;font-size:11px;}.block-header-wrap{font-family:Montserrat;text-transform:uppercase;font-weight:600;font-style:normal;font-size:18px;}.block-ajax-filter-wrap{font-family:Montserrat;text-transform:uppercase;font-weight:500;font-style:normal;font-size:11px;}.widget-title{font-family:Montserrat;text-transform:uppercase;font-weight:600;font-style:normal;font-size:14px;}.breadcrumb-wrap{font-family:Lato;text-transform:none;font-weight:400;font-style:normal;color:#777777;font-size:12px;}</style><!-- Global site tag (gtag.js) - Google Analytics -->\n",
       "<script async=\"\" src=\"https://www.googletagmanager.com/gtag/js?id=UA-2882602-1\"></script>\n",
       "<script>\n",
       "  window.dataLayer = window.dataLayer || [];\n",
       "  function gtag(){dataLayer.push(arguments);}\n",
       "  gtag('js', new Date());\n",
       "\n",
       "  gtag('config', 'UA-2882602-1');\n",
       "</script>\n",
       "</link></meta></link></link></meta></link></meta></head>\n",
       "<body class=\"post-template-default single single-post postid-215695 single-format-standard wp-custom-logo ruby-body is-full-width is-site-smooth-display\" data-rsssl=\"1\" itemscope=\"\" itemtype=\"https://schema.org/WebPage\">\n",
       "<div class=\"off-canvas-wrap is-dark-text\">\n",
       "<div class=\"off-canvas-inner\">\n",
       "<a href=\"#\" id=\"ruby-off-canvas-close-btn\"><i aria-hidden=\"true\" class=\"ruby-close-btn\"></i></a>\n",
       "<nav class=\"off-canvas-nav-wrap\" id=\"ruby-offcanvas-navigation\">\n",
       "<div class=\"menu-main-navigation-container\"><ul class=\"off-canvas-nav-inner\" id=\"offcanvas-nav\"><li class=\"menu-item menu-item-type-post_type menu-item-object-page menu-item-home menu-item-112563\" id=\"menu-item-112563\"><a data-wpel-link=\"internal\" href=\"https://ceoworld.biz/\" rel=\"follow\" title=\"CEOWORLD magazine\">Home</a></li>\n",
       "<li class=\"menu-item menu-item-type-post_type menu-item-object-page current_page_parent menu-item-114499\" id=\"menu-item-114499\"><a data-wpel-link=\"internal\" href=\"https://ceoworld.biz/latest/\" rel=\"follow\">Latest</a></li>\n",
       "<li class=\"menu-item menu-item-type-custom menu-item-object-custom menu-item-has-children menu-item-112580\" id=\"menu-item-112580\"><a href=\"#\">More</a>\n",
       "<ul class=\"sub-menu\">\n",
       "<li class=\"menu-item menu-item-type-custom menu-item-object-custom menu-item-has-children menu-item-144603\" id=\"menu-item-144603\"><a href=\"#\">Imagine</a>\n",
       "<ul class=\"sub-menu\">\n",
       "<li class=\"menu-item menu-item-type-taxonomy menu-item-object-category menu-item-200051 is-category-18009\" id=\"menu-item-200051\"><a data-wpel-link=\"internal\" href=\"https://ceoworld.biz/ceoadvisory/\" rel=\"follow\">CEO Advisory</a></li>\n",
       "<li class=\"menu-item menu-item-type-taxonomy menu-item-object-category menu-item-200052 is-category-14786\" id=\"menu-item-200052\"><a data-wpel-link=\"internal\" href=\"https://ceoworld.biz/ceoagenda/\" rel=\"follow\">CEO Agenda</a></li>\n",
       "<li class=\"menu-item menu-item-type-taxonomy menu-item-object-category menu-item-200053 is-category-34462\" id=\"menu-item-200053\"><a data-wpel-link=\"internal\" href=\"https://ceoworld.biz/ceobriefing/\" rel=\"follow\">CEO Briefing</a></li>\n",
       "<li class=\"menu-item menu-item-type-taxonomy menu-item-object-category menu-item-200054 is-category-12038\" id=\"menu-item-200054\"><a data-wpel-link=\"internal\" href=\"https://ceoworld.biz/ceoinsider/\" rel=\"follow\">CEO Insider</a></li>\n",
       "<li class=\"menu-item menu-item-type-taxonomy menu-item-object-category menu-item-200050 is-category-37306\" id=\"menu-item-200050\"><a data-wpel-link=\"internal\" href=\"https://ceoworld.biz/banking-and-finance/\" rel=\"follow\">Banking and Finance</a></li>\n",
       "</ul>\n",
       "</li>\n",
       "<li class=\"menu-item menu-item-type-custom menu-item-object-custom menu-item-has-children menu-item-144604\" id=\"menu-item-144604\"><a href=\"#\">Innovate</a>\n",
       "<ul class=\"sub-menu\">\n",
       "<li class=\"menu-item menu-item-type-taxonomy menu-item-object-category menu-item-200056 is-category-37202\" id=\"menu-item-200056\"><a data-wpel-link=\"internal\" href=\"https://ceoworld.biz/ceo-journal/\" rel=\"follow\">CEO Journal</a></li>\n",
       "<li class=\"menu-item menu-item-type-taxonomy menu-item-object-category menu-item-200057 is-category-37307\" id=\"menu-item-200057\"><a data-wpel-link=\"internal\" href=\"https://ceoworld.biz/ceoopinions/\" rel=\"follow\">CEO Opinions</a></li>\n",
       "<li class=\"menu-item menu-item-type-taxonomy menu-item-object-category menu-item-200058 is-category-36078\" id=\"menu-item-200058\"><a data-wpel-link=\"internal\" href=\"https://ceoworld.biz/ceo-spotlight/\" rel=\"follow\">CEO Spotlight</a></li>\n",
       "<li class=\"menu-item menu-item-type-taxonomy menu-item-object-category current-post-ancestor current-menu-parent current-post-parent menu-item-200059 is-category-23742\" id=\"menu-item-200059\"><a data-wpel-link=\"internal\" href=\"https://ceoworld.biz/education-and-career/\" rel=\"follow\">Education and Career</a></li>\n",
       "<li class=\"menu-item menu-item-type-taxonomy menu-item-object-category menu-item-200055 is-category-36164\" id=\"menu-item-200055\"><a data-wpel-link=\"internal\" href=\"https://ceoworld.biz/ceoinsights/\" rel=\"follow\">CEO Insights</a></li>\n",
       "</ul>\n",
       "</li>\n",
       "<li class=\"menu-item menu-item-type-custom menu-item-object-custom menu-item-has-children menu-item-178014\" id=\"menu-item-178014\"><a href=\"#\">Indulge</a>\n",
       "<ul class=\"sub-menu\">\n",
       "<li class=\"menu-item menu-item-type-taxonomy menu-item-object-category menu-item-200061 is-category-34463\" id=\"menu-item-200061\"><a data-wpel-link=\"internal\" href=\"https://ceoworld.biz/lifestyle-and-travel/\" rel=\"follow\">Lifestyle and Travel</a></li>\n",
       "<li class=\"menu-item menu-item-type-taxonomy menu-item-object-category menu-item-200062 is-category-37203\" id=\"menu-item-200062\"><a data-wpel-link=\"internal\" href=\"https://ceoworld.biz/money-and-wealth/\" rel=\"follow\">Money and Wealth</a></li>\n",
       "<li class=\"menu-item menu-item-type-taxonomy menu-item-object-category menu-item-200063 is-category-37201\" id=\"menu-item-200063\"><a data-wpel-link=\"internal\" href=\"https://ceoworld.biz/special-reports/\" rel=\"follow\">Special Reports</a></li>\n",
       "<li class=\"menu-item menu-item-type-taxonomy menu-item-object-category menu-item-200060 is-category-34471\" id=\"menu-item-200060\"><a data-wpel-link=\"internal\" href=\"https://ceoworld.biz/executiveinsider/\" rel=\"follow\">Executive Insider</a></li>\n",
       "<li class=\"menu-item menu-item-type-taxonomy menu-item-object-category menu-item-200064 is-category-27496\" id=\"menu-item-200064\"><a data-wpel-link=\"internal\" href=\"https://ceoworld.biz/statsgate/\" rel=\"follow\">Stats Gate</a></li>\n",
       "</ul>\n",
       "</li>\n",
       "<li class=\"menu-item menu-item-type-custom menu-item-object-custom menu-item-has-children menu-item-144605\" id=\"menu-item-144605\"><a href=\"#\">Inspire</a>\n",
       "<ul class=\"sub-menu\">\n",
       "<li class=\"menu-item menu-item-type-taxonomy menu-item-object-category menu-item-200065 is-category-36082\" id=\"menu-item-200065\"><a data-wpel-link=\"internal\" href=\"https://ceoworld.biz/success-and-leadership/\" rel=\"follow\">Success and Leadership</a></li>\n",
       "<li class=\"menu-item menu-item-type-taxonomy menu-item-object-category menu-item-200066 is-category-36079\" id=\"menu-item-200066\"><a data-wpel-link=\"internal\" href=\"https://ceoworld.biz/tech-and-innovation/\" rel=\"follow\">Tech and Innovation</a></li>\n",
       "<li class=\"menu-item menu-item-type-post_type menu-item-object-page menu-item-200068\" id=\"menu-item-200068\"><a data-wpel-link=\"internal\" href=\"https://ceoworld.biz/best/\" rel=\"follow\">CEOWOLRD Rankings</a></li>\n",
       "<li class=\"menu-item menu-item-type-post_type menu-item-object-post menu-item-202944\" id=\"menu-item-202944\"><a data-wpel-link=\"internal\" href=\"https://ceoworld.biz/2024/01/13/the-global-mobility-index-these-are-the-worlds-most-powerful-passports-in-2024/\" rel=\"follow\" title=\"The Global Mobility Index: These Are the World’s Most Powerful Passports in 2024\">Global Passport Ranking</a></li>\n",
       "<li class=\"menu-item menu-item-type-post_type menu-item-object-page menu-item-200067\" id=\"menu-item-200067\"><a data-wpel-link=\"internal\" href=\"https://ceoworld.biz/globalcitizen/\" rel=\"follow\" title=\"Citizenship By Investment Index\">Citizenship By Investment</a></li>\n",
       "</ul>\n",
       "</li>\n",
       "</ul>\n",
       "</li>\n",
       "<li class=\"menu-item menu-item-type-post_type menu-item-object-post menu-item-202914\" id=\"menu-item-202914\"><a data-wpel-link=\"internal\" href=\"https://ceoworld.biz/2024/01/13/the-worlds-most-influential-ceos-and-business-executives-of-2024/\" rel=\"follow\" title=\"The World’s Most Influential CEOs And Business Executives Of 2024\">Best CEOs</a></li>\n",
       "<li class=\"menu-item menu-item-type-post_type menu-item-object-post menu-item-has-children menu-item-202929\" id=\"menu-item-202929\"><a data-wpel-link=\"internal\" href=\"https://ceoworld.biz/2024/01/13/worlds-most-influential-and-innovative-companies-2024/\" rel=\"follow\" title=\"World’s Most Influential and Innovative Companies, 2024\">Best Companies</a>\n",
       "<ul class=\"sub-menu\">\n",
       "<li class=\"menu-item menu-item-type-post_type menu-item-object-post menu-item-207743\" id=\"menu-item-207743\"><a data-wpel-link=\"internal\" href=\"https://ceoworld.biz/2024/02/04/the-worlds-largest-companies-by-market-cap-2024/\" rel=\"follow\" title=\"The World’s Largest Companies by Market Cap, 2024\">World’s Largest Companies</a></li>\n",
       "<li class=\"menu-item menu-item-type-custom menu-item-object-custom menu-item-has-children menu-item-209840\" id=\"menu-item-209840\"><a href=\"#\">America</a>\n",
       "<ul class=\"sub-menu\">\n",
       "<li class=\"menu-item menu-item-type-post_type menu-item-object-post menu-item-209837\" id=\"menu-item-209837\"><a data-wpel-link=\"internal\" href=\"https://ceoworld.biz/2024/02/20/argentinas-largest-companies-by-market-capitalization-2024/\" rel=\"follow\" title=\"Argentina’s Largest Companies by market capitalization, 2024\">Argentina</a></li>\n",
       "<li class=\"menu-item menu-item-type-post_type menu-item-object-post menu-item-209833\" id=\"menu-item-209833\"><a data-wpel-link=\"internal\" href=\"https://ceoworld.biz/2024/02/20/brazils-largest-companies-by-market-capitalization-2024/\" rel=\"follow\" title=\"Brazil’s Largest Companies by market capitalization, 2024\">Brazil</a></li>\n",
       "<li class=\"menu-item menu-item-type-post_type menu-item-object-post menu-item-209372\" id=\"menu-item-209372\"><a data-wpel-link=\"internal\" href=\"https://ceoworld.biz/2024/02/17/canadas-largest-companies-by-market-capitalization-2024/\" rel=\"follow\" title=\"Canada’s Largest Companies by market capitalization, 2024\">Canada</a></li>\n",
       "<li class=\"menu-item menu-item-type-post_type menu-item-object-post menu-item-209836\" id=\"menu-item-209836\"><a data-wpel-link=\"internal\" href=\"https://ceoworld.biz/2024/02/20/colombias-largest-companies-by-market-capitalization-2024/\" rel=\"follow\" title=\"Colombia’s Largest Companies by market capitalization, 2024\">Colombia</a></li>\n",
       "<li class=\"menu-item menu-item-type-post_type menu-item-object-post menu-item-209834\" id=\"menu-item-209834\"><a data-wpel-link=\"internal\" href=\"https://ceoworld.biz/2024/02/20/chiles-largest-companies-by-market-capitalization-2024/\" rel=\"follow\" title=\"Chile’s Largest Companies by market capitalization, 2024\">Chile</a></li>\n",
       "<li class=\"menu-item menu-item-type-post_type menu-item-object-post menu-item-209832\" id=\"menu-item-209832\"><a data-wpel-link=\"internal\" href=\"https://ceoworld.biz/2024/02/20/mexicos-largest-companies-by-market-capitalization-2024/\" rel=\"follow\" title=\"Mexico’s Largest Companies by market capitalization, 2024\">Mexico</a></li>\n",
       "<li class=\"menu-item menu-item-type-post_type menu-item-object-post menu-item-209835\" id=\"menu-item-209835\"><a data-wpel-link=\"internal\" href=\"https://ceoworld.biz/2024/02/20/perus-largest-companies-by-market-capitalization-2024/\" rel=\"follow\" title=\"Peru’s Largest Companies by market capitalization, 2024\">Peru</a></li>\n",
       "<li class=\"menu-item menu-item-type-post_type menu-item-object-post menu-item-209838\" id=\"menu-item-209838\"><a data-wpel-link=\"internal\" href=\"https://ceoworld.biz/2024/02/20/venezuelas-largest-companies-by-market-capitalization-2024/\" rel=\"follow\" title=\"Venezuela’s Largest Companies by market capitalization, 2024\">Venezuela</a></li>\n",
       "<li class=\"menu-item menu-item-type-post_type menu-item-object-post menu-item-209370\" id=\"menu-item-209370\"><a data-wpel-link=\"internal\" href=\"https://ceoworld.biz/2024/02/17/the-united-states-largest-companies-by-market-capitalization-2024/\" rel=\"follow\" title=\"The United States’ Largest Companies by market capitalization, 2024\">The United States</a></li>\n",
       "</ul>\n",
       "</li>\n",
       "<li class=\"menu-item menu-item-type-post_type menu-item-object-post menu-item-has-children menu-item-208656\" id=\"menu-item-208656\"><a data-wpel-link=\"internal\" href=\"https://ceoworld.biz/2024/02/14/asias-largest-companies-by-market-capitalization-2024/\" rel=\"follow\" title=\"Asia’s Largest Companies by market capitalization, 2024\">Asia’s Largest Companies</a>\n",
       "<ul class=\"sub-menu\">\n",
       "<li class=\"menu-item menu-item-type-post_type menu-item-object-post menu-item-210071\" id=\"menu-item-210071\"><a data-wpel-link=\"internal\" href=\"https://ceoworld.biz/2024/02/21/chinas-largest-companies-by-market-capitalization-2024/\" rel=\"follow\" title=\"China’s Largest Companies by market capitalization, 2024\">China</a></li>\n",
       "<li class=\"menu-item menu-item-type-post_type menu-item-object-post menu-item-209016\" id=\"menu-item-209016\"><a data-wpel-link=\"internal\" href=\"https://ceoworld.biz/2024/02/16/hong-kongs-largest-companies-by-market-capitalization-2024/\" rel=\"follow\" title=\"Hong Kong’s Largest Companies by market capitalization, 2024\">Hong Kong</a></li>\n",
       "<li class=\"menu-item menu-item-type-post_type menu-item-object-post menu-item-209371\" id=\"menu-item-209371\"><a data-wpel-link=\"internal\" href=\"https://ceoworld.biz/2024/02/17/indias-largest-companies-by-market-capitalization-2024/\" rel=\"follow\" title=\"India’s Largest Companies by market capitalization, 2024\">India</a></li>\n",
       "<li class=\"menu-item menu-item-type-post_type menu-item-object-post menu-item-209013\" id=\"menu-item-209013\"><a data-wpel-link=\"internal\" href=\"https://ceoworld.biz/2024/02/16/indonesias-largest-companies-by-market-capitalization-2024/\" rel=\"follow\" title=\"Indonesia’s Largest Companies by market capitalization, 2024\">Indonesia</a></li>\n",
       "<li class=\"menu-item menu-item-type-post_type menu-item-object-post menu-item-209019\" id=\"menu-item-209019\"><a data-wpel-link=\"internal\" href=\"https://ceoworld.biz/2024/02/16/japans-largest-companies-by-market-capitalization-2024/\" rel=\"follow\" title=\"Japan’s Largest Companies by market capitalization, 2024\">Japan</a></li>\n",
       "<li class=\"menu-item menu-item-type-post_type menu-item-object-post menu-item-209010\" id=\"menu-item-209010\"><a data-wpel-link=\"internal\" href=\"https://ceoworld.biz/2024/02/16/malaysias-largest-companies-by-market-capitalization-2024/\" rel=\"follow\" title=\"Malaysia’s Largest Companies by market capitalization, 2024\">Malaysia</a></li>\n",
       "<li class=\"menu-item menu-item-type-post_type menu-item-object-post menu-item-209017\" id=\"menu-item-209017\"><a data-wpel-link=\"internal\" href=\"https://ceoworld.biz/2024/02/16/philippiness-largest-companies-by-market-capitalization-2024/\" rel=\"follow\" title=\"Philippines’s Largest Companies by market capitalization, 2024\">Philippines</a></li>\n",
       "<li class=\"menu-item menu-item-type-post_type menu-item-object-post menu-item-209011\" id=\"menu-item-209011\"><a data-wpel-link=\"internal\" href=\"https://ceoworld.biz/2024/02/16/singapores-largest-companies-by-market-capitalization-2024/\" rel=\"follow\" title=\"Singapore’s Largest Companies by market capitalization, 2024\">Singapore</a></li>\n",
       "<li class=\"menu-item menu-item-type-post_type menu-item-object-post menu-item-209014\" id=\"menu-item-209014\"><a data-wpel-link=\"internal\" href=\"https://ceoworld.biz/2024/02/16/south-koreas-largest-companies-by-market-capitalization-2024/\" rel=\"follow\" title=\"South Korea’s Largest Companies by market capitalization, 2024\">South Korea</a></li>\n",
       "<li class=\"menu-item menu-item-type-post_type menu-item-object-post menu-item-209015\" id=\"menu-item-209015\"><a data-wpel-link=\"internal\" href=\"https://ceoworld.biz/2024/02/16/taiwans-largest-companies-by-market-capitalization-2024/\" rel=\"follow\" title=\"Taiwan’s Largest Companies by market capitalization, 2024\">Taiwan</a></li>\n",
       "<li class=\"menu-item menu-item-type-post_type menu-item-object-post menu-item-209012\" id=\"menu-item-209012\"><a data-wpel-link=\"internal\" href=\"https://ceoworld.biz/2024/02/16/thailands-largest-companies-by-market-capitalization-2024/\" rel=\"follow\" title=\"Thailand’s Largest Companies by market capitalization, 2024\">Thailand</a></li>\n",
       "<li class=\"menu-item menu-item-type-post_type menu-item-object-post menu-item-209018\" id=\"menu-item-209018\"><a data-wpel-link=\"internal\" href=\"https://ceoworld.biz/2024/02/16/vietnams-largest-companies-by-market-capitalization-2024/\" rel=\"follow\" title=\"Vietnam’s Largest Companies by market capitalization, 2024\">Vietnam</a></li>\n",
       "</ul>\n",
       "</li>\n",
       "<li class=\"menu-item menu-item-type-post_type menu-item-object-post menu-item-has-children menu-item-208658\" id=\"menu-item-208658\"><a data-wpel-link=\"internal\" href=\"https://ceoworld.biz/2024/02/14/europes-largest-companies-by-market-capitalization-2024/\" rel=\"follow\" title=\"Europe’s Largest Companies by market capitalization, 2024\">Europe’s Largest Companies</a>\n",
       "<ul class=\"sub-menu\">\n",
       "<li class=\"menu-item menu-item-type-post_type menu-item-object-post menu-item-209507\" id=\"menu-item-209507\"><a data-wpel-link=\"internal\" href=\"https://ceoworld.biz/2024/02/19/austrias-largest-companies-by-market-capitalization-2024/\" rel=\"follow\" title=\"Austria’s Largest Companies by market capitalization, 2024\">Austria</a></li>\n",
       "<li class=\"menu-item menu-item-type-post_type menu-item-object-post menu-item-209503\" id=\"menu-item-209503\"><a data-wpel-link=\"internal\" href=\"https://ceoworld.biz/2024/02/19/belgiums-largest-companies-by-market-capitalization-2024/\" rel=\"follow\" title=\"Belgium’s Largest Companies by market capitalization, 2024\">Belgium</a></li>\n",
       "<li class=\"menu-item menu-item-type-post_type menu-item-object-post menu-item-209466\" id=\"menu-item-209466\"><a data-wpel-link=\"internal\" href=\"https://ceoworld.biz/2024/02/19/bulgarias-largest-companies-by-market-capitalization-2024/\" rel=\"follow\" title=\"Bulgaria’s Largest Companies by market capitalization, 2024\">Bulgaria</a></li>\n",
       "<li class=\"menu-item menu-item-type-post_type menu-item-object-post menu-item-209462\" id=\"menu-item-209462\"><a data-wpel-link=\"internal\" href=\"https://ceoworld.biz/2024/02/19/croatias-largest-companies-by-market-capitalization-2024/\" rel=\"follow\" title=\"Croatia’s Largest Companies by market capitalization, 2024\">Croatia</a></li>\n",
       "<li class=\"menu-item menu-item-type-post_type menu-item-object-post menu-item-209461\" id=\"menu-item-209461\"><a data-wpel-link=\"internal\" href=\"https://ceoworld.biz/2024/02/19/czech-republics-largest-companies-by-market-capitalization-2024/\" rel=\"follow\" title=\"Czech Republic’s Largest Companies by market capitalization, 2024\">Czech Republic</a></li>\n",
       "<li class=\"menu-item menu-item-type-post_type menu-item-object-post menu-item-208050\" id=\"menu-item-208050\"><a data-wpel-link=\"internal\" href=\"https://ceoworld.biz/2024/02/12/denmarks-largest-companies-by-market-capitalization-2024/\" rel=\"follow\" title=\"Denmark’s Largest Companies by market capitalization, 2024\">Denmark</a></li>\n",
       "<li class=\"menu-item menu-item-type-post_type menu-item-object-post menu-item-209468\" id=\"menu-item-209468\"><a data-wpel-link=\"internal\" href=\"https://ceoworld.biz/2024/02/19/estonias-largest-companies-by-market-capitalization-2024/\" rel=\"follow\" title=\"Estonia’s Largest Companies by market capitalization, 2024\">Estonia</a></li>\n",
       "<li class=\"menu-item menu-item-type-post_type menu-item-object-post menu-item-209505\" id=\"menu-item-209505\"><a data-wpel-link=\"internal\" href=\"https://ceoworld.biz/2024/02/19/finlands-largest-companies-by-market-capitalization-2024/\" rel=\"follow\" title=\"Finland’s Largest Companies by market capitalization, 2024\">Finland</a></li>\n",
       "<li class=\"menu-item menu-item-type-post_type menu-item-object-post menu-item-208002\" id=\"menu-item-208002\"><a data-wpel-link=\"internal\" href=\"https://ceoworld.biz/2024/02/12/frances-largest-companies-by-market-capitalization-2024/\" rel=\"follow\" title=\"France’s Largest companies by market capitalization, 2024\">France</a></li>\n",
       "<li class=\"menu-item menu-item-type-post_type menu-item-object-post menu-item-208054\" id=\"menu-item-208054\"><a data-wpel-link=\"internal\" href=\"https://ceoworld.biz/2024/02/12/germanys-largest-companies-by-market-capitalization-2024/\" rel=\"follow\" title=\"Germany’s Largest Companies by market capitalization, 2024\">Germany</a></li>\n",
       "<li class=\"menu-item menu-item-type-post_type menu-item-object-post menu-item-209509\" id=\"menu-item-209509\"><a data-wpel-link=\"internal\" href=\"https://ceoworld.biz/2024/02/19/greeces-largest-companies-by-market-capitalization-2024/\" rel=\"follow\" title=\"Greece’s Largest Companies by market capitalization, 2024\">Greece</a></li>\n",
       "<li class=\"menu-item menu-item-type-post_type menu-item-object-post menu-item-209460\" id=\"menu-item-209460\"><a data-wpel-link=\"internal\" href=\"https://ceoworld.biz/2024/02/19/hungarys-largest-companies-by-market-capitalization-2024/\" rel=\"follow\" title=\"Hungary’s Largest Companies by market capitalization, 2024\">Hungary</a></li>\n",
       "<li class=\"menu-item menu-item-type-post_type menu-item-object-post menu-item-209463\" id=\"menu-item-209463\"><a data-wpel-link=\"internal\" href=\"https://ceoworld.biz/2024/02/19/icelands-largest-companies-by-market-capitalization-2024/\" rel=\"follow\" title=\"Iceland’s Largest Companies by market capitalization, 2024\">Iceland</a></li>\n",
       "<li class=\"menu-item menu-item-type-post_type menu-item-object-post menu-item-209508\" id=\"menu-item-209508\"><a data-wpel-link=\"internal\" href=\"https://ceoworld.biz/2024/02/19/irelands-largest-companies-by-market-capitalization-2024/\" rel=\"follow\" title=\"Ireland’s Largest Companies by market capitalization, 2024\">Ireland</a></li>\n",
       "<li class=\"menu-item menu-item-type-post_type menu-item-object-post menu-item-208049\" id=\"menu-item-208049\"><a data-wpel-link=\"internal\" href=\"https://ceoworld.biz/2024/02/12/italys-largest-companies-by-market-capitalization-2024/\" rel=\"follow\" title=\"Italy’s Largest Companies by market capitalization, 2024\">Italy</a></li>\n",
       "<li class=\"menu-item menu-item-type-post_type menu-item-object-post menu-item-209472\" id=\"menu-item-209472\"><a data-wpel-link=\"internal\" href=\"https://ceoworld.biz/2024/02/19/latvias-largest-companies-by-market-capitalization-2024/\" rel=\"follow\" title=\"Latvia’s Largest Companies by market capitalization, 2024\">Latvia</a></li>\n",
       "</ul>\n",
       "</li>\n",
       "<li class=\"menu-item menu-item-type-post_type menu-item-object-post menu-item-has-children menu-item-209510\" id=\"menu-item-209510\"><a data-wpel-link=\"internal\" href=\"https://ceoworld.biz/2024/02/14/europes-largest-companies-by-market-capitalization-2024/\" rel=\"follow\" title=\"Europe’s Largest Companies by market capitalization, 2024\">Europe’s Largest Companies</a>\n",
       "<ul class=\"sub-menu\">\n",
       "<li class=\"menu-item menu-item-type-post_type menu-item-object-post menu-item-209467\" id=\"menu-item-209467\"><a data-wpel-link=\"internal\" href=\"https://ceoworld.biz/2024/02/19/lithuanias-largest-companies-by-market-capitalization-2024/\" rel=\"follow\" title=\"Lithuania’s Largest Companies by market capitalization, 2024\">Lithuania</a></li>\n",
       "<li class=\"menu-item menu-item-type-post_type menu-item-object-post menu-item-209465\" id=\"menu-item-209465\"><a data-wpel-link=\"internal\" href=\"https://ceoworld.biz/2024/02/19/luxembourgs-largest-companies-by-market-capitalization-2024/\" rel=\"follow\" title=\"Luxembourg’s Largest Companies by market capitalization, 2024\">Luxembourg</a></li>\n",
       "<li class=\"menu-item menu-item-type-post_type menu-item-object-post menu-item-209469\" id=\"menu-item-209469\"><a data-wpel-link=\"internal\" href=\"https://ceoworld.biz/2024/02/19/maltas-largest-companies-by-market-capitalization-2024/\" rel=\"follow\" title=\"Malta’s Largest Companies by market capitalization, 2024\">Malta</a></li>\n",
       "<li class=\"menu-item menu-item-type-post_type menu-item-object-post menu-item-209458\" id=\"menu-item-209458\"><a data-wpel-link=\"internal\" href=\"https://ceoworld.biz/2024/02/19/portugals-largest-companies-by-market-capitalization-2024/\" rel=\"follow\" title=\"Portugal’s Largest Companies by market capitalization, 2024\">Portugal</a></li>\n",
       "<li class=\"menu-item menu-item-type-post_type menu-item-object-post menu-item-209459\" id=\"menu-item-209459\"><a data-wpel-link=\"internal\" href=\"https://ceoworld.biz/2024/02/19/romanias-largest-companies-by-market-capitalization-2024/\" rel=\"follow\" title=\"Romania’s Largest Companies by market capitalization, 2024\">Romania</a></li>\n",
       "<li class=\"menu-item menu-item-type-post_type menu-item-object-post menu-item-209504\" id=\"menu-item-209504\"><a data-wpel-link=\"internal\" href=\"https://ceoworld.biz/2024/02/19/norways-largest-companies-by-market-capitalization-2024/\" rel=\"follow\" title=\"Norway’s Largest Companies by market capitalization, 2024\">Norway</a></li>\n",
       "<li class=\"menu-item menu-item-type-post_type menu-item-object-post menu-item-209506\" id=\"menu-item-209506\"><a data-wpel-link=\"internal\" href=\"https://ceoworld.biz/2024/02/19/polands-largest-companies-by-market-capitalization-2024/\" rel=\"follow\" title=\"Poland’s Largest Companies by market capitalization, 2024\">Poland</a></li>\n",
       "<li class=\"menu-item menu-item-type-post_type menu-item-object-post menu-item-209464\" id=\"menu-item-209464\"><a data-wpel-link=\"internal\" href=\"https://ceoworld.biz/2024/02/19/slovenias-largest-companies-by-market-capitalization-2024/\" rel=\"follow\" title=\"Slovenia’s Largest Companies by market capitalization, 2024\">Slovenia</a></li>\n",
       "<li class=\"menu-item menu-item-type-post_type menu-item-object-post menu-item-209471\" id=\"menu-item-209471\"><a data-wpel-link=\"internal\" href=\"https://ceoworld.biz/2024/02/19/slovakias-largest-companies-by-market-capitalization-2024/\" rel=\"follow\" title=\"Slovakia’s Largest Companies by market capitalization, 2024\">Slovakia</a></li>\n",
       "<li class=\"menu-item menu-item-type-post_type menu-item-object-post menu-item-208048\" id=\"menu-item-208048\"><a data-wpel-link=\"internal\" href=\"https://ceoworld.biz/2024/02/12/spains-largest-companies-by-market-capitalization-2024/\" rel=\"follow\" title=\"Spain’s Largest Companies by market capitalization, 2024\">Spain</a></li>\n",
       "<li class=\"menu-item menu-item-type-post_type menu-item-object-post menu-item-208051\" id=\"menu-item-208051\"><a data-wpel-link=\"internal\" href=\"https://ceoworld.biz/2024/02/12/swedens-largest-companies-by-market-capitalization-2024/\" rel=\"follow\" title=\"Sweden’s Largest Companies by market capitalization, 2024\">Sweden</a></li>\n",
       "<li class=\"menu-item menu-item-type-post_type menu-item-object-post menu-item-208053\" id=\"menu-item-208053\"><a data-wpel-link=\"internal\" href=\"https://ceoworld.biz/2024/02/12/switzerlands-largest-companies-by-market-capitalization-2024/\" rel=\"follow\" title=\"Switzerland’s Largest Companies by market capitalization, 2024\">Switzerland</a></li>\n",
       "<li class=\"menu-item menu-item-type-post_type menu-item-object-post menu-item-208052\" id=\"menu-item-208052\"><a data-wpel-link=\"internal\" href=\"https://ceoworld.biz/2024/02/12/netherlandss-largest-companies-by-market-capitalization-2024/\" rel=\"follow\" title=\"Netherlands’s Largest Companies by market capitalization, 2024\">Netherlands</a></li>\n",
       "<li class=\"menu-item menu-item-type-post_type menu-item-object-post menu-item-208047\" id=\"menu-item-208047\"><a data-wpel-link=\"internal\" href=\"https://ceoworld.biz/2024/02/12/russias-largest-companies-by-market-capitalization-2024/\" rel=\"follow\" title=\"Russia’s Largest Companies by market capitalization, 2024\">Russia</a></li>\n",
       "<li class=\"menu-item menu-item-type-post_type menu-item-object-post menu-item-209470\" id=\"menu-item-209470\"><a data-wpel-link=\"internal\" href=\"https://ceoworld.biz/2024/02/19/serbias-largest-companies-by-market-capitalization-2024/\" rel=\"follow\" title=\"Serbia’s Largest Companies by market capitalization, 2024\">Serbia</a></li>\n",
       "<li class=\"menu-item menu-item-type-post_type menu-item-object-post menu-item-208055\" id=\"menu-item-208055\"><a data-wpel-link=\"internal\" href=\"https://ceoworld.biz/2024/02/12/the-united-kingdoms-largest-companies-by-market-capitalization-2024/\" rel=\"follow\" title=\"The United Kingdom’s Largest Companies by market capitalization, 2024\">United Kingdom</a></li>\n",
       "</ul>\n",
       "</li>\n",
       "<li class=\"menu-item menu-item-type-custom menu-item-object-custom menu-item-has-children menu-item-209841\" id=\"menu-item-209841\"><a href=\"#\">Oceania</a>\n",
       "<ul class=\"sub-menu\">\n",
       "<li class=\"menu-item menu-item-type-post_type menu-item-object-post menu-item-209352\" id=\"menu-item-209352\"><a data-wpel-link=\"internal\" href=\"https://ceoworld.biz/2024/02/17/australias-largest-companies-by-market-capitalization-2024/\" rel=\"follow\" title=\"Australia’s Largest Companies by market capitalization, 2024\">Australia</a></li>\n",
       "<li class=\"menu-item menu-item-type-post_type menu-item-object-post menu-item-209839\" id=\"menu-item-209839\"><a data-wpel-link=\"internal\" href=\"https://ceoworld.biz/2024/02/20/new-zealands-largest-companies-by-market-capitalization-2024/\" rel=\"follow\" title=\"New Zealand’s Largest Companies by market capitalization, 2024\">New Zealand</a></li>\n",
       "</ul>\n",
       "</li>\n",
       "<li class=\"menu-item menu-item-type-post_type menu-item-object-post menu-item-208655\" id=\"menu-item-208655\"><a data-wpel-link=\"internal\" href=\"https://ceoworld.biz/2024/02/14/africas-largest-companies-by-market-capitalization-2024/\" rel=\"follow\" title=\"Africa’s Largest Companies by market capitalization, 2024\">Africa’s Largest Companies</a></li>\n",
       "<li class=\"menu-item menu-item-type-post_type menu-item-object-post menu-item-has-children menu-item-208657\" id=\"menu-item-208657\"><a data-wpel-link=\"internal\" href=\"https://ceoworld.biz/2024/02/14/the-middle-easts-largest-companies-by-market-capitalization-2024/\" rel=\"follow\" title=\"The Middle East’s Largest Companies by market capitalization, 2024\">Middle East’s Largest Companies</a>\n",
       "<ul class=\"sub-menu\">\n",
       "<li class=\"menu-item menu-item-type-post_type menu-item-object-post menu-item-208343\" id=\"menu-item-208343\"><a data-wpel-link=\"internal\" href=\"https://ceoworld.biz/2024/02/13/israels-largest-companies-by-market-capitalization-2024/\" rel=\"follow\" title=\"Israel’s Largest Companies by market capitalization, 2024\">Israel</a></li>\n",
       "<li class=\"menu-item menu-item-type-post_type menu-item-object-post menu-item-208344\" id=\"menu-item-208344\"><a data-wpel-link=\"internal\" href=\"https://ceoworld.biz/2024/02/13/qatars-largest-companies-by-market-capitalization-2024/\" rel=\"follow\" title=\"Qatar’s Largest Companies by market capitalization, 2024\">Qatar</a></li>\n",
       "<li class=\"menu-item menu-item-type-post_type menu-item-object-post menu-item-208347\" id=\"menu-item-208347\"><a data-wpel-link=\"internal\" href=\"https://ceoworld.biz/2024/02/12/jordans-largest-companies-by-market-capitalization-2024/\" rel=\"follow\" title=\"Jordan’s Largest Companies by market capitalization, 2024\">Jordan</a></li>\n",
       "<li class=\"menu-item menu-item-type-post_type menu-item-object-post menu-item-208345\" id=\"menu-item-208345\"><a data-wpel-link=\"internal\" href=\"https://ceoworld.biz/2024/02/13/kuwaits-largest-companies-by-market-capitalization-2024/\" rel=\"follow\" title=\"Kuwait’s Largest Companies by market capitalization, 2024\">Kuwait</a></li>\n",
       "<li class=\"menu-item menu-item-type-post_type menu-item-object-post menu-item-208342\" id=\"menu-item-208342\"><a data-wpel-link=\"internal\" href=\"https://ceoworld.biz/2024/02/13/saudi-arabias-largest-companies-by-market-capitalization-2024/\" rel=\"follow\" title=\"Saudi Arabia’s Largest Companies by market capitalization, 2024\">Saudi Arabia</a></li>\n",
       "</ul>\n",
       "</li>\n",
       "<li class=\"menu-item menu-item-type-post_type menu-item-object-post menu-item-217709\" id=\"menu-item-217709\"><a data-wpel-link=\"internal\" href=\"https://ceoworld.biz/2024/05/16/ranked-most-successful-unicorn-startups-for-2024/\" rel=\"follow\" title=\"Ranked: Most Successful Unicorn Startups For 2024\">Best Unicorn Startups</a></li>\n",
       "</ul>\n",
       "</li>\n",
       "<li class=\"menu-item menu-item-type-post_type menu-item-object-post menu-item-has-children menu-item-202730\" id=\"menu-item-202730\"><a data-wpel-link=\"internal\" href=\"https://ceoworld.biz/2024/01/12/richest-billionaires-2024/\" rel=\"follow\" title=\"The World’s Richest People (Top Billionaires, 2024)\">Billionaires</a>\n",
       "<ul class=\"sub-menu\">\n",
       "<li class=\"menu-item menu-item-type-custom menu-item-object-custom menu-item-has-children menu-item-214302\" id=\"menu-item-214302\"><a href=\"#\">Countries (A-E)</a>\n",
       "<ul class=\"sub-menu\">\n",
       "<li class=\"menu-item menu-item-type-post_type menu-item-object-post menu-item-214677\" id=\"menu-item-214677\"><a data-wpel-link=\"internal\" href=\"https://ceoworld.biz/2024/03/15/richest-people-in-austria-2024/\" rel=\"follow\" title=\"Richest People in Austria, 2024\">Austria</a></li>\n",
       "<li class=\"menu-item menu-item-type-post_type menu-item-object-post menu-item-214251\" id=\"menu-item-214251\"><a data-wpel-link=\"internal\" href=\"https://ceoworld.biz/2024/03/15/richest-people-in-australia-2024/\" rel=\"follow\" title=\"Richest People in Australia, 2024\">Australia</a></li>\n",
       "<li class=\"menu-item menu-item-type-post_type menu-item-object-post menu-item-214252\" id=\"menu-item-214252\"><a data-wpel-link=\"internal\" href=\"https://ceoworld.biz/2024/03/15/richest-people-in-argentina-2024/\" rel=\"follow\" title=\"Richest People in Argentina, 2024\">Argentina</a></li>\n",
       "<li class=\"menu-item menu-item-type-post_type menu-item-object-post menu-item-214253\" id=\"menu-item-214253\"><a data-wpel-link=\"internal\" href=\"https://ceoworld.biz/2024/03/15/richest-people-in-brazil-2024/\" rel=\"follow\" title=\"Richest People in Brazil, 2024\">Brazil</a></li>\n",
       "<li class=\"menu-item menu-item-type-post_type menu-item-object-post menu-item-214254\" id=\"menu-item-214254\"><a data-wpel-link=\"internal\" href=\"https://ceoworld.biz/2024/03/15/richest-people-in-canada-2024/\" rel=\"follow\" title=\"Richest People in Canada, 2024\">Canada</a></li>\n",
       "<li class=\"menu-item menu-item-type-post_type menu-item-object-post menu-item-214255\" id=\"menu-item-214255\"><a data-wpel-link=\"internal\" href=\"https://ceoworld.biz/2024/03/15/richest-people-in-chile-2024/\" rel=\"follow\" title=\"Richest People in Chile, 2024\">Chile</a></li>\n",
       "<li class=\"menu-item menu-item-type-post_type menu-item-object-post menu-item-214256\" id=\"menu-item-214256\"><a data-wpel-link=\"internal\" href=\"https://ceoworld.biz/2024/03/15/richest-people-in-china-2024/\" rel=\"follow\" title=\"Richest People in China, 2024\">China</a></li>\n",
       "<li class=\"menu-item menu-item-type-post_type menu-item-object-post menu-item-214257\" id=\"menu-item-214257\"><a data-wpel-link=\"internal\" href=\"https://ceoworld.biz/2024/03/15/richest-people-in-cyprus-2024/\" rel=\"follow\" title=\"Richest People in Cyprus, 2024\">Cyprus</a></li>\n",
       "<li class=\"menu-item menu-item-type-post_type menu-item-object-post menu-item-214258\" id=\"menu-item-214258\"><a data-wpel-link=\"internal\" href=\"https://ceoworld.biz/2024/03/15/richest-people-in-the-czech-republic-2024/\" rel=\"follow\" title=\"Richest People in the Czech Republic, 2024\">Czech Republic</a></li>\n",
       "<li class=\"menu-item menu-item-type-post_type menu-item-object-post menu-item-214259\" id=\"menu-item-214259\"><a data-wpel-link=\"internal\" href=\"https://ceoworld.biz/2024/03/15/richest-people-in-denmark-2024/\" rel=\"follow\" title=\"Richest People in Denmark, 2024\">Denmark</a></li>\n",
       "<li class=\"menu-item menu-item-type-post_type menu-item-object-post menu-item-214260\" id=\"menu-item-214260\"><a data-wpel-link=\"internal\" href=\"https://ceoworld.biz/2024/03/15/richest-people-in-egypt-2024/\" rel=\"follow\" title=\"Richest People in Egypt, 2024\">Egypt</a></li>\n",
       "</ul>\n",
       "</li>\n",
       "<li class=\"menu-item menu-item-type-custom menu-item-object-custom menu-item-has-children menu-item-217386\" id=\"menu-item-217386\"><a href=\"#\">Countries (F-M)</a>\n",
       "<ul class=\"sub-menu\">\n",
       "<li class=\"menu-item menu-item-type-post_type menu-item-object-post menu-item-214262\" id=\"menu-item-214262\"><a data-wpel-link=\"internal\" href=\"https://ceoworld.biz/2024/03/15/richest-people-in-france-2024/\" rel=\"follow\" title=\"Richest People in France, 2024\">France</a></li>\n",
       "<li class=\"menu-item menu-item-type-post_type menu-item-object-post menu-item-214261\" id=\"menu-item-214261\"><a data-wpel-link=\"internal\" href=\"https://ceoworld.biz/2024/03/15/richest-people-in-finland-2024/\" rel=\"follow\" title=\"Richest People in Finland, 2024\">Finland</a></li>\n",
       "<li class=\"menu-item menu-item-type-post_type menu-item-object-post menu-item-214263\" id=\"menu-item-214263\"><a data-wpel-link=\"internal\" href=\"https://ceoworld.biz/2024/03/15/richest-people-in-germany-2024/\" rel=\"follow\" title=\"Richest People in Germany, 2024\">Germany</a></li>\n",
       "<li class=\"menu-item menu-item-type-post_type menu-item-object-post menu-item-214264\" id=\"menu-item-214264\"><a data-wpel-link=\"internal\" href=\"https://ceoworld.biz/2024/03/15/richest-people-in-hong-kong-2024/\" rel=\"follow\" title=\"Richest People in Hong Kong, 2024\">Hong Kong</a></li>\n",
       "<li class=\"menu-item menu-item-type-post_type menu-item-object-post menu-item-214188\" id=\"menu-item-214188\"><a data-wpel-link=\"internal\" href=\"https://ceoworld.biz/2024/03/15/richest-people-in-india-2024/\" rel=\"follow\" title=\"Richest People in India, 2024\">India</a></li>\n",
       "<li class=\"menu-item menu-item-type-post_type menu-item-object-post menu-item-214189\" id=\"menu-item-214189\"><a data-wpel-link=\"internal\" href=\"https://ceoworld.biz/2024/03/15/richest-people-in-indonesia-2024/\" rel=\"follow\" title=\"Richest People in Indonesia, 2024\">Indonesia</a></li>\n",
       "<li class=\"menu-item menu-item-type-post_type menu-item-object-post menu-item-214190\" id=\"menu-item-214190\"><a data-wpel-link=\"internal\" href=\"https://ceoworld.biz/2024/03/15/richest-people-in-ireland-2024/\" rel=\"follow\" title=\"Richest People in Ireland, 2024\">Ireland</a></li>\n",
       "<li class=\"menu-item menu-item-type-post_type menu-item-object-post menu-item-214191\" id=\"menu-item-214191\"><a data-wpel-link=\"internal\" href=\"https://ceoworld.biz/2024/03/15/richest-people-in-israel-2024/\" rel=\"follow\" title=\"Richest People in Israel, 2024\">Israel</a></li>\n",
       "<li class=\"menu-item menu-item-type-post_type menu-item-object-post menu-item-214192\" id=\"menu-item-214192\"><a data-wpel-link=\"internal\" href=\"https://ceoworld.biz/2024/03/15/richest-people-in-italy-2024/\" rel=\"follow\" title=\"Richest People in Italy, 2024\">Italy</a></li>\n",
       "<li class=\"menu-item menu-item-type-post_type menu-item-object-post menu-item-214193\" id=\"menu-item-214193\"><a data-wpel-link=\"internal\" href=\"https://ceoworld.biz/2024/03/15/richest-people-in-japan-2024/\" rel=\"follow\" title=\"Richest People in Japan, 2024\">Japan</a></li>\n",
       "<li class=\"menu-item menu-item-type-post_type menu-item-object-post menu-item-214194\" id=\"menu-item-214194\"><a data-wpel-link=\"internal\" href=\"https://ceoworld.biz/2024/03/15/richest-people-in-mexico-2024/\" rel=\"follow\" title=\"Richest People in Mexico, 2024\">Mexico</a></li>\n",
       "</ul>\n",
       "</li>\n",
       "<li class=\"menu-item menu-item-type-custom menu-item-object-custom menu-item-has-children menu-item-214125\" id=\"menu-item-214125\"><a href=\"#\">Countries (N-Z)</a>\n",
       "<ul class=\"sub-menu\">\n",
       "<li class=\"menu-item menu-item-type-post_type menu-item-object-post menu-item-214195\" id=\"menu-item-214195\"><a data-wpel-link=\"internal\" href=\"https://ceoworld.biz/2024/03/15/richest-people-in-the-netherlands-2024/\" rel=\"follow\" title=\"Richest People in the Netherlands, 2024\">Netherlands</a></li>\n",
       "<li class=\"menu-item menu-item-type-post_type menu-item-object-post menu-item-214196\" id=\"menu-item-214196\"><a data-wpel-link=\"internal\" href=\"https://ceoworld.biz/2024/03/15/richest-people-in-norway-2024/\" rel=\"follow\" title=\"Richest People in Norway, 2024\">Norway</a></li>\n",
       "<li class=\"menu-item menu-item-type-post_type menu-item-object-post menu-item-214126\" id=\"menu-item-214126\"><a data-wpel-link=\"internal\" href=\"https://ceoworld.biz/2024/03/15/richest-people-in-the-philippines-2024/\" rel=\"follow\" title=\"Richest People in the Philippines, 2024\">Philippines</a></li>\n",
       "<li class=\"menu-item menu-item-type-post_type menu-item-object-post menu-item-214127\" id=\"menu-item-214127\"><a data-wpel-link=\"internal\" href=\"https://ceoworld.biz/2024/03/15/richest-people-in-russia-2024/\" rel=\"follow\" title=\"Richest People in Russia, 2024\">Russia</a></li>\n",
       "<li class=\"menu-item menu-item-type-post_type menu-item-object-post menu-item-214128\" id=\"menu-item-214128\"><a data-wpel-link=\"internal\" href=\"https://ceoworld.biz/2024/03/15/richest-people-in-singapore-2024/\" rel=\"follow\" title=\"Richest People in Singapore, 2024\">Singapore</a></li>\n",
       "<li class=\"menu-item menu-item-type-post_type menu-item-object-post menu-item-214129\" id=\"menu-item-214129\"><a data-wpel-link=\"internal\" href=\"https://ceoworld.biz/2024/03/15/richest-people-in-south-korea-2024/\" rel=\"follow\" title=\"Richest People in South Korea, 2024\">South Korea</a></li>\n",
       "<li class=\"menu-item menu-item-type-post_type menu-item-object-post menu-item-214676\" id=\"menu-item-214676\"><a data-wpel-link=\"internal\" href=\"https://ceoworld.biz/2024/03/15/richest-people-in-spain-2024/\" rel=\"follow\" title=\"Richest People in Spain, 2024\">Spain</a></li>\n",
       "<li class=\"menu-item menu-item-type-post_type menu-item-object-post menu-item-214131\" id=\"menu-item-214131\"><a data-wpel-link=\"internal\" href=\"https://ceoworld.biz/2024/03/15/richest-people-in-sweden-2024/\" rel=\"follow\" title=\"Richest People in Sweden, 2024\">Sweden</a></li>\n",
       "<li class=\"menu-item menu-item-type-post_type menu-item-object-post menu-item-214132\" id=\"menu-item-214132\"><a data-wpel-link=\"internal\" href=\"https://ceoworld.biz/2024/03/15/richest-people-in-switzerland-2024/\" rel=\"follow\" title=\"Richest People in Switzerland, 2024\">Switzerland</a></li>\n",
       "<li class=\"menu-item menu-item-type-post_type menu-item-object-post menu-item-214133\" id=\"menu-item-214133\"><a data-wpel-link=\"internal\" href=\"https://ceoworld.biz/2024/03/15/richest-people-in-turkey-2024/\" rel=\"follow\" title=\"Richest People in Turkey, 2024\">Turkey</a></li>\n",
       "<li class=\"menu-item menu-item-type-post_type menu-item-object-post menu-item-214134\" id=\"menu-item-214134\"><a data-wpel-link=\"internal\" href=\"https://ceoworld.biz/2024/03/15/richest-people-in-the-united-kingdom-2024/\" rel=\"follow\" title=\"Richest People in the United Kingdom, 2024\">United Kingdom</a></li>\n",
       "<li class=\"menu-item menu-item-type-post_type menu-item-object-post menu-item-214678\" id=\"menu-item-214678\"><a data-wpel-link=\"internal\" href=\"https://ceoworld.biz/2024/03/15/richest-people-in-the-united-states-2024/\" rel=\"follow\" title=\"Richest People in the United States, 2024\">United States</a></li>\n",
       "</ul>\n",
       "</li>\n",
       "<li class=\"menu-item menu-item-type-custom menu-item-object-custom menu-item-has-children menu-item-213803\" id=\"menu-item-213803\"><a href=\"#\">Industries</a>\n",
       "<ul class=\"sub-menu\">\n",
       "<li class=\"menu-item menu-item-type-post_type menu-item-object-post menu-item-213788\" id=\"menu-item-213788\"><a data-wpel-link=\"internal\" href=\"https://ceoworld.biz/2024/03/12/richest-billionaires-in-automotive-industry-2024/\" rel=\"follow\" title=\"Richest Billionaires in Automotive Industry, 2024\">Automotive Industry</a></li>\n",
       "<li class=\"menu-item menu-item-type-post_type menu-item-object-post menu-item-213789\" id=\"menu-item-213789\"><a data-wpel-link=\"internal\" href=\"https://ceoworld.biz/2024/03/12/richest-billionaires-in-construction-and-engineering-industry-2024/\" rel=\"follow\" title=\"Richest Billionaires in Construction and Engineering Industry, 2024\">Construction and Engineering Industry</a></li>\n",
       "<li class=\"menu-item menu-item-type-post_type menu-item-object-post menu-item-213790\" id=\"menu-item-213790\"><a data-wpel-link=\"internal\" href=\"https://ceoworld.biz/2024/03/12/richest-billionaires-in-energy-industry-2024/\" rel=\"follow\" title=\"Richest Billionaires in Energy Industry, 2024\">Energy Industry</a></li>\n",
       "<li class=\"menu-item menu-item-type-post_type menu-item-object-post menu-item-213791\" id=\"menu-item-213791\"><a data-wpel-link=\"internal\" href=\"https://ceoworld.biz/2024/03/12/richest-billionaires-in-fashion-and-retail-industry-2024/\" rel=\"follow\" title=\"Richest Billionaires in Fashion and Retail Industry, 2024\">Fashion and Retail Industry</a></li>\n",
       "<li class=\"menu-item menu-item-type-post_type menu-item-object-post menu-item-213792\" id=\"menu-item-213792\"><a data-wpel-link=\"internal\" href=\"https://ceoworld.biz/2024/03/12/richest-billionaires-in-finance-and-investments-industry-2024/\" rel=\"follow\" title=\"Richest Billionaires in Finance and Investments Industry, 2024\">Finance and Investments Industry</a></li>\n",
       "<li class=\"menu-item menu-item-type-post_type menu-item-object-post menu-item-213793\" id=\"menu-item-213793\"><a data-wpel-link=\"internal\" href=\"https://ceoworld.biz/2024/03/12/richest-billionaires-in-food-and-beverage-industry-2024/\" rel=\"follow\" title=\"Richest Billionaires in Food and Beverage Industry, 2024\">Food and Beverage Industry</a></li>\n",
       "<li class=\"menu-item menu-item-type-post_type menu-item-object-post menu-item-213794\" id=\"menu-item-213794\"><a data-wpel-link=\"internal\" href=\"https://ceoworld.biz/2024/03/12/richest-billionaires-in-healthcare-industry-2024/\" rel=\"follow\" title=\"Richest Billionaires in Healthcare Industry, 2024\">Healthcare Industry</a></li>\n",
       "<li class=\"menu-item menu-item-type-post_type menu-item-object-post menu-item-213795\" id=\"menu-item-213795\"><a data-wpel-link=\"internal\" href=\"https://ceoworld.biz/2024/03/12/richest-billionaires-in-logistics-industry-2024/\" rel=\"follow\" title=\"Richest Billionaires in Logistics Industry, 2024\">Logistics Industry</a></li>\n",
       "<li class=\"menu-item menu-item-type-post_type menu-item-object-post menu-item-213797\" id=\"menu-item-213797\"><a data-wpel-link=\"internal\" href=\"https://ceoworld.biz/2024/03/12/richest-billionaires-in-media-and-entertainment-industry-2024/\" rel=\"follow\" title=\"Richest Billionaires in Media and Entertainment Industry, 2024\">Media and Entertainment Industry</a></li>\n",
       "<li class=\"menu-item menu-item-type-post_type menu-item-object-post menu-item-213798\" id=\"menu-item-213798\"><a data-wpel-link=\"internal\" href=\"https://ceoworld.biz/2024/03/12/richest-billionaires-in-metals-and-mining-industry-2024/\" rel=\"follow\" title=\"Richest Billionaires in Metals and Mining Industry, 2024\">Metals and Mining Industry</a></li>\n",
       "<li class=\"menu-item menu-item-type-post_type menu-item-object-post menu-item-213796\" id=\"menu-item-213796\"><a data-wpel-link=\"internal\" href=\"https://ceoworld.biz/2024/03/12/richest-billionaires-in-manufacturing-industry-2024/\" rel=\"follow\" title=\"Richest Billionaires in Manufacturing Industry, 2024\">Manufacturing Industry</a></li>\n",
       "<li class=\"menu-item menu-item-type-post_type menu-item-object-post menu-item-213799\" id=\"menu-item-213799\"><a data-wpel-link=\"internal\" href=\"https://ceoworld.biz/2024/03/12/richest-billionaires-in-real-estate-industry-2024/\" rel=\"follow\" title=\"Richest Billionaires in Real Estate Industry, 2024\">Real Estate Industry</a></li>\n",
       "<li class=\"menu-item menu-item-type-post_type menu-item-object-post menu-item-213800\" id=\"menu-item-213800\"><a data-wpel-link=\"internal\" href=\"https://ceoworld.biz/2024/03/12/richest-billionaires-in-service-industry-2024/\" rel=\"follow\" title=\"Richest Billionaires in Service Industry, 2024\">Service Industry</a></li>\n",
       "<li class=\"menu-item menu-item-type-post_type menu-item-object-post menu-item-213801\" id=\"menu-item-213801\"><a data-wpel-link=\"internal\" href=\"https://ceoworld.biz/2024/03/12/richest-billionaires-in-sports-industry-2024/\" rel=\"follow\" title=\"Richest Billionaires in Sports Industry, 2024\">Sports Industry</a></li>\n",
       "<li class=\"menu-item menu-item-type-post_type menu-item-object-post menu-item-213802\" id=\"menu-item-213802\"><a data-wpel-link=\"internal\" href=\"https://ceoworld.biz/2024/03/12/richest-billionaires-in-technology-industry-2024/\" rel=\"follow\" title=\"Richest Billionaires in Technology Industry, 2024\">Technology Industry</a></li>\n",
       "<li class=\"menu-item menu-item-type-post_type menu-item-object-post menu-item-213804\" id=\"menu-item-213804\"><a data-wpel-link=\"internal\" href=\"https://ceoworld.biz/2024/03/12/richest-billionaires-in-telecom-industry/\" rel=\"follow\" title=\"Richest Billionaires in Telecom Industry, 2024\">Telecom Industry</a></li>\n",
       "</ul>\n",
       "</li>\n",
       "<li class=\"menu-item menu-item-type-post_type menu-item-object-post menu-item-206958\" id=\"menu-item-206958\"><a data-wpel-link=\"internal\" href=\"https://ceoworld.biz/2024/02/05/richest-female-billionaires/\" rel=\"follow\" title=\"The World’s Richest Female Billionaires, 2024\">Female Billionaires, 2024</a></li>\n",
       "<li class=\"menu-item menu-item-type-post_type menu-item-object-post menu-item-208401\" id=\"menu-item-208401\"><a data-wpel-link=\"internal\" href=\"https://ceoworld.biz/2024/02/13/the-biggest-billionaire-losers-2024/\" rel=\"follow\">The Biggest Billionaire Losers, 2024</a></li>\n",
       "<li class=\"menu-item menu-item-type-post_type menu-item-object-post menu-item-208402\" id=\"menu-item-208402\"><a data-wpel-link=\"internal\" href=\"https://ceoworld.biz/2024/02/13/the-biggest-billionaire-winners-2024/\" rel=\"follow\">The Biggest Billionaire Winners, 2024</a></li>\n",
       "<li class=\"menu-item menu-item-type-post_type menu-item-object-post menu-item-200618\" id=\"menu-item-200618\"><a data-wpel-link=\"internal\" href=\"https://ceoworld.biz/2024/01/02/richest-billionaire-investors-in-the-world-2024/\" rel=\"follow\">Richest Billionaire Investors, 2024</a></li>\n",
       "<li class=\"menu-item menu-item-type-post_type menu-item-object-post menu-item-208341\" id=\"menu-item-208341\"><a data-wpel-link=\"internal\" href=\"https://ceoworld.biz/2024/02/13/richest-billionaires-in-each-country-2024/\" rel=\"follow\">Richest Billionaires in Each Country, 2024</a></li>\n",
       "<li class=\"menu-item menu-item-type-post_type menu-item-object-post menu-item-217724\" id=\"menu-item-217724\"><a data-wpel-link=\"internal\" href=\"https://ceoworld.biz/2024/05/17/the-100-billion-club-richest-people-with-the-12-figure-fortunes-2024/\" rel=\"follow\" title=\"The $100 Billion Club: Richest People With The 12-Figure Fortunes, 2024\">The $100 Billion Club</a></li>\n",
       "</ul>\n",
       "</li>\n",
       "<li class=\"menu-item menu-item-type-post_type menu-item-object-page current-menu-ancestor current-menu-parent current_page_parent current_page_ancestor menu-item-has-children menu-item-212209\" id=\"menu-item-212209\"><a data-wpel-link=\"internal\" href=\"https://ceoworld.biz/best/\" rel=\"follow\" title=\"CEOWORLD Rankings\">Rank</a>\n",
       "<ul class=\"sub-menu\">\n",
       "<li class=\"menu-item menu-item-type-post_type menu-item-object-post menu-item-215702\" id=\"menu-item-215702\"><a data-wpel-link=\"internal\" href=\"https://ceoworld.biz/2024/04/02/best-universities-2024/\" rel=\"follow\" title=\"Revealed: Best Universities In The World For 2024\">World’s  Best Universities</a></li>\n",
       "<li class=\"menu-item menu-item-type-post_type menu-item-object-post menu-item-210900\" id=\"menu-item-210900\"><a data-wpel-link=\"internal\" href=\"https://ceoworld.biz/2024/02/26/best-business-schools-in-the-world-for-2024/\" rel=\"follow\" title=\"Best Business Schools In The World For 2024\">World’s Best Business Schools</a></li>\n",
       "<li class=\"menu-item menu-item-type-post_type menu-item-object-post menu-item-210908\" id=\"menu-item-210908\"><a data-wpel-link=\"internal\" href=\"https://ceoworld.biz/2024/02/26/best-fashion-schools-in-the-world-for-2024/\" rel=\"follow\" title=\"Best Fashion Schools In The World For 2024\">World’s Best Fashion Schools</a></li>\n",
       "<li class=\"menu-item menu-item-type-post_type menu-item-object-post menu-item-210918\" id=\"menu-item-210918\"><a data-wpel-link=\"internal\" href=\"https://ceoworld.biz/2024/02/26/best-hospitality-and-hotel-management-schools-in-the-world-for-2024/\" rel=\"follow\" title=\"Best Hospitality And Hotel Management Schools In The World For 2024\">World’s Best Hotel Schools</a></li>\n",
       "<li class=\"menu-item menu-item-type-post_type menu-item-object-post current-menu-item menu-item-215701\" id=\"menu-item-215701\"><a aria-current=\"page\" data-wpel-link=\"internal\" href=\"https://ceoworld.biz/2024/04/02/best-medical-schools-in-the-world-2024/\" rel=\"follow\" title=\"Best Medical Schools In The World, 2024\">World’s Best Medical Schools</a></li>\n",
       "<li class=\"menu-item menu-item-type-post_type menu-item-object-post menu-item-215808\" id=\"menu-item-215808\"><a data-wpel-link=\"internal\" href=\"https://ceoworld.biz/2024/04/04/worlds-best-international-high-schools-2024/\" rel=\"follow\" title=\"World’s Best International High Schools, 2024\">Best International High Schools</a></li>\n",
       "</ul>\n",
       "</li>\n",
       "<li class=\"menu-item menu-item-type-post_type menu-item-object-page menu-item-171361\" id=\"menu-item-171361\"><a data-wpel-link=\"internal\" href=\"https://ceoworld.biz/subscription/\" rel=\"follow\" title=\"CEOWORLD magazine Print Edition Subscription\">Subscribe</a></li>\n",
       "<li class=\"menu-item menu-item-type-post_type menu-item-object-page menu-item-112587\" id=\"menu-item-112587\"><a data-wpel-link=\"internal\" href=\"https://ceoworld.biz/contribute/\" rel=\"follow\" title=\"Contribute | Write for Us\">Contribute</a></li>\n",
       "</ul></div> </nav>\n",
       "<div class=\"off-canvas-social-wrap\">\n",
       "<a class=\"icon-facebook icon-social\" data-wpel-link=\"external\" href=\"https://www.facebook.com/ceoworldmag\" rel=\"nofollow\" target=\"_blank\" title=\"facebook\"><i aria-hidden=\"true\" class=\"rbi rbi-facebook\"></i></a><a class=\"icon-twitter icon-social\" data-wpel-link=\"external\" href=\"https://www.twitter.com/ceoworld\" rel=\"nofollow\" target=\"_blank\" title=\"twitter\"><i aria-hidden=\"true\" class=\"rbi rbi-twitter\"></i></a><a class=\"icon-pinterest icon-social\" data-wpel-link=\"external\" href=\"https://www.pinterest.com/ceoworldmagazine/\" rel=\"nofollow\" target=\"_blank\" title=\"pinterest\"><i aria-hidden=\"true\" class=\"rbi rbi-pinterest\"></i></a><a class=\"icon-linkedin icon-social\" data-wpel-link=\"external\" href=\"https://www.linkedin.com/company/ceoworldmagazine/\" rel=\"nofollow\" target=\"_blank\" title=\"linkedin\"><i aria-hidden=\"true\" class=\"rbi rbi-linkedin\"></i></a><a class=\"icon-instagram icon-social\" data-wpel-link=\"external\" href=\"https://www.instagram.com/ceoworldmagazine/\" rel=\"nofollow\" target=\"_blank\" title=\"instagram\"><i aria-hidden=\"true\" class=\"rbi rbi-instagram\"></i></a><a class=\"icon-rss icon-social\" data-wpel-link=\"internal\" href=\"https://ceoworld.biz/feed/\" rel=\"follow\" target=\"_blank\" title=\"rss\"><i aria-hidden=\"true\" class=\"rbi rbi-rss\"></i></a><a class=\"icon-social color-google\" data-wpel-link=\"external\" href=\"https://news.google.com/publications/CAAqJggKIiBDQklTRWdnTWFnNEtER05sYjNkdmNteGtMbUpwZWlnQVAB?hl=en-US&amp;gl=US&amp;ceid=US:en\" rel=\"nofollow\" target=\"_blank\" title=\"google\"><i class=\"fa fa-google\"></i></a> </div>\n",
       "</div>\n",
       "</div><div class=\"site-outer\" id=\"ruby-site\">\n",
       "<div class=\"header-wrap header-style-7\">\n",
       "<div class=\"header-inner\">\n",
       "<div class=\"topbar-wrap topbar-style-1 is-light-text\">\n",
       "<div class=\"ruby-container\">\n",
       "<div class=\"topbar-inner container-inner clearfix\">\n",
       "<div class=\"topbar-left\">\n",
       "<div class=\"topbar-info\">\n",
       "<span class=\"info-email\"><i aria-hidden=\"true\" class=\"rbi rbi-envelope\"></i><span>info@ceoworld.biz</span></span>\n",
       "</div> <div class=\"topbar-date\">\n",
       "<span>Sunday, November 24, 2024</span>\n",
       "</div> <nav class=\"topbar-menu-wrap\" id=\"ruby-topbar-navigation\">\n",
       "<div class=\"menu-news-top-header-container\"><ul class=\"topbar-menu-inner\" id=\"topbar-nav\"><li class=\"menu-item menu-item-type-post_type menu-item-object-page current_page_parent menu-item-111577\" id=\"menu-item-111577\"><a data-wpel-link=\"internal\" href=\"https://ceoworld.biz/latest/\" rel=\"follow\">Latest</a></li>\n",
       "<li class=\"menu-item menu-item-type-post_type menu-item-object-page menu-item-200355\" id=\"menu-item-200355\"><a data-wpel-link=\"internal\" href=\"https://ceoworld.biz/editions/\" rel=\"follow\">Editions</a></li>\n",
       "<li class=\"menu-item menu-item-type-post_type menu-item-object-page menu-item-111579\" id=\"menu-item-111579\"><a data-wpel-link=\"internal\" href=\"https://ceoworld.biz/contribute/\" rel=\"follow\">Contribute</a></li>\n",
       "<li class=\"menu-item menu-item-type-post_type menu-item-object-page menu-item-120340\" id=\"menu-item-120340\"><a data-wpel-link=\"internal\" href=\"https://ceoworld.biz/subscription/\" rel=\"follow\">Subscription</a></li>\n",
       "</ul></div> </nav>\n",
       "</div>\n",
       "<div class=\"topbar-right\">\n",
       "<div class=\"topbar-social social-tooltips\">\n",
       "<a class=\"icon-facebook icon-social is-color\" data-wpel-link=\"external\" href=\"https://www.facebook.com/ceoworldmag\" rel=\"nofollow\" target=\"_blank\" title=\"facebook\"><i aria-hidden=\"true\" class=\"rbi rbi-facebook\"></i></a><a class=\"icon-twitter icon-social is-color\" data-wpel-link=\"external\" href=\"https://www.twitter.com/ceoworld\" rel=\"nofollow\" target=\"_blank\" title=\"twitter\"><i aria-hidden=\"true\" class=\"rbi rbi-twitter\"></i></a><a class=\"icon-pinterest icon-social is-color\" data-wpel-link=\"external\" href=\"https://www.pinterest.com/ceoworldmagazine/\" rel=\"nofollow\" target=\"_blank\" title=\"pinterest\"><i aria-hidden=\"true\" class=\"rbi rbi-pinterest\"></i></a><a class=\"icon-linkedin icon-social is-color\" data-wpel-link=\"external\" href=\"https://www.linkedin.com/company/ceoworldmagazine/\" rel=\"nofollow\" target=\"_blank\" title=\"linkedin\"><i aria-hidden=\"true\" class=\"rbi rbi-linkedin\"></i></a><a class=\"icon-instagram icon-social is-color\" data-wpel-link=\"external\" href=\"https://www.instagram.com/ceoworldmagazine/\" rel=\"nofollow\" target=\"_blank\" title=\"instagram\"><i aria-hidden=\"true\" class=\"rbi rbi-instagram\"></i></a><a class=\"icon-rss icon-social is-color\" data-wpel-link=\"internal\" href=\"https://ceoworld.biz/feed/\" rel=\"follow\" target=\"_blank\" title=\"rss\"><i aria-hidden=\"true\" class=\"rbi rbi-rss\"></i></a><a class=\"icon-social is-color color-google\" data-wpel-link=\"external\" href=\"https://news.google.com/publications/CAAqJggKIiBDQklTRWdnTWFnNEtER05sYjNkdmNteGtMbUpwZWlnQVAB?hl=en-US&amp;gl=US&amp;ceid=US:en\" rel=\"nofollow\" target=\"_blank\" title=\"google\"><i class=\"fa fa-google\"></i></a> </div>\n",
       "</div>\n",
       "</div>\n",
       "</div>\n",
       "</div>\n",
       "<div class=\"navbar-outer clearfix\">\n",
       "<div class=\"navbar-wrap\">\n",
       "<div class=\"navbar-inner container-inner clearfix\">\n",
       "<div class=\"navbar-left\">\n",
       "<div class=\"off-canvas-btn-wrap\">\n",
       "<div class=\"off-canvas-btn\">\n",
       "<a class=\"ruby-trigger\" href=\"#\" title=\"off canvas button\">\n",
       "<span class=\"icon-wrap\"></span>\n",
       "</a>\n",
       "</div>\n",
       "</div> <div class=\"logo-wrap is-logo-image\" itemscope=\"\" itemtype=\"https://schema.org/Organization\">\n",
       "<div class=\"logo-inner\">\n",
       "<a class=\"logo\" data-wpel-link=\"internal\" href=\"https://ceoworld.biz/\" rel=\"follow\" title=\"CEOWORLD magazine\">\n",
       "<img alt=\"CEOWORLD magazine\" height=\"90\" src=\"https://ceoworld.biz/wp-content/uploads/2023/05/CEOWORLD-magazine-Logo.png\" srcset=\"https://ceoworld.biz/wp-content/uploads/2023/05/CEOWORLD-magazine-Logo.png 1x, https://ceoworld.biz/wp-content/uploads/2023/05/CEOWORLD-magazine-Logo-180.png 2x\" style=\"max-height: 85px;\" width=\"288\"/>\n",
       "</a>\n",
       "</div>\n",
       "</div>\n",
       "<div class=\"logo-mobile-wrap is-logo-mobile-image\" itemscope=\"\" itemtype=\"https://schema.org/Organization\">\n",
       "<div class=\"logo-mobile-inner\">\n",
       "<a class=\"logo\" data-wpel-link=\"internal\" href=\"https://ceoworld.biz/\" rel=\"follow\" title=\"CEOWORLD magazine\">\n",
       "<img alt=\"CEOWORLD magazine\" height=\"54\" src=\"https://ceoworld.biz/wp-content/uploads/2023/05/CEOWORLD-magazine-Logo-54.png\" width=\"173\"/>\n",
       "</a>\n",
       "</div>\n",
       "</div>\n",
       "<nav class=\"main-menu-wrap\" id=\"ruby-main-menu\">\n",
       "<div class=\"menu-main-navigation-container\"><ul class=\"main-menu-inner\" id=\"main-nav\" itemscope=\"\" itemtype=\"https://schema.org/SiteNavigationElement\"><li class=\"menu-item menu-item-type-post_type menu-item-object-page menu-item-home menu-item-112563\" itemprop=\"name\"><a data-wpel-link=\"internal\" href=\"https://ceoworld.biz/\" itemprop=\"url\" rel=\"follow\" title=\"CEOWORLD magazine\">Home</a></li><li class=\"menu-item menu-item-type-post_type menu-item-object-page current_page_parent menu-item-114499\" itemprop=\"name\"><a data-wpel-link=\"internal\" href=\"https://ceoworld.biz/latest/\" itemprop=\"url\" rel=\"follow\" title=\"Latest\">Latest</a></li><li class=\"menu-item menu-item-type-custom menu-item-object-custom menu-item-has-children menu-item-112580 is-col-mega-menu is-mega-menu\" itemprop=\"name\"><a href=\"#\" itemprop=\"url\">More</a><div class=\"mega-col-menu mega-menu-wrap sub-menu\"><ul class=\"sub-menu is-sub-default\"> <li class=\"menu-item menu-item-type-custom menu-item-object-custom menu-item-has-children menu-item-144603\" itemprop=\"name\"><a href=\"#\" itemprop=\"url\">Imagine</a> <ul class=\"sub-sub-menu sub-menu\"> <li class=\"menu-item menu-item-type-taxonomy menu-item-object-category menu-item-200051 is-category-18009\" itemprop=\"name\"><a data-wpel-link=\"internal\" href=\"https://ceoworld.biz/ceoadvisory/\" itemprop=\"url\" rel=\"follow\">CEO Advisory</a></li> <li class=\"menu-item menu-item-type-taxonomy menu-item-object-category menu-item-200052 is-category-14786\" itemprop=\"name\"><a data-wpel-link=\"internal\" href=\"https://ceoworld.biz/ceoagenda/\" itemprop=\"url\" rel=\"follow\">CEO Agenda</a></li> <li class=\"menu-item menu-item-type-taxonomy menu-item-object-category menu-item-200053 is-category-34462\" itemprop=\"name\"><a data-wpel-link=\"internal\" href=\"https://ceoworld.biz/ceobriefing/\" itemprop=\"url\" rel=\"follow\">CEO Briefing</a></li> <li class=\"menu-item menu-item-type-taxonomy menu-item-object-category menu-item-200054 is-category-12038\" itemprop=\"name\"><a data-wpel-link=\"internal\" href=\"https://ceoworld.biz/ceoinsider/\" itemprop=\"url\" rel=\"follow\">CEO Insider</a></li> <li class=\"menu-item menu-item-type-taxonomy menu-item-object-category menu-item-200050 is-category-37306\" itemprop=\"name\"><a data-wpel-link=\"internal\" href=\"https://ceoworld.biz/banking-and-finance/\" itemprop=\"url\" rel=\"follow\">Banking and Finance</a></li> </ul></li> <li class=\"menu-item menu-item-type-custom menu-item-object-custom menu-item-has-children menu-item-144604\" itemprop=\"name\"><a href=\"#\" itemprop=\"url\">Innovate</a> <ul class=\"sub-sub-menu sub-menu\"> <li class=\"menu-item menu-item-type-taxonomy menu-item-object-category menu-item-200056 is-category-37202\" itemprop=\"name\"><a data-wpel-link=\"internal\" href=\"https://ceoworld.biz/ceo-journal/\" itemprop=\"url\" rel=\"follow\">CEO Journal</a></li> <li class=\"menu-item menu-item-type-taxonomy menu-item-object-category menu-item-200057 is-category-37307\" itemprop=\"name\"><a data-wpel-link=\"internal\" href=\"https://ceoworld.biz/ceoopinions/\" itemprop=\"url\" rel=\"follow\">CEO Opinions</a></li> <li class=\"menu-item menu-item-type-taxonomy menu-item-object-category menu-item-200058 is-category-36078\" itemprop=\"name\"><a data-wpel-link=\"internal\" href=\"https://ceoworld.biz/ceo-spotlight/\" itemprop=\"url\" rel=\"follow\">CEO Spotlight</a></li> <li class=\"menu-item menu-item-type-taxonomy menu-item-object-category current-post-ancestor current-menu-parent current-post-parent menu-item-200059 is-category-23742\" itemprop=\"name\"><a data-wpel-link=\"internal\" href=\"https://ceoworld.biz/education-and-career/\" itemprop=\"url\" rel=\"follow\">Education and Career</a></li> <li class=\"menu-item menu-item-type-taxonomy menu-item-object-category menu-item-200055 is-category-36164\" itemprop=\"name\"><a data-wpel-link=\"internal\" href=\"https://ceoworld.biz/ceoinsights/\" itemprop=\"url\" rel=\"follow\">CEO Insights</a></li> </ul></li> <li class=\"menu-item menu-item-type-custom menu-item-object-custom menu-item-has-children menu-item-178014\" itemprop=\"name\"><a href=\"#\" itemprop=\"url\">Indulge</a> <ul class=\"sub-sub-menu sub-menu\"> <li class=\"menu-item menu-item-type-taxonomy menu-item-object-category menu-item-200061 is-category-34463\" itemprop=\"name\"><a data-wpel-link=\"internal\" href=\"https://ceoworld.biz/lifestyle-and-travel/\" itemprop=\"url\" rel=\"follow\">Lifestyle and Travel</a></li> <li class=\"menu-item menu-item-type-taxonomy menu-item-object-category menu-item-200062 is-category-37203\" itemprop=\"name\"><a data-wpel-link=\"internal\" href=\"https://ceoworld.biz/money-and-wealth/\" itemprop=\"url\" rel=\"follow\">Money and Wealth</a></li> <li class=\"menu-item menu-item-type-taxonomy menu-item-object-category menu-item-200063 is-category-37201\" itemprop=\"name\"><a data-wpel-link=\"internal\" href=\"https://ceoworld.biz/special-reports/\" itemprop=\"url\" rel=\"follow\">Special Reports</a></li> <li class=\"menu-item menu-item-type-taxonomy menu-item-object-category menu-item-200060 is-category-34471\" itemprop=\"name\"><a data-wpel-link=\"internal\" href=\"https://ceoworld.biz/executiveinsider/\" itemprop=\"url\" rel=\"follow\">Executive Insider</a></li> <li class=\"menu-item menu-item-type-taxonomy menu-item-object-category menu-item-200064 is-category-27496\" itemprop=\"name\"><a data-wpel-link=\"internal\" href=\"https://ceoworld.biz/statsgate/\" itemprop=\"url\" rel=\"follow\">Stats Gate</a></li> </ul></li> <li class=\"menu-item menu-item-type-custom menu-item-object-custom menu-item-has-children menu-item-144605\" itemprop=\"name\"><a href=\"#\" itemprop=\"url\">Inspire</a> <ul class=\"sub-sub-menu sub-menu\"> <li class=\"menu-item menu-item-type-taxonomy menu-item-object-category menu-item-200065 is-category-36082\" itemprop=\"name\"><a data-wpel-link=\"internal\" href=\"https://ceoworld.biz/success-and-leadership/\" itemprop=\"url\" rel=\"follow\">Success and Leadership</a></li> <li class=\"menu-item menu-item-type-taxonomy menu-item-object-category menu-item-200066 is-category-36079\" itemprop=\"name\"><a data-wpel-link=\"internal\" href=\"https://ceoworld.biz/tech-and-innovation/\" itemprop=\"url\" rel=\"follow\">Tech and Innovation</a></li> <li class=\"menu-item menu-item-type-post_type menu-item-object-page menu-item-200068\" itemprop=\"name\"><a data-wpel-link=\"internal\" href=\"https://ceoworld.biz/best/\" itemprop=\"url\" rel=\"follow\">CEOWOLRD Rankings</a></li> <li class=\"menu-item menu-item-type-post_type menu-item-object-post menu-item-202944\" itemprop=\"name\"><a data-wpel-link=\"internal\" href=\"https://ceoworld.biz/2024/01/13/the-global-mobility-index-these-are-the-worlds-most-powerful-passports-in-2024/\" itemprop=\"url\" rel=\"follow\" title=\"The Global Mobility Index: These Are the World’s Most Powerful Passports in 2024\">Global Passport Ranking</a></li> <li class=\"menu-item menu-item-type-post_type menu-item-object-page menu-item-200067\" itemprop=\"name\"><a data-wpel-link=\"internal\" href=\"https://ceoworld.biz/globalcitizen/\" itemprop=\"url\" rel=\"follow\" title=\"Citizenship By Investment Index\">Citizenship By Investment</a></li> </ul></li></ul></div><!-- mega col menu--></li><li class=\"menu-item menu-item-type-post_type menu-item-object-post menu-item-202914\" itemprop=\"name\"><a data-wpel-link=\"internal\" href=\"https://ceoworld.biz/2024/01/13/the-worlds-most-influential-ceos-and-business-executives-of-2024/\" itemprop=\"url\" rel=\"follow\" title=\"The World’s Most Influential CEOs And Business Executives Of 2024\">Best CEOs</a></li><li class=\"menu-item menu-item-type-post_type menu-item-object-post menu-item-has-children menu-item-202929\" itemprop=\"name\"><a data-wpel-link=\"internal\" href=\"https://ceoworld.biz/2024/01/13/worlds-most-influential-and-innovative-companies-2024/\" itemprop=\"url\" rel=\"follow\" title=\"World’s Most Influential and Innovative Companies, 2024\">Best Companies</a><ul class=\"sub-menu is-sub-default\"> <li class=\"menu-item menu-item-type-post_type menu-item-object-post menu-item-207743\" itemprop=\"name\"><a data-wpel-link=\"internal\" href=\"https://ceoworld.biz/2024/02/04/the-worlds-largest-companies-by-market-cap-2024/\" itemprop=\"url\" rel=\"follow\" title=\"The World’s Largest Companies by Market Cap, 2024\">World’s Largest Companies</a></li> <li class=\"menu-item menu-item-type-custom menu-item-object-custom menu-item-has-children menu-item-209840\" itemprop=\"name\"><a href=\"#\" itemprop=\"url\">America</a> <ul class=\"sub-sub-menu sub-menu\"> <li class=\"menu-item menu-item-type-post_type menu-item-object-post menu-item-209837\" itemprop=\"name\"><a data-wpel-link=\"internal\" href=\"https://ceoworld.biz/2024/02/20/argentinas-largest-companies-by-market-capitalization-2024/\" itemprop=\"url\" rel=\"follow\" title=\"Argentina’s Largest Companies by market capitalization, 2024\">Argentina</a></li> <li class=\"menu-item menu-item-type-post_type menu-item-object-post menu-item-209833\" itemprop=\"name\"><a data-wpel-link=\"internal\" href=\"https://ceoworld.biz/2024/02/20/brazils-largest-companies-by-market-capitalization-2024/\" itemprop=\"url\" rel=\"follow\" title=\"Brazil’s Largest Companies by market capitalization, 2024\">Brazil</a></li> <li class=\"menu-item menu-item-type-post_type menu-item-object-post menu-item-209372\" itemprop=\"name\"><a data-wpel-link=\"internal\" href=\"https://ceoworld.biz/2024/02/17/canadas-largest-companies-by-market-capitalization-2024/\" itemprop=\"url\" rel=\"follow\" title=\"Canada’s Largest Companies by market capitalization, 2024\">Canada</a></li> <li class=\"menu-item menu-item-type-post_type menu-item-object-post menu-item-209836\" itemprop=\"name\"><a data-wpel-link=\"internal\" href=\"https://ceoworld.biz/2024/02/20/colombias-largest-companies-by-market-capitalization-2024/\" itemprop=\"url\" rel=\"follow\" title=\"Colombia’s Largest Companies by market capitalization, 2024\">Colombia</a></li> <li class=\"menu-item menu-item-type-post_type menu-item-object-post menu-item-209834\" itemprop=\"name\"><a data-wpel-link=\"internal\" href=\"https://ceoworld.biz/2024/02/20/chiles-largest-companies-by-market-capitalization-2024/\" itemprop=\"url\" rel=\"follow\" title=\"Chile’s Largest Companies by market capitalization, 2024\">Chile</a></li> <li class=\"menu-item menu-item-type-post_type menu-item-object-post menu-item-209832\" itemprop=\"name\"><a data-wpel-link=\"internal\" href=\"https://ceoworld.biz/2024/02/20/mexicos-largest-companies-by-market-capitalization-2024/\" itemprop=\"url\" rel=\"follow\" title=\"Mexico’s Largest Companies by market capitalization, 2024\">Mexico</a></li> <li class=\"menu-item menu-item-type-post_type menu-item-object-post menu-item-209835\" itemprop=\"name\"><a data-wpel-link=\"internal\" href=\"https://ceoworld.biz/2024/02/20/perus-largest-companies-by-market-capitalization-2024/\" itemprop=\"url\" rel=\"follow\" title=\"Peru’s Largest Companies by market capitalization, 2024\">Peru</a></li> <li class=\"menu-item menu-item-type-post_type menu-item-object-post menu-item-209838\" itemprop=\"name\"><a data-wpel-link=\"internal\" href=\"https://ceoworld.biz/2024/02/20/venezuelas-largest-companies-by-market-capitalization-2024/\" itemprop=\"url\" rel=\"follow\" title=\"Venezuela’s Largest Companies by market capitalization, 2024\">Venezuela</a></li> <li class=\"menu-item menu-item-type-post_type menu-item-object-post menu-item-209370\" itemprop=\"name\"><a data-wpel-link=\"internal\" href=\"https://ceoworld.biz/2024/02/17/the-united-states-largest-companies-by-market-capitalization-2024/\" itemprop=\"url\" rel=\"follow\" title=\"The United States’ Largest Companies by market capitalization, 2024\">The United States</a></li> </ul></li> <li class=\"menu-item menu-item-type-post_type menu-item-object-post menu-item-has-children menu-item-208656\" itemprop=\"name\"><a data-wpel-link=\"internal\" href=\"https://ceoworld.biz/2024/02/14/asias-largest-companies-by-market-capitalization-2024/\" itemprop=\"url\" rel=\"follow\" title=\"Asia’s Largest Companies by market capitalization, 2024\">Asia’s Largest Companies</a> <ul class=\"sub-sub-menu sub-menu\"> <li class=\"menu-item menu-item-type-post_type menu-item-object-post menu-item-210071\" itemprop=\"name\"><a data-wpel-link=\"internal\" href=\"https://ceoworld.biz/2024/02/21/chinas-largest-companies-by-market-capitalization-2024/\" itemprop=\"url\" rel=\"follow\" title=\"China’s Largest Companies by market capitalization, 2024\">China</a></li> <li class=\"menu-item menu-item-type-post_type menu-item-object-post menu-item-209016\" itemprop=\"name\"><a data-wpel-link=\"internal\" href=\"https://ceoworld.biz/2024/02/16/hong-kongs-largest-companies-by-market-capitalization-2024/\" itemprop=\"url\" rel=\"follow\" title=\"Hong Kong’s Largest Companies by market capitalization, 2024\">Hong Kong</a></li> <li class=\"menu-item menu-item-type-post_type menu-item-object-post menu-item-209371\" itemprop=\"name\"><a data-wpel-link=\"internal\" href=\"https://ceoworld.biz/2024/02/17/indias-largest-companies-by-market-capitalization-2024/\" itemprop=\"url\" rel=\"follow\" title=\"India’s Largest Companies by market capitalization, 2024\">India</a></li> <li class=\"menu-item menu-item-type-post_type menu-item-object-post menu-item-209013\" itemprop=\"name\"><a data-wpel-link=\"internal\" href=\"https://ceoworld.biz/2024/02/16/indonesias-largest-companies-by-market-capitalization-2024/\" itemprop=\"url\" rel=\"follow\" title=\"Indonesia’s Largest Companies by market capitalization, 2024\">Indonesia</a></li> <li class=\"menu-item menu-item-type-post_type menu-item-object-post menu-item-209019\" itemprop=\"name\"><a data-wpel-link=\"internal\" href=\"https://ceoworld.biz/2024/02/16/japans-largest-companies-by-market-capitalization-2024/\" itemprop=\"url\" rel=\"follow\" title=\"Japan’s Largest Companies by market capitalization, 2024\">Japan</a></li> <li class=\"menu-item menu-item-type-post_type menu-item-object-post menu-item-209010\" itemprop=\"name\"><a data-wpel-link=\"internal\" href=\"https://ceoworld.biz/2024/02/16/malaysias-largest-companies-by-market-capitalization-2024/\" itemprop=\"url\" rel=\"follow\" title=\"Malaysia’s Largest Companies by market capitalization, 2024\">Malaysia</a></li> <li class=\"menu-item menu-item-type-post_type menu-item-object-post menu-item-209017\" itemprop=\"name\"><a data-wpel-link=\"internal\" href=\"https://ceoworld.biz/2024/02/16/philippiness-largest-companies-by-market-capitalization-2024/\" itemprop=\"url\" rel=\"follow\" title=\"Philippines’s Largest Companies by market capitalization, 2024\">Philippines</a></li> <li class=\"menu-item menu-item-type-post_type menu-item-object-post menu-item-209011\" itemprop=\"name\"><a data-wpel-link=\"internal\" href=\"https://ceoworld.biz/2024/02/16/singapores-largest-companies-by-market-capitalization-2024/\" itemprop=\"url\" rel=\"follow\" title=\"Singapore’s Largest Companies by market capitalization, 2024\">Singapore</a></li> <li class=\"menu-item menu-item-type-post_type menu-item-object-post menu-item-209014\" itemprop=\"name\"><a data-wpel-link=\"internal\" href=\"https://ceoworld.biz/2024/02/16/south-koreas-largest-companies-by-market-capitalization-2024/\" itemprop=\"url\" rel=\"follow\" title=\"South Korea’s Largest Companies by market capitalization, 2024\">South Korea</a></li> <li class=\"menu-item menu-item-type-post_type menu-item-object-post menu-item-209015\" itemprop=\"name\"><a data-wpel-link=\"internal\" href=\"https://ceoworld.biz/2024/02/16/taiwans-largest-companies-by-market-capitalization-2024/\" itemprop=\"url\" rel=\"follow\" title=\"Taiwan’s Largest Companies by market capitalization, 2024\">Taiwan</a></li> <li class=\"menu-item menu-item-type-post_type menu-item-object-post menu-item-209012\" itemprop=\"name\"><a data-wpel-link=\"internal\" href=\"https://ceoworld.biz/2024/02/16/thailands-largest-companies-by-market-capitalization-2024/\" itemprop=\"url\" rel=\"follow\" title=\"Thailand’s Largest Companies by market capitalization, 2024\">Thailand</a></li> <li class=\"menu-item menu-item-type-post_type menu-item-object-post menu-item-209018\" itemprop=\"name\"><a data-wpel-link=\"internal\" href=\"https://ceoworld.biz/2024/02/16/vietnams-largest-companies-by-market-capitalization-2024/\" itemprop=\"url\" rel=\"follow\" title=\"Vietnam’s Largest Companies by market capitalization, 2024\">Vietnam</a></li> </ul></li> <li class=\"menu-item menu-item-type-post_type menu-item-object-post menu-item-has-children menu-item-208658\" itemprop=\"name\"><a data-wpel-link=\"internal\" href=\"https://ceoworld.biz/2024/02/14/europes-largest-companies-by-market-capitalization-2024/\" itemprop=\"url\" rel=\"follow\" title=\"Europe’s Largest Companies by market capitalization, 2024\">Europe’s Largest Companies</a> <ul class=\"sub-sub-menu sub-menu\"> <li class=\"menu-item menu-item-type-post_type menu-item-object-post menu-item-209507\" itemprop=\"name\"><a data-wpel-link=\"internal\" href=\"https://ceoworld.biz/2024/02/19/austrias-largest-companies-by-market-capitalization-2024/\" itemprop=\"url\" rel=\"follow\" title=\"Austria’s Largest Companies by market capitalization, 2024\">Austria</a></li> <li class=\"menu-item menu-item-type-post_type menu-item-object-post menu-item-209503\" itemprop=\"name\"><a data-wpel-link=\"internal\" href=\"https://ceoworld.biz/2024/02/19/belgiums-largest-companies-by-market-capitalization-2024/\" itemprop=\"url\" rel=\"follow\" title=\"Belgium’s Largest Companies by market capitalization, 2024\">Belgium</a></li> <li class=\"menu-item menu-item-type-post_type menu-item-object-post menu-item-209466\" itemprop=\"name\"><a data-wpel-link=\"internal\" href=\"https://ceoworld.biz/2024/02/19/bulgarias-largest-companies-by-market-capitalization-2024/\" itemprop=\"url\" rel=\"follow\" title=\"Bulgaria’s Largest Companies by market capitalization, 2024\">Bulgaria</a></li> <li class=\"menu-item menu-item-type-post_type menu-item-object-post menu-item-209462\" itemprop=\"name\"><a data-wpel-link=\"internal\" href=\"https://ceoworld.biz/2024/02/19/croatias-largest-companies-by-market-capitalization-2024/\" itemprop=\"url\" rel=\"follow\" title=\"Croatia’s Largest Companies by market capitalization, 2024\">Croatia</a></li> <li class=\"menu-item menu-item-type-post_type menu-item-object-post menu-item-209461\" itemprop=\"name\"><a data-wpel-link=\"internal\" href=\"https://ceoworld.biz/2024/02/19/czech-republics-largest-companies-by-market-capitalization-2024/\" itemprop=\"url\" rel=\"follow\" title=\"Czech Republic’s Largest Companies by market capitalization, 2024\">Czech Republic</a></li> <li class=\"menu-item menu-item-type-post_type menu-item-object-post menu-item-208050\" itemprop=\"name\"><a data-wpel-link=\"internal\" href=\"https://ceoworld.biz/2024/02/12/denmarks-largest-companies-by-market-capitalization-2024/\" itemprop=\"url\" rel=\"follow\" title=\"Denmark’s Largest Companies by market capitalization, 2024\">Denmark</a></li> <li class=\"menu-item menu-item-type-post_type menu-item-object-post menu-item-209468\" itemprop=\"name\"><a data-wpel-link=\"internal\" href=\"https://ceoworld.biz/2024/02/19/estonias-largest-companies-by-market-capitalization-2024/\" itemprop=\"url\" rel=\"follow\" title=\"Estonia’s Largest Companies by market capitalization, 2024\">Estonia</a></li> <li class=\"menu-item menu-item-type-post_type menu-item-object-post menu-item-209505\" itemprop=\"name\"><a data-wpel-link=\"internal\" href=\"https://ceoworld.biz/2024/02/19/finlands-largest-companies-by-market-capitalization-2024/\" itemprop=\"url\" rel=\"follow\" title=\"Finland’s Largest Companies by market capitalization, 2024\">Finland</a></li> <li class=\"menu-item menu-item-type-post_type menu-item-object-post menu-item-208002\" itemprop=\"name\"><a data-wpel-link=\"internal\" href=\"https://ceoworld.biz/2024/02/12/frances-largest-companies-by-market-capitalization-2024/\" itemprop=\"url\" rel=\"follow\" title=\"France’s Largest companies by market capitalization, 2024\">France</a></li> <li class=\"menu-item menu-item-type-post_type menu-item-object-post menu-item-208054\" itemprop=\"name\"><a data-wpel-link=\"internal\" href=\"https://ceoworld.biz/2024/02/12/germanys-largest-companies-by-market-capitalization-2024/\" itemprop=\"url\" rel=\"follow\" title=\"Germany’s Largest Companies by market capitalization, 2024\">Germany</a></li> <li class=\"menu-item menu-item-type-post_type menu-item-object-post menu-item-209509\" itemprop=\"name\"><a data-wpel-link=\"internal\" href=\"https://ceoworld.biz/2024/02/19/greeces-largest-companies-by-market-capitalization-2024/\" itemprop=\"url\" rel=\"follow\" title=\"Greece’s Largest Companies by market capitalization, 2024\">Greece</a></li> <li class=\"menu-item menu-item-type-post_type menu-item-object-post menu-item-209460\" itemprop=\"name\"><a data-wpel-link=\"internal\" href=\"https://ceoworld.biz/2024/02/19/hungarys-largest-companies-by-market-capitalization-2024/\" itemprop=\"url\" rel=\"follow\" title=\"Hungary’s Largest Companies by market capitalization, 2024\">Hungary</a></li> <li class=\"menu-item menu-item-type-post_type menu-item-object-post menu-item-209463\" itemprop=\"name\"><a data-wpel-link=\"internal\" href=\"https://ceoworld.biz/2024/02/19/icelands-largest-companies-by-market-capitalization-2024/\" itemprop=\"url\" rel=\"follow\" title=\"Iceland’s Largest Companies by market capitalization, 2024\">Iceland</a></li> <li class=\"menu-item menu-item-type-post_type menu-item-object-post menu-item-209508\" itemprop=\"name\"><a data-wpel-link=\"internal\" href=\"https://ceoworld.biz/2024/02/19/irelands-largest-companies-by-market-capitalization-2024/\" itemprop=\"url\" rel=\"follow\" title=\"Ireland’s Largest Companies by market capitalization, 2024\">Ireland</a></li> <li class=\"menu-item menu-item-type-post_type menu-item-object-post menu-item-208049\" itemprop=\"name\"><a data-wpel-link=\"internal\" href=\"https://ceoworld.biz/2024/02/12/italys-largest-companies-by-market-capitalization-2024/\" itemprop=\"url\" rel=\"follow\" title=\"Italy’s Largest Companies by market capitalization, 2024\">Italy</a></li> <li class=\"menu-item menu-item-type-post_type menu-item-object-post menu-item-209472\" itemprop=\"name\"><a data-wpel-link=\"internal\" href=\"https://ceoworld.biz/2024/02/19/latvias-largest-companies-by-market-capitalization-2024/\" itemprop=\"url\" rel=\"follow\" title=\"Latvia’s Largest Companies by market capitalization, 2024\">Latvia</a></li> </ul></li> <li class=\"menu-item menu-item-type-post_type menu-item-object-post menu-item-has-children menu-item-209510\" itemprop=\"name\"><a data-wpel-link=\"internal\" href=\"https://ceoworld.biz/2024/02/14/europes-largest-companies-by-market-capitalization-2024/\" itemprop=\"url\" rel=\"follow\" title=\"Europe’s Largest Companies by market capitalization, 2024\">Europe’s Largest Companies</a> <ul class=\"sub-sub-menu sub-menu\"> <li class=\"menu-item menu-item-type-post_type menu-item-object-post menu-item-209467\" itemprop=\"name\"><a data-wpel-link=\"internal\" href=\"https://ceoworld.biz/2024/02/19/lithuanias-largest-companies-by-market-capitalization-2024/\" itemprop=\"url\" rel=\"follow\" title=\"Lithuania’s Largest Companies by market capitalization, 2024\">Lithuania</a></li> <li class=\"menu-item menu-item-type-post_type menu-item-object-post menu-item-209465\" itemprop=\"name\"><a data-wpel-link=\"internal\" href=\"https://ceoworld.biz/2024/02/19/luxembourgs-largest-companies-by-market-capitalization-2024/\" itemprop=\"url\" rel=\"follow\" title=\"Luxembourg’s Largest Companies by market capitalization, 2024\">Luxembourg</a></li> <li class=\"menu-item menu-item-type-post_type menu-item-object-post menu-item-209469\" itemprop=\"name\"><a data-wpel-link=\"internal\" href=\"https://ceoworld.biz/2024/02/19/maltas-largest-companies-by-market-capitalization-2024/\" itemprop=\"url\" rel=\"follow\" title=\"Malta’s Largest Companies by market capitalization, 2024\">Malta</a></li> <li class=\"menu-item menu-item-type-post_type menu-item-object-post menu-item-209458\" itemprop=\"name\"><a data-wpel-link=\"internal\" href=\"https://ceoworld.biz/2024/02/19/portugals-largest-companies-by-market-capitalization-2024/\" itemprop=\"url\" rel=\"follow\" title=\"Portugal’s Largest Companies by market capitalization, 2024\">Portugal</a></li> <li class=\"menu-item menu-item-type-post_type menu-item-object-post menu-item-209459\" itemprop=\"name\"><a data-wpel-link=\"internal\" href=\"https://ceoworld.biz/2024/02/19/romanias-largest-companies-by-market-capitalization-2024/\" itemprop=\"url\" rel=\"follow\" title=\"Romania’s Largest Companies by market capitalization, 2024\">Romania</a></li> <li class=\"menu-item menu-item-type-post_type menu-item-object-post menu-item-209504\" itemprop=\"name\"><a data-wpel-link=\"internal\" href=\"https://ceoworld.biz/2024/02/19/norways-largest-companies-by-market-capitalization-2024/\" itemprop=\"url\" rel=\"follow\" title=\"Norway’s Largest Companies by market capitalization, 2024\">Norway</a></li> <li class=\"menu-item menu-item-type-post_type menu-item-object-post menu-item-209506\" itemprop=\"name\"><a data-wpel-link=\"internal\" href=\"https://ceoworld.biz/2024/02/19/polands-largest-companies-by-market-capitalization-2024/\" itemprop=\"url\" rel=\"follow\" title=\"Poland’s Largest Companies by market capitalization, 2024\">Poland</a></li> <li class=\"menu-item menu-item-type-post_type menu-item-object-post menu-item-209464\" itemprop=\"name\"><a data-wpel-link=\"internal\" href=\"https://ceoworld.biz/2024/02/19/slovenias-largest-companies-by-market-capitalization-2024/\" itemprop=\"url\" rel=\"follow\" title=\"Slovenia’s Largest Companies by market capitalization, 2024\">Slovenia</a></li> <li class=\"menu-item menu-item-type-post_type menu-item-object-post menu-item-209471\" itemprop=\"name\"><a data-wpel-link=\"internal\" href=\"https://ceoworld.biz/2024/02/19/slovakias-largest-companies-by-market-capitalization-2024/\" itemprop=\"url\" rel=\"follow\" title=\"Slovakia’s Largest Companies by market capitalization, 2024\">Slovakia</a></li> <li class=\"menu-item menu-item-type-post_type menu-item-object-post menu-item-208048\" itemprop=\"name\"><a data-wpel-link=\"internal\" href=\"https://ceoworld.biz/2024/02/12/spains-largest-companies-by-market-capitalization-2024/\" itemprop=\"url\" rel=\"follow\" title=\"Spain’s Largest Companies by market capitalization, 2024\">Spain</a></li> <li class=\"menu-item menu-item-type-post_type menu-item-object-post menu-item-208051\" itemprop=\"name\"><a data-wpel-link=\"internal\" href=\"https://ceoworld.biz/2024/02/12/swedens-largest-companies-by-market-capitalization-2024/\" itemprop=\"url\" rel=\"follow\" title=\"Sweden’s Largest Companies by market capitalization, 2024\">Sweden</a></li> <li class=\"menu-item menu-item-type-post_type menu-item-object-post menu-item-208053\" itemprop=\"name\"><a data-wpel-link=\"internal\" href=\"https://ceoworld.biz/2024/02/12/switzerlands-largest-companies-by-market-capitalization-2024/\" itemprop=\"url\" rel=\"follow\" title=\"Switzerland’s Largest Companies by market capitalization, 2024\">Switzerland</a></li> <li class=\"menu-item menu-item-type-post_type menu-item-object-post menu-item-208052\" itemprop=\"name\"><a data-wpel-link=\"internal\" href=\"https://ceoworld.biz/2024/02/12/netherlandss-largest-companies-by-market-capitalization-2024/\" itemprop=\"url\" rel=\"follow\" title=\"Netherlands’s Largest Companies by market capitalization, 2024\">Netherlands</a></li> <li class=\"menu-item menu-item-type-post_type menu-item-object-post menu-item-208047\" itemprop=\"name\"><a data-wpel-link=\"internal\" href=\"https://ceoworld.biz/2024/02/12/russias-largest-companies-by-market-capitalization-2024/\" itemprop=\"url\" rel=\"follow\" title=\"Russia’s Largest Companies by market capitalization, 2024\">Russia</a></li> <li class=\"menu-item menu-item-type-post_type menu-item-object-post menu-item-209470\" itemprop=\"name\"><a data-wpel-link=\"internal\" href=\"https://ceoworld.biz/2024/02/19/serbias-largest-companies-by-market-capitalization-2024/\" itemprop=\"url\" rel=\"follow\" title=\"Serbia’s Largest Companies by market capitalization, 2024\">Serbia</a></li> <li class=\"menu-item menu-item-type-post_type menu-item-object-post menu-item-208055\" itemprop=\"name\"><a data-wpel-link=\"internal\" href=\"https://ceoworld.biz/2024/02/12/the-united-kingdoms-largest-companies-by-market-capitalization-2024/\" itemprop=\"url\" rel=\"follow\" title=\"The United Kingdom’s Largest Companies by market capitalization, 2024\">United Kingdom</a></li> </ul></li> <li class=\"menu-item menu-item-type-custom menu-item-object-custom menu-item-has-children menu-item-209841\" itemprop=\"name\"><a href=\"#\" itemprop=\"url\">Oceania</a> <ul class=\"sub-sub-menu sub-menu\"> <li class=\"menu-item menu-item-type-post_type menu-item-object-post menu-item-209352\" itemprop=\"name\"><a data-wpel-link=\"internal\" href=\"https://ceoworld.biz/2024/02/17/australias-largest-companies-by-market-capitalization-2024/\" itemprop=\"url\" rel=\"follow\" title=\"Australia’s Largest Companies by market capitalization, 2024\">Australia</a></li> <li class=\"menu-item menu-item-type-post_type menu-item-object-post menu-item-209839\" itemprop=\"name\"><a data-wpel-link=\"internal\" href=\"https://ceoworld.biz/2024/02/20/new-zealands-largest-companies-by-market-capitalization-2024/\" itemprop=\"url\" rel=\"follow\" title=\"New Zealand’s Largest Companies by market capitalization, 2024\">New Zealand</a></li> </ul></li> <li class=\"menu-item menu-item-type-post_type menu-item-object-post menu-item-208655\" itemprop=\"name\"><a data-wpel-link=\"internal\" href=\"https://ceoworld.biz/2024/02/14/africas-largest-companies-by-market-capitalization-2024/\" itemprop=\"url\" rel=\"follow\" title=\"Africa’s Largest Companies by market capitalization, 2024\">Africa’s Largest Companies</a></li> <li class=\"menu-item menu-item-type-post_type menu-item-object-post menu-item-has-children menu-item-208657\" itemprop=\"name\"><a data-wpel-link=\"internal\" href=\"https://ceoworld.biz/2024/02/14/the-middle-easts-largest-companies-by-market-capitalization-2024/\" itemprop=\"url\" rel=\"follow\" title=\"The Middle East’s Largest Companies by market capitalization, 2024\">Middle East’s Largest Companies</a> <ul class=\"sub-sub-menu sub-menu\"> <li class=\"menu-item menu-item-type-post_type menu-item-object-post menu-item-208343\" itemprop=\"name\"><a data-wpel-link=\"internal\" href=\"https://ceoworld.biz/2024/02/13/israels-largest-companies-by-market-capitalization-2024/\" itemprop=\"url\" rel=\"follow\" title=\"Israel’s Largest Companies by market capitalization, 2024\">Israel</a></li> <li class=\"menu-item menu-item-type-post_type menu-item-object-post menu-item-208344\" itemprop=\"name\"><a data-wpel-link=\"internal\" href=\"https://ceoworld.biz/2024/02/13/qatars-largest-companies-by-market-capitalization-2024/\" itemprop=\"url\" rel=\"follow\" title=\"Qatar’s Largest Companies by market capitalization, 2024\">Qatar</a></li> <li class=\"menu-item menu-item-type-post_type menu-item-object-post menu-item-208347\" itemprop=\"name\"><a data-wpel-link=\"internal\" href=\"https://ceoworld.biz/2024/02/12/jordans-largest-companies-by-market-capitalization-2024/\" itemprop=\"url\" rel=\"follow\" title=\"Jordan’s Largest Companies by market capitalization, 2024\">Jordan</a></li> <li class=\"menu-item menu-item-type-post_type menu-item-object-post menu-item-208345\" itemprop=\"name\"><a data-wpel-link=\"internal\" href=\"https://ceoworld.biz/2024/02/13/kuwaits-largest-companies-by-market-capitalization-2024/\" itemprop=\"url\" rel=\"follow\" title=\"Kuwait’s Largest Companies by market capitalization, 2024\">Kuwait</a></li> <li class=\"menu-item menu-item-type-post_type menu-item-object-post menu-item-208342\" itemprop=\"name\"><a data-wpel-link=\"internal\" href=\"https://ceoworld.biz/2024/02/13/saudi-arabias-largest-companies-by-market-capitalization-2024/\" itemprop=\"url\" rel=\"follow\" title=\"Saudi Arabia’s Largest Companies by market capitalization, 2024\">Saudi Arabia</a></li> </ul></li> <li class=\"menu-item menu-item-type-post_type menu-item-object-post menu-item-217709\" itemprop=\"name\"><a data-wpel-link=\"internal\" href=\"https://ceoworld.biz/2024/05/16/ranked-most-successful-unicorn-startups-for-2024/\" itemprop=\"url\" rel=\"follow\" title=\"Ranked: Most Successful Unicorn Startups For 2024\">Best Unicorn Startups</a></li></ul></li><li class=\"menu-item menu-item-type-post_type menu-item-object-post menu-item-has-children menu-item-202730\" itemprop=\"name\"><a data-wpel-link=\"internal\" href=\"https://ceoworld.biz/2024/01/12/richest-billionaires-2024/\" itemprop=\"url\" rel=\"follow\" title=\"The World’s Richest People (Top Billionaires, 2024)\">Billionaires</a><ul class=\"sub-menu is-sub-default\"> <li class=\"menu-item menu-item-type-custom menu-item-object-custom menu-item-has-children menu-item-214302\" itemprop=\"name\"><a href=\"#\" itemprop=\"url\">Countries (A-E)</a> <ul class=\"sub-sub-menu sub-menu\"> <li class=\"menu-item menu-item-type-post_type menu-item-object-post menu-item-214677\" itemprop=\"name\"><a data-wpel-link=\"internal\" href=\"https://ceoworld.biz/2024/03/15/richest-people-in-austria-2024/\" itemprop=\"url\" rel=\"follow\" title=\"Richest People in Austria, 2024\">Austria</a></li> <li class=\"menu-item menu-item-type-post_type menu-item-object-post menu-item-214251\" itemprop=\"name\"><a data-wpel-link=\"internal\" href=\"https://ceoworld.biz/2024/03/15/richest-people-in-australia-2024/\" itemprop=\"url\" rel=\"follow\" title=\"Richest People in Australia, 2024\">Australia</a></li> <li class=\"menu-item menu-item-type-post_type menu-item-object-post menu-item-214252\" itemprop=\"name\"><a data-wpel-link=\"internal\" href=\"https://ceoworld.biz/2024/03/15/richest-people-in-argentina-2024/\" itemprop=\"url\" rel=\"follow\" title=\"Richest People in Argentina, 2024\">Argentina</a></li> <li class=\"menu-item menu-item-type-post_type menu-item-object-post menu-item-214253\" itemprop=\"name\"><a data-wpel-link=\"internal\" href=\"https://ceoworld.biz/2024/03/15/richest-people-in-brazil-2024/\" itemprop=\"url\" rel=\"follow\" title=\"Richest People in Brazil, 2024\">Brazil</a></li> <li class=\"menu-item menu-item-type-post_type menu-item-object-post menu-item-214254\" itemprop=\"name\"><a data-wpel-link=\"internal\" href=\"https://ceoworld.biz/2024/03/15/richest-people-in-canada-2024/\" itemprop=\"url\" rel=\"follow\" title=\"Richest People in Canada, 2024\">Canada</a></li> <li class=\"menu-item menu-item-type-post_type menu-item-object-post menu-item-214255\" itemprop=\"name\"><a data-wpel-link=\"internal\" href=\"https://ceoworld.biz/2024/03/15/richest-people-in-chile-2024/\" itemprop=\"url\" rel=\"follow\" title=\"Richest People in Chile, 2024\">Chile</a></li> <li class=\"menu-item menu-item-type-post_type menu-item-object-post menu-item-214256\" itemprop=\"name\"><a data-wpel-link=\"internal\" href=\"https://ceoworld.biz/2024/03/15/richest-people-in-china-2024/\" itemprop=\"url\" rel=\"follow\" title=\"Richest People in China, 2024\">China</a></li> <li class=\"menu-item menu-item-type-post_type menu-item-object-post menu-item-214257\" itemprop=\"name\"><a data-wpel-link=\"internal\" href=\"https://ceoworld.biz/2024/03/15/richest-people-in-cyprus-2024/\" itemprop=\"url\" rel=\"follow\" title=\"Richest People in Cyprus, 2024\">Cyprus</a></li> <li class=\"menu-item menu-item-type-post_type menu-item-object-post menu-item-214258\" itemprop=\"name\"><a data-wpel-link=\"internal\" href=\"https://ceoworld.biz/2024/03/15/richest-people-in-the-czech-republic-2024/\" itemprop=\"url\" rel=\"follow\" title=\"Richest People in the Czech Republic, 2024\">Czech Republic</a></li> <li class=\"menu-item menu-item-type-post_type menu-item-object-post menu-item-214259\" itemprop=\"name\"><a data-wpel-link=\"internal\" href=\"https://ceoworld.biz/2024/03/15/richest-people-in-denmark-2024/\" itemprop=\"url\" rel=\"follow\" title=\"Richest People in Denmark, 2024\">Denmark</a></li> <li class=\"menu-item menu-item-type-post_type menu-item-object-post menu-item-214260\" itemprop=\"name\"><a data-wpel-link=\"internal\" href=\"https://ceoworld.biz/2024/03/15/richest-people-in-egypt-2024/\" itemprop=\"url\" rel=\"follow\" title=\"Richest People in Egypt, 2024\">Egypt</a></li> </ul></li> <li class=\"menu-item menu-item-type-custom menu-item-object-custom menu-item-has-children menu-item-217386\" itemprop=\"name\"><a href=\"#\" itemprop=\"url\">Countries (F-M)</a> <ul class=\"sub-sub-menu sub-menu\"> <li class=\"menu-item menu-item-type-post_type menu-item-object-post menu-item-214262\" itemprop=\"name\"><a data-wpel-link=\"internal\" href=\"https://ceoworld.biz/2024/03/15/richest-people-in-france-2024/\" itemprop=\"url\" rel=\"follow\" title=\"Richest People in France, 2024\">France</a></li> <li class=\"menu-item menu-item-type-post_type menu-item-object-post menu-item-214261\" itemprop=\"name\"><a data-wpel-link=\"internal\" href=\"https://ceoworld.biz/2024/03/15/richest-people-in-finland-2024/\" itemprop=\"url\" rel=\"follow\" title=\"Richest People in Finland, 2024\">Finland</a></li> <li class=\"menu-item menu-item-type-post_type menu-item-object-post menu-item-214263\" itemprop=\"name\"><a data-wpel-link=\"internal\" href=\"https://ceoworld.biz/2024/03/15/richest-people-in-germany-2024/\" itemprop=\"url\" rel=\"follow\" title=\"Richest People in Germany, 2024\">Germany</a></li> <li class=\"menu-item menu-item-type-post_type menu-item-object-post menu-item-214264\" itemprop=\"name\"><a data-wpel-link=\"internal\" href=\"https://ceoworld.biz/2024/03/15/richest-people-in-hong-kong-2024/\" itemprop=\"url\" rel=\"follow\" title=\"Richest People in Hong Kong, 2024\">Hong Kong</a></li> <li class=\"menu-item menu-item-type-post_type menu-item-object-post menu-item-214188\" itemprop=\"name\"><a data-wpel-link=\"internal\" href=\"https://ceoworld.biz/2024/03/15/richest-people-in-india-2024/\" itemprop=\"url\" rel=\"follow\" title=\"Richest People in India, 2024\">India</a></li> <li class=\"menu-item menu-item-type-post_type menu-item-object-post menu-item-214189\" itemprop=\"name\"><a data-wpel-link=\"internal\" href=\"https://ceoworld.biz/2024/03/15/richest-people-in-indonesia-2024/\" itemprop=\"url\" rel=\"follow\" title=\"Richest People in Indonesia, 2024\">Indonesia</a></li> <li class=\"menu-item menu-item-type-post_type menu-item-object-post menu-item-214190\" itemprop=\"name\"><a data-wpel-link=\"internal\" href=\"https://ceoworld.biz/2024/03/15/richest-people-in-ireland-2024/\" itemprop=\"url\" rel=\"follow\" title=\"Richest People in Ireland, 2024\">Ireland</a></li> <li class=\"menu-item menu-item-type-post_type menu-item-object-post menu-item-214191\" itemprop=\"name\"><a data-wpel-link=\"internal\" href=\"https://ceoworld.biz/2024/03/15/richest-people-in-israel-2024/\" itemprop=\"url\" rel=\"follow\" title=\"Richest People in Israel, 2024\">Israel</a></li> <li class=\"menu-item menu-item-type-post_type menu-item-object-post menu-item-214192\" itemprop=\"name\"><a data-wpel-link=\"internal\" href=\"https://ceoworld.biz/2024/03/15/richest-people-in-italy-2024/\" itemprop=\"url\" rel=\"follow\" title=\"Richest People in Italy, 2024\">Italy</a></li> <li class=\"menu-item menu-item-type-post_type menu-item-object-post menu-item-214193\" itemprop=\"name\"><a data-wpel-link=\"internal\" href=\"https://ceoworld.biz/2024/03/15/richest-people-in-japan-2024/\" itemprop=\"url\" rel=\"follow\" title=\"Richest People in Japan, 2024\">Japan</a></li> <li class=\"menu-item menu-item-type-post_type menu-item-object-post menu-item-214194\" itemprop=\"name\"><a data-wpel-link=\"internal\" href=\"https://ceoworld.biz/2024/03/15/richest-people-in-mexico-2024/\" itemprop=\"url\" rel=\"follow\" title=\"Richest People in Mexico, 2024\">Mexico</a></li> </ul></li> <li class=\"menu-item menu-item-type-custom menu-item-object-custom menu-item-has-children menu-item-214125\" itemprop=\"name\"><a href=\"#\" itemprop=\"url\">Countries (N-Z)</a> <ul class=\"sub-sub-menu sub-menu\"> <li class=\"menu-item menu-item-type-post_type menu-item-object-post menu-item-214195\" itemprop=\"name\"><a data-wpel-link=\"internal\" href=\"https://ceoworld.biz/2024/03/15/richest-people-in-the-netherlands-2024/\" itemprop=\"url\" rel=\"follow\" title=\"Richest People in the Netherlands, 2024\">Netherlands</a></li> <li class=\"menu-item menu-item-type-post_type menu-item-object-post menu-item-214196\" itemprop=\"name\"><a data-wpel-link=\"internal\" href=\"https://ceoworld.biz/2024/03/15/richest-people-in-norway-2024/\" itemprop=\"url\" rel=\"follow\" title=\"Richest People in Norway, 2024\">Norway</a></li> <li class=\"menu-item menu-item-type-post_type menu-item-object-post menu-item-214126\" itemprop=\"name\"><a data-wpel-link=\"internal\" href=\"https://ceoworld.biz/2024/03/15/richest-people-in-the-philippines-2024/\" itemprop=\"url\" rel=\"follow\" title=\"Richest People in the Philippines, 2024\">Philippines</a></li> <li class=\"menu-item menu-item-type-post_type menu-item-object-post menu-item-214127\" itemprop=\"name\"><a data-wpel-link=\"internal\" href=\"https://ceoworld.biz/2024/03/15/richest-people-in-russia-2024/\" itemprop=\"url\" rel=\"follow\" title=\"Richest People in Russia, 2024\">Russia</a></li> <li class=\"menu-item menu-item-type-post_type menu-item-object-post menu-item-214128\" itemprop=\"name\"><a data-wpel-link=\"internal\" href=\"https://ceoworld.biz/2024/03/15/richest-people-in-singapore-2024/\" itemprop=\"url\" rel=\"follow\" title=\"Richest People in Singapore, 2024\">Singapore</a></li> <li class=\"menu-item menu-item-type-post_type menu-item-object-post menu-item-214129\" itemprop=\"name\"><a data-wpel-link=\"internal\" href=\"https://ceoworld.biz/2024/03/15/richest-people-in-south-korea-2024/\" itemprop=\"url\" rel=\"follow\" title=\"Richest People in South Korea, 2024\">South Korea</a></li> <li class=\"menu-item menu-item-type-post_type menu-item-object-post menu-item-214676\" itemprop=\"name\"><a data-wpel-link=\"internal\" href=\"https://ceoworld.biz/2024/03/15/richest-people-in-spain-2024/\" itemprop=\"url\" rel=\"follow\" title=\"Richest People in Spain, 2024\">Spain</a></li> <li class=\"menu-item menu-item-type-post_type menu-item-object-post menu-item-214131\" itemprop=\"name\"><a data-wpel-link=\"internal\" href=\"https://ceoworld.biz/2024/03/15/richest-people-in-sweden-2024/\" itemprop=\"url\" rel=\"follow\" title=\"Richest People in Sweden, 2024\">Sweden</a></li> <li class=\"menu-item menu-item-type-post_type menu-item-object-post menu-item-214132\" itemprop=\"name\"><a data-wpel-link=\"internal\" href=\"https://ceoworld.biz/2024/03/15/richest-people-in-switzerland-2024/\" itemprop=\"url\" rel=\"follow\" title=\"Richest People in Switzerland, 2024\">Switzerland</a></li> <li class=\"menu-item menu-item-type-post_type menu-item-object-post menu-item-214133\" itemprop=\"name\"><a data-wpel-link=\"internal\" href=\"https://ceoworld.biz/2024/03/15/richest-people-in-turkey-2024/\" itemprop=\"url\" rel=\"follow\" title=\"Richest People in Turkey, 2024\">Turkey</a></li> <li class=\"menu-item menu-item-type-post_type menu-item-object-post menu-item-214134\" itemprop=\"name\"><a data-wpel-link=\"internal\" href=\"https://ceoworld.biz/2024/03/15/richest-people-in-the-united-kingdom-2024/\" itemprop=\"url\" rel=\"follow\" title=\"Richest People in the United Kingdom, 2024\">United Kingdom</a></li> <li class=\"menu-item menu-item-type-post_type menu-item-object-post menu-item-214678\" itemprop=\"name\"><a data-wpel-link=\"internal\" href=\"https://ceoworld.biz/2024/03/15/richest-people-in-the-united-states-2024/\" itemprop=\"url\" rel=\"follow\" title=\"Richest People in the United States, 2024\">United States</a></li> </ul></li> <li class=\"menu-item menu-item-type-custom menu-item-object-custom menu-item-has-children menu-item-213803\" itemprop=\"name\"><a href=\"#\" itemprop=\"url\">Industries</a> <ul class=\"sub-sub-menu sub-menu\"> <li class=\"menu-item menu-item-type-post_type menu-item-object-post menu-item-213788\" itemprop=\"name\"><a data-wpel-link=\"internal\" href=\"https://ceoworld.biz/2024/03/12/richest-billionaires-in-automotive-industry-2024/\" itemprop=\"url\" rel=\"follow\" title=\"Richest Billionaires in Automotive Industry, 2024\">Automotive Industry</a></li> <li class=\"menu-item menu-item-type-post_type menu-item-object-post menu-item-213789\" itemprop=\"name\"><a data-wpel-link=\"internal\" href=\"https://ceoworld.biz/2024/03/12/richest-billionaires-in-construction-and-engineering-industry-2024/\" itemprop=\"url\" rel=\"follow\" title=\"Richest Billionaires in Construction and Engineering Industry, 2024\">Construction and Engineering Industry</a></li> <li class=\"menu-item menu-item-type-post_type menu-item-object-post menu-item-213790\" itemprop=\"name\"><a data-wpel-link=\"internal\" href=\"https://ceoworld.biz/2024/03/12/richest-billionaires-in-energy-industry-2024/\" itemprop=\"url\" rel=\"follow\" title=\"Richest Billionaires in Energy Industry, 2024\">Energy Industry</a></li> <li class=\"menu-item menu-item-type-post_type menu-item-object-post menu-item-213791\" itemprop=\"name\"><a data-wpel-link=\"internal\" href=\"https://ceoworld.biz/2024/03/12/richest-billionaires-in-fashion-and-retail-industry-2024/\" itemprop=\"url\" rel=\"follow\" title=\"Richest Billionaires in Fashion and Retail Industry, 2024\">Fashion and Retail Industry</a></li> <li class=\"menu-item menu-item-type-post_type menu-item-object-post menu-item-213792\" itemprop=\"name\"><a data-wpel-link=\"internal\" href=\"https://ceoworld.biz/2024/03/12/richest-billionaires-in-finance-and-investments-industry-2024/\" itemprop=\"url\" rel=\"follow\" title=\"Richest Billionaires in Finance and Investments Industry, 2024\">Finance and Investments Industry</a></li> <li class=\"menu-item menu-item-type-post_type menu-item-object-post menu-item-213793\" itemprop=\"name\"><a data-wpel-link=\"internal\" href=\"https://ceoworld.biz/2024/03/12/richest-billionaires-in-food-and-beverage-industry-2024/\" itemprop=\"url\" rel=\"follow\" title=\"Richest Billionaires in Food and Beverage Industry, 2024\">Food and Beverage Industry</a></li> <li class=\"menu-item menu-item-type-post_type menu-item-object-post menu-item-213794\" itemprop=\"name\"><a data-wpel-link=\"internal\" href=\"https://ceoworld.biz/2024/03/12/richest-billionaires-in-healthcare-industry-2024/\" itemprop=\"url\" rel=\"follow\" title=\"Richest Billionaires in Healthcare Industry, 2024\">Healthcare Industry</a></li> <li class=\"menu-item menu-item-type-post_type menu-item-object-post menu-item-213795\" itemprop=\"name\"><a data-wpel-link=\"internal\" href=\"https://ceoworld.biz/2024/03/12/richest-billionaires-in-logistics-industry-2024/\" itemprop=\"url\" rel=\"follow\" title=\"Richest Billionaires in Logistics Industry, 2024\">Logistics Industry</a></li> <li class=\"menu-item menu-item-type-post_type menu-item-object-post menu-item-213797\" itemprop=\"name\"><a data-wpel-link=\"internal\" href=\"https://ceoworld.biz/2024/03/12/richest-billionaires-in-media-and-entertainment-industry-2024/\" itemprop=\"url\" rel=\"follow\" title=\"Richest Billionaires in Media and Entertainment Industry, 2024\">Media and Entertainment Industry</a></li> <li class=\"menu-item menu-item-type-post_type menu-item-object-post menu-item-213798\" itemprop=\"name\"><a data-wpel-link=\"internal\" href=\"https://ceoworld.biz/2024/03/12/richest-billionaires-in-metals-and-mining-industry-2024/\" itemprop=\"url\" rel=\"follow\" title=\"Richest Billionaires in Metals and Mining Industry, 2024\">Metals and Mining Industry</a></li> <li class=\"menu-item menu-item-type-post_type menu-item-object-post menu-item-213796\" itemprop=\"name\"><a data-wpel-link=\"internal\" href=\"https://ceoworld.biz/2024/03/12/richest-billionaires-in-manufacturing-industry-2024/\" itemprop=\"url\" rel=\"follow\" title=\"Richest Billionaires in Manufacturing Industry, 2024\">Manufacturing Industry</a></li> <li class=\"menu-item menu-item-type-post_type menu-item-object-post menu-item-213799\" itemprop=\"name\"><a data-wpel-link=\"internal\" href=\"https://ceoworld.biz/2024/03/12/richest-billionaires-in-real-estate-industry-2024/\" itemprop=\"url\" rel=\"follow\" title=\"Richest Billionaires in Real Estate Industry, 2024\">Real Estate Industry</a></li> <li class=\"menu-item menu-item-type-post_type menu-item-object-post menu-item-213800\" itemprop=\"name\"><a data-wpel-link=\"internal\" href=\"https://ceoworld.biz/2024/03/12/richest-billionaires-in-service-industry-2024/\" itemprop=\"url\" rel=\"follow\" title=\"Richest Billionaires in Service Industry, 2024\">Service Industry</a></li> <li class=\"menu-item menu-item-type-post_type menu-item-object-post menu-item-213801\" itemprop=\"name\"><a data-wpel-link=\"internal\" href=\"https://ceoworld.biz/2024/03/12/richest-billionaires-in-sports-industry-2024/\" itemprop=\"url\" rel=\"follow\" title=\"Richest Billionaires in Sports Industry, 2024\">Sports Industry</a></li> <li class=\"menu-item menu-item-type-post_type menu-item-object-post menu-item-213802\" itemprop=\"name\"><a data-wpel-link=\"internal\" href=\"https://ceoworld.biz/2024/03/12/richest-billionaires-in-technology-industry-2024/\" itemprop=\"url\" rel=\"follow\" title=\"Richest Billionaires in Technology Industry, 2024\">Technology Industry</a></li> <li class=\"menu-item menu-item-type-post_type menu-item-object-post menu-item-213804\" itemprop=\"name\"><a data-wpel-link=\"internal\" href=\"https://ceoworld.biz/2024/03/12/richest-billionaires-in-telecom-industry/\" itemprop=\"url\" rel=\"follow\" title=\"Richest Billionaires in Telecom Industry, 2024\">Telecom Industry</a></li> </ul></li> <li class=\"menu-item menu-item-type-post_type menu-item-object-post menu-item-206958\" itemprop=\"name\"><a data-wpel-link=\"internal\" href=\"https://ceoworld.biz/2024/02/05/richest-female-billionaires/\" itemprop=\"url\" rel=\"follow\" title=\"The World’s Richest Female Billionaires, 2024\">Female Billionaires, 2024</a></li> <li class=\"menu-item menu-item-type-post_type menu-item-object-post menu-item-208401\" itemprop=\"name\"><a data-wpel-link=\"internal\" href=\"https://ceoworld.biz/2024/02/13/the-biggest-billionaire-losers-2024/\" itemprop=\"url\" rel=\"follow\">The Biggest Billionaire Losers, 2024</a></li> <li class=\"menu-item menu-item-type-post_type menu-item-object-post menu-item-208402\" itemprop=\"name\"><a data-wpel-link=\"internal\" href=\"https://ceoworld.biz/2024/02/13/the-biggest-billionaire-winners-2024/\" itemprop=\"url\" rel=\"follow\">The Biggest Billionaire Winners, 2024</a></li> <li class=\"menu-item menu-item-type-post_type menu-item-object-post menu-item-200618\" itemprop=\"name\"><a data-wpel-link=\"internal\" href=\"https://ceoworld.biz/2024/01/02/richest-billionaire-investors-in-the-world-2024/\" itemprop=\"url\" rel=\"follow\">Richest Billionaire Investors, 2024</a></li> <li class=\"menu-item menu-item-type-post_type menu-item-object-post menu-item-208341\" itemprop=\"name\"><a data-wpel-link=\"internal\" href=\"https://ceoworld.biz/2024/02/13/richest-billionaires-in-each-country-2024/\" itemprop=\"url\" rel=\"follow\">Richest Billionaires in Each Country, 2024</a></li> <li class=\"menu-item menu-item-type-post_type menu-item-object-post menu-item-217724\" itemprop=\"name\"><a data-wpel-link=\"internal\" href=\"https://ceoworld.biz/2024/05/17/the-100-billion-club-richest-people-with-the-12-figure-fortunes-2024/\" itemprop=\"url\" rel=\"follow\" title=\"The $100 Billion Club: Richest People With The 12-Figure Fortunes, 2024\">The $100 Billion Club</a></li></ul></li><li class=\"menu-item menu-item-type-post_type menu-item-object-page current-menu-ancestor current-menu-parent current_page_parent current_page_ancestor menu-item-has-children menu-item-212209\" itemprop=\"name\"><a data-wpel-link=\"internal\" href=\"https://ceoworld.biz/best/\" itemprop=\"url\" rel=\"follow\" title=\"CEOWORLD Rankings\">Rank</a><ul class=\"sub-menu is-sub-default\"> <li class=\"menu-item menu-item-type-post_type menu-item-object-post menu-item-215702\" itemprop=\"name\"><a data-wpel-link=\"internal\" href=\"https://ceoworld.biz/2024/04/02/best-universities-2024/\" itemprop=\"url\" rel=\"follow\" title=\"Revealed: Best Universities In The World For 2024\">World’s  Best Universities</a></li> <li class=\"menu-item menu-item-type-post_type menu-item-object-post menu-item-210900\" itemprop=\"name\"><a data-wpel-link=\"internal\" href=\"https://ceoworld.biz/2024/02/26/best-business-schools-in-the-world-for-2024/\" itemprop=\"url\" rel=\"follow\" title=\"Best Business Schools In The World For 2024\">World’s Best Business Schools</a></li> <li class=\"menu-item menu-item-type-post_type menu-item-object-post menu-item-210908\" itemprop=\"name\"><a data-wpel-link=\"internal\" href=\"https://ceoworld.biz/2024/02/26/best-fashion-schools-in-the-world-for-2024/\" itemprop=\"url\" rel=\"follow\" title=\"Best Fashion Schools In The World For 2024\">World’s Best Fashion Schools</a></li> <li class=\"menu-item menu-item-type-post_type menu-item-object-post menu-item-210918\" itemprop=\"name\"><a data-wpel-link=\"internal\" href=\"https://ceoworld.biz/2024/02/26/best-hospitality-and-hotel-management-schools-in-the-world-for-2024/\" itemprop=\"url\" rel=\"follow\" title=\"Best Hospitality And Hotel Management Schools In The World For 2024\">World’s Best Hotel Schools</a></li> <li class=\"menu-item menu-item-type-post_type menu-item-object-post current-menu-item menu-item-215701\" itemprop=\"name\"><a data-wpel-link=\"internal\" href=\"https://ceoworld.biz/2024/04/02/best-medical-schools-in-the-world-2024/\" itemprop=\"url\" rel=\"follow\" title=\"Best Medical Schools In The World, 2024\">World’s Best Medical Schools</a></li> <li class=\"menu-item menu-item-type-post_type menu-item-object-post menu-item-215808\" itemprop=\"name\"><a data-wpel-link=\"internal\" href=\"https://ceoworld.biz/2024/04/04/worlds-best-international-high-schools-2024/\" itemprop=\"url\" rel=\"follow\" title=\"World’s Best International High Schools, 2024\">Best International High Schools</a></li></ul></li><li class=\"menu-item menu-item-type-post_type menu-item-object-page menu-item-171361\" itemprop=\"name\"><a data-wpel-link=\"internal\" href=\"https://ceoworld.biz/subscription/\" itemprop=\"url\" rel=\"follow\" title=\"CEOWORLD magazine Print Edition Subscription\">Subscribe</a></li><li class=\"menu-item menu-item-type-post_type menu-item-object-page menu-item-112587\" itemprop=\"name\"><a data-wpel-link=\"internal\" href=\"https://ceoworld.biz/contribute/\" itemprop=\"url\" rel=\"follow\" title=\"Contribute | Write for Us\">Contribute</a></li></ul></div></nav> </div>\n",
       "<div class=\"navbar-right\">\n",
       "<div class=\"navbar-social-wrap\">\n",
       "<div class=\"navbar-social social-tooltips\">\n",
       "<a class=\"icon-facebook icon-social\" data-wpel-link=\"external\" href=\"https://www.facebook.com/ceoworldmag\" rel=\"nofollow\" target=\"_blank\" title=\"facebook\"><i aria-hidden=\"true\" class=\"rbi rbi-facebook\"></i></a><a class=\"icon-twitter icon-social\" data-wpel-link=\"external\" href=\"https://www.twitter.com/ceoworld\" rel=\"nofollow\" target=\"_blank\" title=\"twitter\"><i aria-hidden=\"true\" class=\"rbi rbi-twitter\"></i></a><a class=\"icon-pinterest icon-social\" data-wpel-link=\"external\" href=\"https://www.pinterest.com/ceoworldmagazine/\" rel=\"nofollow\" target=\"_blank\" title=\"pinterest\"><i aria-hidden=\"true\" class=\"rbi rbi-pinterest\"></i></a><a class=\"icon-linkedin icon-social\" data-wpel-link=\"external\" href=\"https://www.linkedin.com/company/ceoworldmagazine/\" rel=\"nofollow\" target=\"_blank\" title=\"linkedin\"><i aria-hidden=\"true\" class=\"rbi rbi-linkedin\"></i></a><a class=\"icon-instagram icon-social\" data-wpel-link=\"external\" href=\"https://www.instagram.com/ceoworldmagazine/\" rel=\"nofollow\" target=\"_blank\" title=\"instagram\"><i aria-hidden=\"true\" class=\"rbi rbi-instagram\"></i></a><a class=\"icon-rss icon-social\" data-wpel-link=\"internal\" href=\"https://ceoworld.biz/feed/\" rel=\"follow\" target=\"_blank\" title=\"rss\"><i aria-hidden=\"true\" class=\"rbi rbi-rss\"></i></a><a class=\"icon-social color-google\" data-wpel-link=\"external\" href=\"https://news.google.com/publications/CAAqJggKIiBDQklTRWdnTWFnNEtER05sYjNkdmNteGtMbUpwZWlnQVAB?hl=en-US&amp;gl=US&amp;ceid=US:en\" rel=\"nofollow\" target=\"_blank\" title=\"google\"><i class=\"fa fa-google\"></i></a><span class=\"show-social\"><i class=\"ruby-icon-show\"></i></span><span class=\"close-social\"><i class=\"ruby-icon-close\"></i></span> </div>\n",
       "</div>\n",
       "<div class=\"navbar-search\">\n",
       "<a class=\"navbar-search-icon\" data-effect=\"mpf-ruby-effect header-search-popup-outer\" data-mfp-src=\"#ruby-header-search-popup\" href=\"#\" id=\"ruby-navbar-search-icon\" title=\"Search\">\n",
       "<i aria-hidden=\"true\" class=\"rbi rbi-search\"></i>\n",
       "</a>\n",
       "</div>\n",
       "</div>\n",
       "</div>\n",
       "<div class=\"header-search-popup\" id=\"ruby-header-search-popup\">\n",
       "<div class=\"header-search-popup-wrap ruby-container\">\n",
       "<a class=\"ruby-close-search\" href=\"#\"><i aria-hidden=\"true\" class=\"ruby-close-btn\"></i></a>\n",
       "<div class=\"header-search-popup-inner\">\n",
       "<form action=\"https://ceoworld.biz/\" class=\"search-form\" method=\"get\">\n",
       "<fieldset>\n",
       "<input autocomplete=\"off\" class=\"field\" id=\"ruby-search-input\" name=\"s\" placeholder=\"Type to search…\" type=\"text\" value=\"\"/>\n",
       "<button class=\"btn\" type=\"submit\" value=\"\"><i aria-hidden=\"true\" class=\"rbi rbi-search\"></i></button>\n",
       "</fieldset>\n",
       "</form>\n",
       "</div>\n",
       "</div>\n",
       "</div> </div>\n",
       "</div>\n",
       "<div class=\"ruby-container\">\n",
       "<div class=\"banner-ad-wrap\">\n",
       "<div class=\"banner-ad-inner\">\n",
       "<a class=\"banner-ad-image\" data-wpel-link=\"internal\" href=\"https://ceoworld.biz/subscription/\" rel=\"follow\" target=\"_blank\">\n",
       "<img alt=\"CEOWORLD magazine\" src=\"https://ceoworld.biz/wp-content/uploads/2024/10/CEOWORLD-magazine-BANNER-1.png\"/>\n",
       "</a>\n",
       "</div>\n",
       "</div>\n",
       "</div>\n",
       "</div>\n",
       "</div> <div class=\"main-site-mask\"></div>\n",
       "<div class=\"site-wrap\">\n",
       "<div class=\"site-mask\"></div>\n",
       "<div class=\"site-inner\">\n",
       "<div class=\"code-block code-block-3\" style=\"margin: 8px auto; text-align: center; display: block; clear: both;\">\n",
       "<span><span><a data-wpel-link=\"internal\" href=\"https://ceoworld.biz/\" rel=\"follow\">CEOWORLD magazine</a></span> - <span><a data-wpel-link=\"internal\" href=\"https://ceoworld.biz/latest/\" rel=\"follow\">Latest</a></span> - <span><a data-wpel-link=\"internal\" href=\"https://ceoworld.biz/education-and-career/\" rel=\"follow\">Education and Career</a></span> - <span aria-current=\"page\" class=\"breadcrumb_last\"><strong>Best Medical Schools In The World, 2024</strong></span></span>\n",
       "</div>\n",
       "<div class=\"code-block code-block-5\" style=\"margin: 8px auto; text-align: center; display: block; clear: both;\">\n",
       "<p align=\"center\">\n",
       "<script async=\"\" src=\"https://pagead2.googlesyndication.com/pagead/js/adsbygoogle.js\"></script>\n",
       "<!-- Below Menu -->\n",
       "<ins class=\"adsbygoogle\" data-ad-client=\"ca-pub-5477402865130065\" data-ad-format=\"auto\" data-ad-slot=\"2441083784\" data-full-width-responsive=\"true\" style=\"display:block\"></ins>\n",
       "<script>\n",
       "     (adsbygoogle = window.adsbygoogle || []).push({});\n",
       "</script>\n",
       "</p></div>\n",
       "<div class=\"single-post-outer clearfix\"><article class=\"single-post-wrap single-post-1 post-215695 post type-post status-publish format-standard has-post-thumbnail hentry category-education-and-career tag-c-suite-executives-insider tag-chief-investment-officer-insider tag-chief-risk-officer-insider tag-chief-software-officer-insider tag-chief-virtual-reality-officer-insider tag-director-of-human-empowerment-insider tag-non-executive-chairman-insider tag-ultra-rich-insider\" id=\"post-215695\" itemscope=\"\" itemtype=\"https://schema.org/Article\"><div class=\"ruby-page-wrap ruby-section row single-wrap is-author-bottom is-sidebar-right ruby-container\"><div class=\"ruby-content-wrap single-inner col-sm-8 col-xs-12 content-with-sidebar\"><div class=\"single-post-content-outer single-box\"><div class=\"single-post-header\"><div class=\"post-cat-info clearfix\"><a class=\"cat-info-el cat-info-id-23742\" data-wpel-link=\"internal\" href=\"https://ceoworld.biz/education-and-career/\" rel=\"follow\" title=\"Education and Career\">Education and Career</a></div><!-- post cat info--><header class=\"single-title post-title entry-title is-size-1\"><h1 itemprop=\"headline\">Best Medical Schools In The World, 2024</h1></header><!-- single title--><div class=\"post-meta-info is-show-icon\"><span class=\"meta-info-el meta-info-author vcard author\"><img alt=\"Despina Wilson\" class=\"avatar pp-user-avatar avatar-22 photo\" data-del=\"avatar\" height=\"22\" src=\"https://ceoworld.biz/wp-content/uploads/2023/10/file1-150x150.jpg\" width=\"22\"><a class=\"url fn n\" data-wpel-link=\"internal\" href=\"https://ceoworld.biz/author/despina/\" rel=\"follow\">Despina Wilson</a></img></span><span class=\"meta-info-el meta-info-cat\"><i aria-hidden=\"true\" class=\"rbi rbi-folder-open-o\"></i><a class=\"info-cat-el\" data-wpel-link=\"internal\" href=\"https://ceoworld.biz/education-and-career/\" rel=\"follow\" title=\"Education and Career\">Education and Career</a></span><!--meta info category--><span class=\"meta-info-el meta-info-date\"><i class=\"rbi rbi-clock\"></i><time class=\"date published\" datetime=\"2024-04-02T01:55:25+00:00\">April 2, 2024</time></span><!-- meta info date--></div><!-- post meta info--></div><div class=\"single-post-thumb-outer\"><div class=\"post-thumb\"><img alt=\"\" class=\"attachment-full size-full wp-post-image\" decoding=\"async\" fetchpriority=\"high\" height=\"640\" sizes=\"(max-width: 960px) 100vw, 960px\" src=\"https://ceoworld.biz/wp-content/uploads/2021/03/Medical-School-Students-1.jpg\" srcset=\"https://ceoworld.biz/wp-content/uploads/2021/03/Medical-School-Students-1.jpg 960w, https://ceoworld.biz/wp-content/uploads/2021/03/Medical-School-Students-1-300x200.jpg 300w, https://ceoworld.biz/wp-content/uploads/2021/03/Medical-School-Students-1-768x512.jpg 768w\" width=\"960\"/></div></div><div class=\"single-post-action clearfix\"><div class=\"single-post-share-header\"><a class=\"single-share-bar-el icon-facebook\" data-wpel-link=\"external\" href=\"https://www.facebook.com/sharer.php?u=https%3A%2F%2Fceoworld.biz%2F2024%2F04%2F02%2Fbest-medical-schools-in-the-world-2024%2F\" onclick=\"window.open(this.href, 'mywin','left=50,top=50,width=600,height=350,toolbar=0'); return false;\" rel=\"nofollow\" target=\"_blank\"><i class=\"rbi rbi-facebook color-facebook\"></i></a><a class=\"single-share-bar-el icon-twitter\" data-wpel-link=\"external\" href=\"https://twitter.com/intent/tweet?text=Best+Medical+Schools+In+The+World%2C+2024&amp;url=https%3A%2F%2Fceoworld.biz%2F2024%2F04%2F02%2Fbest-medical-schools-in-the-world-2024%2F&amp;via=CEOWORLD+magazine\" rel=\"nofollow\" target=\"_blank\"><i class=\"rbi rbi-twitter color-twitter\"></i><script>!function(d,s,id){var js,fjs=d.getElementsByTagName(s)[0];if(!d.getElementById(id)){js=d.createElement(s);js.id=id;js.src=\"//platform.twitter.com/widgets.js\";fjs.parentNode.insertBefore(js,fjs);}}(document,\"script\",\"twitter-wjs\");</script></a><a class=\"single-share-bar-el icon-linkedin\" data-wpel-link=\"external\" href=\"https://linkedin.com/shareArticle?mini=true&amp;url=https%3A%2F%2Fceoworld.biz%2F2024%2F04%2F02%2Fbest-medical-schools-in-the-world-2024%2F&amp;title=Best+Medical+Schools+In+The+World%2C+2024\" onclick=\"window.open(this.href, 'mywin','left=50,top=50,width=600,height=350,toolbar=0'); return false;\" rel=\"nofollow\" target=\"_blank\"><i class=\"rbi rbi-linkedin\"></i></a><a class=\"single-share-bar-el icon-email\" data-wpel-link=\"internal\" href=\"mailto:?subject=Best+Medical+Schools+In+The+World%2C+2024&amp;BODY=I+found+this+article+interesting+and+thought+of+sharing+it+with+you.+Check+it+out%3Ahttps%3A%2F%2Fceoworld.biz%2F2024%2F04%2F02%2Fbest-medical-schools-in-the-world-2024%2F\" rel=\"follow\"><i class=\"rbi rbi-email\"></i></a></div><!-- single post share header--></div><!-- single post action--><div class=\"banner-ad-wrap banner-ad-top-single\"><div class=\"banner-ad-inner\"><script async=\"\" src=\"//pagead2.googlesyndication.com/pagead/js/adsbygoogle.js\"></script><!--header--><script type=\"text/javascript\">\n",
       "var screen_width = document.body.clientWidth;\n",
       " if ( screen_width >= 1110 ) {\n",
       "                        document.write('<ins class=\"adsbygoogle\" style=\"display:inline-block;width:728px;height:90px\" data-ad-client=\"ca-pub-5477402865130065\" data-ad-slot=\"6675594844\"></ins>');\n",
       "                        (adsbygoogle = window.adsbygoogle || []).push({});\n",
       "                    }if ( screen_width >= 768  && screen_width < 1110 ) {\n",
       "                        document.write('<ins class=\"adsbygoogle\" style=\"display:inline-block;width:468px;height:60px\" data-ad-client=\"ca-pub-5477402865130065\" data-ad-slot=\"6675594844\"></ins>');\n",
       "                        (adsbygoogle = window.adsbygoogle || []).push({});\n",
       "                    }if ( screen_width < 768 ) {\n",
       "                        document.write('<ins class=\"adsbygoogle\" style=\"display:inline-block;width:320px;height:50px\" data-ad-client=\"ca-pub-5477402865130065\" data-ad-slot=\"6675594844\"></ins>');\n",
       "                        (adsbygoogle = window.adsbygoogle || []).push({});\n",
       "                    }</script>\n",
       "</div></div><div class=\"single-post-body\"><div class=\"single-content-wrap\"><div class=\"single-entry-wrap\"><div class=\"entry single-entry clearfix\" itemprop=\"articleBody\"><p><strong>Harvard Medical School takes the prestigious title of the world’s medical school for 2024, that’s according to the CEOWORLD magazine. Johns Hopkins University School of Medicine earned itself a respectable second place, while NYU Grossman School of Medicine is ranked third.</strong> The 2024 rankings placed Perelman School of Medicine at the University of Pennsylvania in fourth ahead of Columbia University Vagelos College of Physicians and Surgeons in fifth; while Stanford University School of Medicine ranked sixth, and David Geffen School of Medicine at UCLA (DGSOM) seventh.</p>\n",
       "<p>Overall, among the top 10 best medical schools in the world for 2024, the eighth, ninth, and tenth positions are held by Mayo Clinic Alix School of Medicine, Washington University School of Medicine in St. Louis, and UCSF School of Medicine.</p>\n",
       "<p>Weill Cornell Graduate School of Medical Sciences took the No. 11 spot, followed by the University of Pittsburgh School of Medicine and Northwestern University Feinberg School of Medicine (No.13). Meanwhile, Yale School of Medicine ranked No. 14 in the CEOWORLD magazine’s ranking of the best medical schools in the world for 2024. Duke University School of Medicine came in fifteenth place, followed by Vanderbilt University School of Medicine (sixteenth), the University of Chicago Pritzker School of Medicine (seventeenth), Icahn School of Medicine at Mount Sinai (eighteenth), and the University of Washington School of Medicine, ranked nineteenth.</p>\n",
       "<p>Out of the 100 best medical schools in the world for 2024, the University of Michigan Medical School Ann Arbor ranked No. 20th. Only fully accredited degree programs or schools in good standing during the study period are ranked. So, if you are thinking about boosting your prospects with an accredited degree in medicine, we have got just the thing for you; here are 100 outstanding international medical schools that can help advance your career.</p>\n",
       "<h2 class=\"tablepress-table-name tablepress-table-name-id-605\" id=\"tablepress-605-name\">Best Medical Schools In The World For 2024</h2>\n",
       "<table aria-labelledby=\"tablepress-605-name\" class=\"tablepress tablepress-id-605\" id=\"tablepress-605\">\n",
       "<thead>\n",
       "<tr class=\"row-1\">\n",
       "<th class=\"column-1\">Rank</th><th class=\"column-2\">Medical School</th><th class=\"column-3\">Campus</th><th class=\"column-4\">Country</th><th class=\"column-5\">Score</th><th class=\"column-6\">Rating</th>\n",
       "</tr>\n",
       "</thead>\n",
       "<tbody class=\"row-striping row-hover\">\n",
       "<tr class=\"row-2\">\n",
       "<td class=\"column-1\">1</td><td class=\"column-2\"><a data-wpel-link=\"external\" href=\"https://hms.harvard.edu/\" rel=\"noopener noreferrer nofollow\" target=\"_blank\">Harvard Medical School</a></td><td class=\"column-3\">Boston, MA</td><td class=\"column-4\">US</td><td class=\"column-5\">99.06</td><td class=\"column-6\">AAA</td>\n",
       "</tr>\n",
       "<tr class=\"row-3\">\n",
       "<td class=\"column-1\">2</td><td class=\"column-2\"><a data-wpel-link=\"external\" href=\"https://www.hopkinsmedicine.org/som/\" rel=\"noopener nofollow\" target=\"_blank\">Johns Hopkins University School of Medicine</a></td><td class=\"column-3\">Baltimore, Maryland</td><td class=\"column-4\">US</td><td class=\"column-5\">98.13</td><td class=\"column-6\">AAA</td>\n",
       "</tr>\n",
       "<tr class=\"row-4\">\n",
       "<td class=\"column-1\">3</td><td class=\"column-2\"><a data-wpel-link=\"external\" href=\"https://med.nyu.edu/\" rel=\"noopener nofollow\" target=\"_blank\">NYU Grossman School of Medicine</a></td><td class=\"column-3\">New York City, New York</td><td class=\"column-4\">US</td><td class=\"column-5\">96.75</td><td class=\"column-6\">AAA</td>\n",
       "</tr>\n",
       "<tr class=\"row-5\">\n",
       "<td class=\"column-1\">4</td><td class=\"column-2\"><a data-wpel-link=\"external\" href=\"https://www.med.upenn.edu/\" rel=\"noopener nofollow\" target=\"_blank\">Perelman School of Medicine at the University of Pennsylvania</a></td><td class=\"column-3\">Philadelphia, Pennsylvania</td><td class=\"column-4\">US</td><td class=\"column-5\">96.53</td><td class=\"column-6\">AAA</td>\n",
       "</tr>\n",
       "<tr class=\"row-6\">\n",
       "<td class=\"column-1\">5</td><td class=\"column-2\"><a data-wpel-link=\"external\" href=\"https://www.ps.columbia.edu/\" rel=\"noopener nofollow\" target=\"_blank\">Columbia University Vagelos College of Physicians and Surgeons</a></td><td class=\"column-3\">New York City, New York</td><td class=\"column-4\">US</td><td class=\"column-5\">96.15</td><td class=\"column-6\">AAA</td>\n",
       "</tr>\n",
       "<tr class=\"row-7\">\n",
       "<td class=\"column-1\">6</td><td class=\"column-2\"><a data-wpel-link=\"external\" href=\"http://med.stanford.edu/\" rel=\"noopener nofollow\" target=\"_blank\">Stanford University School of Medicine</a></td><td class=\"column-3\">Stanford, California</td><td class=\"column-4\">US</td><td class=\"column-5\">94.4</td><td class=\"column-6\">AAA</td>\n",
       "</tr>\n",
       "<tr class=\"row-8\">\n",
       "<td class=\"column-1\">7</td><td class=\"column-2\"><a data-wpel-link=\"external\" href=\"https://medschool.ucla.edu/\" rel=\"noopener nofollow\" target=\"_blank\">David Geffen School of Medicine at UCLA (DGSOM)</a></td><td class=\"column-3\">Los Angeles, CA</td><td class=\"column-4\">US</td><td class=\"column-5\">93.69</td><td class=\"column-6\">AAA</td>\n",
       "</tr>\n",
       "<tr class=\"row-9\">\n",
       "<td class=\"column-1\">8</td><td class=\"column-2\"><a data-wpel-link=\"external\" href=\"https://college.mayo.edu/academics/mayo-clinic-alix-school-of-medicine/\" rel=\"noopener nofollow\" target=\"_blank\">Mayo Clinic Alix School of Medicine</a></td><td class=\"column-3\">Rochester, Minnesota</td><td class=\"column-4\">US</td><td class=\"column-5\">92.08</td><td class=\"column-6\">AAA</td>\n",
       "</tr>\n",
       "<tr class=\"row-10\">\n",
       "<td class=\"column-1\">9</td><td class=\"column-2\"><a data-wpel-link=\"external\" href=\"https://medicine.wustl.edu/\" rel=\"noopener nofollow\" target=\"_blank\">Washington University School of Medicine in St. Louis</a></td><td class=\"column-3\">St. Louis, MO</td><td class=\"column-4\">US</td><td class=\"column-5\">91.26</td><td class=\"column-6\">AAA</td>\n",
       "</tr>\n",
       "<tr class=\"row-11\">\n",
       "<td class=\"column-1\">10</td><td class=\"column-2\"><a data-wpel-link=\"external\" href=\"https://medschool.ucsf.edu/\" rel=\"noopener nofollow\" target=\"_blank\">UCSF School of Medicine</a></td><td class=\"column-3\">San Francisco, California</td><td class=\"column-4\">US</td><td class=\"column-5\">91.23</td><td class=\"column-6\">AAA</td>\n",
       "</tr>\n",
       "<tr class=\"row-12\">\n",
       "<td class=\"column-1\">11</td><td class=\"column-2\"><a data-wpel-link=\"external\" href=\"https://weill.cornell.edu/\" rel=\"noopener nofollow\" target=\"_blank\">Weill Cornell Graduate School of Medical Sciences</a></td><td class=\"column-3\">New York City, New York</td><td class=\"column-4\">US</td><td class=\"column-5\">90.68</td><td class=\"column-6\">AA</td>\n",
       "</tr>\n",
       "<tr class=\"row-13\">\n",
       "<td class=\"column-1\">12</td><td class=\"column-2\"><a data-wpel-link=\"external\" href=\"https://www.medschool.pitt.edu/\" rel=\"noopener nofollow\" target=\"_blank\">University of Pittsburgh School of Medicine</a></td><td class=\"column-3\">Pittsburgh, Pennsylvania</td><td class=\"column-4\">US</td><td class=\"column-5\">90.3</td><td class=\"column-6\">AA</td>\n",
       "</tr>\n",
       "<tr class=\"row-14\">\n",
       "<td class=\"column-1\">13</td><td class=\"column-2\"><a data-wpel-link=\"external\" href=\"https://www.feinberg.northwestern.edu/\" rel=\"noopener nofollow\" target=\"_blank\">Northwestern University Feinberg School of Medicine</a></td><td class=\"column-3\">Chicago, Illinois</td><td class=\"column-4\">US</td><td class=\"column-5\">89.67</td><td class=\"column-6\">AA</td>\n",
       "</tr>\n",
       "<tr class=\"row-15\">\n",
       "<td class=\"column-1\">14</td><td class=\"column-2\"><a data-wpel-link=\"external\" href=\"https://medicine.yale.edu/\" rel=\"noopener nofollow\" target=\"_blank\">Yale School of Medicine</a></td><td class=\"column-3\">New Haven, Connecticut</td><td class=\"column-4\">US</td><td class=\"column-5\">89.11</td><td class=\"column-6\">AA</td>\n",
       "</tr>\n",
       "<tr class=\"row-16\">\n",
       "<td class=\"column-1\">15</td><td class=\"column-2\"><a data-wpel-link=\"external\" href=\"https://medschool.duke.edu/\" rel=\"noopener nofollow\" target=\"_blank\">Duke University School of Medicine</a></td><td class=\"column-3\">Durham, North Carolina</td><td class=\"column-4\">US</td><td class=\"column-5\">88.73</td><td class=\"column-6\">AA</td>\n",
       "</tr>\n",
       "<tr class=\"row-17\">\n",
       "<td class=\"column-1\">16</td><td class=\"column-2\"><a data-wpel-link=\"external\" href=\"https://medschool.vanderbilt.edu/\" rel=\"noopener nofollow\" target=\"_blank\">Vanderbilt University School of Medicine</a></td><td class=\"column-3\">Nashville, Tennessee</td><td class=\"column-4\">US</td><td class=\"column-5\">88.52</td><td class=\"column-6\">AA</td>\n",
       "</tr>\n",
       "<tr class=\"row-18\">\n",
       "<td class=\"column-1\">17</td><td class=\"column-2\"><a data-wpel-link=\"external\" href=\"https://pritzker.uchicago.edu/\" rel=\"noopener nofollow\" target=\"_blank\">University of Chicago Pritzker School of Medicine</a></td><td class=\"column-3\">Chicago, Illinois</td><td class=\"column-4\">US</td><td class=\"column-5\">88.23</td><td class=\"column-6\">AA</td>\n",
       "</tr>\n",
       "<tr class=\"row-19\">\n",
       "<td class=\"column-1\">18</td><td class=\"column-2\"><a data-wpel-link=\"external\" href=\"https://icahn.mssm.edu/\" rel=\"noopener nofollow\" target=\"_blank\">Icahn School of Medicine at Mount Sinai</a></td><td class=\"column-3\">New York City, New York</td><td class=\"column-4\">US</td><td class=\"column-5\">87.76</td><td class=\"column-6\">AA</td>\n",
       "</tr>\n",
       "<tr class=\"row-20\">\n",
       "<td class=\"column-1\">19</td><td class=\"column-2\"><a data-wpel-link=\"external\" href=\"https://www.uwmedicine.org/\" rel=\"noopener nofollow\" target=\"_blank\">University of Washington School of Medicine</a></td><td class=\"column-3\">Seattle, Washington</td><td class=\"column-4\">US</td><td class=\"column-5\">87.64</td><td class=\"column-6\">AA</td>\n",
       "</tr>\n",
       "<tr class=\"row-21\">\n",
       "<td class=\"column-1\">20</td><td class=\"column-2\"><a data-wpel-link=\"external\" href=\"https://medicine.umich.edu/medschool/home\" rel=\"noopener nofollow\" target=\"_blank\">University of Michigan Medical School Ann Arbor</a></td><td class=\"column-3\">Ann Arbor, MI</td><td class=\"column-4\">US</td><td class=\"column-5\">87.62</td><td class=\"column-6\">AA</td>\n",
       "</tr>\n",
       "<tr class=\"row-22\">\n",
       "<td class=\"column-1\">21</td><td class=\"column-2\"><a data-wpel-link=\"external\" href=\"https://medschool.ucsd.edu/Pages/default.aspx\" rel=\"noopener nofollow\" target=\"_blank\">UC San Diego School of Medicine</a></td><td class=\"column-3\">San Diego, California</td><td class=\"column-4\">US</td><td class=\"column-5\">86.85</td><td class=\"column-6\">AA</td>\n",
       "</tr>\n",
       "<tr class=\"row-23\">\n",
       "<td class=\"column-1\">22</td><td class=\"column-2\"><a data-wpel-link=\"external\" href=\"https://www.aiims.edu/\" rel=\"noopener nofollow\" target=\"_blank\">All India Institute of Medical Sciences</a></td><td class=\"column-3\">New Delhi</td><td class=\"column-4\">India</td><td class=\"column-5\">86.6</td><td class=\"column-6\">AA</td>\n",
       "</tr>\n",
       "<tr class=\"row-24\">\n",
       "<td class=\"column-1\">23</td><td class=\"column-2\"><a data-wpel-link=\"external\" href=\"https://www.med.unc.edu/\" rel=\"noopener nofollow\" target=\"_blank\">University of North Carolina School of Medicine</a></td><td class=\"column-3\">Chapel Hill, North Carolina</td><td class=\"column-4\">US</td><td class=\"column-5\">86.38</td><td class=\"column-6\">AA</td>\n",
       "</tr>\n",
       "<tr class=\"row-25\">\n",
       "<td class=\"column-1\">24</td><td class=\"column-2\"><a data-wpel-link=\"external\" href=\"https://www.medschl.cam.ac.uk/\" rel=\"noopener nofollow\" target=\"_blank\">University of Cambridge School of Clinical Medicine</a></td><td class=\"column-3\">Cambridge, England</td><td class=\"column-4\">UK</td><td class=\"column-5\">86.02</td><td class=\"column-6\">AA</td>\n",
       "</tr>\n",
       "<tr class=\"row-26\">\n",
       "<td class=\"column-1\">25</td><td class=\"column-2\"><a data-wpel-link=\"external\" href=\"https://www.bumc.bu.edu/busm/\" rel=\"noopener nofollow\" target=\"_blank\">Boston University School of Medicine</a></td><td class=\"column-3\">Boston, MA</td><td class=\"column-4\">US</td><td class=\"column-5\">85.08</td><td class=\"column-6\">A</td>\n",
       "</tr>\n",
       "<tr class=\"row-27\">\n",
       "<td class=\"column-1\">26</td><td class=\"column-2\"><a data-wpel-link=\"external\" href=\"https://www.medsci.ox.ac.uk/\" rel=\"noopener nofollow\" target=\"_blank\">Oxford University Medical School</a></td><td class=\"column-3\">Oxford, England</td><td class=\"column-4\">UK</td><td class=\"column-5\">84.96</td><td class=\"column-6\">A</td>\n",
       "</tr>\n",
       "<tr class=\"row-28\">\n",
       "<td class=\"column-1\">27</td><td class=\"column-2\"><a data-wpel-link=\"external\" href=\"https://med.uc.edu/\" rel=\"noopener nofollow\" target=\"_blank\">University of Cincinnati College of Medicine</a></td><td class=\"column-3\">Cincinnati, O</td><td class=\"column-4\">US</td><td class=\"column-5\">84.75</td><td class=\"column-6\">A</td>\n",
       "</tr>\n",
       "<tr class=\"row-29\">\n",
       "<td class=\"column-1\">28</td><td class=\"column-2\"><a data-wpel-link=\"external\" href=\"https://www.bcm.edu/education/school-of-medicine\" rel=\"noopener nofollow\" target=\"_blank\">Baylor College of Medicine</a></td><td class=\"column-3\">Houston, Texas</td><td class=\"column-4\">US</td><td class=\"column-5\">84.64</td><td class=\"column-6\">A</td>\n",
       "</tr>\n",
       "<tr class=\"row-30\">\n",
       "<td class=\"column-1\">29</td><td class=\"column-2\"><a data-wpel-link=\"external\" href=\"https://applymd.utoronto.ca/\" rel=\"noopener nofollow\" target=\"_blank\">University of Toronto's Faculty of Medicine</a></td><td class=\"column-3\">Toronto</td><td class=\"column-4\">Canada</td><td class=\"column-5\">84.43</td><td class=\"column-6\">A</td>\n",
       "</tr>\n",
       "<tr class=\"row-31\">\n",
       "<td class=\"column-1\">30</td><td class=\"column-2\"><a data-wpel-link=\"external\" href=\"https://medicine.unimelb.edu.au/\" rel=\"noopener nofollow\" target=\"_blank\">Melbourne Medical School</a></td><td class=\"column-3\">Melbourne</td><td class=\"column-4\">Australia</td><td class=\"column-5\">83.79</td><td class=\"column-6\">A</td>\n",
       "</tr>\n",
       "<tr class=\"row-32\">\n",
       "<td class=\"column-1\">31</td><td class=\"column-2\"><a data-wpel-link=\"external\" href=\"https://ki.se/en\" rel=\"noopener nofollow\" target=\"_blank\">Karolinska Institute</a></td><td class=\"column-3\">Solna</td><td class=\"column-4\">Sweden</td><td class=\"column-5\">83.39</td><td class=\"column-6\">A</td>\n",
       "</tr>\n",
       "<tr class=\"row-33\">\n",
       "<td class=\"column-1\">32</td><td class=\"column-2\"><a data-wpel-link=\"external\" href=\"https://medicine.iu.edu/\" rel=\"noopener nofollow\" target=\"_blank\">Indiana University School of Medicine</a></td><td class=\"column-3\">Indianapolis, Indiana</td><td class=\"column-4\">US</td><td class=\"column-5\">83.39</td><td class=\"column-6\">A</td>\n",
       "</tr>\n",
       "<tr class=\"row-34\">\n",
       "<td class=\"column-1\">33</td><td class=\"column-2\"><a data-wpel-link=\"external\" href=\"https://www.ucl.ac.uk/medical-school/\" rel=\"noopener nofollow\" target=\"_blank\">UCL Medical School</a></td><td class=\"column-3\">London, England</td><td class=\"column-4\">UK</td><td class=\"column-5\">83.26</td><td class=\"column-6\">A</td>\n",
       "</tr>\n",
       "<tr class=\"row-35\">\n",
       "<td class=\"column-1\">34</td><td class=\"column-2\"><a data-wpel-link=\"external\" href=\"https://www.sydney.edu.au/medicine-health/schools/sydney-medical-school.html\" rel=\"noopener nofollow\" target=\"_blank\">University of Sydney School of Medicine</a></td><td class=\"column-3\">Camperdown</td><td class=\"column-4\">Australia</td><td class=\"column-5\">83.04</td><td class=\"column-6\">A</td>\n",
       "</tr>\n",
       "<tr class=\"row-36\">\n",
       "<td class=\"column-1\">35</td><td class=\"column-2\"><a data-wpel-link=\"external\" href=\"https://www.kcl.ac.uk/study-at-kings/ug/subjects/medicine\" rel=\"noopener nofollow\" target=\"_blank\">GKT School of Medical Education</a></td><td class=\"column-3\">London, England</td><td class=\"column-4\">UK</td><td class=\"column-5\">82.95</td><td class=\"column-6\">A</td>\n",
       "</tr>\n",
       "<tr class=\"row-37\">\n",
       "<td class=\"column-1\">36</td><td class=\"column-2\"><a data-wpel-link=\"external\" href=\"https://case.edu/medicine/\" rel=\"noopener nofollow\" target=\"_blank\">Case Western Reserve School of Medicine</a></td><td class=\"column-3\">Cleveland, Ohio</td><td class=\"column-4\">US</td><td class=\"column-5\">82.87</td><td class=\"column-6\">A</td>\n",
       "</tr>\n",
       "<tr class=\"row-38\">\n",
       "<td class=\"column-1\">37</td><td class=\"column-2\"><a data-wpel-link=\"external\" href=\"https://www.afmc.nic.in/\" rel=\"noopener nofollow\" target=\"_blank\">Armed Forces Medical College</a></td><td class=\"column-3\">Pune</td><td class=\"column-4\">India</td><td class=\"column-5\">82.8</td><td class=\"column-6\">A</td>\n",
       "</tr>\n",
       "<tr class=\"row-39\">\n",
       "<td class=\"column-1\">38</td><td class=\"column-2\"><a data-wpel-link=\"external\" href=\"https://med.virginia.edu/\" rel=\"noopener nofollow\" target=\"_blank\">University of Virginia School of Medicine</a></td><td class=\"column-3\">Charlottesville, VA</td><td class=\"column-4\">US</td><td class=\"column-5\">82.69</td><td class=\"column-6\">A</td>\n",
       "</tr>\n",
       "<tr class=\"row-40\">\n",
       "<td class=\"column-1\">39</td><td class=\"column-2\"><a data-wpel-link=\"external\" href=\"http://www.imperial.ac.uk/medicine/\" rel=\"noopener nofollow\" target=\"_blank\">Faculty of Medicine Imperial College London</a></td><td class=\"column-3\">London, England</td><td class=\"column-4\">UK</td><td class=\"column-5\">82.48</td><td class=\"column-6\">A</td>\n",
       "</tr>\n",
       "<tr class=\"row-41\">\n",
       "<td class=\"column-1\">40</td><td class=\"column-2\"><a data-wpel-link=\"external\" href=\"https://www.mcgill.ca/medhealthsci/\" rel=\"noopener nofollow\" target=\"_blank\">McGill University - Faculty of Medicine</a></td><td class=\"column-3\">Montreal</td><td class=\"column-4\">Canada</td><td class=\"column-5\">82.38</td><td class=\"column-6\">A</td>\n",
       "</tr>\n",
       "<tr class=\"row-42\">\n",
       "<td class=\"column-1\">41</td><td class=\"column-2\"><a data-wpel-link=\"external\" href=\"https://medicine.snu.ac.kr/en\" rel=\"noopener nofollow\" target=\"_blank\">Seoul National University College of Medicine</a></td><td class=\"column-3\">Seoul</td><td class=\"column-4\">South Korea</td><td class=\"column-5\">82.34</td><td class=\"column-6\">A</td>\n",
       "</tr>\n",
       "<tr class=\"row-43\">\n",
       "<td class=\"column-1\">42</td><td class=\"column-2\"><a data-wpel-link=\"external\" href=\"https://www.uni-heidelberg.de/en/study/all-subjects/medicine-study-location-heidelberg\" rel=\"noopener nofollow\" target=\"_blank\">Medical Faculty - Heidelberg University</a></td><td class=\"column-3\">Heidelberg</td><td class=\"column-4\">Germany</td><td class=\"column-5\">82.24</td><td class=\"column-6\">A</td>\n",
       "</tr>\n",
       "<tr class=\"row-44\">\n",
       "<td class=\"column-1\">43</td><td class=\"column-2\"><a data-wpel-link=\"external\" href=\"https://www.lshtm.ac.uk/\" rel=\"noopener nofollow\" target=\"_blank\">London School of Hygiene and Tropical Medicine</a></td><td class=\"column-3\">London, England</td><td class=\"column-4\">UK</td><td class=\"column-5\">82.06</td><td class=\"column-6\">A</td>\n",
       "</tr>\n",
       "<tr class=\"row-45\">\n",
       "<td class=\"column-1\">44</td><td class=\"column-2\"><a data-wpel-link=\"external\" href=\"https://medicine.nus.edu.sg/\" rel=\"noopener nofollow\" target=\"_blank\">NUS Yong Loo Lin School of Medicine</a></td><td class=\"column-3\">Singapore</td><td class=\"column-4\">Singapore</td><td class=\"column-5\">81.93</td><td class=\"column-6\">A</td>\n",
       "</tr>\n",
       "<tr class=\"row-46\">\n",
       "<td class=\"column-1\">45</td><td class=\"column-2\"><a data-wpel-link=\"external\" href=\"https://www.umassmed.edu/\" rel=\"noopener nofollow\" target=\"_blank\">University of Massachusetts Medical School</a></td><td class=\"column-3\">Worcester, Massachusetts</td><td class=\"column-4\">US</td><td class=\"column-5\">81.82</td><td class=\"column-6\">A</td>\n",
       "</tr>\n",
       "<tr class=\"row-47\">\n",
       "<td class=\"column-1\">46</td><td class=\"column-2\"><a data-wpel-link=\"external\" href=\"https://www.cmch-vellore.edu/\" rel=\"noopener nofollow\" target=\"_blank\">Christian Medical College</a></td><td class=\"column-3\">Vellore</td><td class=\"column-4\">India</td><td class=\"column-5\">81.46</td><td class=\"column-6\">A</td>\n",
       "</tr>\n",
       "<tr class=\"row-48\">\n",
       "<td class=\"column-1\">47</td><td class=\"column-2\"><a data-wpel-link=\"external\" href=\"https://www.som.uci.edu/\" rel=\"noopener nofollow\" target=\"_blank\">University of California, Irvine School of Medicine</a></td><td class=\"column-3\">Irvine, California</td><td class=\"column-4\">US</td><td class=\"column-5\">81.08</td><td class=\"column-6\">A</td>\n",
       "</tr>\n",
       "<tr class=\"row-49\">\n",
       "<td class=\"column-1\">48</td><td class=\"column-2\"><a data-wpel-link=\"external\" href=\"https://www.uva.nl/en/about-the-uva/organisation/faculties/faculty-of-medicine-amc/faculty-of-medicine.html\" rel=\"noopener nofollow\" target=\"_blank\">Faculty of Medicine - University of Amsterdam</a></td><td class=\"column-3\">Amsterdam</td><td class=\"column-4\">Netherlands</td><td class=\"column-5\">80.96</td><td class=\"column-6\">A</td>\n",
       "</tr>\n",
       "<tr class=\"row-50\">\n",
       "<td class=\"column-1\">49</td><td class=\"column-2\"><a data-wpel-link=\"external\" href=\"https://www.med.emory.edu/\" rel=\"noopener nofollow\" target=\"_blank\">Emory School of Medicine</a></td><td class=\"column-3\">Atlanta, Georgia</td><td class=\"column-4\">US</td><td class=\"column-5\">80.83</td><td class=\"column-6\">A</td>\n",
       "</tr>\n",
       "<tr class=\"row-51\">\n",
       "<td class=\"column-1\">50</td><td class=\"column-2\"><a data-wpel-link=\"external\" href=\"https://www.u-tokyo.ac.jp/en/academics/facultyofmedicine.html\" rel=\"noopener nofollow\" target=\"_blank\">Faculty of Medicine - The University of Tokyo</a></td><td class=\"column-3\">Tokyo</td><td class=\"column-4\">Japan</td><td class=\"column-5\">80.78</td><td class=\"column-6\">A</td>\n",
       "</tr>\n",
       "<tr class=\"row-52\">\n",
       "<td class=\"column-1\">51</td><td class=\"column-2\"><a data-wpel-link=\"external\" href=\"https://www.med.ubc.ca/\" rel=\"noopener nofollow\" target=\"_blank\">UBC Faculty of Medicine</a></td><td class=\"column-3\">Vancouver</td><td class=\"column-4\">Canada</td><td class=\"column-5\">80.68</td><td class=\"column-6\">A</td>\n",
       "</tr>\n",
       "<tr class=\"row-53\">\n",
       "<td class=\"column-1\">52</td><td class=\"column-2\"><a data-wpel-link=\"external\" href=\"https://som.georgetown.edu/\" rel=\"noopener nofollow\" target=\"_blank\">Georgetown University School-Medicine</a></td><td class=\"column-3\">Washington D.C.</td><td class=\"column-4\">US</td><td class=\"column-5\">80.11</td><td class=\"column-6\">A</td>\n",
       "</tr>\n",
       "<tr class=\"row-54\">\n",
       "<td class=\"column-1\">53</td><td class=\"column-2\"><a data-wpel-link=\"external\" href=\"https://healthsciences.ku.dk/\" rel=\"noopener nofollow\" target=\"_blank\">Faculty of Health and Medical Sciences at the University of Copenhagen</a></td><td class=\"column-3\">Copenhagen</td><td class=\"column-4\">Denmark</td><td class=\"column-5\">79.69</td><td class=\"column-6\">BBB</td>\n",
       "</tr>\n",
       "<tr class=\"row-55\">\n",
       "<td class=\"column-1\">54</td><td class=\"column-2\"><a data-wpel-link=\"external\" href=\"https://www.eur.nl/en/campus/locations/erasmus-mc\" rel=\"noopener nofollow\" target=\"_blank\">Erasmus MC | Erasmus University Rotterdam</a></td><td class=\"column-3\">Rotterdam</td><td class=\"column-4\">Netherlands</td><td class=\"column-5\">79.54</td><td class=\"column-6\">BBB</td>\n",
       "</tr>\n",
       "<tr class=\"row-56\">\n",
       "<td class=\"column-1\">55</td><td class=\"column-2\"><a data-wpel-link=\"external\" href=\"https://www.jipmer.edu.in/\" rel=\"noopener nofollow\" target=\"_blank\">JIPMERâ€‹</a></td><td class=\"column-3\">Pondicherry</td><td class=\"column-4\">India</td><td class=\"column-5\">79.46</td><td class=\"column-6\">BBB</td>\n",
       "</tr>\n",
       "<tr class=\"row-57\">\n",
       "<td class=\"column-1\">56</td><td class=\"column-2\"><a data-wpel-link=\"external\" href=\"https://www.monash.edu/medicine/som/home\" rel=\"noopener nofollow\" target=\"_blank\">Monash School of Medicine</a></td><td class=\"column-3\">Melbourne</td><td class=\"column-4\">Australia</td><td class=\"column-5\">79.39</td><td class=\"column-6\">BBB</td>\n",
       "</tr>\n",
       "<tr class=\"row-58\">\n",
       "<td class=\"column-1\">57</td><td class=\"column-2\"><a data-wpel-link=\"external\" href=\"https://www.utsouthwestern.edu/education/medical-school/\" rel=\"noopener nofollow\" target=\"_blank\">UT Southwestern Medical School</a></td><td class=\"column-3\">Dallas, Texas</td><td class=\"column-4\">US</td><td class=\"column-5\">79.08</td><td class=\"column-6\">BBB</td>\n",
       "</tr>\n",
       "<tr class=\"row-59\">\n",
       "<td class=\"column-1\">58</td><td class=\"column-2\"><a data-wpel-link=\"external\" href=\"https://www.bmh.manchester.ac.uk/study/medicine/\" rel=\"noopener nofollow\" target=\"_blank\">University of Manchester</a></td><td class=\"column-3\">Manchester, England</td><td class=\"column-4\">UK</td><td class=\"column-5\">78.86</td><td class=\"column-6\">BBB</td>\n",
       "</tr>\n",
       "<tr class=\"row-60\">\n",
       "<td class=\"column-1\">59</td><td class=\"column-2\"><a data-wpel-link=\"external\" href=\"https://www.med.hku.hk/\" rel=\"noopener nofollow\" target=\"_blank\">Li Ka Shing Faculty of Medicine, The University of Hong Kong (HKUMed)</a></td><td class=\"column-3\">Hong Kong</td><td class=\"column-4\">Hong Kong</td><td class=\"column-5\">78.86</td><td class=\"column-6\">BBB</td>\n",
       "</tr>\n",
       "<tr class=\"row-61\">\n",
       "<td class=\"column-1\">60</td><td class=\"column-2\"><a data-wpel-link=\"external\" href=\"http://www.mmc.ac.in/mmc/\" rel=\"noopener nofollow\" target=\"_blank\">Madras Medical College</a></td><td class=\"column-3\">Chennai</td><td class=\"column-4\">India</td><td class=\"column-5\">78.77</td><td class=\"column-6\">BBB</td>\n",
       "</tr>\n",
       "<tr class=\"row-62\">\n",
       "<td class=\"column-1\">61</td><td class=\"column-2\"><a data-wpel-link=\"external\" href=\"https://en.knutd.edu.ua/\" rel=\"noopener nofollow\" target=\"_blank\">Kyiv National University of Technologies and Design</a></td><td class=\"column-3\">Kiev</td><td class=\"column-4\">Ukraine</td><td class=\"column-5\">78.72</td><td class=\"column-6\">BBB</td>\n",
       "</tr>\n",
       "<tr class=\"row-63\">\n",
       "<td class=\"column-1\">62</td><td class=\"column-2\"><a data-wpel-link=\"external\" href=\"https://www.ohsu.edu/school-of-medicine\" rel=\"noopener nofollow\" target=\"_blank\">School of Medicine at Oregon Health and Science University</a></td><td class=\"column-3\">Portland, OR</td><td class=\"column-4\">US</td><td class=\"column-5\">78.49</td><td class=\"column-6\">BBB</td>\n",
       "</tr>\n",
       "<tr class=\"row-64\">\n",
       "<td class=\"column-1\">63</td><td class=\"column-2\"><a data-wpel-link=\"external\" href=\"https://www.en.med.uni-muenchen.de/index.html\" rel=\"noopener nofollow\" target=\"_blank\">Medicine at LMU Munich - Ludwig Maximilian University of Munich</a></td><td class=\"column-3\">Munich</td><td class=\"column-4\">Germany</td><td class=\"column-5\">77.95</td><td class=\"column-6\">BBB</td>\n",
       "</tr>\n",
       "<tr class=\"row-65\">\n",
       "<td class=\"column-1\">64</td><td class=\"column-2\"><a data-wpel-link=\"external\" href=\"https://www.med.wisc.edu/\" rel=\"noopener nofollow\" target=\"_blank\">School of Medicine and Public Health at UW-Madison</a></td><td class=\"column-3\">Madison, Wisconsin</td><td class=\"column-4\">US</td><td class=\"column-5\">77.94</td><td class=\"column-6\">BBB</td>\n",
       "</tr>\n",
       "<tr class=\"row-66\">\n",
       "<td class=\"column-1\">65</td><td class=\"column-2\"><a data-wpel-link=\"external\" href=\"https://www.med.cuhk.edu.hk/\" rel=\"noopener nofollow\" target=\"_blank\">Faculty of Medicine of The Chinese University of Hong Kong</a></td><td class=\"column-3\">Hong Kong</td><td class=\"column-4\">Hong Kong</td><td class=\"column-5\">77.75</td><td class=\"column-6\">BBB</td>\n",
       "</tr>\n",
       "<tr class=\"row-67\">\n",
       "<td class=\"column-1\">66</td><td class=\"column-2\"><a data-wpel-link=\"external\" href=\"https://mdprogram.mcmaster.ca/\" rel=\"noopener nofollow\" target=\"_blank\">McMaster University Medical School</a></td><td class=\"column-3\">Hamilton</td><td class=\"column-4\">Canada</td><td class=\"column-5\">77.55</td><td class=\"column-6\">BBB</td>\n",
       "</tr>\n",
       "<tr class=\"row-68\">\n",
       "<td class=\"column-1\">67</td><td class=\"column-2\"><a data-wpel-link=\"external\" href=\"https://med.umn.edu/\" rel=\"noopener nofollow\" target=\"_blank\">University of Minnesota Medical School</a></td><td class=\"column-3\">Minneapolis, Minnesota</td><td class=\"column-4\">US</td><td class=\"column-5\">77.42</td><td class=\"column-6\">BBB</td>\n",
       "</tr>\n",
       "<tr class=\"row-69\">\n",
       "<td class=\"column-1\">68</td><td class=\"column-2\"><a data-wpel-link=\"external\" href=\"https://med.kuleuven.be/en\" rel=\"noopener nofollow\" target=\"_blank\">Faculty of Medicine - KU Leuven</a></td><td class=\"column-3\">Leuven</td><td class=\"column-4\">Belgium</td><td class=\"column-5\">77.35</td><td class=\"column-6\">BBB</td>\n",
       "</tr>\n",
       "<tr class=\"row-70\">\n",
       "<td class=\"column-1\">69</td><td class=\"column-2\"><a data-wpel-link=\"external\" href=\"https://www.bhu.ac.in/ims/\" rel=\"noopener nofollow\" target=\"_blank\">Institute of Medical Sciences BHU</a></td><td class=\"column-3\">Varanasi</td><td class=\"column-4\">India</td><td class=\"column-5\">77.28</td><td class=\"column-6\">BBB</td>\n",
       "</tr>\n",
       "<tr class=\"row-71\">\n",
       "<td class=\"column-1\">70</td><td class=\"column-2\"><a data-wpel-link=\"external\" href=\"https://medschool.cuanschutz.edu/\" rel=\"noopener nofollow\" target=\"_blank\">University of Colorado School of Medicine</a></td><td class=\"column-3\">Aurora, Colorado</td><td class=\"column-4\">US</td><td class=\"column-5\">77.22</td><td class=\"column-6\">BBB</td>\n",
       "</tr>\n",
       "<tr class=\"row-72\">\n",
       "<td class=\"column-1\">71</td><td class=\"column-2\"><a data-wpel-link=\"external\" href=\"https://www.sorbonne-universite.fr/en/university/governance-and-organization/faculties/faculty-medicine\" rel=\"noopener nofollow\" target=\"_blank\">Faculty of Medicine - Sorbonne Universite</a></td><td class=\"column-3\">Paris</td><td class=\"column-4\">France</td><td class=\"column-5\">77.16</td><td class=\"column-6\">BBB</td>\n",
       "</tr>\n",
       "<tr class=\"row-73\">\n",
       "<td class=\"column-1\">72</td><td class=\"column-2\"><a data-wpel-link=\"external\" href=\"https://www.mc.ntu.edu.tw/med/\" rel=\"noopener nofollow\" target=\"_blank\">National Taiwan University School of Medicine</a></td><td class=\"column-3\">Taipei</td><td class=\"column-4\">Taiwan</td><td class=\"column-5\">76.77</td><td class=\"column-6\">BB</td>\n",
       "</tr>\n",
       "<tr class=\"row-74\">\n",
       "<td class=\"column-1\">73</td><td class=\"column-2\"><a data-wpel-link=\"external\" href=\"https://www.uab.edu/medicine/home/\" rel=\"noopener nofollow\" target=\"_blank\">University of Alabama-Birmingham School of Medicine (UAB)</a></td><td class=\"column-3\">Birmingham, Alabama</td><td class=\"column-4\">US</td><td class=\"column-5\">76.77</td><td class=\"column-6\">BB</td>\n",
       "</tr>\n",
       "<tr class=\"row-75\">\n",
       "<td class=\"column-1\">74</td><td class=\"column-2\"><a data-wpel-link=\"external\" href=\"https://med.ufl.edu/\" rel=\"noopener nofollow\" target=\"_blank\">University of Florida College of Medicine</a></td><td class=\"column-3\">Gainesville, Florida</td><td class=\"column-4\">US</td><td class=\"column-5\">76.76</td><td class=\"column-6\">BB</td>\n",
       "</tr>\n",
       "<tr class=\"row-76\">\n",
       "<td class=\"column-1\">75</td><td class=\"column-2\"><a data-wpel-link=\"external\" href=\"https://www.uu.nl/en/organisation/faculty-of-medicine-umc-utrecht\" rel=\"noopener nofollow\" target=\"_blank\">Faculty of Medicine - Universiteit Utrecht</a></td><td class=\"column-3\">Utrecht</td><td class=\"column-4\">Netherlands</td><td class=\"column-5\">76.56</td><td class=\"column-6\">BB</td>\n",
       "</tr>\n",
       "<tr class=\"row-77\">\n",
       "<td class=\"column-1\">76</td><td class=\"column-2\"><a data-wpel-link=\"external\" href=\"https://www.ub.edu/web/ub/en/estudis/oferta_formativa/graus/fitxa/M/G1046/\" rel=\"noopener nofollow\" target=\"_blank\">Medicine - Universitat de Barcelona</a></td><td class=\"column-3\">Barcelona</td><td class=\"column-4\">Spain</td><td class=\"column-5\">76.46</td><td class=\"column-6\">BB</td>\n",
       "</tr>\n",
       "<tr class=\"row-78\">\n",
       "<td class=\"column-1\">77</td><td class=\"column-2\"><a data-wpel-link=\"external\" href=\"https://health.ucdavis.edu/medschool/\" rel=\"noopener nofollow\" target=\"_blank\">UC Davis School of Medicine</a></td><td class=\"column-3\">Sacramento, CA</td><td class=\"column-4\">US</td><td class=\"column-5\">76.46</td><td class=\"column-6\">BB</td>\n",
       "</tr>\n",
       "<tr class=\"row-79\">\n",
       "<td class=\"column-1\">78</td><td class=\"column-2\"><a data-wpel-link=\"external\" href=\"https://www.maastrichtuniversity.nl/education/bachelor/bachelor-medicine\" rel=\"noopener nofollow\" target=\"_blank\">Faculty of Health, Medicine and Life Sciences - Maastricht University</a></td><td class=\"column-3\">Maastricht</td><td class=\"column-4\">Netherlands</td><td class=\"column-5\">76.32</td><td class=\"column-6\">BB</td>\n",
       "</tr>\n",
       "<tr class=\"row-80\">\n",
       "<td class=\"column-1\">79</td><td class=\"column-2\"><a data-wpel-link=\"external\" href=\"https://www.med.kyoto-u.ac.jp/E/grad_school/\" rel=\"noopener nofollow\" target=\"_blank\">Graduate School of Medicine Kyoto University</a></td><td class=\"column-3\">Kyoto</td><td class=\"column-4\">Japan</td><td class=\"column-5\">75.66</td><td class=\"column-6\">BB</td>\n",
       "</tr>\n",
       "<tr class=\"row-81\">\n",
       "<td class=\"column-1\">80</td><td class=\"column-2\"><a data-wpel-link=\"external\" href=\"https://e.bjmu.edu.cn/\" rel=\"noopener nofollow\" target=\"_blank\">Peking University Health Science Center</a></td><td class=\"column-3\">Beijing</td><td class=\"column-4\">China</td><td class=\"column-5\">75.52</td><td class=\"column-6\">BB</td>\n",
       "</tr>\n",
       "<tr class=\"row-82\">\n",
       "<td class=\"column-1\">81</td><td class=\"column-2\"><a data-wpel-link=\"external\" href=\"https://keck.usc.edu/\" rel=\"noopener nofollow\" target=\"_blank\">Keck School of Medicine of the University of Southern California</a></td><td class=\"column-3\">Los Angeles, California</td><td class=\"column-4\">US</td><td class=\"column-5\">75.49</td><td class=\"column-6\">BB</td>\n",
       "</tr>\n",
       "<tr class=\"row-83\">\n",
       "<td class=\"column-1\">82</td><td class=\"column-2\"><a data-wpel-link=\"external\" href=\"https://admission-global.skku.edu/\" rel=\"noopener nofollow\" target=\"_blank\">SKKU School of Medicine</a></td><td class=\"column-3\">Seoul</td><td class=\"column-4\">South Korea</td><td class=\"column-5\">75.45</td><td class=\"column-6\">BB</td>\n",
       "</tr>\n",
       "<tr class=\"row-84\">\n",
       "<td class=\"column-1\">83</td><td class=\"column-2\"><a data-wpel-link=\"external\" href=\"https://www.uzh.ch/en/studies/application/medicine.html\" rel=\"noopener nofollow\" target=\"_blank\">Faculty of Medicine - University of Zurich</a></td><td class=\"column-3\">Zurich</td><td class=\"column-4\">Switzerland</td><td class=\"column-5\">75.11</td><td class=\"column-6\">BB</td>\n",
       "</tr>\n",
       "<tr class=\"row-85\">\n",
       "<td class=\"column-1\">84</td><td class=\"column-2\"><a data-wpel-link=\"external\" href=\"https://medicine.utah.edu/\" rel=\"noopener nofollow\" target=\"_blank\">University of Utah School of Medicine</a></td><td class=\"column-3\">Salt Lake City, Utah</td><td class=\"column-4\">US</td><td class=\"column-5\">74.89</td><td class=\"column-6\">B</td>\n",
       "</tr>\n",
       "<tr class=\"row-86\">\n",
       "<td class=\"column-1\">85</td><td class=\"column-2\"><a data-wpel-link=\"external\" href=\"https://www.medicine.lu.se/\" rel=\"noopener nofollow\" target=\"_blank\">Faculty of Medicine - Lund University</a></td><td class=\"column-3\">Lund</td><td class=\"column-4\">Sweden</td><td class=\"column-5\">74.8</td><td class=\"column-6\">B</td>\n",
       "</tr>\n",
       "<tr class=\"row-87\">\n",
       "<td class=\"column-1\">86</td><td class=\"column-2\"><a data-wpel-link=\"external\" href=\"https://www.unimi.it/en/education/international-medical-school-ims\" rel=\"noopener nofollow\" target=\"_blank\">International Medical School, University of Milan</a></td><td class=\"column-3\">Milan</td><td class=\"column-4\">Italy</td><td class=\"column-5\">74.79</td><td class=\"column-6\">B</td>\n",
       "</tr>\n",
       "<tr class=\"row-88\">\n",
       "<td class=\"column-1\">87</td><td class=\"column-2\"><a data-wpel-link=\"external\" href=\"https://medical.brown.edu/\" rel=\"noopener nofollow\" target=\"_blank\">Warren Alpert Medical School of Brown University</a></td><td class=\"column-3\">Providence, Rhode Island</td><td class=\"column-4\">US</td><td class=\"column-5\">74.13</td><td class=\"column-6\">B</td>\n",
       "</tr>\n",
       "<tr class=\"row-89\">\n",
       "<td class=\"column-1\">88</td><td class=\"column-2\"><a data-wpel-link=\"external\" href=\"https://www.med.tum.de/en/welcome-tum-school-medicine\" rel=\"noopener nofollow\" target=\"_blank\">TUM School of Medicine (TUM MED)</a></td><td class=\"column-3\">Munich</td><td class=\"column-4\">Germany</td><td class=\"column-5\">74.11</td><td class=\"column-6\">B</td>\n",
       "</tr>\n",
       "<tr class=\"row-90\">\n",
       "<td class=\"column-1\">89</td><td class=\"column-2\"><a data-wpel-link=\"external\" href=\"https://einsteinmed.org/\" rel=\"noopener nofollow\" target=\"_blank\">Albert Einstein College of Medicine</a></td><td class=\"column-3\">New York City, New York</td><td class=\"column-4\">US</td><td class=\"column-5\">73.66</td><td class=\"column-6\">B</td>\n",
       "</tr>\n",
       "<tr class=\"row-91\">\n",
       "<td class=\"column-1\">90</td><td class=\"column-2\"><a data-wpel-link=\"external\" href=\"https://ethz.ch/en/\" rel=\"noopener nofollow\" target=\"_blank\">ETH Zurich</a></td><td class=\"column-3\">Zurich</td><td class=\"column-4\">Switzerland</td><td class=\"column-5\">73.59</td><td class=\"column-6\">B</td>\n",
       "</tr>\n",
       "<tr class=\"row-92\">\n",
       "<td class=\"column-1\">91</td><td class=\"column-2\"><a data-wpel-link=\"external\" href=\"https://www.universiteitleiden.nl/en/medicine-lumc\" rel=\"noopener nofollow\" target=\"_blank\">Leiden University Medical Center</a></td><td class=\"column-3\">Leiden</td><td class=\"column-4\">Netherlands</td><td class=\"column-5\">73.21</td><td class=\"column-6\">B</td>\n",
       "</tr>\n",
       "<tr class=\"row-93\">\n",
       "<td class=\"column-1\">92</td><td class=\"column-2\"><a data-wpel-link=\"external\" href=\"https://school-en.med.uoa.gr/\" rel=\"noopener nofollow\" target=\"_blank\">School of Medicine at National and Kapodistrian University</a></td><td class=\"column-3\">Athens</td><td class=\"column-4\">Greece</td><td class=\"column-5\">73.16</td><td class=\"column-6\">B</td>\n",
       "</tr>\n",
       "<tr class=\"row-94\">\n",
       "<td class=\"column-1\">93</td><td class=\"column-2\"><a data-wpel-link=\"external\" href=\"http://www.med.uoc.gr/\" rel=\"noopener nofollow\" target=\"_blank\">University of Crete Medical School</a></td><td class=\"column-3\">Crete</td><td class=\"column-4\">Greece</td><td class=\"column-5\">73.08</td><td class=\"column-6\">B</td>\n",
       "</tr>\n",
       "<tr class=\"row-95\">\n",
       "<td class=\"column-1\">94</td><td class=\"column-2\"><a data-wpel-link=\"external\" href=\"https://medicine.uiowa.edu/\" rel=\"noopener nofollow\" target=\"_blank\">Roy J. and Lucille A. Carver College of Medicine</a></td><td class=\"column-3\">Iowa City, Iowa</td><td class=\"column-4\">US</td><td class=\"column-5\">73.05</td><td class=\"column-6\">B</td>\n",
       "</tr>\n",
       "<tr class=\"row-96\">\n",
       "<td class=\"column-1\">95</td><td class=\"column-2\"><a data-wpel-link=\"external\" href=\"https://medicine.osu.edu/\" rel=\"noopener nofollow\" target=\"_blank\">Ohio State University College of Medicine</a></td><td class=\"column-3\">Columbus, Ohio</td><td class=\"column-4\">US</td><td class=\"column-5\">72.95</td><td class=\"column-6\">B</td>\n",
       "</tr>\n",
       "<tr class=\"row-97\">\n",
       "<td class=\"column-1\">96</td><td class=\"column-2\"><a data-wpel-link=\"external\" href=\"https://www.urmc.rochester.edu/smd.aspx\" rel=\"noopener nofollow\" target=\"_blank\">University of Rochester School of Medicine and Dentistry</a></td><td class=\"column-3\">Rochester, New York</td><td class=\"column-4\">US</td><td class=\"column-5\">72.74</td><td class=\"column-6\">B</td>\n",
       "</tr>\n",
       "<tr class=\"row-98\">\n",
       "<td class=\"column-1\">97</td><td class=\"column-2\"><a data-wpel-link=\"external\" href=\"https://www.rug.nl/bachelors/medicine/\" rel=\"noopener nofollow\" target=\"_blank\">Medicine - University of Groningen</a></td><td class=\"column-3\">Groningen</td><td class=\"column-4\">Netherlands</td><td class=\"column-5\">72.57</td><td class=\"column-6\">B</td>\n",
       "</tr>\n",
       "<tr class=\"row-99\">\n",
       "<td class=\"column-1\">98</td><td class=\"column-2\"><a data-wpel-link=\"external\" href=\"https://www.medschool.umaryland.edu/\" rel=\"noopener nofollow\" target=\"_blank\">University of Maryland School of Medicine</a></td><td class=\"column-3\">Baltimore, Maryland</td><td class=\"column-4\">US</td><td class=\"column-5\">72.33</td><td class=\"column-6\">B</td>\n",
       "</tr>\n",
       "<tr class=\"row-100\">\n",
       "<td class=\"column-1\">99</td><td class=\"column-2\"><a data-wpel-link=\"external\" href=\"https://www.meduniwien.ac.at/\" rel=\"noopener nofollow\" target=\"_blank\">Medical University of Vienna</a></td><td class=\"column-3\">Vienna</td><td class=\"column-4\">Austria</td><td class=\"column-5\">72.03</td><td class=\"column-6\">B</td>\n",
       "</tr>\n",
       "<tr class=\"row-101\">\n",
       "<td class=\"column-1\">100</td><td class=\"column-2\"><a data-wpel-link=\"external\" href=\"https://www.med.auth.gr/en\" rel=\"noopener nofollow\" target=\"_blank\">School of Medicine at Aristotle University</a></td><td class=\"column-3\">Thessaloniki</td><td class=\"column-4\">Greece</td><td class=\"column-5\">72.03</td><td class=\"column-6\">B</td>\n",
       "</tr>\n",
       "</tbody>\n",
       "</table>\n",
       "<!-- #tablepress-605 from cache -->\n",
       "<p>Methodology: CEOWORLD magazine’s best medical schools in the world for 2024 is based on 7 major indicators of quality, overall Score (100%) is the sum of:</p>\n",
       "<div class=\"autors-widget\">\n",
       "<div>\n",
       "<div>1) Academic reputation<br/>\n",
       "2) Admission Eligibility<br/>\n",
       "3) Specialization<br/>\n",
       "4) Global reputation and influence<br/>\n",
       "5) Annual tuition and fees<br/>\n",
       "6) Research performance<br/>\n",
       "7) Student satisfaction</div>\n",
       "<div>\n",
       "<p>We believe rankings are one useful tool among many for evaluating the merits of a school’s degree program, but should not be relied upon exclusively or take the place of personal judgment or consultation with educational experts. Data for these indicators were collected from publicly available sources, medical school’s website, as well as our own editorial judgment. Information considered includes rankings and awards from reputable national and international publications, student-to-professor ratio, admissions acceptance rate, retention and graduation rates, tuition cost, financial aid availability, and accreditation. Students, industry professionals, and academicians were asked to rate medical schools on a scale of 1 “marginal” to 100 “outstanding” or “don’t know.”</p>\n",
       "<p>*However, this is by no means a comprehensive list, while the 100 medical schools above are the “CEOWORLD magazine’s best medical schools in the world for 2024,” there may be many other outstanding schools that offer excellent programs.<br/>\n",
       "* Rankings should not be viewed as the most important aspect when choosing a medical school, and are simply one element to consider.<br/>\n",
       "* Some of the institutions featured in this article are commercial partners of the CEOWORLD magazine.<br/>\n",
       "* The top-ranked medical school receives 100 points.<br/>\n",
       "* The rankings are the result of a rigorous analytical exercise, incorporating multiple data sources, without relying on university data submissions.<br/>\n",
       "* Detailed survey data and information collected directly from 120,000 individuals, across 7 data points.<br/>\n",
       "* Surveys completed by 60,000 students, 40,000 industry professionals, and 20,000 academicians around the world.<br/>\n",
       "*The overall score is numerical scores given to the schools based on students, academicians, and industry professionals — measuring the quality of the school. Overall scores are out of 100.</p>\n",
       "<p>The margin of sampling error for the full sample of 120,000 respondents is plus or minus 1.2 percentage points. In addition to sampling error, one should bear in mind that as in all survey research, there are possible sources of error—such as coverage, nonresponse, and measurement error——that could affect the results.</p>\n",
       "</div>\n",
       "</div>\n",
       "</div>\n",
       "<hr/><a data-wpel-link=\"external\" href=\"https://news.google.com/publications/CAAqJggKIiBDQklTRWdnTWFnNEtER05sYjNkdmNteGtMbUpwZWlnQVAB?hl=en-US&amp;gl=US&amp;ceid=US:en\" rel=\"nofollow\" target=\"_blank\">Add CEOWORLD magazine to your Google News feed.</a>\n",
       "<hr/>\n",
       "<b>Follow <a data-wpel-link=\"internal\" href=\"https://ceoworld.biz/\" rel=\"follow\" title=\"CEOWORLD magazine\">CEOWORLD magazine</a> headlines on:</b> <a data-wpel-link=\"external\" href=\"https://news.google.com/publications/CAAqJggKIiBDQklTRWdnTWFnNEtER05sYjNkdmNteGtMbUpwZWlnQVAB?hl=en-US&amp;gl=US&amp;ceid=US:en\" rel=\"nofollow\" target=\"_blank\">Google News</a>, <a data-wpel-link=\"external\" href=\"https://www.linkedin.com/company/ceoworldmagazine/\" rel=\"nofollow\" target=\"_blank\">LinkedIn</a>, <a data-wpel-link=\"external\" href=\"https://twitter.com/ceoworld\" rel=\"nofollow\" target=\"_blank\">Twitter</a>, and <a data-wpel-link=\"external\" href=\"https://www.facebook.com/ceoworldmag\" rel=\"nofollow\" target=\"_blank\">Facebook</a>.\n",
       "<hr/>\n",
       "Copyright 2024 The <a data-wpel-link=\"internal\" href=\"https://ceoworld.biz/\" rel=\"follow\" title=\"CEOWORLD magazine\">CEOWORLD magazine</a>. All rights reserved. This material (and any extract from it) must not be copied, redistributed or placed on any website, without CEOWORLD magazine' prior written consent. For media queries, please contact: <a data-wpel-link=\"internal\" href=\"mailto:info@ceoworld.biz\" rel=\"follow\">info@ceoworld.biz</a><hr/><div class=\"code-block code-block-2\" style=\"margin: 8px auto; text-align: center; display: block; clear: both;\">\n",
       "<script async=\"\" src=\"https://pagead2.googlesyndication.com/pagead/js/adsbygoogle.js\"></script>\n",
       "<ins class=\"adsbygoogle\" data-ad-client=\"ca-pub-5477402865130065\" data-ad-format=\"autorelaxed\" data-ad-slot=\"2548451613\" style=\"display:block\"></ins>\n",
       "<script>\n",
       "     (adsbygoogle = window.adsbygoogle || []).push({});\n",
       "</script>\n",
       "<span><span><a data-wpel-link=\"internal\" href=\"https://ceoworld.biz/\" rel=\"follow\">CEOWORLD magazine</a></span> - <span><a data-wpel-link=\"internal\" href=\"https://ceoworld.biz/latest/\" rel=\"follow\">Latest</a></span> - <span><a data-wpel-link=\"internal\" href=\"https://ceoworld.biz/education-and-career/\" rel=\"follow\">Education and Career</a></span> - <span aria-current=\"page\" class=\"breadcrumb_last\"><strong>Best Medical Schools In The World, 2024</strong></span></span>\n",
       "<hr/></div>\n",
       "<div class=\"code-block code-block-4\" style=\"margin: 8px 0; clear: both;\">\n",
       "<script async=\"\" src=\"https://pagead2.googlesyndication.com/pagead/js/adsbygoogle.js\"></script>\n",
       "<ins class=\"adsbygoogle\" data-ad-client=\"ca-pub-5477402865130065\" data-ad-format=\"fluid\" data-ad-layout=\"in-article\" data-ad-slot=\"2365129109\" style=\"display:block; text-align:center;\"></ins>\n",
       "<script>\n",
       "     (adsbygoogle = window.adsbygoogle || []).push({});\n",
       "</script></div>\n",
       "<!-- CONTENT END 2 -->\n",
       "</div><div class=\"banner-ad-wrap banner-ad-bottom-single\"><div class=\"banner-ad-inner\"><a class=\"banner-ad-image\" data-wpel-link=\"internal\" href=\"https://ceoworld.biz/subscription/\" rel=\"follow\" target=\"_blank\"><img alt=\"CEOWORLD magazine\" src=\"https://ceoworld.biz/wp-content/uploads/2023/09/CEOWORLD-magazine-Print.png\"/></a></div></div></div><span class=\"single-post-tag\"><span class=\"single-tag-text\">Tags :</span><a class=\"single-tag-el\" data-wpel-link=\"internal\" href=\"https://ceoworld.biz/edition/c-suite-executives-insider/\" rel=\"follow\" title=\"C-Suite Executives Insider\">C-Suite Executives Insider</a><a class=\"single-tag-el\" data-wpel-link=\"internal\" href=\"https://ceoworld.biz/edition/chief-investment-officer-insider/\" rel=\"follow\" title=\"Chief Investment Officer Insider\">Chief Investment Officer Insider</a><a class=\"single-tag-el\" data-wpel-link=\"internal\" href=\"https://ceoworld.biz/edition/chief-risk-officer-insider/\" rel=\"follow\" title=\"Chief Risk Officer Insider\">Chief Risk Officer Insider</a><a class=\"single-tag-el\" data-wpel-link=\"internal\" href=\"https://ceoworld.biz/edition/chief-software-officer-insider/\" rel=\"follow\" title=\"Chief software officer Insider\">Chief software officer Insider</a><a class=\"single-tag-el\" data-wpel-link=\"internal\" href=\"https://ceoworld.biz/edition/chief-virtual-reality-officer-insider/\" rel=\"follow\" title=\"Chief Virtual Reality Officer Insider\">Chief Virtual Reality Officer Insider</a><a class=\"single-tag-el\" data-wpel-link=\"internal\" href=\"https://ceoworld.biz/edition/director-of-human-empowerment-insider/\" rel=\"follow\" title=\"Director of Human Empowerment Insider\">Director of Human Empowerment Insider</a><a class=\"single-tag-el\" data-wpel-link=\"internal\" href=\"https://ceoworld.biz/edition/non-executive-chairman-insider/\" rel=\"follow\" title=\"Non-Executive Chairman Insider\">Non-Executive Chairman Insider</a><a class=\"single-tag-el\" data-wpel-link=\"internal\" href=\"https://ceoworld.biz/edition/ultra-rich-insider/\" rel=\"follow\" title=\"Ultra Rich Insider\">Ultra Rich Insider</a></span><!-- single post tag--></div><aside class=\"hidden\" style=\"display: none;\"><meta content=\"https://ceoworld.biz/2024/04/02/best-medical-schools-in-the-world-2024/\" itemprop=\"mainEntityOfPage\"/><span class=\"vcard author\" style=\"display: none;\"><span class=\"fn\" content=\"Despina Wilson\" itemprop=\"author\" itemscope=\"\" itemtype=\"https://schema.org/Person\"><meta content=\"https://ceoworld.biz/author/despina/\" itemprop=\"url\"/><span itemprop=\"name\">Despina Wilson</span></span></span><time class=\"updated\" content=\"2024-04-02T01:55:25+03:00\" datetime=\"2024-04-02T01:55:25+03:00\" itemprop=\"dateModified\">April 2, 2024</time><time class=\"published\" content=\"2024-04-02T01:55:25+03:00\" datetime=\"2024-04-02T01:55:25+03:00&gt;\" itemprop=\"datePublished\">April 2, 2024</time><span itemprop=\"image\" itemscope=\"\" itemtype=\"https://schema.org/ImageObject\" style=\"display: none;\"><meta content=\"https://ceoworld.biz/wp-content/uploads/2021/03/Medical-School-Students-1.jpg\" itemprop=\"url\"/><meta content=\"960\" itemprop=\"width\"/><meta content=\"640\" itemprop=\"height\"/></span><span itemprop=\"publisher\" itemscope=\"\" itemtype=\"https://schema.org/Organization\" style=\"display: none;\"><span itemprop=\"logo\" itemscope=\"\" itemtype=\"https://schema.org/ImageObject\" style=\"display: none;\"><meta content=\"https://ceoworld.biz/wp-content/uploads/2023/05/CEOWORLD-magazine-Logo.png\" itemprop=\"url\"/></span><meta content=\"Despina Wilson\" itemprop=\"name\"/></span></aside></div></div><div class=\"single-post-box-outer\"><div class=\"single-box single-box-author\"><div class=\"single-author-wrap single-author-bottom\"><div class=\"single-author-inner clearfix\"><div class=\"author-thumb-wrap\"><img alt=\"Despina Wilson\" class=\"avatar pp-user-avatar avatar-140 photo\" data-del=\"avatar\" height=\"140\" src=\"https://ceoworld.biz/wp-content/uploads/2023/10/file1-150x150.jpg\" width=\"140\"/></div><!-- author thumb --><div class=\"author-content-wrap\"><div class=\"author-title\"><a data-wpel-link=\"internal\" href=\"https://ceoworld.biz/author/despina/\" rel=\"follow\"><h3>Despina Wilson</h3></a></div><!-- author title --><div class=\"author-description\">I am a senior editor and data journalist at CEOWORLD magazine. My job involves using infographics to report on news topics related to business and policy, with a global perspective. I hold a master's degree in journalism and have worked for newspapers and reporting projects in both the US and the UK, giving me a unique transatlantic perspective. I believe that data can enhance coverage of all news topics. As a contributor, I plan cover a wide range of issues, such as gender equality, climate change, labor, and immigration, using relevant statistics and insightful visualizations.\n",
       "<br/><br/>\n",
       "Email: <a data-wpel-link=\"internal\" href=\"mailto:despina@ceoworld.biz\" rel=\"follow\">despina@ceoworld.biz</a></div><div class=\"ruby-author-bttom-wrap\"><div class=\"ruby-author-links\"><a data-wpel-link=\"internal\" href=\"https://ceoworld.biz/author/despina/\" rel=\"follow\">view all posts</a></div></div></div></div></div><!-- author box wrap --></div><nav class=\"single-nav single-box row\"><div class=\"col-sm-6 col-xs-12 nav-el nav-left post-title is-size-6\"><a data-wpel-link=\"internal\" href=\"https://ceoworld.biz/2024/04/02/countries-with-the-best-health-care-systems-2024/\" rel=\"bookmark follow\" title=\"Countries With The Best Health Care Systems, 2024\"><span class=\"ruby-nav-icon nav-left-icon\"><i class=\"rbi rbi-angle-left\"></i></span><span class=\"ruby-nav-link nav-left-link\">Countries With The Best Health Care Systems, 2024</span></a></div><div class=\"col-sm-6 col-xs-12 nav-el nav-right post-title is-size-6\"><a data-wpel-link=\"internal\" href=\"https://ceoworld.biz/2024/04/02/countries-with-the-best-performing-education-systems-2024/\" rel=\"bookmark follow\" title=\"Countries with the best performing education systems, 2024\"><span class=\"ruby-nav-icon nav-right-icon\"><i class=\"rbi rbi-angle-right\"></i></span><span class=\"ruby-nav-link nav-right-link\">Countries with the best performing education systems, 2024</span></a></div></nav><div class=\"single-box single-widget row clearfix\"></div><div class=\"single-post-box-related has-header-block clearfix box-related-1\"><div class=\"box-related-header block-header-wrap\"><div class=\"block-header-inner\"><div class=\"block-title\"><h3>UP NEXT</h3></div></div></div><!-- related header--><div class=\"box-related-content block-content-wrap row\"><div class=\"post-outer\"><article class=\"post-wrap post-list-1 clearfix\"><div class=\"post-list-inner\"><div class=\"col-sm-6 col-left\"><div class=\"post-thumb-outer ruby-animated-image ruby-fade\"><div class=\"post-thumb is-image\"><a data-wpel-link=\"internal\" href=\"https://ceoworld.biz/2024/11/22/japan-unveils-250-billion-economic-package-to-counter-inflation-and-support-households/\" rel=\"bookmark follow\" title=\"Japan Unveils $250 Billion Economic Package to Counter Inflation and Support Households\"><span class=\"thumbnail-resize\"><span class=\"thumbnail-image\"><img alt=\"\" class=\"attachment-bingo_ruby_crop_365x330 size-bingo_ruby_crop_365x330 wp-post-image\" decoding=\"async\" height=\"330\" loading=\"lazy\" src=\"https://ceoworld.biz/wp-content/uploads/2024/11/Japan-365x330.jpg\" width=\"365\"/></span></span><!-- thumbnail resize--></a></div><!-- post thumbnail--></div></div><div class=\"col-sm-6 col-right\"><div class=\"post-body\"><div class=\"post-list-content\"><div class=\"post-cat-info clearfix\"><a class=\"cat-info-el cat-info-id-37201\" data-wpel-link=\"internal\" href=\"https://ceoworld.biz/special-reports/\" rel=\"follow\" title=\"Special Reports\">Special Reports</a></div><!-- post cat info--><h2 class=\"post-title entry-title is-size-3\"><a class=\"post-title-link\" data-wpel-link=\"internal\" href=\"https://ceoworld.biz/2024/11/22/japan-unveils-250-billion-economic-package-to-counter-inflation-and-support-households/\" rel=\"bookmark follow\" title=\"Japan Unveils $250 Billion Economic Package to Counter Inflation and Support Households\">Japan Unveils $250 Billion Economic Package to Counter Inflation and Support Households</a></h2><!-- post title--><div class=\"post-meta-info is-hide-icon\"><div class=\"post-meta-info-left\"><span class=\"meta-info-el meta-info-cat\"><a class=\"info-cat-el\" data-wpel-link=\"internal\" href=\"https://ceoworld.biz/special-reports/\" rel=\"follow\" title=\"Special Reports\">Special Reports</a></span><!--meta info category--><span class=\"meta-info-el meta-info-author vcard author\"><a class=\"url fn n\" data-wpel-link=\"internal\" href=\"https://ceoworld.biz/author/anna-siampani/\" rel=\"follow\">Anna Siampani</a></span></div><!-- post meta info left--></div><!-- post meta info--><div class=\"post-excerpt\">The Japanese government has approved a $250 billion economic package, featuring subsidies to address rising energy costs and direct cash...</div><!-- excerpt--></div><div class=\"post-meta-info-share clearfix\"><div class=\"post-meta-share-inner is-relative\"><div class=\"social-sharing\"><a class=\"share-bar-el icon-facebook\" data-wpel-link=\"external\" href=\"https://www.facebook.com/sharer.php?u=https%3A%2F%2Fceoworld.biz%2F2024%2F11%2F22%2Fjapan-unveils-250-billion-economic-package-to-counter-inflation-and-support-households%2F\" onclick=\"window.open(this.href, 'mywin','left=50,top=50,width=600,height=350,toolbar=0'); return false;\" rel=\"nofollow\" target=\"_blank\"><i class=\"rbi rbi-facebook color-facebook\"></i></a><a class=\"share-bar-el icon-twitter\" data-wpel-link=\"external\" href=\"https://twitter.com/intent/tweet?text=Japan+Unveils+%24250+Billion+Economic+Package+to+Counter+Inflation+and+Support+Households&amp;url=https%3A%2F%2Fceoworld.biz%2F2024%2F11%2F22%2Fjapan-unveils-250-billion-economic-package-to-counter-inflation-and-support-households%2F&amp;via=CEOWORLD+magazine\" rel=\"nofollow\" target=\"_blank\"><i class=\"rbi rbi-twitter color-twitter\"></i></a><a class=\"share-bar-el icon-linkedin\" data-wpel-link=\"external\" href=\"https://linkedin.com/shareArticle?mini=true&amp;url=https%3A%2F%2Fceoworld.biz%2F2024%2F11%2F22%2Fjapan-unveils-250-billion-economic-package-to-counter-inflation-and-support-households%2F&amp;title=Japan+Unveils+%24250+Billion+Economic+Package+to+Counter+Inflation+and+Support+Households\" onclick=\"window.open(this.href, 'mywin','left=50,top=50,width=600,height=350,toolbar=0'); return false;\" rel=\"nofollow\" target=\"_blank\"><i class=\"rbi rbi-linkedin\"></i></a><a class=\"share-bar-el icon-reddit\" data-wpel-link=\"external\" href=\"https://www.reddit.com/submit?url=https%3A%2F%2Fceoworld.biz%2F2024%2F11%2F22%2Fjapan-unveils-250-billion-economic-package-to-counter-inflation-and-support-households%2F&amp;title=Japan+Unveils+%24250+Billion+Economic+Package+to+Counter+Inflation+and+Support+Households\" onclick=\"window.open(this.href, 'mywin','left=50,top=50,width=600,height=350,toolbar=0'); return false;\" rel=\"nofollow\" target=\"_blank\"><i class=\"rbi rbi-reddit\"></i></a><a class=\"share-bar-el icon-email\" data-wpel-link=\"internal\" href=\"mailto:?subject=Japan+Unveils+%24250+Billion+Economic+Package+to+Counter+Inflation+and+Support+Households&amp;BODY=I+found+this+article+interesting+and+thought+of+sharing+it+with+you.+Check+it+out%3Ahttps%3A%2F%2Fceoworld.biz%2F2024%2F11%2F22%2Fjapan-unveils-250-billion-economic-package-to-counter-inflation-and-support-households%2F\" rel=\"follow\"><i class=\"rbi rbi-email\"></i></a><a class=\"share-bar-el icon-native native-share-trigger more-icon\" data-link=\"https://ceoworld.biz/2024/11/22/japan-unveils-250-billion-economic-package-to-counter-inflation-and-support-households/\" data-ptitle=\"Japan Unveils $250 Billion Economic Package to Counter Inflation and Support Households\" href=\"#\" rel=\"nofollow\"><i class=\"rbi rbi-more\"></i></a></div></div></div></div></div></div></article></div><div class=\"post-outer\"><article class=\"post-wrap post-list-1 clearfix\"><div class=\"post-list-inner\"><div class=\"col-sm-6 col-left\"><div class=\"post-thumb-outer ruby-animated-image ruby-fade\"><div class=\"post-thumb is-image\"><a data-wpel-link=\"internal\" href=\"https://ceoworld.biz/2024/11/22/gbp-usd-declines-for-third-straight-session-as-us-dollar-strengthens/\" rel=\"bookmark follow\" title=\"GBP/USD Declines for Third Straight Session as US Dollar Strengthens\"><span class=\"thumbnail-resize\"><span class=\"thumbnail-image\"><img alt=\"\" class=\"attachment-bingo_ruby_crop_365x330 size-bingo_ruby_crop_365x330 wp-post-image\" decoding=\"async\" height=\"330\" loading=\"lazy\" src=\"https://ceoworld.biz/wp-content/uploads/2024/11/dollars-365x330.jpg\" width=\"365\"/></span></span><!-- thumbnail resize--></a></div><!-- post thumbnail--></div></div><div class=\"col-sm-6 col-right\"><div class=\"post-body\"><div class=\"post-list-content\"><div class=\"post-cat-info clearfix\"><a class=\"cat-info-el cat-info-id-37201\" data-wpel-link=\"internal\" href=\"https://ceoworld.biz/special-reports/\" rel=\"follow\" title=\"Special Reports\">Special Reports</a></div><!-- post cat info--><h2 class=\"post-title entry-title is-size-3\"><a class=\"post-title-link\" data-wpel-link=\"internal\" href=\"https://ceoworld.biz/2024/11/22/gbp-usd-declines-for-third-straight-session-as-us-dollar-strengthens/\" rel=\"bookmark follow\" title=\"GBP/USD Declines for Third Straight Session as US Dollar Strengthens\">GBP/USD Declines for Third Straight Session as US Dollar Strengthens</a></h2><!-- post title--><div class=\"post-meta-info is-hide-icon\"><div class=\"post-meta-info-left\"><span class=\"meta-info-el meta-info-cat\"><a class=\"info-cat-el\" data-wpel-link=\"internal\" href=\"https://ceoworld.biz/special-reports/\" rel=\"follow\" title=\"Special Reports\">Special Reports</a></span><!--meta info category--><span class=\"meta-info-el meta-info-author vcard author\"><a class=\"url fn n\" data-wpel-link=\"internal\" href=\"https://ceoworld.biz/author/anna-siampani/\" rel=\"follow\">Anna Siampani</a></span></div><!-- post meta info left--></div><!-- post meta info--><div class=\"post-excerpt\">The GBP/USD pair extended its losses for a third consecutive session on Friday, trading around 1.2580 during Asian market hours....</div><!-- excerpt--></div><div class=\"post-meta-info-share clearfix\"><div class=\"post-meta-share-inner is-relative\"><div class=\"social-sharing\"><a class=\"share-bar-el icon-facebook\" data-wpel-link=\"external\" href=\"https://www.facebook.com/sharer.php?u=https%3A%2F%2Fceoworld.biz%2F2024%2F11%2F22%2Fgbp-usd-declines-for-third-straight-session-as-us-dollar-strengthens%2F\" onclick=\"window.open(this.href, 'mywin','left=50,top=50,width=600,height=350,toolbar=0'); return false;\" rel=\"nofollow\" target=\"_blank\"><i class=\"rbi rbi-facebook color-facebook\"></i></a><a class=\"share-bar-el icon-twitter\" data-wpel-link=\"external\" href=\"https://twitter.com/intent/tweet?text=GBP%2FUSD+Declines+for+Third+Straight+Session+as+US+Dollar+Strengthens&amp;url=https%3A%2F%2Fceoworld.biz%2F2024%2F11%2F22%2Fgbp-usd-declines-for-third-straight-session-as-us-dollar-strengthens%2F&amp;via=CEOWORLD+magazine\" rel=\"nofollow\" target=\"_blank\"><i class=\"rbi rbi-twitter color-twitter\"></i></a><a class=\"share-bar-el icon-linkedin\" data-wpel-link=\"external\" href=\"https://linkedin.com/shareArticle?mini=true&amp;url=https%3A%2F%2Fceoworld.biz%2F2024%2F11%2F22%2Fgbp-usd-declines-for-third-straight-session-as-us-dollar-strengthens%2F&amp;title=GBP%2FUSD+Declines+for+Third+Straight+Session+as+US+Dollar+Strengthens\" onclick=\"window.open(this.href, 'mywin','left=50,top=50,width=600,height=350,toolbar=0'); return false;\" rel=\"nofollow\" target=\"_blank\"><i class=\"rbi rbi-linkedin\"></i></a><a class=\"share-bar-el icon-reddit\" data-wpel-link=\"external\" href=\"https://www.reddit.com/submit?url=https%3A%2F%2Fceoworld.biz%2F2024%2F11%2F22%2Fgbp-usd-declines-for-third-straight-session-as-us-dollar-strengthens%2F&amp;title=GBP%2FUSD+Declines+for+Third+Straight+Session+as+US+Dollar+Strengthens\" onclick=\"window.open(this.href, 'mywin','left=50,top=50,width=600,height=350,toolbar=0'); return false;\" rel=\"nofollow\" target=\"_blank\"><i class=\"rbi rbi-reddit\"></i></a><a class=\"share-bar-el icon-email\" data-wpel-link=\"internal\" href=\"mailto:?subject=GBP%2FUSD+Declines+for+Third+Straight+Session+as+US+Dollar+Strengthens&amp;BODY=I+found+this+article+interesting+and+thought+of+sharing+it+with+you.+Check+it+out%3Ahttps%3A%2F%2Fceoworld.biz%2F2024%2F11%2F22%2Fgbp-usd-declines-for-third-straight-session-as-us-dollar-strengthens%2F\" rel=\"follow\"><i class=\"rbi rbi-email\"></i></a><a class=\"share-bar-el icon-native native-share-trigger more-icon\" data-link=\"https://ceoworld.biz/2024/11/22/gbp-usd-declines-for-third-straight-session-as-us-dollar-strengthens/\" data-ptitle=\"GBP/USD Declines for Third Straight Session as US Dollar Strengthens\" href=\"#\" rel=\"nofollow\"><i class=\"rbi rbi-more\"></i></a></div></div></div></div></div></div></article></div><div class=\"post-outer\"><article class=\"post-wrap post-list-1 clearfix\"><div class=\"post-list-inner\"><div class=\"col-sm-6 col-left\"><div class=\"post-thumb-outer ruby-animated-image ruby-fade\"><div class=\"post-thumb is-image\"><a data-wpel-link=\"internal\" href=\"https://ceoworld.biz/2024/11/20/what-will-marketing-look-like-in-2025-9-bold-predictions/\" rel=\"bookmark follow\" title=\"What Will Marketing Look Like in 2025? 9 Bold Predictions\"><span class=\"thumbnail-resize\"><span class=\"thumbnail-image\"><img alt=\"Deb Andrews, Founder &amp; President of Marketing of Marketri\" class=\"attachment-bingo_ruby_crop_365x330 size-bingo_ruby_crop_365x330 wp-post-image\" decoding=\"async\" height=\"330\" loading=\"lazy\" src=\"https://ceoworld.biz/wp-content/uploads/2024/11/Deb-Andrews-1-365x330.jpg\" width=\"365\"/></span></span><!-- thumbnail resize--></a></div><!-- post thumbnail--></div></div><div class=\"col-sm-6 col-right\"><div class=\"post-body\"><div class=\"post-list-content\"><div class=\"post-cat-info clearfix\"><a class=\"cat-info-el cat-info-id-18009\" data-wpel-link=\"internal\" href=\"https://ceoworld.biz/ceoadvisory/\" rel=\"follow\" title=\"CEO Advisory\">CEO Advisory</a></div><!-- post cat info--><h2 class=\"post-title entry-title is-size-3\"><a class=\"post-title-link\" data-wpel-link=\"internal\" href=\"https://ceoworld.biz/2024/11/20/what-will-marketing-look-like-in-2025-9-bold-predictions/\" rel=\"bookmark follow\" title=\"What Will Marketing Look Like in 2025? 9 Bold Predictions\">What Will Marketing Look Like in 2025? 9 Bold Predictions</a></h2><!-- post title--><div class=\"post-meta-info is-hide-icon\"><div class=\"post-meta-info-left\"><span class=\"meta-info-el meta-info-cat\"><a class=\"info-cat-el\" data-wpel-link=\"internal\" href=\"https://ceoworld.biz/ceoadvisory/\" rel=\"follow\" title=\"CEO Advisory\">CEO Advisory</a></span><!--meta info category--><span class=\"meta-info-el meta-info-author vcard author\"><a class=\"url fn n\" data-wpel-link=\"internal\" href=\"https://ceoworld.biz/author/deb-andrews/\" rel=\"follow\">Deb Andrews</a></span></div><!-- post meta info left--></div><!-- post meta info--><div class=\"post-excerpt\">Marketing is changing at a pace we couldn't have anticipated just a few years ago. As B2B companies and their...</div><!-- excerpt--></div><div class=\"post-meta-info-share clearfix\"><div class=\"post-meta-share-inner is-relative\"><div class=\"social-sharing\"><a class=\"share-bar-el icon-facebook\" data-wpel-link=\"external\" href=\"https://www.facebook.com/sharer.php?u=https%3A%2F%2Fceoworld.biz%2F2024%2F11%2F20%2Fwhat-will-marketing-look-like-in-2025-9-bold-predictions%2F\" onclick=\"window.open(this.href, 'mywin','left=50,top=50,width=600,height=350,toolbar=0'); return false;\" rel=\"nofollow\" target=\"_blank\"><i class=\"rbi rbi-facebook color-facebook\"></i></a><a class=\"share-bar-el icon-twitter\" data-wpel-link=\"external\" href=\"https://twitter.com/intent/tweet?text=What+Will+Marketing+Look+Like+in+2025%3F+9+Bold+Predictions&amp;url=https%3A%2F%2Fceoworld.biz%2F2024%2F11%2F20%2Fwhat-will-marketing-look-like-in-2025-9-bold-predictions%2F&amp;via=CEOWORLD+magazine\" rel=\"nofollow\" target=\"_blank\"><i class=\"rbi rbi-twitter color-twitter\"></i></a><a class=\"share-bar-el icon-linkedin\" data-wpel-link=\"external\" href=\"https://linkedin.com/shareArticle?mini=true&amp;url=https%3A%2F%2Fceoworld.biz%2F2024%2F11%2F20%2Fwhat-will-marketing-look-like-in-2025-9-bold-predictions%2F&amp;title=What+Will+Marketing+Look+Like+in+2025%3F+9+Bold+Predictions\" onclick=\"window.open(this.href, 'mywin','left=50,top=50,width=600,height=350,toolbar=0'); return false;\" rel=\"nofollow\" target=\"_blank\"><i class=\"rbi rbi-linkedin\"></i></a><a class=\"share-bar-el icon-reddit\" data-wpel-link=\"external\" href=\"https://www.reddit.com/submit?url=https%3A%2F%2Fceoworld.biz%2F2024%2F11%2F20%2Fwhat-will-marketing-look-like-in-2025-9-bold-predictions%2F&amp;title=What+Will+Marketing+Look+Like+in+2025%3F+9+Bold+Predictions\" onclick=\"window.open(this.href, 'mywin','left=50,top=50,width=600,height=350,toolbar=0'); return false;\" rel=\"nofollow\" target=\"_blank\"><i class=\"rbi rbi-reddit\"></i></a><a class=\"share-bar-el icon-email\" data-wpel-link=\"internal\" href=\"mailto:?subject=What+Will+Marketing+Look+Like+in+2025%3F+9+Bold+Predictions&amp;BODY=I+found+this+article+interesting+and+thought+of+sharing+it+with+you.+Check+it+out%3Ahttps%3A%2F%2Fceoworld.biz%2F2024%2F11%2F20%2Fwhat-will-marketing-look-like-in-2025-9-bold-predictions%2F\" rel=\"follow\"><i class=\"rbi rbi-email\"></i></a><a class=\"share-bar-el icon-native native-share-trigger more-icon\" data-link=\"https://ceoworld.biz/2024/11/20/what-will-marketing-look-like-in-2025-9-bold-predictions/\" data-ptitle=\"What Will Marketing Look Like in 2025? 9 Bold Predictions\" href=\"#\" rel=\"nofollow\"><i class=\"rbi rbi-more\"></i></a></div></div></div></div></div></div></article></div><div class=\"post-outer\"><article class=\"post-wrap post-list-1 clearfix\"><div class=\"post-list-inner\"><div class=\"col-sm-6 col-left\"><div class=\"post-thumb-outer ruby-animated-image ruby-fade\"><div class=\"post-thumb is-image\"><a data-wpel-link=\"internal\" href=\"https://ceoworld.biz/2024/11/19/zee-entertainment-stock-increases-by-7-6-as-punit-goenka-is-promoted-to-ceo/\" rel=\"bookmark follow\" title=\"ZEE Entertainment Stock Increases by 7.6% as Punit Goenka is Promoted to CEO\"><span class=\"thumbnail-resize\"><span class=\"thumbnail-image\"><img alt=\"\" class=\"attachment-bingo_ruby_crop_365x330 size-bingo_ruby_crop_365x330 wp-post-image\" decoding=\"async\" height=\"330\" loading=\"lazy\" src=\"https://ceoworld.biz/wp-content/uploads/2024/11/ZEE-365x330.jpg\" width=\"365\"/></span></span><!-- thumbnail resize--></a></div><!-- post thumbnail--></div></div><div class=\"col-sm-6 col-right\"><div class=\"post-body\"><div class=\"post-list-content\"><div class=\"post-cat-info clearfix\"><a class=\"cat-info-el cat-info-id-37306\" data-wpel-link=\"internal\" href=\"https://ceoworld.biz/banking-and-finance/\" rel=\"follow\" title=\"Banking and Finance\">Banking and Finance</a></div><!-- post cat info--><h2 class=\"post-title entry-title is-size-3\"><a class=\"post-title-link\" data-wpel-link=\"internal\" href=\"https://ceoworld.biz/2024/11/19/zee-entertainment-stock-increases-by-7-6-as-punit-goenka-is-promoted-to-ceo/\" rel=\"bookmark follow\" title=\"ZEE Entertainment Stock Increases by 7.6% as Punit Goenka is Promoted to CEO\">ZEE Entertainment Stock Increases by 7.6% as Punit Goenka is Promoted to CEO</a></h2><!-- post title--><div class=\"post-meta-info is-hide-icon\"><div class=\"post-meta-info-left\"><span class=\"meta-info-el meta-info-cat\"><a class=\"info-cat-el\" data-wpel-link=\"internal\" href=\"https://ceoworld.biz/banking-and-finance/\" rel=\"follow\" title=\"Banking and Finance\">Banking and Finance</a></span><!--meta info category--><span class=\"meta-info-el meta-info-author vcard author\"><a class=\"url fn n\" data-wpel-link=\"internal\" href=\"https://ceoworld.biz/author/anna-siampani/\" rel=\"follow\">Anna Siampani</a></span></div><!-- post meta info left--></div><!-- post meta info--><div class=\"post-excerpt\">ZEE Entertainment Enterprises Limited (ZEEL) experienced a notable 7.6% increase in its share price following the announcement of a key...</div><!-- excerpt--></div><div class=\"post-meta-info-share clearfix\"><div class=\"post-meta-share-inner is-relative\"><div class=\"social-sharing\"><a class=\"share-bar-el icon-facebook\" data-wpel-link=\"external\" href=\"https://www.facebook.com/sharer.php?u=https%3A%2F%2Fceoworld.biz%2F2024%2F11%2F19%2Fzee-entertainment-stock-increases-by-7-6-as-punit-goenka-is-promoted-to-ceo%2F\" onclick=\"window.open(this.href, 'mywin','left=50,top=50,width=600,height=350,toolbar=0'); return false;\" rel=\"nofollow\" target=\"_blank\"><i class=\"rbi rbi-facebook color-facebook\"></i></a><a class=\"share-bar-el icon-twitter\" data-wpel-link=\"external\" href=\"https://twitter.com/intent/tweet?text=ZEE+Entertainment+Stock+Increases+by+7.6%25+as+Punit+Goenka+is+Promoted+to+CEO&amp;url=https%3A%2F%2Fceoworld.biz%2F2024%2F11%2F19%2Fzee-entertainment-stock-increases-by-7-6-as-punit-goenka-is-promoted-to-ceo%2F&amp;via=CEOWORLD+magazine\" rel=\"nofollow\" target=\"_blank\"><i class=\"rbi rbi-twitter color-twitter\"></i></a><a class=\"share-bar-el icon-linkedin\" data-wpel-link=\"external\" href=\"https://linkedin.com/shareArticle?mini=true&amp;url=https%3A%2F%2Fceoworld.biz%2F2024%2F11%2F19%2Fzee-entertainment-stock-increases-by-7-6-as-punit-goenka-is-promoted-to-ceo%2F&amp;title=ZEE+Entertainment+Stock+Increases+by+7.6%25+as+Punit+Goenka+is+Promoted+to+CEO\" onclick=\"window.open(this.href, 'mywin','left=50,top=50,width=600,height=350,toolbar=0'); return false;\" rel=\"nofollow\" target=\"_blank\"><i class=\"rbi rbi-linkedin\"></i></a><a class=\"share-bar-el icon-reddit\" data-wpel-link=\"external\" href=\"https://www.reddit.com/submit?url=https%3A%2F%2Fceoworld.biz%2F2024%2F11%2F19%2Fzee-entertainment-stock-increases-by-7-6-as-punit-goenka-is-promoted-to-ceo%2F&amp;title=ZEE+Entertainment+Stock+Increases+by+7.6%25+as+Punit+Goenka+is+Promoted+to+CEO\" onclick=\"window.open(this.href, 'mywin','left=50,top=50,width=600,height=350,toolbar=0'); return false;\" rel=\"nofollow\" target=\"_blank\"><i class=\"rbi rbi-reddit\"></i></a><a class=\"share-bar-el icon-email\" data-wpel-link=\"internal\" href=\"mailto:?subject=ZEE+Entertainment+Stock+Increases+by+7.6%25+as+Punit+Goenka+is+Promoted+to+CEO&amp;BODY=I+found+this+article+interesting+and+thought+of+sharing+it+with+you.+Check+it+out%3Ahttps%3A%2F%2Fceoworld.biz%2F2024%2F11%2F19%2Fzee-entertainment-stock-increases-by-7-6-as-punit-goenka-is-promoted-to-ceo%2F\" rel=\"follow\"><i class=\"rbi rbi-email\"></i></a><a class=\"share-bar-el icon-native native-share-trigger more-icon\" data-link=\"https://ceoworld.biz/2024/11/19/zee-entertainment-stock-increases-by-7-6-as-punit-goenka-is-promoted-to-ceo/\" data-ptitle=\"ZEE Entertainment Stock Increases by 7.6% as Punit Goenka is Promoted to CEO\" href=\"#\" rel=\"nofollow\"><i class=\"rbi rbi-more\"></i></a></div></div></div></div></div></div></article></div><div class=\"post-outer\"><article class=\"post-wrap post-list-1 clearfix\"><div class=\"post-list-inner\"><div class=\"col-sm-6 col-left\"><div class=\"post-thumb-outer ruby-animated-image ruby-fade\"><div class=\"post-thumb is-image\"><a data-wpel-link=\"internal\" href=\"https://ceoworld.biz/2024/11/19/denmarks-wealthiest-families-see-billions-added-to-their-fortunes-in-2024/\" rel=\"bookmark follow\" title=\"Denmark’s Wealthiest Families See Billions Added to Their Fortunes in 2024\"><span class=\"thumbnail-resize\"><span class=\"thumbnail-image\"><img alt=\"\" class=\"attachment-bingo_ruby_crop_365x330 size-bingo_ruby_crop_365x330 wp-post-image\" decoding=\"async\" height=\"330\" loading=\"lazy\" sizes=\"auto, (max-width: 365px) 100vw, 365px\" src=\"https://ceoworld.biz/wp-content/uploads/2024/11/Denmark-365x330.jpg\" srcset=\"https://ceoworld.biz/wp-content/uploads/2024/11/Denmark-365x330.jpg 365w, https://ceoworld.biz/wp-content/uploads/2024/11/Denmark-540x490.jpg 540w\" width=\"365\"/></span></span><!-- thumbnail resize--></a></div><!-- post thumbnail--></div></div><div class=\"col-sm-6 col-right\"><div class=\"post-body\"><div class=\"post-list-content\"><div class=\"post-cat-info clearfix\"><a class=\"cat-info-el cat-info-id-37203\" data-wpel-link=\"internal\" href=\"https://ceoworld.biz/money-and-wealth/\" rel=\"follow\" title=\"Money and Wealth\">Money and Wealth</a></div><!-- post cat info--><h2 class=\"post-title entry-title is-size-3\"><a class=\"post-title-link\" data-wpel-link=\"internal\" href=\"https://ceoworld.biz/2024/11/19/denmarks-wealthiest-families-see-billions-added-to-their-fortunes-in-2024/\" rel=\"bookmark follow\" title=\"Denmark’s Wealthiest Families See Billions Added to Their Fortunes in 2024\">Denmark’s Wealthiest Families See Billions Added to Their Fortunes in 2024</a></h2><!-- post title--><div class=\"post-meta-info is-hide-icon\"><div class=\"post-meta-info-left\"><span class=\"meta-info-el meta-info-cat\"><a class=\"info-cat-el\" data-wpel-link=\"internal\" href=\"https://ceoworld.biz/money-and-wealth/\" rel=\"follow\" title=\"Money and Wealth\">Money and Wealth</a></span><!--meta info category--><span class=\"meta-info-el meta-info-author vcard author\"><a class=\"url fn n\" data-wpel-link=\"internal\" href=\"https://ceoworld.biz/author/anna-siampani/\" rel=\"follow\">Anna Siampani</a></span></div><!-- post meta info left--></div><!-- post meta info--><div class=\"post-excerpt\">Denmark's 20 richest families collectively increased their wealth by approximately $8.4 billion over the past year, according to the 2024...</div><!-- excerpt--></div><div class=\"post-meta-info-share clearfix\"><div class=\"post-meta-share-inner is-relative\"><div class=\"social-sharing\"><a class=\"share-bar-el icon-facebook\" data-wpel-link=\"external\" href=\"https://www.facebook.com/sharer.php?u=https%3A%2F%2Fceoworld.biz%2F2024%2F11%2F19%2Fdenmarks-wealthiest-families-see-billions-added-to-their-fortunes-in-2024%2F\" onclick=\"window.open(this.href, 'mywin','left=50,top=50,width=600,height=350,toolbar=0'); return false;\" rel=\"nofollow\" target=\"_blank\"><i class=\"rbi rbi-facebook color-facebook\"></i></a><a class=\"share-bar-el icon-twitter\" data-wpel-link=\"external\" href=\"https://twitter.com/intent/tweet?text=Denmark%E2%80%99s+Wealthiest+Families+See+Billions+Added+to+Their+Fortunes+in+2024&amp;url=https%3A%2F%2Fceoworld.biz%2F2024%2F11%2F19%2Fdenmarks-wealthiest-families-see-billions-added-to-their-fortunes-in-2024%2F&amp;via=CEOWORLD+magazine\" rel=\"nofollow\" target=\"_blank\"><i class=\"rbi rbi-twitter color-twitter\"></i></a><a class=\"share-bar-el icon-linkedin\" data-wpel-link=\"external\" href=\"https://linkedin.com/shareArticle?mini=true&amp;url=https%3A%2F%2Fceoworld.biz%2F2024%2F11%2F19%2Fdenmarks-wealthiest-families-see-billions-added-to-their-fortunes-in-2024%2F&amp;title=Denmark%E2%80%99s+Wealthiest+Families+See+Billions+Added+to+Their+Fortunes+in+2024\" onclick=\"window.open(this.href, 'mywin','left=50,top=50,width=600,height=350,toolbar=0'); return false;\" rel=\"nofollow\" target=\"_blank\"><i class=\"rbi rbi-linkedin\"></i></a><a class=\"share-bar-el icon-reddit\" data-wpel-link=\"external\" href=\"https://www.reddit.com/submit?url=https%3A%2F%2Fceoworld.biz%2F2024%2F11%2F19%2Fdenmarks-wealthiest-families-see-billions-added-to-their-fortunes-in-2024%2F&amp;title=Denmark%E2%80%99s+Wealthiest+Families+See+Billions+Added+to+Their+Fortunes+in+2024\" onclick=\"window.open(this.href, 'mywin','left=50,top=50,width=600,height=350,toolbar=0'); return false;\" rel=\"nofollow\" target=\"_blank\"><i class=\"rbi rbi-reddit\"></i></a><a class=\"share-bar-el icon-email\" data-wpel-link=\"internal\" href=\"mailto:?subject=Denmark%E2%80%99s+Wealthiest+Families+See+Billions+Added+to+Their+Fortunes+in+2024&amp;BODY=I+found+this+article+interesting+and+thought+of+sharing+it+with+you.+Check+it+out%3Ahttps%3A%2F%2Fceoworld.biz%2F2024%2F11%2F19%2Fdenmarks-wealthiest-families-see-billions-added-to-their-fortunes-in-2024%2F\" rel=\"follow\"><i class=\"rbi rbi-email\"></i></a><a class=\"share-bar-el icon-native native-share-trigger more-icon\" data-link=\"https://ceoworld.biz/2024/11/19/denmarks-wealthiest-families-see-billions-added-to-their-fortunes-in-2024/\" data-ptitle=\"Denmark’s Wealthiest Families See Billions Added to Their Fortunes in 2024\" href=\"#\" rel=\"nofollow\"><i class=\"rbi rbi-more\"></i></a></div></div></div></div></div></div></article></div><div class=\"post-outer\"><article class=\"post-wrap post-list-1 clearfix\"><div class=\"post-list-inner\"><div class=\"col-sm-6 col-left\"><div class=\"post-thumb-outer ruby-animated-image ruby-fade\"><div class=\"post-thumb is-image\"><a data-wpel-link=\"internal\" href=\"https://ceoworld.biz/2024/11/16/mastering-ai-vision-key-skills-for-a-thriving-career-in-artificial-intelligence/\" rel=\"bookmark follow\" title=\"MASTERING AI VISION: KEY SKILLS FOR A THRIVING CAREER IN ARTIFICIAL INTELLIGENCE\"><span class=\"thumbnail-resize\"><span class=\"thumbnail-image\"><img alt=\"Rhett Power\" class=\"attachment-bingo_ruby_crop_365x330 size-bingo_ruby_crop_365x330 wp-post-image\" decoding=\"async\" height=\"330\" loading=\"lazy\" src=\"https://ceoworld.biz/wp-content/uploads/2022/08/Rhett-Power-1-365x330.jpg\" width=\"365\"/></span></span><!-- thumbnail resize--></a></div><!-- post thumbnail--></div></div><div class=\"col-sm-6 col-right\"><div class=\"post-body\"><div class=\"post-list-content\"><div class=\"post-cat-info clearfix\"><a class=\"cat-info-el cat-info-id-12038\" data-wpel-link=\"internal\" href=\"https://ceoworld.biz/ceoinsider/\" rel=\"follow\" title=\"CEO Insider\">CEO Insider</a></div><!-- post cat info--><h2 class=\"post-title entry-title is-size-3\"><a class=\"post-title-link\" data-wpel-link=\"internal\" href=\"https://ceoworld.biz/2024/11/16/mastering-ai-vision-key-skills-for-a-thriving-career-in-artificial-intelligence/\" rel=\"bookmark follow\" title=\"MASTERING AI VISION: KEY SKILLS FOR A THRIVING CAREER IN ARTIFICIAL INTELLIGENCE\">MASTERING AI VISION: KEY SKILLS FOR A THRIVING CAREER IN ARTIFICIAL INTELLIGENCE</a></h2><!-- post title--><div class=\"post-meta-info is-hide-icon\"><div class=\"post-meta-info-left\"><span class=\"meta-info-el meta-info-cat\"><a class=\"info-cat-el\" data-wpel-link=\"internal\" href=\"https://ceoworld.biz/ceoinsider/\" rel=\"follow\" title=\"CEO Insider\">CEO Insider</a></span><!--meta info category--><span class=\"meta-info-el meta-info-author vcard author\"><a class=\"url fn n\" data-wpel-link=\"internal\" href=\"https://ceoworld.biz/author/rhett-power/\" rel=\"follow\">Rhett Power</a></span></div><!-- post meta info left--></div><!-- post meta info--><div class=\"post-excerpt\">To build a successful career in AI vision, aspiring professionals need expertise in programming, machine learning, data analytics, and computer...</div><!-- excerpt--></div><div class=\"post-meta-info-share clearfix\"><div class=\"post-meta-share-inner is-relative\"><div class=\"social-sharing\"><a class=\"share-bar-el icon-facebook\" data-wpel-link=\"external\" href=\"https://www.facebook.com/sharer.php?u=https%3A%2F%2Fceoworld.biz%2F2024%2F11%2F16%2Fmastering-ai-vision-key-skills-for-a-thriving-career-in-artificial-intelligence%2F\" onclick=\"window.open(this.href, 'mywin','left=50,top=50,width=600,height=350,toolbar=0'); return false;\" rel=\"nofollow\" target=\"_blank\"><i class=\"rbi rbi-facebook color-facebook\"></i></a><a class=\"share-bar-el icon-twitter\" data-wpel-link=\"external\" href=\"https://twitter.com/intent/tweet?text=MASTERING+AI+VISION%3A+KEY+SKILLS+FOR+A+THRIVING+CAREER+IN+ARTIFICIAL+INTELLIGENCE&amp;url=https%3A%2F%2Fceoworld.biz%2F2024%2F11%2F16%2Fmastering-ai-vision-key-skills-for-a-thriving-career-in-artificial-intelligence%2F&amp;via=CEOWORLD+magazine\" rel=\"nofollow\" target=\"_blank\"><i class=\"rbi rbi-twitter color-twitter\"></i></a><a class=\"share-bar-el icon-linkedin\" data-wpel-link=\"external\" href=\"https://linkedin.com/shareArticle?mini=true&amp;url=https%3A%2F%2Fceoworld.biz%2F2024%2F11%2F16%2Fmastering-ai-vision-key-skills-for-a-thriving-career-in-artificial-intelligence%2F&amp;title=MASTERING+AI+VISION%3A+KEY+SKILLS+FOR+A+THRIVING+CAREER+IN+ARTIFICIAL+INTELLIGENCE\" onclick=\"window.open(this.href, 'mywin','left=50,top=50,width=600,height=350,toolbar=0'); return false;\" rel=\"nofollow\" target=\"_blank\"><i class=\"rbi rbi-linkedin\"></i></a><a class=\"share-bar-el icon-reddit\" data-wpel-link=\"external\" href=\"https://www.reddit.com/submit?url=https%3A%2F%2Fceoworld.biz%2F2024%2F11%2F16%2Fmastering-ai-vision-key-skills-for-a-thriving-career-in-artificial-intelligence%2F&amp;title=MASTERING+AI+VISION%3A+KEY+SKILLS+FOR+A+THRIVING+CAREER+IN+ARTIFICIAL+INTELLIGENCE\" onclick=\"window.open(this.href, 'mywin','left=50,top=50,width=600,height=350,toolbar=0'); return false;\" rel=\"nofollow\" target=\"_blank\"><i class=\"rbi rbi-reddit\"></i></a><a class=\"share-bar-el icon-email\" data-wpel-link=\"internal\" href=\"mailto:?subject=MASTERING+AI+VISION%3A+KEY+SKILLS+FOR+A+THRIVING+CAREER+IN+ARTIFICIAL+INTELLIGENCE&amp;BODY=I+found+this+article+interesting+and+thought+of+sharing+it+with+you.+Check+it+out%3Ahttps%3A%2F%2Fceoworld.biz%2F2024%2F11%2F16%2Fmastering-ai-vision-key-skills-for-a-thriving-career-in-artificial-intelligence%2F\" rel=\"follow\"><i class=\"rbi rbi-email\"></i></a><a class=\"share-bar-el icon-native native-share-trigger more-icon\" data-link=\"https://ceoworld.biz/2024/11/16/mastering-ai-vision-key-skills-for-a-thriving-career-in-artificial-intelligence/\" data-ptitle=\"MASTERING AI VISION: KEY SKILLS FOR A THRIVING CAREER IN ARTIFICIAL INTELLIGENCE\" href=\"#\" rel=\"nofollow\"><i class=\"rbi rbi-more\"></i></a></div></div></div></div></div></div></article></div></div><!-- related content--></div></div></div><aside class=\"sidebar-wrap col-sm-4 col-xs-12 clearfix\"><div class=\"ruby-sidebar-sticky\"><div class=\"sidebar-inner\"><section class=\"widget_text widget widget_custom_html\" id=\"custom_html-4\"><div class=\"textwidget custom-html-widget\"><script async=\"\" crossorigin=\"anonymous\" src=\"https://pagead2.googlesyndication.com/pagead/js/adsbygoogle.js?client=ca-pub-5477402865130065\"></script>\n",
       "<!-- Right SideBar -->\n",
       "<ins class=\"adsbygoogle\" data-ad-client=\"ca-pub-5477402865130065\" data-ad-format=\"auto\" data-ad-slot=\"6036111264\" style=\"display:block\"></ins>\n",
       "<script>\n",
       "     (adsbygoogle = window.adsbygoogle || []).push({});\n",
       "</script></div></section><section class=\"widget_text widget widget_custom_html\" id=\"custom_html-7\"><div class=\"widget-title block-title\"><h3>Let’s stay in touch</h3></div><div class=\"textwidget custom-html-widget\"><div class=\"ml-embedded\" data-form=\"legOKq\"></div></div></section></div></div></aside></div></article></div></div>\n",
       "<footer class=\"footer-wrap\" id=\"footer\">\n",
       "<div class=\"footer-inner is-dark-text\">\n",
       "<div class=\"column-footer-wrap\">\n",
       "<div class=\"ruby-container row\">\n",
       "<div class=\"column-footer-inner\">\n",
       "<div class=\"sidebar-footer col-sm-4 col-xs-12\" role=\"complementary\">\n",
       "<section class=\"widget_text widget widget_custom_html\" id=\"custom_html-5\"><div class=\"widget-title block-title\"><h3>Company Info</h3></div><div class=\"textwidget custom-html-widget\"><b>CEOWORLD magazine</b><br/>\n",
       "5th Avenue, New York, NY 10001, United States\n",
       "<br/>\n",
       "Phone: +1 3479835101 / + 1 6465831414<br/>\n",
       "Email: info@ceoworld.biz</div></section><section class=\"widget social-bar-widget\" id=\"bingo_ruby_social_widget-3\"><div class=\"widget-title block-title\"><h3>Find us on socials</h3></div> <div class=\"widget-content-wrap\">\n",
       "<div class=\"widget-social-link-info social-tooltips\">\n",
       "<a class=\"icon-facebook icon-social is-color\" data-wpel-link=\"external\" href=\"https://www.facebook.com/ceoworldmag\" rel=\"nofollow\" target=\"_blank\" title=\"facebook\"><i aria-hidden=\"true\" class=\"rbi rbi-facebook\"></i></a><a class=\"icon-twitter icon-social is-color\" data-wpel-link=\"external\" href=\"https://www.twitter.com/ceoworld\" rel=\"nofollow\" target=\"_blank\" title=\"twitter\"><i aria-hidden=\"true\" class=\"rbi rbi-twitter\"></i></a><a class=\"icon-pinterest icon-social is-color\" data-wpel-link=\"external\" href=\"https://www.pinterest.com/ceoworldmagazine/\" rel=\"nofollow\" target=\"_blank\" title=\"pinterest\"><i aria-hidden=\"true\" class=\"rbi rbi-pinterest\"></i></a><a class=\"icon-linkedin icon-social is-color\" data-wpel-link=\"external\" href=\"https://www.linkedin.com/company/ceoworldmagazine/\" rel=\"nofollow\" target=\"_blank\" title=\"linkedin\"><i aria-hidden=\"true\" class=\"rbi rbi-linkedin\"></i></a><a class=\"icon-instagram icon-social is-color\" data-wpel-link=\"external\" href=\"https://www.instagram.com/ceoworldmagazine/\" rel=\"nofollow\" target=\"_blank\" title=\"instagram\"><i aria-hidden=\"true\" class=\"rbi rbi-instagram\"></i></a><a class=\"icon-rss icon-social is-color\" data-wpel-link=\"internal\" href=\"https://ceoworld.biz/feed/\" rel=\"follow\" target=\"_blank\" title=\"rss\"><i aria-hidden=\"true\" class=\"rbi rbi-rss\"></i></a> </div>\n",
       "</div>\n",
       "</section><section class=\"widget widget_nav_menu\" id=\"nav_menu-5\"><div class=\"widget-title block-title\"><h3>Who we are?</h3></div><div class=\"menu-footer-widget-1-container\"><ul class=\"menu\" id=\"menu-footer-widget-1\"><li class=\"menu-item menu-item-type-post_type menu-item-object-page menu-item-200070\" id=\"menu-item-200070\"><a data-wpel-link=\"internal\" href=\"https://ceoworld.biz/about/\" rel=\"follow\">About us</a></li>\n",
       "<li class=\"menu-item menu-item-type-post_type menu-item-object-page menu-item-200071\" id=\"menu-item-200071\"><a data-wpel-link=\"internal\" href=\"https://ceoworld.biz/staff/\" rel=\"follow\">Editorial Staff</a></li>\n",
       "<li class=\"menu-item menu-item-type-post_type menu-item-object-page menu-item-204882\" id=\"menu-item-204882\"><a data-wpel-link=\"internal\" href=\"https://ceoworld.biz/our-columnists/\" rel=\"follow\">Our Columnists</a></li>\n",
       "<li class=\"menu-item menu-item-type-post_type menu-item-object-page menu-item-200075\" id=\"menu-item-200075\"><a data-wpel-link=\"internal\" href=\"https://ceoworld.biz/external-advisory-board-eab/\" rel=\"follow\">External Advisory Board (EAB)</a></li>\n",
       "<li class=\"menu-item menu-item-type-post_type menu-item-object-page menu-item-200074\" id=\"menu-item-200074\"><a data-wpel-link=\"internal\" href=\"https://ceoworld.biz/membership/\" rel=\"follow\">Executive Council</a></li>\n",
       "<li class=\"menu-item menu-item-type-post_type menu-item-object-page menu-item-200072\" id=\"menu-item-200072\"><a data-wpel-link=\"internal\" href=\"https://ceoworld.biz/subscription/\" rel=\"follow\">Print Subscription</a></li>\n",
       "<li class=\"menu-item menu-item-type-post_type menu-item-object-page menu-item-200073\" id=\"menu-item-200073\"><a data-wpel-link=\"internal\" href=\"https://ceoworld.biz/contribute/\" rel=\"follow\">Write for Us</a></li>\n",
       "<li class=\"menu-item menu-item-type-post_type menu-item-object-page menu-item-200076\" id=\"menu-item-200076\"><a data-wpel-link=\"internal\" href=\"https://ceoworld.biz/contact/\" rel=\"follow\">Contact US</a></li>\n",
       "<li class=\"menu-item menu-item-type-post_type menu-item-object-page menu-item-212577\" id=\"menu-item-212577\"><a data-wpel-link=\"internal\" href=\"https://ceoworld.biz/research/\" rel=\"follow\">Research Department</a></li>\n",
       "</ul></div></section> </div>\n",
       "<div class=\"sidebar-footer col-sm-4 col-xs-12\" role=\"complementary\">\n",
       "<section class=\"widget widget_nav_menu\" id=\"nav_menu-6\"><div class=\"widget-title block-title\"><h3>Legal &amp; Privacy</h3></div><div class=\"menu-publication-container\"><ul class=\"menu\" id=\"menu-publication\"><li class=\"menu-item menu-item-type-post_type menu-item-object-page menu-item-privacy-policy menu-item-200077\" id=\"menu-item-200077\"><a data-wpel-link=\"internal\" href=\"https://ceoworld.biz/privacy/\" rel=\"privacy-policy follow\">Privacy Policy</a></li>\n",
       "<li class=\"menu-item menu-item-type-post_type menu-item-object-page menu-item-200078\" id=\"menu-item-200078\"><a data-wpel-link=\"internal\" href=\"https://ceoworld.biz/dmca/\" rel=\"follow\">Copyright policy</a></li>\n",
       "<li class=\"menu-item menu-item-type-post_type menu-item-object-page menu-item-200079\" id=\"menu-item-200079\"><a data-wpel-link=\"internal\" href=\"https://ceoworld.biz/disclaimer/\" rel=\"follow\">Disclaimer</a></li>\n",
       "<li class=\"menu-item menu-item-type-post_type menu-item-object-page menu-item-200082\" id=\"menu-item-200082\"><a data-wpel-link=\"internal\" href=\"https://ceoworld.biz/imprint/\" rel=\"follow\">Imprint</a></li>\n",
       "<li class=\"menu-item menu-item-type-post_type menu-item-object-page menu-item-200080\" id=\"menu-item-200080\"><a data-wpel-link=\"internal\" href=\"https://ceoworld.biz/editorial-values-and-standards/\" rel=\"follow\">Editorial Values and Standards</a></li>\n",
       "<li class=\"menu-item menu-item-type-post_type menu-item-object-page menu-item-200081\" id=\"menu-item-200081\"><a data-wpel-link=\"internal\" href=\"https://ceoworld.biz/ethics-and-compliance/\" rel=\"follow\">Ethics and Compliance</a></li>\n",
       "<li class=\"menu-item menu-item-type-post_type menu-item-object-page menu-item-200085\" id=\"menu-item-200085\"><a data-wpel-link=\"internal\" href=\"https://ceoworld.biz/social-media-advisory/\" rel=\"follow\">Social Media Advisory</a></li>\n",
       "<li class=\"menu-item menu-item-type-post_type menu-item-object-page menu-item-200086\" id=\"menu-item-200086\"><a data-wpel-link=\"internal\" href=\"https://ceoworld.biz/tos/\" rel=\"follow\">Terms of Service</a></li>\n",
       "<li class=\"menu-item menu-item-type-post_type menu-item-object-page menu-item-200084\" id=\"menu-item-200084\"><a data-wpel-link=\"internal\" href=\"https://ceoworld.biz/linking-and-reprinting-policy/\" rel=\"follow\">Linking and Reprinting Policy</a></li>\n",
       "<li class=\"menu-item menu-item-type-post_type menu-item-object-page menu-item-200083\" id=\"menu-item-200083\"><a data-wpel-link=\"internal\" href=\"https://ceoworld.biz/inclusion-and-diversity-at-ceoworld-magazine/\" rel=\"follow\">Inclusion and Diversity</a></li>\n",
       "<li class=\"menu-item menu-item-type-post_type menu-item-object-page menu-item-200087\" id=\"menu-item-200087\"><a data-wpel-link=\"internal\" href=\"https://ceoworld.biz/newsletters/\" rel=\"follow\">Newsletters</a></li>\n",
       "<li class=\"menu-item menu-item-type-post_type menu-item-object-page menu-item-200088\" id=\"menu-item-200088\"><a data-wpel-link=\"internal\" href=\"https://ceoworld.biz/our-partners/\" rel=\"follow\">Our Partners</a></li>\n",
       "</ul></div></section><section class=\"widget_text widget widget_custom_html\" id=\"custom_html-8\"><div class=\"widget-title block-title\"><h3>Our Partners</h3></div><div class=\"textwidget custom-html-widget\"><a data-wpel-link=\"external\" href=\"https://depositphotos.com/\" rel=\"noopener nofollow\" target=\"_blank\"><img alt=\"Depositphotos\" class=\"alignnone size-full wp-image-114507 aligncenter\" height=\"48\" src=\"https://ceoworld.biz/wp-content/uploads/2021/05/depositphotos.png\" width=\"300\"/></a></div></section> </div>\n",
       "<div class=\"sidebar-footer col-sm-4 col-xs-12\" role=\"complementary\">\n",
       "<section class=\"widget_text widget widget_custom_html\" id=\"custom_html-10\"><div class=\"widget-title block-title\"><h3>Print Subscription</h3></div><div class=\"textwidget custom-html-widget\"><a data-wpel-link=\"internal\" href=\"https://ceoworld.biz/subscription/\" rel=\"follow\"><img alt=\"CEOWORLD magazine Print\" class=\"alignnone size-full wp-image-181469\" height=\"356\" src=\"https://ceoworld.biz/wp-content/uploads/2023/09/CEOWORLD-magazine-Print-1.png\" width=\"300\"/></a></div></section><section class=\"widget_text widget widget_custom_html\" id=\"custom_html-11\"><div class=\"widget-title block-title\"><h3>Subscribe Newsletter</h3></div><div class=\"textwidget custom-html-widget\"><div class=\"ml-embedded\" data-form=\"legOKq\"></div></div></section> </div>\n",
       "</div>\n",
       "</div>\n",
       "</div><!-- footer columns-->\n",
       "<div class=\"bottom-footer-wrap\">\n",
       "<div class=\"ruby-container\">\n",
       "<div class=\"bottom-footer-inner\">\n",
       "<div class=\"footer-logo\">\n",
       "<a class=\"logo\" data-wpel-link=\"internal\" href=\"https://ceoworld.biz/\" rel=\"follow\" title=\"CEOWORLD magazine\">\n",
       "<img alt=\"CEOWORLD magazine\" data-no-retina=\"\" height=\"78\" src=\"https://ceoworld.biz/wp-content/uploads/2021/05/CEOWORLD-magazine-Logo.png\" width=\"250\"/>\n",
       "</a>\n",
       "</div>\n",
       "<nav class=\"footer-menu-wrap\" id=\"ruby-footer-navigation\">\n",
       "<div class=\"menu-footer-navigation-container\"><ul class=\"footer-menu-inner\" id=\"footer-nav\"><li class=\"menu-item menu-item-type-post_type menu-item-object-page menu-item-privacy-policy menu-item-33631\" id=\"menu-item-33631\"><a data-wpel-link=\"internal\" href=\"https://ceoworld.biz/privacy/\" rel=\"privacy-policy follow\">Privacy</a></li>\n",
       "<li class=\"menu-item menu-item-type-post_type menu-item-object-page menu-item-33630\" id=\"menu-item-33630\"><a data-wpel-link=\"internal\" href=\"https://ceoworld.biz/dmca/\" rel=\"follow\">Copyright</a></li>\n",
       "<li class=\"menu-item menu-item-type-post_type menu-item-object-page menu-item-33633\" id=\"menu-item-33633\"><a data-wpel-link=\"internal\" href=\"https://ceoworld.biz/imprint/\" rel=\"follow\">Imprint</a></li>\n",
       "<li class=\"menu-item menu-item-type-post_type menu-item-object-page menu-item-33632\" id=\"menu-item-33632\"><a data-wpel-link=\"internal\" href=\"https://ceoworld.biz/disclaimer/\" rel=\"follow\">Disclaimer</a></li>\n",
       "<li class=\"menu-item menu-item-type-post_type menu-item-object-page menu-item-33629\" id=\"menu-item-33629\"><a data-wpel-link=\"internal\" href=\"https://ceoworld.biz/tos/\" rel=\"follow\">Terms of Service</a></li>\n",
       "<li class=\"menu-item menu-item-type-post_type menu-item-object-page menu-item-112628\" id=\"menu-item-112628\"><a data-wpel-link=\"internal\" href=\"https://ceoworld.biz/our-partners/\" rel=\"follow\">Partners</a></li>\n",
       "<li class=\"menu-item menu-item-type-post_type menu-item-object-page menu-item-112627\" id=\"menu-item-112627\"><a data-wpel-link=\"internal\" href=\"https://ceoworld.biz/contact/\" rel=\"follow\">Contact US</a></li>\n",
       "</ul></div> </nav>\n",
       "</div>\n",
       "</div>\n",
       "<div class=\"footer-copyright-wrap\" id=\"footer-copyright\">\n",
       "<p>© CEOWORLD magazine LTD 2024. CEOWORLD and ‘CEOWORLD magazine’ are trademarks of The CEOWORLD magazine LTD.</p>\n",
       "</div>\n",
       "</div>\n",
       "</div>\n",
       "</footer><!--  footer  -->\n",
       "</div>\n",
       "</div>\n",
       "<script type=\"text/javascript\">\n",
       "\n",
       "\tjQuery('body').on('geo_timeout_error', onGeo_timeout_error);\n",
       "\n",
       "\tfunction onGeo_timeout_error() {\n",
       "\t\tconsole.warn('The geolocationGetCurrent timed out');\n",
       "\n",
       "\t\tvar html  = '<h2 style=\"margin-top:36px;\">GPS Failed</h2>';\n",
       "\t\t\thtml += '<p>Your GPS did not respond. Be sure you have your GPS enabled and try again.</p>';\n",
       "\t\t\thtml += '<button onclick=\"AppGeo_getLoc()\">Try Again</button>';\n",
       "\t\t\thtml += '<div style=\"height:1000px\"></div>'; // a little hack to hide the checkin button without really tampering with it.\n",
       "\n",
       "\t\tjQuery('#map-canvas').html(html);\n",
       "\n",
       "\t}\n",
       "\n",
       "\t</script>\n",
       "<link href=\"https://ceoworld.biz/wp-content/plugins/tablepress-premium/css/build/default.css?ver=3.0\" id=\"tablepress-default-css\" media=\"all\" rel=\"stylesheet\" type=\"text/css\"/>\n",
       "<script id=\"bingo_ruby_plugin_scripts-js\" src=\"https://ceoworld.biz/wp-content/plugins/bingo-ruby-core/assets/script.js?ver=3.6\" type=\"text/javascript\"></script>\n",
       "<script id=\"wpel-front-js-extra\" type=\"text/javascript\">\n",
       "/* <![CDATA[ */\n",
       "var wp_external_links = {\"background\":\"#FFFFFF\",\"title\":\"You are leaving the website\",\"title_color\":\"#FFF\",\"title_background\":\"#999\",\"title_size\":\"18\",\"text\":\"This link leads outside the https:\\/\\/ceoworld.biz\\/ website and we are not responsible for that content. If you still want to visit this link, click here:\",\"text_color\":\"#444\",\"text_size\":\"12\",\"popup_width\":\"400\",\"popup_height\":\"200\",\"overlay\":\"1\",\"overlay_color\":\"#000\",\"button_background\":\"#888\",\"button_color\":\"#FFF\",\"button_text\":\"Stay on website\",\"button_size\":\"14\",\"continue_button\":\"\",\"continue_button_text\":\"Continue\"};\n",
       "/* ]]> */\n",
       "</script>\n",
       "<script id=\"wpel-front-js\" src=\"https://ceoworld.biz/wp-content/plugins/wp-external-links/public/js/wpel-front.js?ver=f56e9498862ea81294840c958aba8768\" type=\"text/javascript\"></script>\n",
       "<script id=\"ppress-frontend-script-js-extra\" type=\"text/javascript\">\n",
       "/* <![CDATA[ */\n",
       "var pp_ajax_form = {\"ajaxurl\":\"https:\\/\\/ceoworld.biz\\/wp-admin\\/admin-ajax.php\",\"confirm_delete\":\"Are you sure?\",\"deleting_text\":\"Deleting...\",\"deleting_error\":\"An error occurred. Please try again.\",\"nonce\":\"3b164e4b88\",\"disable_ajax_form\":\"false\",\"is_checkout\":\"0\",\"is_checkout_tax_enabled\":\"0\",\"is_checkout_autoscroll_enabled\":\"true\"};\n",
       "/* ]]> */\n",
       "</script>\n",
       "<script id=\"ppress-frontend-script-js\" src=\"https://ceoworld.biz/wp-content/plugins/wp-user-avatar/assets/js/frontend.min.js?ver=4.15.18\" type=\"text/javascript\"></script>\n",
       "<script id=\"modernizr-js\" src=\"https://ceoworld.biz/wp-content/themes/news/assets/external/lib-modernizr.js?ver=v2.8.3\" type=\"text/javascript\"></script>\n",
       "<script id=\"uitotop-js\" src=\"https://ceoworld.biz/wp-content/themes/news/assets/external/lib-totop.js?ver=v1.2\" type=\"text/javascript\"></script>\n",
       "<script id=\"imagesloaded-js\" src=\"https://ceoworld.biz/wp-includes/js/imagesloaded.min.js?ver=5.0.0\" type=\"text/javascript\"></script>\n",
       "<script id=\"waypoints-js\" src=\"https://ceoworld.biz/wp-content/themes/news/assets/external/lib-waypoints.js?ver=v3.1.1\" type=\"text/javascript\"></script>\n",
       "<script id=\"slick-js\" src=\"https://ceoworld.biz/wp-content/themes/news/assets/external/lib-slick.js?ver=v1.5.8\" type=\"text/javascript\"></script>\n",
       "<script id=\"tipsy-js\" src=\"https://ceoworld.biz/wp-content/themes/news/assets/external/lib-tipsy.js?ver=v1.0\" type=\"text/javascript\"></script>\n",
       "<script id=\"magnific-popup-js\" src=\"https://ceoworld.biz/wp-content/themes/news/assets/external/lib-magnificpopup.js?ver=v1.1.0\" type=\"text/javascript\"></script>\n",
       "<script id=\"justified-gallery-js\" src=\"https://ceoworld.biz/wp-content/themes/news/assets/external/lib-justified.js?ver=v1.1.0\" type=\"text/javascript\"></script>\n",
       "<script id=\"backstretch-js\" src=\"https://ceoworld.biz/wp-content/themes/news/assets/external/lib-backstretch.js?ver=v2.0.4\" type=\"text/javascript\"></script>\n",
       "<script id=\"smoothscroll-js\" src=\"https://ceoworld.biz/wp-content/themes/news/assets/external/lib-smoothscroll.js?ver=v1.2.1\" type=\"text/javascript\"></script>\n",
       "<script id=\"bootstrap-js\" src=\"https://ceoworld.biz/wp-content/themes/news/assets/external/lib-bootstrap.js?ver=v3.0\" type=\"text/javascript\"></script>\n",
       "<script id=\"fitvids-js\" src=\"https://ceoworld.biz/wp-content/themes/news/assets/external/lib-fitvids.js?ver=v1.1\" type=\"text/javascript\"></script>\n",
       "<script id=\"sticky-js\" src=\"https://ceoworld.biz/wp-content/themes/news/assets/external/lib-sticky.js?ver=v1.0.3\" type=\"text/javascript\"></script>\n",
       "<script id=\"ruby-sticky-js\" src=\"https://ceoworld.biz/wp-content/themes/news/assets/external/lib-rubysticky.js?ver=1.0\" type=\"text/javascript\"></script>\n",
       "<script id=\"bingo_ruby_script_main-js-extra\" type=\"text/javascript\">\n",
       "/* <![CDATA[ */\n",
       "var bingo_ruby_to_top = [\"1\"];\n",
       "var bingo_ruby_to_top_mobile = [\"1\"];\n",
       "var bingo_ruby_site_smooth_scroll = [\"1\"];\n",
       "/* ]]> */\n",
       "</script>\n",
       "<script id=\"bingo_ruby_script_main-js\" src=\"https://ceoworld.biz/wp-content/themes/news/assets/js/theme-script.js?ver=3.6\" type=\"text/javascript\"></script>\n",
       "<script id=\"tablepress-datatables-js\" src=\"https://ceoworld.biz/wp-content/plugins/tablepress-premium/js/jquery.datatables.min.js?ver=3.0\" type=\"text/javascript\"></script>\n",
       "</body>\n",
       "</html>"
      ]
     },
     "execution_count": 51,
     "metadata": {},
     "output_type": "execute_result"
    }
   ],
   "source": [
    "soup"
   ]
  },
  {
   "cell_type": "code",
   "execution_count": 52,
   "id": "0ed0a537",
   "metadata": {},
   "outputs": [],
   "source": [
    "Medical_College = soup.find_all(\"td\",class_=\"column-2\")\n",
    "Campus = soup.find_all(\"td\",class_=\"column-3\")\n",
    "Country = soup.find_all(\"td\",class_=\"column-4\")\n",
    "Score = soup.find_all(\"td\",class_=\"column-5\")\n",
    "Rating = soup.find_all(\"td\",class_=\"column-6\")\n"
   ]
  },
  {
   "cell_type": "code",
   "execution_count": 53,
   "id": "da02bb4f",
   "metadata": {},
   "outputs": [],
   "source": [
    "# Create Empty list\n",
    "\n",
    "M1=[]\n",
    "C1=[]\n",
    "CO1=[]\n",
    "S1=[]\n",
    "R1=[]"
   ]
  },
  {
   "cell_type": "code",
   "execution_count": 55,
   "id": "3b882bd7",
   "metadata": {},
   "outputs": [],
   "source": [
    "for m,c,co,s,r in zip (Medical_College,Campus,Country,Score,Rating):\n",
    "    M1.append(m.text)\n",
    "    C1.append(c.text)\n",
    "    CO1.append(co.text)\n",
    "    S1.append(s.text)\n",
    "    R1.append(r.text)"
   ]
  },
  {
   "cell_type": "code",
   "execution_count": 56,
   "id": "8ccd86cc",
   "metadata": {},
   "outputs": [
    {
     "name": "stdout",
     "output_type": "stream",
     "text": [
      "['Harvard Medical School', 'Johns Hopkins University School of Medicine', 'NYU Grossman School of Medicine', 'Perelman School of Medicine at the University of Pennsylvania', 'Columbia University Vagelos College of Physicians and Surgeons', 'Stanford University School of Medicine', 'David Geffen School of Medicine at UCLA (DGSOM)', 'Mayo Clinic Alix School of Medicine', 'Washington University School of Medicine in St. Louis', 'UCSF School of Medicine', 'Weill Cornell Graduate School of Medical Sciences', 'University of Pittsburgh School of Medicine', 'Northwestern University Feinberg School of Medicine', 'Yale School of Medicine', 'Duke University School of Medicine', 'Vanderbilt University School of Medicine', 'University of Chicago Pritzker School of Medicine', 'Icahn School of Medicine at Mount Sinai', 'University of Washington School of Medicine', 'University of Michigan Medical School Ann Arbor', 'UC San Diego School of Medicine', 'All India Institute of Medical Sciences', 'University of North Carolina School of Medicine', 'University of Cambridge School of Clinical Medicine', 'Boston University School of Medicine', 'Oxford University Medical School', 'University of Cincinnati College of Medicine', 'Baylor College of Medicine', \"University of Toronto's Faculty of Medicine\", 'Melbourne Medical School', 'Karolinska Institute', 'Indiana University School of Medicine', 'UCL Medical School', 'University of Sydney School of Medicine', 'GKT School of Medical Education', 'Case Western Reserve School of Medicine', 'Armed Forces Medical College', 'University of Virginia School of Medicine', 'Faculty of Medicine Imperial College London', 'McGill University - Faculty of Medicine', 'Seoul National University College of Medicine', 'Medical Faculty - Heidelberg University', 'London School of Hygiene and Tropical Medicine', 'NUS Yong Loo Lin School of Medicine', 'University of Massachusetts Medical School', 'Christian Medical College', 'University of California, Irvine School of Medicine', 'Faculty of Medicine - University of Amsterdam', 'Emory School of Medicine', 'Faculty of Medicine - The University of Tokyo', 'UBC Faculty of Medicine', 'Georgetown University School-Medicine', 'Faculty of Health and Medical Sciences at the University of Copenhagen', 'Erasmus MC | Erasmus University Rotterdam', 'JIPMERâ€‹', 'Monash School of Medicine', 'UT Southwestern Medical School', 'University of Manchester', 'Li Ka Shing Faculty of Medicine, The University of Hong Kong (HKUMed)', 'Madras Medical College', 'Kyiv National University of Technologies and Design', 'School of Medicine at Oregon Health and Science University', 'Medicine at LMU Munich - Ludwig Maximilian University of Munich', 'School of Medicine and Public Health at UW-Madison', 'Faculty of Medicine of The Chinese University of Hong Kong', 'McMaster University Medical School', 'University of Minnesota Medical School', 'Faculty of Medicine - KU Leuven', 'Institute of Medical Sciences BHU', 'University of Colorado School of Medicine', 'Faculty of Medicine - Sorbonne Universite', 'National Taiwan University School of Medicine', 'University of Alabama-Birmingham School of Medicine (UAB)', 'University of Florida College of Medicine', 'Faculty of Medicine - Universiteit Utrecht', 'Medicine - Universitat de Barcelona', 'UC Davis School of Medicine', 'Faculty of Health, Medicine and Life Sciences - Maastricht University', 'Graduate School of Medicine Kyoto University', 'Peking University Health Science Center', 'Keck School of Medicine of the University of Southern California', 'SKKU School of Medicine', 'Faculty of Medicine - University of Zurich', 'University of Utah School of Medicine', 'Faculty of Medicine - Lund University', 'International Medical School, University of Milan', 'Warren Alpert Medical School of Brown University', 'TUM School of Medicine (TUM MED)', 'Albert Einstein College of Medicine', 'ETH Zurich', 'Leiden University Medical Center', 'School of Medicine at National and Kapodistrian University', 'University of Crete Medical School', 'Roy J. and Lucille A. Carver College of Medicine', 'Ohio State University College of Medicine', 'University of Rochester School of Medicine and Dentistry', 'Medicine - University of Groningen', 'University of Maryland School of Medicine', 'Medical University of Vienna', 'School of Medicine at Aristotle University'] ['Boston, MA', 'Baltimore, Maryland', 'New York City, New York', 'Philadelphia, Pennsylvania', 'New York City, New York', 'Stanford, California', 'Los Angeles, CA', 'Rochester, Minnesota', 'St. Louis, MO', 'San Francisco, California', 'New York City, New York', 'Pittsburgh, Pennsylvania', 'Chicago, Illinois', 'New Haven, Connecticut', 'Durham, North Carolina', 'Nashville, Tennessee', 'Chicago, Illinois', 'New York City, New York', 'Seattle, Washington', 'Ann Arbor, MI', 'San Diego, California', 'New Delhi', 'Chapel Hill, North Carolina', 'Cambridge, England', 'Boston, MA', 'Oxford, England', 'Cincinnati, O', 'Houston, Texas', 'Toronto', 'Melbourne', 'Solna', 'Indianapolis, Indiana', 'London, England', 'Camperdown', 'London, England', 'Cleveland, Ohio', 'Pune', 'Charlottesville, VA', 'London, England', 'Montreal', 'Seoul', 'Heidelberg', 'London, England', 'Singapore', 'Worcester, Massachusetts', 'Vellore', 'Irvine, California', 'Amsterdam', 'Atlanta, Georgia', 'Tokyo', 'Vancouver', 'Washington D.C.', 'Copenhagen', 'Rotterdam', 'Pondicherry', 'Melbourne', 'Dallas, Texas', 'Manchester, England', 'Hong Kong', 'Chennai', 'Kiev', 'Portland, OR', 'Munich', 'Madison, Wisconsin', 'Hong Kong', 'Hamilton', 'Minneapolis, Minnesota', 'Leuven', 'Varanasi', 'Aurora, Colorado', 'Paris', 'Taipei', 'Birmingham, Alabama', 'Gainesville, Florida', 'Utrecht', 'Barcelona', 'Sacramento, CA', 'Maastricht', 'Kyoto', 'Beijing', 'Los Angeles, California', 'Seoul', 'Zurich', 'Salt Lake City, Utah', 'Lund', 'Milan', 'Providence, Rhode Island', 'Munich', 'New York City, New York', 'Zurich', 'Leiden', 'Athens', 'Crete', 'Iowa City, Iowa', 'Columbus, Ohio', 'Rochester, New York', 'Groningen', 'Baltimore, Maryland', 'Vienna', 'Thessaloniki'] ['US', 'US', 'US', 'US', 'US', 'US', 'US', 'US', 'US', 'US', 'US', 'US', 'US', 'US', 'US', 'US', 'US', 'US', 'US', 'US', 'US', 'India', 'US', 'UK', 'US', 'UK', 'US', 'US', 'Canada', 'Australia', 'Sweden', 'US', 'UK', 'Australia', 'UK', 'US', 'India', 'US', 'UK', 'Canada', 'South Korea', 'Germany', 'UK', 'Singapore', 'US', 'India', 'US', 'Netherlands', 'US', 'Japan', 'Canada', 'US', 'Denmark', 'Netherlands', 'India', 'Australia', 'US', 'UK', 'Hong Kong', 'India', 'Ukraine', 'US', 'Germany', 'US', 'Hong Kong', 'Canada', 'US', 'Belgium', 'India', 'US', 'France', 'Taiwan', 'US', 'US', 'Netherlands', 'Spain', 'US', 'Netherlands', 'Japan', 'China', 'US', 'South Korea', 'Switzerland', 'US', 'Sweden', 'Italy', 'US', 'Germany', 'US', 'Switzerland', 'Netherlands', 'Greece', 'Greece', 'US', 'US', 'US', 'Netherlands', 'US', 'Austria', 'Greece'] ['99.06', '98.13', '96.75', '96.53', '96.15', '94.4', '93.69', '92.08', '91.26', '91.23', '90.68', '90.3', '89.67', '89.11', '88.73', '88.52', '88.23', '87.76', '87.64', '87.62', '86.85', '86.6', '86.38', '86.02', '85.08', '84.96', '84.75', '84.64', '84.43', '83.79', '83.39', '83.39', '83.26', '83.04', '82.95', '82.87', '82.8', '82.69', '82.48', '82.38', '82.34', '82.24', '82.06', '81.93', '81.82', '81.46', '81.08', '80.96', '80.83', '80.78', '80.68', '80.11', '79.69', '79.54', '79.46', '79.39', '79.08', '78.86', '78.86', '78.77', '78.72', '78.49', '77.95', '77.94', '77.75', '77.55', '77.42', '77.35', '77.28', '77.22', '77.16', '76.77', '76.77', '76.76', '76.56', '76.46', '76.46', '76.32', '75.66', '75.52', '75.49', '75.45', '75.11', '74.89', '74.8', '74.79', '74.13', '74.11', '73.66', '73.59', '73.21', '73.16', '73.08', '73.05', '72.95', '72.74', '72.57', '72.33', '72.03', '72.03'] ['AAA', 'AAA', 'AAA', 'AAA', 'AAA', 'AAA', 'AAA', 'AAA', 'AAA', 'AAA', 'AA', 'AA', 'AA', 'AA', 'AA', 'AA', 'AA', 'AA', 'AA', 'AA', 'AA', 'AA', 'AA', 'AA', 'A', 'A', 'A', 'A', 'A', 'A', 'A', 'A', 'A', 'A', 'A', 'A', 'A', 'A', 'A', 'A', 'A', 'A', 'A', 'A', 'A', 'A', 'A', 'A', 'A', 'A', 'A', 'A', 'BBB', 'BBB', 'BBB', 'BBB', 'BBB', 'BBB', 'BBB', 'BBB', 'BBB', 'BBB', 'BBB', 'BBB', 'BBB', 'BBB', 'BBB', 'BBB', 'BBB', 'BBB', 'BBB', 'BB', 'BB', 'BB', 'BB', 'BB', 'BB', 'BB', 'BB', 'BB', 'BB', 'BB', 'BB', 'B', 'B', 'B', 'B', 'B', 'B', 'B', 'B', 'B', 'B', 'B', 'B', 'B', 'B', 'B', 'B', 'B']\n"
     ]
    }
   ],
   "source": [
    "print(M1,C1,CO1,S1,R1)"
   ]
  },
  {
   "cell_type": "code",
   "execution_count": 57,
   "id": "866d0293",
   "metadata": {},
   "outputs": [],
   "source": [
    "df=pd.DataFrame({\"Instute_Name\":M1,\"Country\":CO1,\"Campus\":C1,\"Score\":S1,\"Rating\":R1})"
   ]
  },
  {
   "cell_type": "code",
   "execution_count": 58,
   "id": "37f113d9",
   "metadata": {},
   "outputs": [
    {
     "data": {
      "text/html": [
       "<div>\n",
       "<style scoped>\n",
       "    .dataframe tbody tr th:only-of-type {\n",
       "        vertical-align: middle;\n",
       "    }\n",
       "\n",
       "    .dataframe tbody tr th {\n",
       "        vertical-align: top;\n",
       "    }\n",
       "\n",
       "    .dataframe thead th {\n",
       "        text-align: right;\n",
       "    }\n",
       "</style>\n",
       "<table border=\"1\" class=\"dataframe\">\n",
       "  <thead>\n",
       "    <tr style=\"text-align: right;\">\n",
       "      <th></th>\n",
       "      <th>Instute_Name</th>\n",
       "      <th>Country</th>\n",
       "      <th>Campus</th>\n",
       "      <th>Score</th>\n",
       "      <th>Rating</th>\n",
       "    </tr>\n",
       "  </thead>\n",
       "  <tbody>\n",
       "    <tr>\n",
       "      <th>0</th>\n",
       "      <td>Harvard Medical School</td>\n",
       "      <td>US</td>\n",
       "      <td>Boston, MA</td>\n",
       "      <td>99.06</td>\n",
       "      <td>AAA</td>\n",
       "    </tr>\n",
       "    <tr>\n",
       "      <th>1</th>\n",
       "      <td>Johns Hopkins University School of Medicine</td>\n",
       "      <td>US</td>\n",
       "      <td>Baltimore, Maryland</td>\n",
       "      <td>98.13</td>\n",
       "      <td>AAA</td>\n",
       "    </tr>\n",
       "    <tr>\n",
       "      <th>2</th>\n",
       "      <td>NYU Grossman School of Medicine</td>\n",
       "      <td>US</td>\n",
       "      <td>New York City, New York</td>\n",
       "      <td>96.75</td>\n",
       "      <td>AAA</td>\n",
       "    </tr>\n",
       "    <tr>\n",
       "      <th>3</th>\n",
       "      <td>Perelman School of Medicine at the University ...</td>\n",
       "      <td>US</td>\n",
       "      <td>Philadelphia, Pennsylvania</td>\n",
       "      <td>96.53</td>\n",
       "      <td>AAA</td>\n",
       "    </tr>\n",
       "    <tr>\n",
       "      <th>4</th>\n",
       "      <td>Columbia University Vagelos College of Physici...</td>\n",
       "      <td>US</td>\n",
       "      <td>New York City, New York</td>\n",
       "      <td>96.15</td>\n",
       "      <td>AAA</td>\n",
       "    </tr>\n",
       "    <tr>\n",
       "      <th>...</th>\n",
       "      <td>...</td>\n",
       "      <td>...</td>\n",
       "      <td>...</td>\n",
       "      <td>...</td>\n",
       "      <td>...</td>\n",
       "    </tr>\n",
       "    <tr>\n",
       "      <th>95</th>\n",
       "      <td>University of Rochester School of Medicine and...</td>\n",
       "      <td>US</td>\n",
       "      <td>Rochester, New York</td>\n",
       "      <td>72.74</td>\n",
       "      <td>B</td>\n",
       "    </tr>\n",
       "    <tr>\n",
       "      <th>96</th>\n",
       "      <td>Medicine - University of Groningen</td>\n",
       "      <td>Netherlands</td>\n",
       "      <td>Groningen</td>\n",
       "      <td>72.57</td>\n",
       "      <td>B</td>\n",
       "    </tr>\n",
       "    <tr>\n",
       "      <th>97</th>\n",
       "      <td>University of Maryland School of Medicine</td>\n",
       "      <td>US</td>\n",
       "      <td>Baltimore, Maryland</td>\n",
       "      <td>72.33</td>\n",
       "      <td>B</td>\n",
       "    </tr>\n",
       "    <tr>\n",
       "      <th>98</th>\n",
       "      <td>Medical University of Vienna</td>\n",
       "      <td>Austria</td>\n",
       "      <td>Vienna</td>\n",
       "      <td>72.03</td>\n",
       "      <td>B</td>\n",
       "    </tr>\n",
       "    <tr>\n",
       "      <th>99</th>\n",
       "      <td>School of Medicine at Aristotle University</td>\n",
       "      <td>Greece</td>\n",
       "      <td>Thessaloniki</td>\n",
       "      <td>72.03</td>\n",
       "      <td>B</td>\n",
       "    </tr>\n",
       "  </tbody>\n",
       "</table>\n",
       "<p>100 rows × 5 columns</p>\n",
       "</div>"
      ],
      "text/plain": [
       "                                         Instute_Name      Country  \\\n",
       "0                              Harvard Medical School           US   \n",
       "1         Johns Hopkins University School of Medicine           US   \n",
       "2                     NYU Grossman School of Medicine           US   \n",
       "3   Perelman School of Medicine at the University ...           US   \n",
       "4   Columbia University Vagelos College of Physici...           US   \n",
       "..                                                ...          ...   \n",
       "95  University of Rochester School of Medicine and...           US   \n",
       "96                 Medicine - University of Groningen  Netherlands   \n",
       "97          University of Maryland School of Medicine           US   \n",
       "98                       Medical University of Vienna      Austria   \n",
       "99         School of Medicine at Aristotle University       Greece   \n",
       "\n",
       "                        Campus  Score Rating  \n",
       "0                   Boston, MA  99.06    AAA  \n",
       "1          Baltimore, Maryland  98.13    AAA  \n",
       "2      New York City, New York  96.75    AAA  \n",
       "3   Philadelphia, Pennsylvania  96.53    AAA  \n",
       "4      New York City, New York  96.15    AAA  \n",
       "..                         ...    ...    ...  \n",
       "95         Rochester, New York  72.74      B  \n",
       "96                   Groningen  72.57      B  \n",
       "97         Baltimore, Maryland  72.33      B  \n",
       "98                      Vienna  72.03      B  \n",
       "99                Thessaloniki  72.03      B  \n",
       "\n",
       "[100 rows x 5 columns]"
      ]
     },
     "execution_count": 58,
     "metadata": {},
     "output_type": "execute_result"
    }
   ],
   "source": [
    "df"
   ]
  },
  {
   "cell_type": "code",
   "execution_count": 59,
   "id": "56443a94",
   "metadata": {},
   "outputs": [],
   "source": [
    "df.to_csv('Medical_institutes.csv')"
   ]
  },
  {
   "cell_type": "code",
   "execution_count": 60,
   "id": "38e775ee",
   "metadata": {},
   "outputs": [
    {
     "data": {
      "text/html": [
       "<div>\n",
       "<style scoped>\n",
       "    .dataframe tbody tr th:only-of-type {\n",
       "        vertical-align: middle;\n",
       "    }\n",
       "\n",
       "    .dataframe tbody tr th {\n",
       "        vertical-align: top;\n",
       "    }\n",
       "\n",
       "    .dataframe thead th {\n",
       "        text-align: right;\n",
       "    }\n",
       "</style>\n",
       "<table border=\"1\" class=\"dataframe\">\n",
       "  <thead>\n",
       "    <tr style=\"text-align: right;\">\n",
       "      <th></th>\n",
       "      <th>Instute_Name</th>\n",
       "      <th>Country</th>\n",
       "      <th>Campus</th>\n",
       "      <th>Score</th>\n",
       "      <th>Rating</th>\n",
       "    </tr>\n",
       "  </thead>\n",
       "  <tbody>\n",
       "    <tr>\n",
       "      <th>0</th>\n",
       "      <td>Harvard Medical School</td>\n",
       "      <td>US</td>\n",
       "      <td>Boston, MA</td>\n",
       "      <td>99.06</td>\n",
       "      <td>AAA</td>\n",
       "    </tr>\n",
       "    <tr>\n",
       "      <th>1</th>\n",
       "      <td>Johns Hopkins University School of Medicine</td>\n",
       "      <td>US</td>\n",
       "      <td>Baltimore, Maryland</td>\n",
       "      <td>98.13</td>\n",
       "      <td>AAA</td>\n",
       "    </tr>\n",
       "    <tr>\n",
       "      <th>2</th>\n",
       "      <td>NYU Grossman School of Medicine</td>\n",
       "      <td>US</td>\n",
       "      <td>New York City, New York</td>\n",
       "      <td>96.75</td>\n",
       "      <td>AAA</td>\n",
       "    </tr>\n",
       "    <tr>\n",
       "      <th>3</th>\n",
       "      <td>Perelman School of Medicine at the University ...</td>\n",
       "      <td>US</td>\n",
       "      <td>Philadelphia, Pennsylvania</td>\n",
       "      <td>96.53</td>\n",
       "      <td>AAA</td>\n",
       "    </tr>\n",
       "    <tr>\n",
       "      <th>4</th>\n",
       "      <td>Columbia University Vagelos College of Physici...</td>\n",
       "      <td>US</td>\n",
       "      <td>New York City, New York</td>\n",
       "      <td>96.15</td>\n",
       "      <td>AAA</td>\n",
       "    </tr>\n",
       "  </tbody>\n",
       "</table>\n",
       "</div>"
      ],
      "text/plain": [
       "                                        Instute_Name Country  \\\n",
       "0                             Harvard Medical School      US   \n",
       "1        Johns Hopkins University School of Medicine      US   \n",
       "2                    NYU Grossman School of Medicine      US   \n",
       "3  Perelman School of Medicine at the University ...      US   \n",
       "4  Columbia University Vagelos College of Physici...      US   \n",
       "\n",
       "                       Campus  Score Rating  \n",
       "0                  Boston, MA  99.06    AAA  \n",
       "1         Baltimore, Maryland  98.13    AAA  \n",
       "2     New York City, New York  96.75    AAA  \n",
       "3  Philadelphia, Pennsylvania  96.53    AAA  \n",
       "4     New York City, New York  96.15    AAA  "
      ]
     },
     "execution_count": 60,
     "metadata": {},
     "output_type": "execute_result"
    }
   ],
   "source": [
    "# Perform EDA(Exploratory Data Analysis)\n"
   ]
  },
  {
   "cell_type": "code",
   "execution_count": 62,
   "id": "2c794a85",
   "metadata": {},
   "outputs": [
    {
     "data": {
      "text/plain": [
       "(100, 5)"
      ]
     },
     "execution_count": 62,
     "metadata": {},
     "output_type": "execute_result"
    }
   ],
   "source": [
    "df.shape"
   ]
  },
  {
   "cell_type": "code",
   "execution_count": 64,
   "id": "873b8ccd",
   "metadata": {},
   "outputs": [
    {
     "data": {
      "text/plain": [
       "Instute_Name    0\n",
       "Country         0\n",
       "Campus          0\n",
       "Score           0\n",
       "Rating          0\n",
       "dtype: int64"
      ]
     },
     "execution_count": 64,
     "metadata": {},
     "output_type": "execute_result"
    }
   ],
   "source": [
    "df.isnull().sum()"
   ]
  },
  {
   "cell_type": "code",
   "execution_count": 65,
   "id": "8d944e2d",
   "metadata": {},
   "outputs": [
    {
     "data": {
      "text/plain": [
       "0              US\n",
       "1              US\n",
       "2              US\n",
       "3              US\n",
       "4              US\n",
       "         ...     \n",
       "95             US\n",
       "96    Netherlands\n",
       "97             US\n",
       "98        Austria\n",
       "99         Greece\n",
       "Name: Country, Length: 100, dtype: object"
      ]
     },
     "execution_count": 65,
     "metadata": {},
     "output_type": "execute_result"
    }
   ],
   "source": [
    "df['Country']"
   ]
  },
  {
   "cell_type": "code",
   "execution_count": 67,
   "id": "c7b07bc7",
   "metadata": {},
   "outputs": [
    {
     "data": {
      "text/plain": [
       "Index(['Instute_Name', 'Country', 'Campus', 'Score', 'Rating'], dtype='object')"
      ]
     },
     "execution_count": 67,
     "metadata": {},
     "output_type": "execute_result"
    }
   ],
   "source": [
    "df.columns"
   ]
  },
  {
   "cell_type": "code",
   "execution_count": 70,
   "id": "8c0fe2dd",
   "metadata": {},
   "outputs": [
    {
     "data": {
      "application/vnd.plotly.v1+json": {
       "config": {
        "plotlyServerURL": "https://plot.ly"
       },
       "data": [
        {
         "alignmentgroup": "True",
         "bingroup": "x",
         "hovertemplate": "Score=%{x}<br>count=%{y}<extra></extra>",
         "legendgroup": "",
         "marker": {
          "color": "#636efa",
          "pattern": {
           "shape": ""
          }
         },
         "name": "",
         "nbinsx": 20,
         "offsetgroup": "",
         "orientation": "v",
         "showlegend": false,
         "type": "histogram",
         "x": [
          "99.06",
          "98.13",
          "96.75",
          "96.53",
          "96.15",
          "94.4",
          "93.69",
          "92.08",
          "91.26",
          "91.23",
          "90.68",
          "90.3",
          "89.67",
          "89.11",
          "88.73",
          "88.52",
          "88.23",
          "87.76",
          "87.64",
          "87.62",
          "86.85",
          "86.6",
          "86.38",
          "86.02",
          "85.08",
          "84.96",
          "84.75",
          "84.64",
          "84.43",
          "83.79",
          "83.39",
          "83.39",
          "83.26",
          "83.04",
          "82.95",
          "82.87",
          "82.8",
          "82.69",
          "82.48",
          "82.38",
          "82.34",
          "82.24",
          "82.06",
          "81.93",
          "81.82",
          "81.46",
          "81.08",
          "80.96",
          "80.83",
          "80.78",
          "80.68",
          "80.11",
          "79.69",
          "79.54",
          "79.46",
          "79.39",
          "79.08",
          "78.86",
          "78.86",
          "78.77",
          "78.72",
          "78.49",
          "77.95",
          "77.94",
          "77.75",
          "77.55",
          "77.42",
          "77.35",
          "77.28",
          "77.22",
          "77.16",
          "76.77",
          "76.77",
          "76.76",
          "76.56",
          "76.46",
          "76.46",
          "76.32",
          "75.66",
          "75.52",
          "75.49",
          "75.45",
          "75.11",
          "74.89",
          "74.8",
          "74.79",
          "74.13",
          "74.11",
          "73.66",
          "73.59",
          "73.21",
          "73.16",
          "73.08",
          "73.05",
          "72.95",
          "72.74",
          "72.57",
          "72.33",
          "72.03",
          "72.03"
         ],
         "xaxis": "x",
         "yaxis": "y"
        }
       ],
       "layout": {
        "barmode": "relative",
        "legend": {
         "tracegroupgap": 0
        },
        "template": {
         "data": {
          "bar": [
           {
            "error_x": {
             "color": "#2a3f5f"
            },
            "error_y": {
             "color": "#2a3f5f"
            },
            "marker": {
             "line": {
              "color": "#E5ECF6",
              "width": 0.5
             },
             "pattern": {
              "fillmode": "overlay",
              "size": 10,
              "solidity": 0.2
             }
            },
            "type": "bar"
           }
          ],
          "barpolar": [
           {
            "marker": {
             "line": {
              "color": "#E5ECF6",
              "width": 0.5
             },
             "pattern": {
              "fillmode": "overlay",
              "size": 10,
              "solidity": 0.2
             }
            },
            "type": "barpolar"
           }
          ],
          "carpet": [
           {
            "aaxis": {
             "endlinecolor": "#2a3f5f",
             "gridcolor": "white",
             "linecolor": "white",
             "minorgridcolor": "white",
             "startlinecolor": "#2a3f5f"
            },
            "baxis": {
             "endlinecolor": "#2a3f5f",
             "gridcolor": "white",
             "linecolor": "white",
             "minorgridcolor": "white",
             "startlinecolor": "#2a3f5f"
            },
            "type": "carpet"
           }
          ],
          "choropleth": [
           {
            "colorbar": {
             "outlinewidth": 0,
             "ticks": ""
            },
            "type": "choropleth"
           }
          ],
          "contour": [
           {
            "colorbar": {
             "outlinewidth": 0,
             "ticks": ""
            },
            "colorscale": [
             [
              0,
              "#0d0887"
             ],
             [
              0.1111111111111111,
              "#46039f"
             ],
             [
              0.2222222222222222,
              "#7201a8"
             ],
             [
              0.3333333333333333,
              "#9c179e"
             ],
             [
              0.4444444444444444,
              "#bd3786"
             ],
             [
              0.5555555555555556,
              "#d8576b"
             ],
             [
              0.6666666666666666,
              "#ed7953"
             ],
             [
              0.7777777777777778,
              "#fb9f3a"
             ],
             [
              0.8888888888888888,
              "#fdca26"
             ],
             [
              1,
              "#f0f921"
             ]
            ],
            "type": "contour"
           }
          ],
          "contourcarpet": [
           {
            "colorbar": {
             "outlinewidth": 0,
             "ticks": ""
            },
            "type": "contourcarpet"
           }
          ],
          "heatmap": [
           {
            "colorbar": {
             "outlinewidth": 0,
             "ticks": ""
            },
            "colorscale": [
             [
              0,
              "#0d0887"
             ],
             [
              0.1111111111111111,
              "#46039f"
             ],
             [
              0.2222222222222222,
              "#7201a8"
             ],
             [
              0.3333333333333333,
              "#9c179e"
             ],
             [
              0.4444444444444444,
              "#bd3786"
             ],
             [
              0.5555555555555556,
              "#d8576b"
             ],
             [
              0.6666666666666666,
              "#ed7953"
             ],
             [
              0.7777777777777778,
              "#fb9f3a"
             ],
             [
              0.8888888888888888,
              "#fdca26"
             ],
             [
              1,
              "#f0f921"
             ]
            ],
            "type": "heatmap"
           }
          ],
          "heatmapgl": [
           {
            "colorbar": {
             "outlinewidth": 0,
             "ticks": ""
            },
            "colorscale": [
             [
              0,
              "#0d0887"
             ],
             [
              0.1111111111111111,
              "#46039f"
             ],
             [
              0.2222222222222222,
              "#7201a8"
             ],
             [
              0.3333333333333333,
              "#9c179e"
             ],
             [
              0.4444444444444444,
              "#bd3786"
             ],
             [
              0.5555555555555556,
              "#d8576b"
             ],
             [
              0.6666666666666666,
              "#ed7953"
             ],
             [
              0.7777777777777778,
              "#fb9f3a"
             ],
             [
              0.8888888888888888,
              "#fdca26"
             ],
             [
              1,
              "#f0f921"
             ]
            ],
            "type": "heatmapgl"
           }
          ],
          "histogram": [
           {
            "marker": {
             "pattern": {
              "fillmode": "overlay",
              "size": 10,
              "solidity": 0.2
             }
            },
            "type": "histogram"
           }
          ],
          "histogram2d": [
           {
            "colorbar": {
             "outlinewidth": 0,
             "ticks": ""
            },
            "colorscale": [
             [
              0,
              "#0d0887"
             ],
             [
              0.1111111111111111,
              "#46039f"
             ],
             [
              0.2222222222222222,
              "#7201a8"
             ],
             [
              0.3333333333333333,
              "#9c179e"
             ],
             [
              0.4444444444444444,
              "#bd3786"
             ],
             [
              0.5555555555555556,
              "#d8576b"
             ],
             [
              0.6666666666666666,
              "#ed7953"
             ],
             [
              0.7777777777777778,
              "#fb9f3a"
             ],
             [
              0.8888888888888888,
              "#fdca26"
             ],
             [
              1,
              "#f0f921"
             ]
            ],
            "type": "histogram2d"
           }
          ],
          "histogram2dcontour": [
           {
            "colorbar": {
             "outlinewidth": 0,
             "ticks": ""
            },
            "colorscale": [
             [
              0,
              "#0d0887"
             ],
             [
              0.1111111111111111,
              "#46039f"
             ],
             [
              0.2222222222222222,
              "#7201a8"
             ],
             [
              0.3333333333333333,
              "#9c179e"
             ],
             [
              0.4444444444444444,
              "#bd3786"
             ],
             [
              0.5555555555555556,
              "#d8576b"
             ],
             [
              0.6666666666666666,
              "#ed7953"
             ],
             [
              0.7777777777777778,
              "#fb9f3a"
             ],
             [
              0.8888888888888888,
              "#fdca26"
             ],
             [
              1,
              "#f0f921"
             ]
            ],
            "type": "histogram2dcontour"
           }
          ],
          "mesh3d": [
           {
            "colorbar": {
             "outlinewidth": 0,
             "ticks": ""
            },
            "type": "mesh3d"
           }
          ],
          "parcoords": [
           {
            "line": {
             "colorbar": {
              "outlinewidth": 0,
              "ticks": ""
             }
            },
            "type": "parcoords"
           }
          ],
          "pie": [
           {
            "automargin": true,
            "type": "pie"
           }
          ],
          "scatter": [
           {
            "fillpattern": {
             "fillmode": "overlay",
             "size": 10,
             "solidity": 0.2
            },
            "type": "scatter"
           }
          ],
          "scatter3d": [
           {
            "line": {
             "colorbar": {
              "outlinewidth": 0,
              "ticks": ""
             }
            },
            "marker": {
             "colorbar": {
              "outlinewidth": 0,
              "ticks": ""
             }
            },
            "type": "scatter3d"
           }
          ],
          "scattercarpet": [
           {
            "marker": {
             "colorbar": {
              "outlinewidth": 0,
              "ticks": ""
             }
            },
            "type": "scattercarpet"
           }
          ],
          "scattergeo": [
           {
            "marker": {
             "colorbar": {
              "outlinewidth": 0,
              "ticks": ""
             }
            },
            "type": "scattergeo"
           }
          ],
          "scattergl": [
           {
            "marker": {
             "colorbar": {
              "outlinewidth": 0,
              "ticks": ""
             }
            },
            "type": "scattergl"
           }
          ],
          "scattermapbox": [
           {
            "marker": {
             "colorbar": {
              "outlinewidth": 0,
              "ticks": ""
             }
            },
            "type": "scattermapbox"
           }
          ],
          "scatterpolar": [
           {
            "marker": {
             "colorbar": {
              "outlinewidth": 0,
              "ticks": ""
             }
            },
            "type": "scatterpolar"
           }
          ],
          "scatterpolargl": [
           {
            "marker": {
             "colorbar": {
              "outlinewidth": 0,
              "ticks": ""
             }
            },
            "type": "scatterpolargl"
           }
          ],
          "scatterternary": [
           {
            "marker": {
             "colorbar": {
              "outlinewidth": 0,
              "ticks": ""
             }
            },
            "type": "scatterternary"
           }
          ],
          "surface": [
           {
            "colorbar": {
             "outlinewidth": 0,
             "ticks": ""
            },
            "colorscale": [
             [
              0,
              "#0d0887"
             ],
             [
              0.1111111111111111,
              "#46039f"
             ],
             [
              0.2222222222222222,
              "#7201a8"
             ],
             [
              0.3333333333333333,
              "#9c179e"
             ],
             [
              0.4444444444444444,
              "#bd3786"
             ],
             [
              0.5555555555555556,
              "#d8576b"
             ],
             [
              0.6666666666666666,
              "#ed7953"
             ],
             [
              0.7777777777777778,
              "#fb9f3a"
             ],
             [
              0.8888888888888888,
              "#fdca26"
             ],
             [
              1,
              "#f0f921"
             ]
            ],
            "type": "surface"
           }
          ],
          "table": [
           {
            "cells": {
             "fill": {
              "color": "#EBF0F8"
             },
             "line": {
              "color": "white"
             }
            },
            "header": {
             "fill": {
              "color": "#C8D4E3"
             },
             "line": {
              "color": "white"
             }
            },
            "type": "table"
           }
          ]
         },
         "layout": {
          "annotationdefaults": {
           "arrowcolor": "#2a3f5f",
           "arrowhead": 0,
           "arrowwidth": 1
          },
          "autotypenumbers": "strict",
          "coloraxis": {
           "colorbar": {
            "outlinewidth": 0,
            "ticks": ""
           }
          },
          "colorscale": {
           "diverging": [
            [
             0,
             "#8e0152"
            ],
            [
             0.1,
             "#c51b7d"
            ],
            [
             0.2,
             "#de77ae"
            ],
            [
             0.3,
             "#f1b6da"
            ],
            [
             0.4,
             "#fde0ef"
            ],
            [
             0.5,
             "#f7f7f7"
            ],
            [
             0.6,
             "#e6f5d0"
            ],
            [
             0.7,
             "#b8e186"
            ],
            [
             0.8,
             "#7fbc41"
            ],
            [
             0.9,
             "#4d9221"
            ],
            [
             1,
             "#276419"
            ]
           ],
           "sequential": [
            [
             0,
             "#0d0887"
            ],
            [
             0.1111111111111111,
             "#46039f"
            ],
            [
             0.2222222222222222,
             "#7201a8"
            ],
            [
             0.3333333333333333,
             "#9c179e"
            ],
            [
             0.4444444444444444,
             "#bd3786"
            ],
            [
             0.5555555555555556,
             "#d8576b"
            ],
            [
             0.6666666666666666,
             "#ed7953"
            ],
            [
             0.7777777777777778,
             "#fb9f3a"
            ],
            [
             0.8888888888888888,
             "#fdca26"
            ],
            [
             1,
             "#f0f921"
            ]
           ],
           "sequentialminus": [
            [
             0,
             "#0d0887"
            ],
            [
             0.1111111111111111,
             "#46039f"
            ],
            [
             0.2222222222222222,
             "#7201a8"
            ],
            [
             0.3333333333333333,
             "#9c179e"
            ],
            [
             0.4444444444444444,
             "#bd3786"
            ],
            [
             0.5555555555555556,
             "#d8576b"
            ],
            [
             0.6666666666666666,
             "#ed7953"
            ],
            [
             0.7777777777777778,
             "#fb9f3a"
            ],
            [
             0.8888888888888888,
             "#fdca26"
            ],
            [
             1,
             "#f0f921"
            ]
           ]
          },
          "colorway": [
           "#636efa",
           "#EF553B",
           "#00cc96",
           "#ab63fa",
           "#FFA15A",
           "#19d3f3",
           "#FF6692",
           "#B6E880",
           "#FF97FF",
           "#FECB52"
          ],
          "font": {
           "color": "#2a3f5f"
          },
          "geo": {
           "bgcolor": "white",
           "lakecolor": "white",
           "landcolor": "#E5ECF6",
           "showlakes": true,
           "showland": true,
           "subunitcolor": "white"
          },
          "hoverlabel": {
           "align": "left"
          },
          "hovermode": "closest",
          "mapbox": {
           "style": "light"
          },
          "paper_bgcolor": "white",
          "plot_bgcolor": "#E5ECF6",
          "polar": {
           "angularaxis": {
            "gridcolor": "white",
            "linecolor": "white",
            "ticks": ""
           },
           "bgcolor": "#E5ECF6",
           "radialaxis": {
            "gridcolor": "white",
            "linecolor": "white",
            "ticks": ""
           }
          },
          "scene": {
           "xaxis": {
            "backgroundcolor": "#E5ECF6",
            "gridcolor": "white",
            "gridwidth": 2,
            "linecolor": "white",
            "showbackground": true,
            "ticks": "",
            "zerolinecolor": "white"
           },
           "yaxis": {
            "backgroundcolor": "#E5ECF6",
            "gridcolor": "white",
            "gridwidth": 2,
            "linecolor": "white",
            "showbackground": true,
            "ticks": "",
            "zerolinecolor": "white"
           },
           "zaxis": {
            "backgroundcolor": "#E5ECF6",
            "gridcolor": "white",
            "gridwidth": 2,
            "linecolor": "white",
            "showbackground": true,
            "ticks": "",
            "zerolinecolor": "white"
           }
          },
          "shapedefaults": {
           "line": {
            "color": "#2a3f5f"
           }
          },
          "ternary": {
           "aaxis": {
            "gridcolor": "white",
            "linecolor": "white",
            "ticks": ""
           },
           "baxis": {
            "gridcolor": "white",
            "linecolor": "white",
            "ticks": ""
           },
           "bgcolor": "#E5ECF6",
           "caxis": {
            "gridcolor": "white",
            "linecolor": "white",
            "ticks": ""
           }
          },
          "title": {
           "x": 0.05
          },
          "xaxis": {
           "automargin": true,
           "gridcolor": "white",
           "linecolor": "white",
           "ticks": "",
           "title": {
            "standoff": 15
           },
           "zerolinecolor": "white",
           "zerolinewidth": 2
          },
          "yaxis": {
           "automargin": true,
           "gridcolor": "white",
           "linecolor": "white",
           "ticks": "",
           "title": {
            "standoff": 15
           },
           "zerolinecolor": "white",
           "zerolinewidth": 2
          }
         }
        },
        "title": {
         "text": "Distribution of Scores"
        },
        "xaxis": {
         "anchor": "y",
         "domain": [
          0,
          1
         ],
         "title": {
          "text": "Score"
         }
        },
        "yaxis": {
         "anchor": "x",
         "domain": [
          0,
          1
         ],
         "title": {
          "text": "count"
         }
        }
       }
      },
      "text/html": [
       "<div>                            <div id=\"6d44f0da-53ce-4d49-81ff-a6a49e530570\" class=\"plotly-graph-div\" style=\"height:525px; width:100%;\"></div>            <script type=\"text/javascript\">                require([\"plotly\"], function(Plotly) {                    window.PLOTLYENV=window.PLOTLYENV || {};                                    if (document.getElementById(\"6d44f0da-53ce-4d49-81ff-a6a49e530570\")) {                    Plotly.newPlot(                        \"6d44f0da-53ce-4d49-81ff-a6a49e530570\",                        [{\"alignmentgroup\":\"True\",\"bingroup\":\"x\",\"hovertemplate\":\"Score=%{x}<br>count=%{y}<extra></extra>\",\"legendgroup\":\"\",\"marker\":{\"color\":\"#636efa\",\"pattern\":{\"shape\":\"\"}},\"name\":\"\",\"nbinsx\":20,\"offsetgroup\":\"\",\"orientation\":\"v\",\"showlegend\":false,\"x\":[\"99.06\",\"98.13\",\"96.75\",\"96.53\",\"96.15\",\"94.4\",\"93.69\",\"92.08\",\"91.26\",\"91.23\",\"90.68\",\"90.3\",\"89.67\",\"89.11\",\"88.73\",\"88.52\",\"88.23\",\"87.76\",\"87.64\",\"87.62\",\"86.85\",\"86.6\",\"86.38\",\"86.02\",\"85.08\",\"84.96\",\"84.75\",\"84.64\",\"84.43\",\"83.79\",\"83.39\",\"83.39\",\"83.26\",\"83.04\",\"82.95\",\"82.87\",\"82.8\",\"82.69\",\"82.48\",\"82.38\",\"82.34\",\"82.24\",\"82.06\",\"81.93\",\"81.82\",\"81.46\",\"81.08\",\"80.96\",\"80.83\",\"80.78\",\"80.68\",\"80.11\",\"79.69\",\"79.54\",\"79.46\",\"79.39\",\"79.08\",\"78.86\",\"78.86\",\"78.77\",\"78.72\",\"78.49\",\"77.95\",\"77.94\",\"77.75\",\"77.55\",\"77.42\",\"77.35\",\"77.28\",\"77.22\",\"77.16\",\"76.77\",\"76.77\",\"76.76\",\"76.56\",\"76.46\",\"76.46\",\"76.32\",\"75.66\",\"75.52\",\"75.49\",\"75.45\",\"75.11\",\"74.89\",\"74.8\",\"74.79\",\"74.13\",\"74.11\",\"73.66\",\"73.59\",\"73.21\",\"73.16\",\"73.08\",\"73.05\",\"72.95\",\"72.74\",\"72.57\",\"72.33\",\"72.03\",\"72.03\"],\"xaxis\":\"x\",\"yaxis\":\"y\",\"type\":\"histogram\"}],                        {\"template\":{\"data\":{\"histogram2dcontour\":[{\"type\":\"histogram2dcontour\",\"colorbar\":{\"outlinewidth\":0,\"ticks\":\"\"},\"colorscale\":[[0.0,\"#0d0887\"],[0.1111111111111111,\"#46039f\"],[0.2222222222222222,\"#7201a8\"],[0.3333333333333333,\"#9c179e\"],[0.4444444444444444,\"#bd3786\"],[0.5555555555555556,\"#d8576b\"],[0.6666666666666666,\"#ed7953\"],[0.7777777777777778,\"#fb9f3a\"],[0.8888888888888888,\"#fdca26\"],[1.0,\"#f0f921\"]]}],\"choropleth\":[{\"type\":\"choropleth\",\"colorbar\":{\"outlinewidth\":0,\"ticks\":\"\"}}],\"histogram2d\":[{\"type\":\"histogram2d\",\"colorbar\":{\"outlinewidth\":0,\"ticks\":\"\"},\"colorscale\":[[0.0,\"#0d0887\"],[0.1111111111111111,\"#46039f\"],[0.2222222222222222,\"#7201a8\"],[0.3333333333333333,\"#9c179e\"],[0.4444444444444444,\"#bd3786\"],[0.5555555555555556,\"#d8576b\"],[0.6666666666666666,\"#ed7953\"],[0.7777777777777778,\"#fb9f3a\"],[0.8888888888888888,\"#fdca26\"],[1.0,\"#f0f921\"]]}],\"heatmap\":[{\"type\":\"heatmap\",\"colorbar\":{\"outlinewidth\":0,\"ticks\":\"\"},\"colorscale\":[[0.0,\"#0d0887\"],[0.1111111111111111,\"#46039f\"],[0.2222222222222222,\"#7201a8\"],[0.3333333333333333,\"#9c179e\"],[0.4444444444444444,\"#bd3786\"],[0.5555555555555556,\"#d8576b\"],[0.6666666666666666,\"#ed7953\"],[0.7777777777777778,\"#fb9f3a\"],[0.8888888888888888,\"#fdca26\"],[1.0,\"#f0f921\"]]}],\"heatmapgl\":[{\"type\":\"heatmapgl\",\"colorbar\":{\"outlinewidth\":0,\"ticks\":\"\"},\"colorscale\":[[0.0,\"#0d0887\"],[0.1111111111111111,\"#46039f\"],[0.2222222222222222,\"#7201a8\"],[0.3333333333333333,\"#9c179e\"],[0.4444444444444444,\"#bd3786\"],[0.5555555555555556,\"#d8576b\"],[0.6666666666666666,\"#ed7953\"],[0.7777777777777778,\"#fb9f3a\"],[0.8888888888888888,\"#fdca26\"],[1.0,\"#f0f921\"]]}],\"contourcarpet\":[{\"type\":\"contourcarpet\",\"colorbar\":{\"outlinewidth\":0,\"ticks\":\"\"}}],\"contour\":[{\"type\":\"contour\",\"colorbar\":{\"outlinewidth\":0,\"ticks\":\"\"},\"colorscale\":[[0.0,\"#0d0887\"],[0.1111111111111111,\"#46039f\"],[0.2222222222222222,\"#7201a8\"],[0.3333333333333333,\"#9c179e\"],[0.4444444444444444,\"#bd3786\"],[0.5555555555555556,\"#d8576b\"],[0.6666666666666666,\"#ed7953\"],[0.7777777777777778,\"#fb9f3a\"],[0.8888888888888888,\"#fdca26\"],[1.0,\"#f0f921\"]]}],\"surface\":[{\"type\":\"surface\",\"colorbar\":{\"outlinewidth\":0,\"ticks\":\"\"},\"colorscale\":[[0.0,\"#0d0887\"],[0.1111111111111111,\"#46039f\"],[0.2222222222222222,\"#7201a8\"],[0.3333333333333333,\"#9c179e\"],[0.4444444444444444,\"#bd3786\"],[0.5555555555555556,\"#d8576b\"],[0.6666666666666666,\"#ed7953\"],[0.7777777777777778,\"#fb9f3a\"],[0.8888888888888888,\"#fdca26\"],[1.0,\"#f0f921\"]]}],\"mesh3d\":[{\"type\":\"mesh3d\",\"colorbar\":{\"outlinewidth\":0,\"ticks\":\"\"}}],\"scatter\":[{\"fillpattern\":{\"fillmode\":\"overlay\",\"size\":10,\"solidity\":0.2},\"type\":\"scatter\"}],\"parcoords\":[{\"type\":\"parcoords\",\"line\":{\"colorbar\":{\"outlinewidth\":0,\"ticks\":\"\"}}}],\"scatterpolargl\":[{\"type\":\"scatterpolargl\",\"marker\":{\"colorbar\":{\"outlinewidth\":0,\"ticks\":\"\"}}}],\"bar\":[{\"error_x\":{\"color\":\"#2a3f5f\"},\"error_y\":{\"color\":\"#2a3f5f\"},\"marker\":{\"line\":{\"color\":\"#E5ECF6\",\"width\":0.5},\"pattern\":{\"fillmode\":\"overlay\",\"size\":10,\"solidity\":0.2}},\"type\":\"bar\"}],\"scattergeo\":[{\"type\":\"scattergeo\",\"marker\":{\"colorbar\":{\"outlinewidth\":0,\"ticks\":\"\"}}}],\"scatterpolar\":[{\"type\":\"scatterpolar\",\"marker\":{\"colorbar\":{\"outlinewidth\":0,\"ticks\":\"\"}}}],\"histogram\":[{\"marker\":{\"pattern\":{\"fillmode\":\"overlay\",\"size\":10,\"solidity\":0.2}},\"type\":\"histogram\"}],\"scattergl\":[{\"type\":\"scattergl\",\"marker\":{\"colorbar\":{\"outlinewidth\":0,\"ticks\":\"\"}}}],\"scatter3d\":[{\"type\":\"scatter3d\",\"line\":{\"colorbar\":{\"outlinewidth\":0,\"ticks\":\"\"}},\"marker\":{\"colorbar\":{\"outlinewidth\":0,\"ticks\":\"\"}}}],\"scattermapbox\":[{\"type\":\"scattermapbox\",\"marker\":{\"colorbar\":{\"outlinewidth\":0,\"ticks\":\"\"}}}],\"scatterternary\":[{\"type\":\"scatterternary\",\"marker\":{\"colorbar\":{\"outlinewidth\":0,\"ticks\":\"\"}}}],\"scattercarpet\":[{\"type\":\"scattercarpet\",\"marker\":{\"colorbar\":{\"outlinewidth\":0,\"ticks\":\"\"}}}],\"carpet\":[{\"aaxis\":{\"endlinecolor\":\"#2a3f5f\",\"gridcolor\":\"white\",\"linecolor\":\"white\",\"minorgridcolor\":\"white\",\"startlinecolor\":\"#2a3f5f\"},\"baxis\":{\"endlinecolor\":\"#2a3f5f\",\"gridcolor\":\"white\",\"linecolor\":\"white\",\"minorgridcolor\":\"white\",\"startlinecolor\":\"#2a3f5f\"},\"type\":\"carpet\"}],\"table\":[{\"cells\":{\"fill\":{\"color\":\"#EBF0F8\"},\"line\":{\"color\":\"white\"}},\"header\":{\"fill\":{\"color\":\"#C8D4E3\"},\"line\":{\"color\":\"white\"}},\"type\":\"table\"}],\"barpolar\":[{\"marker\":{\"line\":{\"color\":\"#E5ECF6\",\"width\":0.5},\"pattern\":{\"fillmode\":\"overlay\",\"size\":10,\"solidity\":0.2}},\"type\":\"barpolar\"}],\"pie\":[{\"automargin\":true,\"type\":\"pie\"}]},\"layout\":{\"autotypenumbers\":\"strict\",\"colorway\":[\"#636efa\",\"#EF553B\",\"#00cc96\",\"#ab63fa\",\"#FFA15A\",\"#19d3f3\",\"#FF6692\",\"#B6E880\",\"#FF97FF\",\"#FECB52\"],\"font\":{\"color\":\"#2a3f5f\"},\"hovermode\":\"closest\",\"hoverlabel\":{\"align\":\"left\"},\"paper_bgcolor\":\"white\",\"plot_bgcolor\":\"#E5ECF6\",\"polar\":{\"bgcolor\":\"#E5ECF6\",\"angularaxis\":{\"gridcolor\":\"white\",\"linecolor\":\"white\",\"ticks\":\"\"},\"radialaxis\":{\"gridcolor\":\"white\",\"linecolor\":\"white\",\"ticks\":\"\"}},\"ternary\":{\"bgcolor\":\"#E5ECF6\",\"aaxis\":{\"gridcolor\":\"white\",\"linecolor\":\"white\",\"ticks\":\"\"},\"baxis\":{\"gridcolor\":\"white\",\"linecolor\":\"white\",\"ticks\":\"\"},\"caxis\":{\"gridcolor\":\"white\",\"linecolor\":\"white\",\"ticks\":\"\"}},\"coloraxis\":{\"colorbar\":{\"outlinewidth\":0,\"ticks\":\"\"}},\"colorscale\":{\"sequential\":[[0.0,\"#0d0887\"],[0.1111111111111111,\"#46039f\"],[0.2222222222222222,\"#7201a8\"],[0.3333333333333333,\"#9c179e\"],[0.4444444444444444,\"#bd3786\"],[0.5555555555555556,\"#d8576b\"],[0.6666666666666666,\"#ed7953\"],[0.7777777777777778,\"#fb9f3a\"],[0.8888888888888888,\"#fdca26\"],[1.0,\"#f0f921\"]],\"sequentialminus\":[[0.0,\"#0d0887\"],[0.1111111111111111,\"#46039f\"],[0.2222222222222222,\"#7201a8\"],[0.3333333333333333,\"#9c179e\"],[0.4444444444444444,\"#bd3786\"],[0.5555555555555556,\"#d8576b\"],[0.6666666666666666,\"#ed7953\"],[0.7777777777777778,\"#fb9f3a\"],[0.8888888888888888,\"#fdca26\"],[1.0,\"#f0f921\"]],\"diverging\":[[0,\"#8e0152\"],[0.1,\"#c51b7d\"],[0.2,\"#de77ae\"],[0.3,\"#f1b6da\"],[0.4,\"#fde0ef\"],[0.5,\"#f7f7f7\"],[0.6,\"#e6f5d0\"],[0.7,\"#b8e186\"],[0.8,\"#7fbc41\"],[0.9,\"#4d9221\"],[1,\"#276419\"]]},\"xaxis\":{\"gridcolor\":\"white\",\"linecolor\":\"white\",\"ticks\":\"\",\"title\":{\"standoff\":15},\"zerolinecolor\":\"white\",\"automargin\":true,\"zerolinewidth\":2},\"yaxis\":{\"gridcolor\":\"white\",\"linecolor\":\"white\",\"ticks\":\"\",\"title\":{\"standoff\":15},\"zerolinecolor\":\"white\",\"automargin\":true,\"zerolinewidth\":2},\"scene\":{\"xaxis\":{\"backgroundcolor\":\"#E5ECF6\",\"gridcolor\":\"white\",\"linecolor\":\"white\",\"showbackground\":true,\"ticks\":\"\",\"zerolinecolor\":\"white\",\"gridwidth\":2},\"yaxis\":{\"backgroundcolor\":\"#E5ECF6\",\"gridcolor\":\"white\",\"linecolor\":\"white\",\"showbackground\":true,\"ticks\":\"\",\"zerolinecolor\":\"white\",\"gridwidth\":2},\"zaxis\":{\"backgroundcolor\":\"#E5ECF6\",\"gridcolor\":\"white\",\"linecolor\":\"white\",\"showbackground\":true,\"ticks\":\"\",\"zerolinecolor\":\"white\",\"gridwidth\":2}},\"shapedefaults\":{\"line\":{\"color\":\"#2a3f5f\"}},\"annotationdefaults\":{\"arrowcolor\":\"#2a3f5f\",\"arrowhead\":0,\"arrowwidth\":1},\"geo\":{\"bgcolor\":\"white\",\"landcolor\":\"#E5ECF6\",\"subunitcolor\":\"white\",\"showland\":true,\"showlakes\":true,\"lakecolor\":\"white\"},\"title\":{\"x\":0.05},\"mapbox\":{\"style\":\"light\"}}},\"xaxis\":{\"anchor\":\"y\",\"domain\":[0.0,1.0],\"title\":{\"text\":\"Score\"}},\"yaxis\":{\"anchor\":\"x\",\"domain\":[0.0,1.0],\"title\":{\"text\":\"count\"}},\"legend\":{\"tracegroupgap\":0},\"title\":{\"text\":\"Distribution of Scores\"},\"barmode\":\"relative\"},                        {\"responsive\": true}                    ).then(function(){\n",
       "                            \n",
       "var gd = document.getElementById('6d44f0da-53ce-4d49-81ff-a6a49e530570');\n",
       "var x = new MutationObserver(function (mutations, observer) {{\n",
       "        var display = window.getComputedStyle(gd).display;\n",
       "        if (!display || display === 'none') {{\n",
       "            console.log([gd, 'removed!']);\n",
       "            Plotly.purge(gd);\n",
       "            observer.disconnect();\n",
       "        }}\n",
       "}});\n",
       "\n",
       "// Listen for the removal of the full notebook cells\n",
       "var notebookContainer = gd.closest('#notebook-container');\n",
       "if (notebookContainer) {{\n",
       "    x.observe(notebookContainer, {childList: true});\n",
       "}}\n",
       "\n",
       "// Listen for the clearing of the current output cell\n",
       "var outputEl = gd.closest('.output');\n",
       "if (outputEl) {{\n",
       "    x.observe(outputEl, {childList: true});\n",
       "}}\n",
       "\n",
       "                        })                };                });            </script>        </div>"
      ]
     },
     "metadata": {},
     "output_type": "display_data"
    }
   ],
   "source": [
    "# Histogram\n",
    "fig = px.histogram(df, x='Score', nbins=20, title='Distribution of Scores')\n",
    "fig.show()\n",
    "\n"
   ]
  },
  {
   "cell_type": "code",
   "execution_count": 71,
   "id": "b8ea520d",
   "metadata": {},
   "outputs": [
    {
     "data": {
      "application/vnd.plotly.v1+json": {
       "config": {
        "plotlyServerURL": "https://plot.ly"
       },
       "data": [
        {
         "alignmentgroup": "True",
         "hovertemplate": "Score=%{y}<extra></extra>",
         "legendgroup": "",
         "marker": {
          "color": "#636efa"
         },
         "name": "",
         "notched": false,
         "offsetgroup": "",
         "orientation": "v",
         "showlegend": false,
         "type": "box",
         "x0": " ",
         "xaxis": "x",
         "y": [
          "99.06",
          "98.13",
          "96.75",
          "96.53",
          "96.15",
          "94.4",
          "93.69",
          "92.08",
          "91.26",
          "91.23",
          "90.68",
          "90.3",
          "89.67",
          "89.11",
          "88.73",
          "88.52",
          "88.23",
          "87.76",
          "87.64",
          "87.62",
          "86.85",
          "86.6",
          "86.38",
          "86.02",
          "85.08",
          "84.96",
          "84.75",
          "84.64",
          "84.43",
          "83.79",
          "83.39",
          "83.39",
          "83.26",
          "83.04",
          "82.95",
          "82.87",
          "82.8",
          "82.69",
          "82.48",
          "82.38",
          "82.34",
          "82.24",
          "82.06",
          "81.93",
          "81.82",
          "81.46",
          "81.08",
          "80.96",
          "80.83",
          "80.78",
          "80.68",
          "80.11",
          "79.69",
          "79.54",
          "79.46",
          "79.39",
          "79.08",
          "78.86",
          "78.86",
          "78.77",
          "78.72",
          "78.49",
          "77.95",
          "77.94",
          "77.75",
          "77.55",
          "77.42",
          "77.35",
          "77.28",
          "77.22",
          "77.16",
          "76.77",
          "76.77",
          "76.76",
          "76.56",
          "76.46",
          "76.46",
          "76.32",
          "75.66",
          "75.52",
          "75.49",
          "75.45",
          "75.11",
          "74.89",
          "74.8",
          "74.79",
          "74.13",
          "74.11",
          "73.66",
          "73.59",
          "73.21",
          "73.16",
          "73.08",
          "73.05",
          "72.95",
          "72.74",
          "72.57",
          "72.33",
          "72.03",
          "72.03"
         ],
         "y0": " ",
         "yaxis": "y"
        }
       ],
       "layout": {
        "boxmode": "group",
        "legend": {
         "tracegroupgap": 0
        },
        "template": {
         "data": {
          "bar": [
           {
            "error_x": {
             "color": "#2a3f5f"
            },
            "error_y": {
             "color": "#2a3f5f"
            },
            "marker": {
             "line": {
              "color": "#E5ECF6",
              "width": 0.5
             },
             "pattern": {
              "fillmode": "overlay",
              "size": 10,
              "solidity": 0.2
             }
            },
            "type": "bar"
           }
          ],
          "barpolar": [
           {
            "marker": {
             "line": {
              "color": "#E5ECF6",
              "width": 0.5
             },
             "pattern": {
              "fillmode": "overlay",
              "size": 10,
              "solidity": 0.2
             }
            },
            "type": "barpolar"
           }
          ],
          "carpet": [
           {
            "aaxis": {
             "endlinecolor": "#2a3f5f",
             "gridcolor": "white",
             "linecolor": "white",
             "minorgridcolor": "white",
             "startlinecolor": "#2a3f5f"
            },
            "baxis": {
             "endlinecolor": "#2a3f5f",
             "gridcolor": "white",
             "linecolor": "white",
             "minorgridcolor": "white",
             "startlinecolor": "#2a3f5f"
            },
            "type": "carpet"
           }
          ],
          "choropleth": [
           {
            "colorbar": {
             "outlinewidth": 0,
             "ticks": ""
            },
            "type": "choropleth"
           }
          ],
          "contour": [
           {
            "colorbar": {
             "outlinewidth": 0,
             "ticks": ""
            },
            "colorscale": [
             [
              0,
              "#0d0887"
             ],
             [
              0.1111111111111111,
              "#46039f"
             ],
             [
              0.2222222222222222,
              "#7201a8"
             ],
             [
              0.3333333333333333,
              "#9c179e"
             ],
             [
              0.4444444444444444,
              "#bd3786"
             ],
             [
              0.5555555555555556,
              "#d8576b"
             ],
             [
              0.6666666666666666,
              "#ed7953"
             ],
             [
              0.7777777777777778,
              "#fb9f3a"
             ],
             [
              0.8888888888888888,
              "#fdca26"
             ],
             [
              1,
              "#f0f921"
             ]
            ],
            "type": "contour"
           }
          ],
          "contourcarpet": [
           {
            "colorbar": {
             "outlinewidth": 0,
             "ticks": ""
            },
            "type": "contourcarpet"
           }
          ],
          "heatmap": [
           {
            "colorbar": {
             "outlinewidth": 0,
             "ticks": ""
            },
            "colorscale": [
             [
              0,
              "#0d0887"
             ],
             [
              0.1111111111111111,
              "#46039f"
             ],
             [
              0.2222222222222222,
              "#7201a8"
             ],
             [
              0.3333333333333333,
              "#9c179e"
             ],
             [
              0.4444444444444444,
              "#bd3786"
             ],
             [
              0.5555555555555556,
              "#d8576b"
             ],
             [
              0.6666666666666666,
              "#ed7953"
             ],
             [
              0.7777777777777778,
              "#fb9f3a"
             ],
             [
              0.8888888888888888,
              "#fdca26"
             ],
             [
              1,
              "#f0f921"
             ]
            ],
            "type": "heatmap"
           }
          ],
          "heatmapgl": [
           {
            "colorbar": {
             "outlinewidth": 0,
             "ticks": ""
            },
            "colorscale": [
             [
              0,
              "#0d0887"
             ],
             [
              0.1111111111111111,
              "#46039f"
             ],
             [
              0.2222222222222222,
              "#7201a8"
             ],
             [
              0.3333333333333333,
              "#9c179e"
             ],
             [
              0.4444444444444444,
              "#bd3786"
             ],
             [
              0.5555555555555556,
              "#d8576b"
             ],
             [
              0.6666666666666666,
              "#ed7953"
             ],
             [
              0.7777777777777778,
              "#fb9f3a"
             ],
             [
              0.8888888888888888,
              "#fdca26"
             ],
             [
              1,
              "#f0f921"
             ]
            ],
            "type": "heatmapgl"
           }
          ],
          "histogram": [
           {
            "marker": {
             "pattern": {
              "fillmode": "overlay",
              "size": 10,
              "solidity": 0.2
             }
            },
            "type": "histogram"
           }
          ],
          "histogram2d": [
           {
            "colorbar": {
             "outlinewidth": 0,
             "ticks": ""
            },
            "colorscale": [
             [
              0,
              "#0d0887"
             ],
             [
              0.1111111111111111,
              "#46039f"
             ],
             [
              0.2222222222222222,
              "#7201a8"
             ],
             [
              0.3333333333333333,
              "#9c179e"
             ],
             [
              0.4444444444444444,
              "#bd3786"
             ],
             [
              0.5555555555555556,
              "#d8576b"
             ],
             [
              0.6666666666666666,
              "#ed7953"
             ],
             [
              0.7777777777777778,
              "#fb9f3a"
             ],
             [
              0.8888888888888888,
              "#fdca26"
             ],
             [
              1,
              "#f0f921"
             ]
            ],
            "type": "histogram2d"
           }
          ],
          "histogram2dcontour": [
           {
            "colorbar": {
             "outlinewidth": 0,
             "ticks": ""
            },
            "colorscale": [
             [
              0,
              "#0d0887"
             ],
             [
              0.1111111111111111,
              "#46039f"
             ],
             [
              0.2222222222222222,
              "#7201a8"
             ],
             [
              0.3333333333333333,
              "#9c179e"
             ],
             [
              0.4444444444444444,
              "#bd3786"
             ],
             [
              0.5555555555555556,
              "#d8576b"
             ],
             [
              0.6666666666666666,
              "#ed7953"
             ],
             [
              0.7777777777777778,
              "#fb9f3a"
             ],
             [
              0.8888888888888888,
              "#fdca26"
             ],
             [
              1,
              "#f0f921"
             ]
            ],
            "type": "histogram2dcontour"
           }
          ],
          "mesh3d": [
           {
            "colorbar": {
             "outlinewidth": 0,
             "ticks": ""
            },
            "type": "mesh3d"
           }
          ],
          "parcoords": [
           {
            "line": {
             "colorbar": {
              "outlinewidth": 0,
              "ticks": ""
             }
            },
            "type": "parcoords"
           }
          ],
          "pie": [
           {
            "automargin": true,
            "type": "pie"
           }
          ],
          "scatter": [
           {
            "fillpattern": {
             "fillmode": "overlay",
             "size": 10,
             "solidity": 0.2
            },
            "type": "scatter"
           }
          ],
          "scatter3d": [
           {
            "line": {
             "colorbar": {
              "outlinewidth": 0,
              "ticks": ""
             }
            },
            "marker": {
             "colorbar": {
              "outlinewidth": 0,
              "ticks": ""
             }
            },
            "type": "scatter3d"
           }
          ],
          "scattercarpet": [
           {
            "marker": {
             "colorbar": {
              "outlinewidth": 0,
              "ticks": ""
             }
            },
            "type": "scattercarpet"
           }
          ],
          "scattergeo": [
           {
            "marker": {
             "colorbar": {
              "outlinewidth": 0,
              "ticks": ""
             }
            },
            "type": "scattergeo"
           }
          ],
          "scattergl": [
           {
            "marker": {
             "colorbar": {
              "outlinewidth": 0,
              "ticks": ""
             }
            },
            "type": "scattergl"
           }
          ],
          "scattermapbox": [
           {
            "marker": {
             "colorbar": {
              "outlinewidth": 0,
              "ticks": ""
             }
            },
            "type": "scattermapbox"
           }
          ],
          "scatterpolar": [
           {
            "marker": {
             "colorbar": {
              "outlinewidth": 0,
              "ticks": ""
             }
            },
            "type": "scatterpolar"
           }
          ],
          "scatterpolargl": [
           {
            "marker": {
             "colorbar": {
              "outlinewidth": 0,
              "ticks": ""
             }
            },
            "type": "scatterpolargl"
           }
          ],
          "scatterternary": [
           {
            "marker": {
             "colorbar": {
              "outlinewidth": 0,
              "ticks": ""
             }
            },
            "type": "scatterternary"
           }
          ],
          "surface": [
           {
            "colorbar": {
             "outlinewidth": 0,
             "ticks": ""
            },
            "colorscale": [
             [
              0,
              "#0d0887"
             ],
             [
              0.1111111111111111,
              "#46039f"
             ],
             [
              0.2222222222222222,
              "#7201a8"
             ],
             [
              0.3333333333333333,
              "#9c179e"
             ],
             [
              0.4444444444444444,
              "#bd3786"
             ],
             [
              0.5555555555555556,
              "#d8576b"
             ],
             [
              0.6666666666666666,
              "#ed7953"
             ],
             [
              0.7777777777777778,
              "#fb9f3a"
             ],
             [
              0.8888888888888888,
              "#fdca26"
             ],
             [
              1,
              "#f0f921"
             ]
            ],
            "type": "surface"
           }
          ],
          "table": [
           {
            "cells": {
             "fill": {
              "color": "#EBF0F8"
             },
             "line": {
              "color": "white"
             }
            },
            "header": {
             "fill": {
              "color": "#C8D4E3"
             },
             "line": {
              "color": "white"
             }
            },
            "type": "table"
           }
          ]
         },
         "layout": {
          "annotationdefaults": {
           "arrowcolor": "#2a3f5f",
           "arrowhead": 0,
           "arrowwidth": 1
          },
          "autotypenumbers": "strict",
          "coloraxis": {
           "colorbar": {
            "outlinewidth": 0,
            "ticks": ""
           }
          },
          "colorscale": {
           "diverging": [
            [
             0,
             "#8e0152"
            ],
            [
             0.1,
             "#c51b7d"
            ],
            [
             0.2,
             "#de77ae"
            ],
            [
             0.3,
             "#f1b6da"
            ],
            [
             0.4,
             "#fde0ef"
            ],
            [
             0.5,
             "#f7f7f7"
            ],
            [
             0.6,
             "#e6f5d0"
            ],
            [
             0.7,
             "#b8e186"
            ],
            [
             0.8,
             "#7fbc41"
            ],
            [
             0.9,
             "#4d9221"
            ],
            [
             1,
             "#276419"
            ]
           ],
           "sequential": [
            [
             0,
             "#0d0887"
            ],
            [
             0.1111111111111111,
             "#46039f"
            ],
            [
             0.2222222222222222,
             "#7201a8"
            ],
            [
             0.3333333333333333,
             "#9c179e"
            ],
            [
             0.4444444444444444,
             "#bd3786"
            ],
            [
             0.5555555555555556,
             "#d8576b"
            ],
            [
             0.6666666666666666,
             "#ed7953"
            ],
            [
             0.7777777777777778,
             "#fb9f3a"
            ],
            [
             0.8888888888888888,
             "#fdca26"
            ],
            [
             1,
             "#f0f921"
            ]
           ],
           "sequentialminus": [
            [
             0,
             "#0d0887"
            ],
            [
             0.1111111111111111,
             "#46039f"
            ],
            [
             0.2222222222222222,
             "#7201a8"
            ],
            [
             0.3333333333333333,
             "#9c179e"
            ],
            [
             0.4444444444444444,
             "#bd3786"
            ],
            [
             0.5555555555555556,
             "#d8576b"
            ],
            [
             0.6666666666666666,
             "#ed7953"
            ],
            [
             0.7777777777777778,
             "#fb9f3a"
            ],
            [
             0.8888888888888888,
             "#fdca26"
            ],
            [
             1,
             "#f0f921"
            ]
           ]
          },
          "colorway": [
           "#636efa",
           "#EF553B",
           "#00cc96",
           "#ab63fa",
           "#FFA15A",
           "#19d3f3",
           "#FF6692",
           "#B6E880",
           "#FF97FF",
           "#FECB52"
          ],
          "font": {
           "color": "#2a3f5f"
          },
          "geo": {
           "bgcolor": "white",
           "lakecolor": "white",
           "landcolor": "#E5ECF6",
           "showlakes": true,
           "showland": true,
           "subunitcolor": "white"
          },
          "hoverlabel": {
           "align": "left"
          },
          "hovermode": "closest",
          "mapbox": {
           "style": "light"
          },
          "paper_bgcolor": "white",
          "plot_bgcolor": "#E5ECF6",
          "polar": {
           "angularaxis": {
            "gridcolor": "white",
            "linecolor": "white",
            "ticks": ""
           },
           "bgcolor": "#E5ECF6",
           "radialaxis": {
            "gridcolor": "white",
            "linecolor": "white",
            "ticks": ""
           }
          },
          "scene": {
           "xaxis": {
            "backgroundcolor": "#E5ECF6",
            "gridcolor": "white",
            "gridwidth": 2,
            "linecolor": "white",
            "showbackground": true,
            "ticks": "",
            "zerolinecolor": "white"
           },
           "yaxis": {
            "backgroundcolor": "#E5ECF6",
            "gridcolor": "white",
            "gridwidth": 2,
            "linecolor": "white",
            "showbackground": true,
            "ticks": "",
            "zerolinecolor": "white"
           },
           "zaxis": {
            "backgroundcolor": "#E5ECF6",
            "gridcolor": "white",
            "gridwidth": 2,
            "linecolor": "white",
            "showbackground": true,
            "ticks": "",
            "zerolinecolor": "white"
           }
          },
          "shapedefaults": {
           "line": {
            "color": "#2a3f5f"
           }
          },
          "ternary": {
           "aaxis": {
            "gridcolor": "white",
            "linecolor": "white",
            "ticks": ""
           },
           "baxis": {
            "gridcolor": "white",
            "linecolor": "white",
            "ticks": ""
           },
           "bgcolor": "#E5ECF6",
           "caxis": {
            "gridcolor": "white",
            "linecolor": "white",
            "ticks": ""
           }
          },
          "title": {
           "x": 0.05
          },
          "xaxis": {
           "automargin": true,
           "gridcolor": "white",
           "linecolor": "white",
           "ticks": "",
           "title": {
            "standoff": 15
           },
           "zerolinecolor": "white",
           "zerolinewidth": 2
          },
          "yaxis": {
           "automargin": true,
           "gridcolor": "white",
           "linecolor": "white",
           "ticks": "",
           "title": {
            "standoff": 15
           },
           "zerolinecolor": "white",
           "zerolinewidth": 2
          }
         }
        },
        "title": {
         "text": "Box Plot of Scores"
        },
        "xaxis": {
         "anchor": "y",
         "domain": [
          0,
          1
         ]
        },
        "yaxis": {
         "anchor": "x",
         "domain": [
          0,
          1
         ],
         "title": {
          "text": "Score"
         }
        }
       }
      },
      "text/html": [
       "<div>                            <div id=\"25dde2e5-269b-405d-8347-6637993196ab\" class=\"plotly-graph-div\" style=\"height:525px; width:100%;\"></div>            <script type=\"text/javascript\">                require([\"plotly\"], function(Plotly) {                    window.PLOTLYENV=window.PLOTLYENV || {};                                    if (document.getElementById(\"25dde2e5-269b-405d-8347-6637993196ab\")) {                    Plotly.newPlot(                        \"25dde2e5-269b-405d-8347-6637993196ab\",                        [{\"alignmentgroup\":\"True\",\"hovertemplate\":\"Score=%{y}<extra></extra>\",\"legendgroup\":\"\",\"marker\":{\"color\":\"#636efa\"},\"name\":\"\",\"notched\":false,\"offsetgroup\":\"\",\"orientation\":\"v\",\"showlegend\":false,\"x0\":\" \",\"xaxis\":\"x\",\"y\":[\"99.06\",\"98.13\",\"96.75\",\"96.53\",\"96.15\",\"94.4\",\"93.69\",\"92.08\",\"91.26\",\"91.23\",\"90.68\",\"90.3\",\"89.67\",\"89.11\",\"88.73\",\"88.52\",\"88.23\",\"87.76\",\"87.64\",\"87.62\",\"86.85\",\"86.6\",\"86.38\",\"86.02\",\"85.08\",\"84.96\",\"84.75\",\"84.64\",\"84.43\",\"83.79\",\"83.39\",\"83.39\",\"83.26\",\"83.04\",\"82.95\",\"82.87\",\"82.8\",\"82.69\",\"82.48\",\"82.38\",\"82.34\",\"82.24\",\"82.06\",\"81.93\",\"81.82\",\"81.46\",\"81.08\",\"80.96\",\"80.83\",\"80.78\",\"80.68\",\"80.11\",\"79.69\",\"79.54\",\"79.46\",\"79.39\",\"79.08\",\"78.86\",\"78.86\",\"78.77\",\"78.72\",\"78.49\",\"77.95\",\"77.94\",\"77.75\",\"77.55\",\"77.42\",\"77.35\",\"77.28\",\"77.22\",\"77.16\",\"76.77\",\"76.77\",\"76.76\",\"76.56\",\"76.46\",\"76.46\",\"76.32\",\"75.66\",\"75.52\",\"75.49\",\"75.45\",\"75.11\",\"74.89\",\"74.8\",\"74.79\",\"74.13\",\"74.11\",\"73.66\",\"73.59\",\"73.21\",\"73.16\",\"73.08\",\"73.05\",\"72.95\",\"72.74\",\"72.57\",\"72.33\",\"72.03\",\"72.03\"],\"y0\":\" \",\"yaxis\":\"y\",\"type\":\"box\"}],                        {\"template\":{\"data\":{\"histogram2dcontour\":[{\"type\":\"histogram2dcontour\",\"colorbar\":{\"outlinewidth\":0,\"ticks\":\"\"},\"colorscale\":[[0.0,\"#0d0887\"],[0.1111111111111111,\"#46039f\"],[0.2222222222222222,\"#7201a8\"],[0.3333333333333333,\"#9c179e\"],[0.4444444444444444,\"#bd3786\"],[0.5555555555555556,\"#d8576b\"],[0.6666666666666666,\"#ed7953\"],[0.7777777777777778,\"#fb9f3a\"],[0.8888888888888888,\"#fdca26\"],[1.0,\"#f0f921\"]]}],\"choropleth\":[{\"type\":\"choropleth\",\"colorbar\":{\"outlinewidth\":0,\"ticks\":\"\"}}],\"histogram2d\":[{\"type\":\"histogram2d\",\"colorbar\":{\"outlinewidth\":0,\"ticks\":\"\"},\"colorscale\":[[0.0,\"#0d0887\"],[0.1111111111111111,\"#46039f\"],[0.2222222222222222,\"#7201a8\"],[0.3333333333333333,\"#9c179e\"],[0.4444444444444444,\"#bd3786\"],[0.5555555555555556,\"#d8576b\"],[0.6666666666666666,\"#ed7953\"],[0.7777777777777778,\"#fb9f3a\"],[0.8888888888888888,\"#fdca26\"],[1.0,\"#f0f921\"]]}],\"heatmap\":[{\"type\":\"heatmap\",\"colorbar\":{\"outlinewidth\":0,\"ticks\":\"\"},\"colorscale\":[[0.0,\"#0d0887\"],[0.1111111111111111,\"#46039f\"],[0.2222222222222222,\"#7201a8\"],[0.3333333333333333,\"#9c179e\"],[0.4444444444444444,\"#bd3786\"],[0.5555555555555556,\"#d8576b\"],[0.6666666666666666,\"#ed7953\"],[0.7777777777777778,\"#fb9f3a\"],[0.8888888888888888,\"#fdca26\"],[1.0,\"#f0f921\"]]}],\"heatmapgl\":[{\"type\":\"heatmapgl\",\"colorbar\":{\"outlinewidth\":0,\"ticks\":\"\"},\"colorscale\":[[0.0,\"#0d0887\"],[0.1111111111111111,\"#46039f\"],[0.2222222222222222,\"#7201a8\"],[0.3333333333333333,\"#9c179e\"],[0.4444444444444444,\"#bd3786\"],[0.5555555555555556,\"#d8576b\"],[0.6666666666666666,\"#ed7953\"],[0.7777777777777778,\"#fb9f3a\"],[0.8888888888888888,\"#fdca26\"],[1.0,\"#f0f921\"]]}],\"contourcarpet\":[{\"type\":\"contourcarpet\",\"colorbar\":{\"outlinewidth\":0,\"ticks\":\"\"}}],\"contour\":[{\"type\":\"contour\",\"colorbar\":{\"outlinewidth\":0,\"ticks\":\"\"},\"colorscale\":[[0.0,\"#0d0887\"],[0.1111111111111111,\"#46039f\"],[0.2222222222222222,\"#7201a8\"],[0.3333333333333333,\"#9c179e\"],[0.4444444444444444,\"#bd3786\"],[0.5555555555555556,\"#d8576b\"],[0.6666666666666666,\"#ed7953\"],[0.7777777777777778,\"#fb9f3a\"],[0.8888888888888888,\"#fdca26\"],[1.0,\"#f0f921\"]]}],\"surface\":[{\"type\":\"surface\",\"colorbar\":{\"outlinewidth\":0,\"ticks\":\"\"},\"colorscale\":[[0.0,\"#0d0887\"],[0.1111111111111111,\"#46039f\"],[0.2222222222222222,\"#7201a8\"],[0.3333333333333333,\"#9c179e\"],[0.4444444444444444,\"#bd3786\"],[0.5555555555555556,\"#d8576b\"],[0.6666666666666666,\"#ed7953\"],[0.7777777777777778,\"#fb9f3a\"],[0.8888888888888888,\"#fdca26\"],[1.0,\"#f0f921\"]]}],\"mesh3d\":[{\"type\":\"mesh3d\",\"colorbar\":{\"outlinewidth\":0,\"ticks\":\"\"}}],\"scatter\":[{\"fillpattern\":{\"fillmode\":\"overlay\",\"size\":10,\"solidity\":0.2},\"type\":\"scatter\"}],\"parcoords\":[{\"type\":\"parcoords\",\"line\":{\"colorbar\":{\"outlinewidth\":0,\"ticks\":\"\"}}}],\"scatterpolargl\":[{\"type\":\"scatterpolargl\",\"marker\":{\"colorbar\":{\"outlinewidth\":0,\"ticks\":\"\"}}}],\"bar\":[{\"error_x\":{\"color\":\"#2a3f5f\"},\"error_y\":{\"color\":\"#2a3f5f\"},\"marker\":{\"line\":{\"color\":\"#E5ECF6\",\"width\":0.5},\"pattern\":{\"fillmode\":\"overlay\",\"size\":10,\"solidity\":0.2}},\"type\":\"bar\"}],\"scattergeo\":[{\"type\":\"scattergeo\",\"marker\":{\"colorbar\":{\"outlinewidth\":0,\"ticks\":\"\"}}}],\"scatterpolar\":[{\"type\":\"scatterpolar\",\"marker\":{\"colorbar\":{\"outlinewidth\":0,\"ticks\":\"\"}}}],\"histogram\":[{\"marker\":{\"pattern\":{\"fillmode\":\"overlay\",\"size\":10,\"solidity\":0.2}},\"type\":\"histogram\"}],\"scattergl\":[{\"type\":\"scattergl\",\"marker\":{\"colorbar\":{\"outlinewidth\":0,\"ticks\":\"\"}}}],\"scatter3d\":[{\"type\":\"scatter3d\",\"line\":{\"colorbar\":{\"outlinewidth\":0,\"ticks\":\"\"}},\"marker\":{\"colorbar\":{\"outlinewidth\":0,\"ticks\":\"\"}}}],\"scattermapbox\":[{\"type\":\"scattermapbox\",\"marker\":{\"colorbar\":{\"outlinewidth\":0,\"ticks\":\"\"}}}],\"scatterternary\":[{\"type\":\"scatterternary\",\"marker\":{\"colorbar\":{\"outlinewidth\":0,\"ticks\":\"\"}}}],\"scattercarpet\":[{\"type\":\"scattercarpet\",\"marker\":{\"colorbar\":{\"outlinewidth\":0,\"ticks\":\"\"}}}],\"carpet\":[{\"aaxis\":{\"endlinecolor\":\"#2a3f5f\",\"gridcolor\":\"white\",\"linecolor\":\"white\",\"minorgridcolor\":\"white\",\"startlinecolor\":\"#2a3f5f\"},\"baxis\":{\"endlinecolor\":\"#2a3f5f\",\"gridcolor\":\"white\",\"linecolor\":\"white\",\"minorgridcolor\":\"white\",\"startlinecolor\":\"#2a3f5f\"},\"type\":\"carpet\"}],\"table\":[{\"cells\":{\"fill\":{\"color\":\"#EBF0F8\"},\"line\":{\"color\":\"white\"}},\"header\":{\"fill\":{\"color\":\"#C8D4E3\"},\"line\":{\"color\":\"white\"}},\"type\":\"table\"}],\"barpolar\":[{\"marker\":{\"line\":{\"color\":\"#E5ECF6\",\"width\":0.5},\"pattern\":{\"fillmode\":\"overlay\",\"size\":10,\"solidity\":0.2}},\"type\":\"barpolar\"}],\"pie\":[{\"automargin\":true,\"type\":\"pie\"}]},\"layout\":{\"autotypenumbers\":\"strict\",\"colorway\":[\"#636efa\",\"#EF553B\",\"#00cc96\",\"#ab63fa\",\"#FFA15A\",\"#19d3f3\",\"#FF6692\",\"#B6E880\",\"#FF97FF\",\"#FECB52\"],\"font\":{\"color\":\"#2a3f5f\"},\"hovermode\":\"closest\",\"hoverlabel\":{\"align\":\"left\"},\"paper_bgcolor\":\"white\",\"plot_bgcolor\":\"#E5ECF6\",\"polar\":{\"bgcolor\":\"#E5ECF6\",\"angularaxis\":{\"gridcolor\":\"white\",\"linecolor\":\"white\",\"ticks\":\"\"},\"radialaxis\":{\"gridcolor\":\"white\",\"linecolor\":\"white\",\"ticks\":\"\"}},\"ternary\":{\"bgcolor\":\"#E5ECF6\",\"aaxis\":{\"gridcolor\":\"white\",\"linecolor\":\"white\",\"ticks\":\"\"},\"baxis\":{\"gridcolor\":\"white\",\"linecolor\":\"white\",\"ticks\":\"\"},\"caxis\":{\"gridcolor\":\"white\",\"linecolor\":\"white\",\"ticks\":\"\"}},\"coloraxis\":{\"colorbar\":{\"outlinewidth\":0,\"ticks\":\"\"}},\"colorscale\":{\"sequential\":[[0.0,\"#0d0887\"],[0.1111111111111111,\"#46039f\"],[0.2222222222222222,\"#7201a8\"],[0.3333333333333333,\"#9c179e\"],[0.4444444444444444,\"#bd3786\"],[0.5555555555555556,\"#d8576b\"],[0.6666666666666666,\"#ed7953\"],[0.7777777777777778,\"#fb9f3a\"],[0.8888888888888888,\"#fdca26\"],[1.0,\"#f0f921\"]],\"sequentialminus\":[[0.0,\"#0d0887\"],[0.1111111111111111,\"#46039f\"],[0.2222222222222222,\"#7201a8\"],[0.3333333333333333,\"#9c179e\"],[0.4444444444444444,\"#bd3786\"],[0.5555555555555556,\"#d8576b\"],[0.6666666666666666,\"#ed7953\"],[0.7777777777777778,\"#fb9f3a\"],[0.8888888888888888,\"#fdca26\"],[1.0,\"#f0f921\"]],\"diverging\":[[0,\"#8e0152\"],[0.1,\"#c51b7d\"],[0.2,\"#de77ae\"],[0.3,\"#f1b6da\"],[0.4,\"#fde0ef\"],[0.5,\"#f7f7f7\"],[0.6,\"#e6f5d0\"],[0.7,\"#b8e186\"],[0.8,\"#7fbc41\"],[0.9,\"#4d9221\"],[1,\"#276419\"]]},\"xaxis\":{\"gridcolor\":\"white\",\"linecolor\":\"white\",\"ticks\":\"\",\"title\":{\"standoff\":15},\"zerolinecolor\":\"white\",\"automargin\":true,\"zerolinewidth\":2},\"yaxis\":{\"gridcolor\":\"white\",\"linecolor\":\"white\",\"ticks\":\"\",\"title\":{\"standoff\":15},\"zerolinecolor\":\"white\",\"automargin\":true,\"zerolinewidth\":2},\"scene\":{\"xaxis\":{\"backgroundcolor\":\"#E5ECF6\",\"gridcolor\":\"white\",\"linecolor\":\"white\",\"showbackground\":true,\"ticks\":\"\",\"zerolinecolor\":\"white\",\"gridwidth\":2},\"yaxis\":{\"backgroundcolor\":\"#E5ECF6\",\"gridcolor\":\"white\",\"linecolor\":\"white\",\"showbackground\":true,\"ticks\":\"\",\"zerolinecolor\":\"white\",\"gridwidth\":2},\"zaxis\":{\"backgroundcolor\":\"#E5ECF6\",\"gridcolor\":\"white\",\"linecolor\":\"white\",\"showbackground\":true,\"ticks\":\"\",\"zerolinecolor\":\"white\",\"gridwidth\":2}},\"shapedefaults\":{\"line\":{\"color\":\"#2a3f5f\"}},\"annotationdefaults\":{\"arrowcolor\":\"#2a3f5f\",\"arrowhead\":0,\"arrowwidth\":1},\"geo\":{\"bgcolor\":\"white\",\"landcolor\":\"#E5ECF6\",\"subunitcolor\":\"white\",\"showland\":true,\"showlakes\":true,\"lakecolor\":\"white\"},\"title\":{\"x\":0.05},\"mapbox\":{\"style\":\"light\"}}},\"xaxis\":{\"anchor\":\"y\",\"domain\":[0.0,1.0]},\"yaxis\":{\"anchor\":\"x\",\"domain\":[0.0,1.0],\"title\":{\"text\":\"Score\"}},\"legend\":{\"tracegroupgap\":0},\"title\":{\"text\":\"Box Plot of Scores\"},\"boxmode\":\"group\"},                        {\"responsive\": true}                    ).then(function(){\n",
       "                            \n",
       "var gd = document.getElementById('25dde2e5-269b-405d-8347-6637993196ab');\n",
       "var x = new MutationObserver(function (mutations, observer) {{\n",
       "        var display = window.getComputedStyle(gd).display;\n",
       "        if (!display || display === 'none') {{\n",
       "            console.log([gd, 'removed!']);\n",
       "            Plotly.purge(gd);\n",
       "            observer.disconnect();\n",
       "        }}\n",
       "}});\n",
       "\n",
       "// Listen for the removal of the full notebook cells\n",
       "var notebookContainer = gd.closest('#notebook-container');\n",
       "if (notebookContainer) {{\n",
       "    x.observe(notebookContainer, {childList: true});\n",
       "}}\n",
       "\n",
       "// Listen for the clearing of the current output cell\n",
       "var outputEl = gd.closest('.output');\n",
       "if (outputEl) {{\n",
       "    x.observe(outputEl, {childList: true});\n",
       "}}\n",
       "\n",
       "                        })                };                });            </script>        </div>"
      ]
     },
     "metadata": {},
     "output_type": "display_data"
    }
   ],
   "source": [
    "# Box Plot\n",
    "fig = px.box(df, y='Score', title='Box Plot of Scores')\n",
    "fig.show()"
   ]
  },
  {
   "cell_type": "code",
   "execution_count": 72,
   "id": "034bc994",
   "metadata": {},
   "outputs": [
    {
     "data": {
      "application/vnd.plotly.v1+json": {
       "config": {
        "plotlyServerURL": "https://plot.ly"
       },
       "data": [
        {
         "alignmentgroup": "True",
         "bingroup": "x",
         "hovertemplate": "Country=%{x}<br>count=%{y}<extra></extra>",
         "legendgroup": "",
         "marker": {
          "color": "#636efa",
          "pattern": {
           "shape": ""
          }
         },
         "name": "",
         "offsetgroup": "",
         "orientation": "v",
         "showlegend": false,
         "type": "histogram",
         "x": [
          "US",
          "US",
          "US",
          "US",
          "US",
          "US",
          "US",
          "US",
          "US",
          "US",
          "US",
          "US",
          "US",
          "US",
          "US",
          "US",
          "US",
          "US",
          "US",
          "US",
          "US",
          "India",
          "US",
          "UK",
          "US",
          "UK",
          "US",
          "US",
          "Canada",
          "Australia",
          "Sweden",
          "US",
          "UK",
          "Australia",
          "UK",
          "US",
          "India",
          "US",
          "UK",
          "Canada",
          "South Korea",
          "Germany",
          "UK",
          "Singapore",
          "US",
          "India",
          "US",
          "Netherlands",
          "US",
          "Japan",
          "Canada",
          "US",
          "Denmark",
          "Netherlands",
          "India",
          "Australia",
          "US",
          "UK",
          "Hong Kong",
          "India",
          "Ukraine",
          "US",
          "Germany",
          "US",
          "Hong Kong",
          "Canada",
          "US",
          "Belgium",
          "India",
          "US",
          "France",
          "Taiwan",
          "US",
          "US",
          "Netherlands",
          "Spain",
          "US",
          "Netherlands",
          "Japan",
          "China",
          "US",
          "South Korea",
          "Switzerland",
          "US",
          "Sweden",
          "Italy",
          "US",
          "Germany",
          "US",
          "Switzerland",
          "Netherlands",
          "Greece",
          "Greece",
          "US",
          "US",
          "US",
          "Netherlands",
          "US",
          "Austria",
          "Greece"
         ],
         "xaxis": "x",
         "yaxis": "y"
        }
       ],
       "layout": {
        "barmode": "relative",
        "legend": {
         "tracegroupgap": 0
        },
        "template": {
         "data": {
          "bar": [
           {
            "error_x": {
             "color": "#2a3f5f"
            },
            "error_y": {
             "color": "#2a3f5f"
            },
            "marker": {
             "line": {
              "color": "#E5ECF6",
              "width": 0.5
             },
             "pattern": {
              "fillmode": "overlay",
              "size": 10,
              "solidity": 0.2
             }
            },
            "type": "bar"
           }
          ],
          "barpolar": [
           {
            "marker": {
             "line": {
              "color": "#E5ECF6",
              "width": 0.5
             },
             "pattern": {
              "fillmode": "overlay",
              "size": 10,
              "solidity": 0.2
             }
            },
            "type": "barpolar"
           }
          ],
          "carpet": [
           {
            "aaxis": {
             "endlinecolor": "#2a3f5f",
             "gridcolor": "white",
             "linecolor": "white",
             "minorgridcolor": "white",
             "startlinecolor": "#2a3f5f"
            },
            "baxis": {
             "endlinecolor": "#2a3f5f",
             "gridcolor": "white",
             "linecolor": "white",
             "minorgridcolor": "white",
             "startlinecolor": "#2a3f5f"
            },
            "type": "carpet"
           }
          ],
          "choropleth": [
           {
            "colorbar": {
             "outlinewidth": 0,
             "ticks": ""
            },
            "type": "choropleth"
           }
          ],
          "contour": [
           {
            "colorbar": {
             "outlinewidth": 0,
             "ticks": ""
            },
            "colorscale": [
             [
              0,
              "#0d0887"
             ],
             [
              0.1111111111111111,
              "#46039f"
             ],
             [
              0.2222222222222222,
              "#7201a8"
             ],
             [
              0.3333333333333333,
              "#9c179e"
             ],
             [
              0.4444444444444444,
              "#bd3786"
             ],
             [
              0.5555555555555556,
              "#d8576b"
             ],
             [
              0.6666666666666666,
              "#ed7953"
             ],
             [
              0.7777777777777778,
              "#fb9f3a"
             ],
             [
              0.8888888888888888,
              "#fdca26"
             ],
             [
              1,
              "#f0f921"
             ]
            ],
            "type": "contour"
           }
          ],
          "contourcarpet": [
           {
            "colorbar": {
             "outlinewidth": 0,
             "ticks": ""
            },
            "type": "contourcarpet"
           }
          ],
          "heatmap": [
           {
            "colorbar": {
             "outlinewidth": 0,
             "ticks": ""
            },
            "colorscale": [
             [
              0,
              "#0d0887"
             ],
             [
              0.1111111111111111,
              "#46039f"
             ],
             [
              0.2222222222222222,
              "#7201a8"
             ],
             [
              0.3333333333333333,
              "#9c179e"
             ],
             [
              0.4444444444444444,
              "#bd3786"
             ],
             [
              0.5555555555555556,
              "#d8576b"
             ],
             [
              0.6666666666666666,
              "#ed7953"
             ],
             [
              0.7777777777777778,
              "#fb9f3a"
             ],
             [
              0.8888888888888888,
              "#fdca26"
             ],
             [
              1,
              "#f0f921"
             ]
            ],
            "type": "heatmap"
           }
          ],
          "heatmapgl": [
           {
            "colorbar": {
             "outlinewidth": 0,
             "ticks": ""
            },
            "colorscale": [
             [
              0,
              "#0d0887"
             ],
             [
              0.1111111111111111,
              "#46039f"
             ],
             [
              0.2222222222222222,
              "#7201a8"
             ],
             [
              0.3333333333333333,
              "#9c179e"
             ],
             [
              0.4444444444444444,
              "#bd3786"
             ],
             [
              0.5555555555555556,
              "#d8576b"
             ],
             [
              0.6666666666666666,
              "#ed7953"
             ],
             [
              0.7777777777777778,
              "#fb9f3a"
             ],
             [
              0.8888888888888888,
              "#fdca26"
             ],
             [
              1,
              "#f0f921"
             ]
            ],
            "type": "heatmapgl"
           }
          ],
          "histogram": [
           {
            "marker": {
             "pattern": {
              "fillmode": "overlay",
              "size": 10,
              "solidity": 0.2
             }
            },
            "type": "histogram"
           }
          ],
          "histogram2d": [
           {
            "colorbar": {
             "outlinewidth": 0,
             "ticks": ""
            },
            "colorscale": [
             [
              0,
              "#0d0887"
             ],
             [
              0.1111111111111111,
              "#46039f"
             ],
             [
              0.2222222222222222,
              "#7201a8"
             ],
             [
              0.3333333333333333,
              "#9c179e"
             ],
             [
              0.4444444444444444,
              "#bd3786"
             ],
             [
              0.5555555555555556,
              "#d8576b"
             ],
             [
              0.6666666666666666,
              "#ed7953"
             ],
             [
              0.7777777777777778,
              "#fb9f3a"
             ],
             [
              0.8888888888888888,
              "#fdca26"
             ],
             [
              1,
              "#f0f921"
             ]
            ],
            "type": "histogram2d"
           }
          ],
          "histogram2dcontour": [
           {
            "colorbar": {
             "outlinewidth": 0,
             "ticks": ""
            },
            "colorscale": [
             [
              0,
              "#0d0887"
             ],
             [
              0.1111111111111111,
              "#46039f"
             ],
             [
              0.2222222222222222,
              "#7201a8"
             ],
             [
              0.3333333333333333,
              "#9c179e"
             ],
             [
              0.4444444444444444,
              "#bd3786"
             ],
             [
              0.5555555555555556,
              "#d8576b"
             ],
             [
              0.6666666666666666,
              "#ed7953"
             ],
             [
              0.7777777777777778,
              "#fb9f3a"
             ],
             [
              0.8888888888888888,
              "#fdca26"
             ],
             [
              1,
              "#f0f921"
             ]
            ],
            "type": "histogram2dcontour"
           }
          ],
          "mesh3d": [
           {
            "colorbar": {
             "outlinewidth": 0,
             "ticks": ""
            },
            "type": "mesh3d"
           }
          ],
          "parcoords": [
           {
            "line": {
             "colorbar": {
              "outlinewidth": 0,
              "ticks": ""
             }
            },
            "type": "parcoords"
           }
          ],
          "pie": [
           {
            "automargin": true,
            "type": "pie"
           }
          ],
          "scatter": [
           {
            "fillpattern": {
             "fillmode": "overlay",
             "size": 10,
             "solidity": 0.2
            },
            "type": "scatter"
           }
          ],
          "scatter3d": [
           {
            "line": {
             "colorbar": {
              "outlinewidth": 0,
              "ticks": ""
             }
            },
            "marker": {
             "colorbar": {
              "outlinewidth": 0,
              "ticks": ""
             }
            },
            "type": "scatter3d"
           }
          ],
          "scattercarpet": [
           {
            "marker": {
             "colorbar": {
              "outlinewidth": 0,
              "ticks": ""
             }
            },
            "type": "scattercarpet"
           }
          ],
          "scattergeo": [
           {
            "marker": {
             "colorbar": {
              "outlinewidth": 0,
              "ticks": ""
             }
            },
            "type": "scattergeo"
           }
          ],
          "scattergl": [
           {
            "marker": {
             "colorbar": {
              "outlinewidth": 0,
              "ticks": ""
             }
            },
            "type": "scattergl"
           }
          ],
          "scattermapbox": [
           {
            "marker": {
             "colorbar": {
              "outlinewidth": 0,
              "ticks": ""
             }
            },
            "type": "scattermapbox"
           }
          ],
          "scatterpolar": [
           {
            "marker": {
             "colorbar": {
              "outlinewidth": 0,
              "ticks": ""
             }
            },
            "type": "scatterpolar"
           }
          ],
          "scatterpolargl": [
           {
            "marker": {
             "colorbar": {
              "outlinewidth": 0,
              "ticks": ""
             }
            },
            "type": "scatterpolargl"
           }
          ],
          "scatterternary": [
           {
            "marker": {
             "colorbar": {
              "outlinewidth": 0,
              "ticks": ""
             }
            },
            "type": "scatterternary"
           }
          ],
          "surface": [
           {
            "colorbar": {
             "outlinewidth": 0,
             "ticks": ""
            },
            "colorscale": [
             [
              0,
              "#0d0887"
             ],
             [
              0.1111111111111111,
              "#46039f"
             ],
             [
              0.2222222222222222,
              "#7201a8"
             ],
             [
              0.3333333333333333,
              "#9c179e"
             ],
             [
              0.4444444444444444,
              "#bd3786"
             ],
             [
              0.5555555555555556,
              "#d8576b"
             ],
             [
              0.6666666666666666,
              "#ed7953"
             ],
             [
              0.7777777777777778,
              "#fb9f3a"
             ],
             [
              0.8888888888888888,
              "#fdca26"
             ],
             [
              1,
              "#f0f921"
             ]
            ],
            "type": "surface"
           }
          ],
          "table": [
           {
            "cells": {
             "fill": {
              "color": "#EBF0F8"
             },
             "line": {
              "color": "white"
             }
            },
            "header": {
             "fill": {
              "color": "#C8D4E3"
             },
             "line": {
              "color": "white"
             }
            },
            "type": "table"
           }
          ]
         },
         "layout": {
          "annotationdefaults": {
           "arrowcolor": "#2a3f5f",
           "arrowhead": 0,
           "arrowwidth": 1
          },
          "autotypenumbers": "strict",
          "coloraxis": {
           "colorbar": {
            "outlinewidth": 0,
            "ticks": ""
           }
          },
          "colorscale": {
           "diverging": [
            [
             0,
             "#8e0152"
            ],
            [
             0.1,
             "#c51b7d"
            ],
            [
             0.2,
             "#de77ae"
            ],
            [
             0.3,
             "#f1b6da"
            ],
            [
             0.4,
             "#fde0ef"
            ],
            [
             0.5,
             "#f7f7f7"
            ],
            [
             0.6,
             "#e6f5d0"
            ],
            [
             0.7,
             "#b8e186"
            ],
            [
             0.8,
             "#7fbc41"
            ],
            [
             0.9,
             "#4d9221"
            ],
            [
             1,
             "#276419"
            ]
           ],
           "sequential": [
            [
             0,
             "#0d0887"
            ],
            [
             0.1111111111111111,
             "#46039f"
            ],
            [
             0.2222222222222222,
             "#7201a8"
            ],
            [
             0.3333333333333333,
             "#9c179e"
            ],
            [
             0.4444444444444444,
             "#bd3786"
            ],
            [
             0.5555555555555556,
             "#d8576b"
            ],
            [
             0.6666666666666666,
             "#ed7953"
            ],
            [
             0.7777777777777778,
             "#fb9f3a"
            ],
            [
             0.8888888888888888,
             "#fdca26"
            ],
            [
             1,
             "#f0f921"
            ]
           ],
           "sequentialminus": [
            [
             0,
             "#0d0887"
            ],
            [
             0.1111111111111111,
             "#46039f"
            ],
            [
             0.2222222222222222,
             "#7201a8"
            ],
            [
             0.3333333333333333,
             "#9c179e"
            ],
            [
             0.4444444444444444,
             "#bd3786"
            ],
            [
             0.5555555555555556,
             "#d8576b"
            ],
            [
             0.6666666666666666,
             "#ed7953"
            ],
            [
             0.7777777777777778,
             "#fb9f3a"
            ],
            [
             0.8888888888888888,
             "#fdca26"
            ],
            [
             1,
             "#f0f921"
            ]
           ]
          },
          "colorway": [
           "#636efa",
           "#EF553B",
           "#00cc96",
           "#ab63fa",
           "#FFA15A",
           "#19d3f3",
           "#FF6692",
           "#B6E880",
           "#FF97FF",
           "#FECB52"
          ],
          "font": {
           "color": "#2a3f5f"
          },
          "geo": {
           "bgcolor": "white",
           "lakecolor": "white",
           "landcolor": "#E5ECF6",
           "showlakes": true,
           "showland": true,
           "subunitcolor": "white"
          },
          "hoverlabel": {
           "align": "left"
          },
          "hovermode": "closest",
          "mapbox": {
           "style": "light"
          },
          "paper_bgcolor": "white",
          "plot_bgcolor": "#E5ECF6",
          "polar": {
           "angularaxis": {
            "gridcolor": "white",
            "linecolor": "white",
            "ticks": ""
           },
           "bgcolor": "#E5ECF6",
           "radialaxis": {
            "gridcolor": "white",
            "linecolor": "white",
            "ticks": ""
           }
          },
          "scene": {
           "xaxis": {
            "backgroundcolor": "#E5ECF6",
            "gridcolor": "white",
            "gridwidth": 2,
            "linecolor": "white",
            "showbackground": true,
            "ticks": "",
            "zerolinecolor": "white"
           },
           "yaxis": {
            "backgroundcolor": "#E5ECF6",
            "gridcolor": "white",
            "gridwidth": 2,
            "linecolor": "white",
            "showbackground": true,
            "ticks": "",
            "zerolinecolor": "white"
           },
           "zaxis": {
            "backgroundcolor": "#E5ECF6",
            "gridcolor": "white",
            "gridwidth": 2,
            "linecolor": "white",
            "showbackground": true,
            "ticks": "",
            "zerolinecolor": "white"
           }
          },
          "shapedefaults": {
           "line": {
            "color": "#2a3f5f"
           }
          },
          "ternary": {
           "aaxis": {
            "gridcolor": "white",
            "linecolor": "white",
            "ticks": ""
           },
           "baxis": {
            "gridcolor": "white",
            "linecolor": "white",
            "ticks": ""
           },
           "bgcolor": "#E5ECF6",
           "caxis": {
            "gridcolor": "white",
            "linecolor": "white",
            "ticks": ""
           }
          },
          "title": {
           "x": 0.05
          },
          "xaxis": {
           "automargin": true,
           "gridcolor": "white",
           "linecolor": "white",
           "ticks": "",
           "title": {
            "standoff": 15
           },
           "zerolinecolor": "white",
           "zerolinewidth": 2
          },
          "yaxis": {
           "automargin": true,
           "gridcolor": "white",
           "linecolor": "white",
           "ticks": "",
           "title": {
            "standoff": 15
           },
           "zerolinecolor": "white",
           "zerolinewidth": 2
          }
         }
        },
        "title": {
         "text": "Count of Institutions by Country"
        },
        "xaxis": {
         "anchor": "y",
         "domain": [
          0,
          1
         ],
         "title": {
          "text": "Country"
         }
        },
        "yaxis": {
         "anchor": "x",
         "domain": [
          0,
          1
         ],
         "title": {
          "text": "count"
         }
        }
       }
      },
      "text/html": [
       "<div>                            <div id=\"3fcb3bb2-57df-4095-85c0-e7e47a65c535\" class=\"plotly-graph-div\" style=\"height:525px; width:100%;\"></div>            <script type=\"text/javascript\">                require([\"plotly\"], function(Plotly) {                    window.PLOTLYENV=window.PLOTLYENV || {};                                    if (document.getElementById(\"3fcb3bb2-57df-4095-85c0-e7e47a65c535\")) {                    Plotly.newPlot(                        \"3fcb3bb2-57df-4095-85c0-e7e47a65c535\",                        [{\"alignmentgroup\":\"True\",\"bingroup\":\"x\",\"hovertemplate\":\"Country=%{x}<br>count=%{y}<extra></extra>\",\"legendgroup\":\"\",\"marker\":{\"color\":\"#636efa\",\"pattern\":{\"shape\":\"\"}},\"name\":\"\",\"offsetgroup\":\"\",\"orientation\":\"v\",\"showlegend\":false,\"x\":[\"US\",\"US\",\"US\",\"US\",\"US\",\"US\",\"US\",\"US\",\"US\",\"US\",\"US\",\"US\",\"US\",\"US\",\"US\",\"US\",\"US\",\"US\",\"US\",\"US\",\"US\",\"India\",\"US\",\"UK\",\"US\",\"UK\",\"US\",\"US\",\"Canada\",\"Australia\",\"Sweden\",\"US\",\"UK\",\"Australia\",\"UK\",\"US\",\"India\",\"US\",\"UK\",\"Canada\",\"South Korea\",\"Germany\",\"UK\",\"Singapore\",\"US\",\"India\",\"US\",\"Netherlands\",\"US\",\"Japan\",\"Canada\",\"US\",\"Denmark\",\"Netherlands\",\"India\",\"Australia\",\"US\",\"UK\",\"Hong Kong\",\"India\",\"Ukraine\",\"US\",\"Germany\",\"US\",\"Hong Kong\",\"Canada\",\"US\",\"Belgium\",\"India\",\"US\",\"France\",\"Taiwan\",\"US\",\"US\",\"Netherlands\",\"Spain\",\"US\",\"Netherlands\",\"Japan\",\"China\",\"US\",\"South Korea\",\"Switzerland\",\"US\",\"Sweden\",\"Italy\",\"US\",\"Germany\",\"US\",\"Switzerland\",\"Netherlands\",\"Greece\",\"Greece\",\"US\",\"US\",\"US\",\"Netherlands\",\"US\",\"Austria\",\"Greece\"],\"xaxis\":\"x\",\"yaxis\":\"y\",\"type\":\"histogram\"}],                        {\"template\":{\"data\":{\"histogram2dcontour\":[{\"type\":\"histogram2dcontour\",\"colorbar\":{\"outlinewidth\":0,\"ticks\":\"\"},\"colorscale\":[[0.0,\"#0d0887\"],[0.1111111111111111,\"#46039f\"],[0.2222222222222222,\"#7201a8\"],[0.3333333333333333,\"#9c179e\"],[0.4444444444444444,\"#bd3786\"],[0.5555555555555556,\"#d8576b\"],[0.6666666666666666,\"#ed7953\"],[0.7777777777777778,\"#fb9f3a\"],[0.8888888888888888,\"#fdca26\"],[1.0,\"#f0f921\"]]}],\"choropleth\":[{\"type\":\"choropleth\",\"colorbar\":{\"outlinewidth\":0,\"ticks\":\"\"}}],\"histogram2d\":[{\"type\":\"histogram2d\",\"colorbar\":{\"outlinewidth\":0,\"ticks\":\"\"},\"colorscale\":[[0.0,\"#0d0887\"],[0.1111111111111111,\"#46039f\"],[0.2222222222222222,\"#7201a8\"],[0.3333333333333333,\"#9c179e\"],[0.4444444444444444,\"#bd3786\"],[0.5555555555555556,\"#d8576b\"],[0.6666666666666666,\"#ed7953\"],[0.7777777777777778,\"#fb9f3a\"],[0.8888888888888888,\"#fdca26\"],[1.0,\"#f0f921\"]]}],\"heatmap\":[{\"type\":\"heatmap\",\"colorbar\":{\"outlinewidth\":0,\"ticks\":\"\"},\"colorscale\":[[0.0,\"#0d0887\"],[0.1111111111111111,\"#46039f\"],[0.2222222222222222,\"#7201a8\"],[0.3333333333333333,\"#9c179e\"],[0.4444444444444444,\"#bd3786\"],[0.5555555555555556,\"#d8576b\"],[0.6666666666666666,\"#ed7953\"],[0.7777777777777778,\"#fb9f3a\"],[0.8888888888888888,\"#fdca26\"],[1.0,\"#f0f921\"]]}],\"heatmapgl\":[{\"type\":\"heatmapgl\",\"colorbar\":{\"outlinewidth\":0,\"ticks\":\"\"},\"colorscale\":[[0.0,\"#0d0887\"],[0.1111111111111111,\"#46039f\"],[0.2222222222222222,\"#7201a8\"],[0.3333333333333333,\"#9c179e\"],[0.4444444444444444,\"#bd3786\"],[0.5555555555555556,\"#d8576b\"],[0.6666666666666666,\"#ed7953\"],[0.7777777777777778,\"#fb9f3a\"],[0.8888888888888888,\"#fdca26\"],[1.0,\"#f0f921\"]]}],\"contourcarpet\":[{\"type\":\"contourcarpet\",\"colorbar\":{\"outlinewidth\":0,\"ticks\":\"\"}}],\"contour\":[{\"type\":\"contour\",\"colorbar\":{\"outlinewidth\":0,\"ticks\":\"\"},\"colorscale\":[[0.0,\"#0d0887\"],[0.1111111111111111,\"#46039f\"],[0.2222222222222222,\"#7201a8\"],[0.3333333333333333,\"#9c179e\"],[0.4444444444444444,\"#bd3786\"],[0.5555555555555556,\"#d8576b\"],[0.6666666666666666,\"#ed7953\"],[0.7777777777777778,\"#fb9f3a\"],[0.8888888888888888,\"#fdca26\"],[1.0,\"#f0f921\"]]}],\"surface\":[{\"type\":\"surface\",\"colorbar\":{\"outlinewidth\":0,\"ticks\":\"\"},\"colorscale\":[[0.0,\"#0d0887\"],[0.1111111111111111,\"#46039f\"],[0.2222222222222222,\"#7201a8\"],[0.3333333333333333,\"#9c179e\"],[0.4444444444444444,\"#bd3786\"],[0.5555555555555556,\"#d8576b\"],[0.6666666666666666,\"#ed7953\"],[0.7777777777777778,\"#fb9f3a\"],[0.8888888888888888,\"#fdca26\"],[1.0,\"#f0f921\"]]}],\"mesh3d\":[{\"type\":\"mesh3d\",\"colorbar\":{\"outlinewidth\":0,\"ticks\":\"\"}}],\"scatter\":[{\"fillpattern\":{\"fillmode\":\"overlay\",\"size\":10,\"solidity\":0.2},\"type\":\"scatter\"}],\"parcoords\":[{\"type\":\"parcoords\",\"line\":{\"colorbar\":{\"outlinewidth\":0,\"ticks\":\"\"}}}],\"scatterpolargl\":[{\"type\":\"scatterpolargl\",\"marker\":{\"colorbar\":{\"outlinewidth\":0,\"ticks\":\"\"}}}],\"bar\":[{\"error_x\":{\"color\":\"#2a3f5f\"},\"error_y\":{\"color\":\"#2a3f5f\"},\"marker\":{\"line\":{\"color\":\"#E5ECF6\",\"width\":0.5},\"pattern\":{\"fillmode\":\"overlay\",\"size\":10,\"solidity\":0.2}},\"type\":\"bar\"}],\"scattergeo\":[{\"type\":\"scattergeo\",\"marker\":{\"colorbar\":{\"outlinewidth\":0,\"ticks\":\"\"}}}],\"scatterpolar\":[{\"type\":\"scatterpolar\",\"marker\":{\"colorbar\":{\"outlinewidth\":0,\"ticks\":\"\"}}}],\"histogram\":[{\"marker\":{\"pattern\":{\"fillmode\":\"overlay\",\"size\":10,\"solidity\":0.2}},\"type\":\"histogram\"}],\"scattergl\":[{\"type\":\"scattergl\",\"marker\":{\"colorbar\":{\"outlinewidth\":0,\"ticks\":\"\"}}}],\"scatter3d\":[{\"type\":\"scatter3d\",\"line\":{\"colorbar\":{\"outlinewidth\":0,\"ticks\":\"\"}},\"marker\":{\"colorbar\":{\"outlinewidth\":0,\"ticks\":\"\"}}}],\"scattermapbox\":[{\"type\":\"scattermapbox\",\"marker\":{\"colorbar\":{\"outlinewidth\":0,\"ticks\":\"\"}}}],\"scatterternary\":[{\"type\":\"scatterternary\",\"marker\":{\"colorbar\":{\"outlinewidth\":0,\"ticks\":\"\"}}}],\"scattercarpet\":[{\"type\":\"scattercarpet\",\"marker\":{\"colorbar\":{\"outlinewidth\":0,\"ticks\":\"\"}}}],\"carpet\":[{\"aaxis\":{\"endlinecolor\":\"#2a3f5f\",\"gridcolor\":\"white\",\"linecolor\":\"white\",\"minorgridcolor\":\"white\",\"startlinecolor\":\"#2a3f5f\"},\"baxis\":{\"endlinecolor\":\"#2a3f5f\",\"gridcolor\":\"white\",\"linecolor\":\"white\",\"minorgridcolor\":\"white\",\"startlinecolor\":\"#2a3f5f\"},\"type\":\"carpet\"}],\"table\":[{\"cells\":{\"fill\":{\"color\":\"#EBF0F8\"},\"line\":{\"color\":\"white\"}},\"header\":{\"fill\":{\"color\":\"#C8D4E3\"},\"line\":{\"color\":\"white\"}},\"type\":\"table\"}],\"barpolar\":[{\"marker\":{\"line\":{\"color\":\"#E5ECF6\",\"width\":0.5},\"pattern\":{\"fillmode\":\"overlay\",\"size\":10,\"solidity\":0.2}},\"type\":\"barpolar\"}],\"pie\":[{\"automargin\":true,\"type\":\"pie\"}]},\"layout\":{\"autotypenumbers\":\"strict\",\"colorway\":[\"#636efa\",\"#EF553B\",\"#00cc96\",\"#ab63fa\",\"#FFA15A\",\"#19d3f3\",\"#FF6692\",\"#B6E880\",\"#FF97FF\",\"#FECB52\"],\"font\":{\"color\":\"#2a3f5f\"},\"hovermode\":\"closest\",\"hoverlabel\":{\"align\":\"left\"},\"paper_bgcolor\":\"white\",\"plot_bgcolor\":\"#E5ECF6\",\"polar\":{\"bgcolor\":\"#E5ECF6\",\"angularaxis\":{\"gridcolor\":\"white\",\"linecolor\":\"white\",\"ticks\":\"\"},\"radialaxis\":{\"gridcolor\":\"white\",\"linecolor\":\"white\",\"ticks\":\"\"}},\"ternary\":{\"bgcolor\":\"#E5ECF6\",\"aaxis\":{\"gridcolor\":\"white\",\"linecolor\":\"white\",\"ticks\":\"\"},\"baxis\":{\"gridcolor\":\"white\",\"linecolor\":\"white\",\"ticks\":\"\"},\"caxis\":{\"gridcolor\":\"white\",\"linecolor\":\"white\",\"ticks\":\"\"}},\"coloraxis\":{\"colorbar\":{\"outlinewidth\":0,\"ticks\":\"\"}},\"colorscale\":{\"sequential\":[[0.0,\"#0d0887\"],[0.1111111111111111,\"#46039f\"],[0.2222222222222222,\"#7201a8\"],[0.3333333333333333,\"#9c179e\"],[0.4444444444444444,\"#bd3786\"],[0.5555555555555556,\"#d8576b\"],[0.6666666666666666,\"#ed7953\"],[0.7777777777777778,\"#fb9f3a\"],[0.8888888888888888,\"#fdca26\"],[1.0,\"#f0f921\"]],\"sequentialminus\":[[0.0,\"#0d0887\"],[0.1111111111111111,\"#46039f\"],[0.2222222222222222,\"#7201a8\"],[0.3333333333333333,\"#9c179e\"],[0.4444444444444444,\"#bd3786\"],[0.5555555555555556,\"#d8576b\"],[0.6666666666666666,\"#ed7953\"],[0.7777777777777778,\"#fb9f3a\"],[0.8888888888888888,\"#fdca26\"],[1.0,\"#f0f921\"]],\"diverging\":[[0,\"#8e0152\"],[0.1,\"#c51b7d\"],[0.2,\"#de77ae\"],[0.3,\"#f1b6da\"],[0.4,\"#fde0ef\"],[0.5,\"#f7f7f7\"],[0.6,\"#e6f5d0\"],[0.7,\"#b8e186\"],[0.8,\"#7fbc41\"],[0.9,\"#4d9221\"],[1,\"#276419\"]]},\"xaxis\":{\"gridcolor\":\"white\",\"linecolor\":\"white\",\"ticks\":\"\",\"title\":{\"standoff\":15},\"zerolinecolor\":\"white\",\"automargin\":true,\"zerolinewidth\":2},\"yaxis\":{\"gridcolor\":\"white\",\"linecolor\":\"white\",\"ticks\":\"\",\"title\":{\"standoff\":15},\"zerolinecolor\":\"white\",\"automargin\":true,\"zerolinewidth\":2},\"scene\":{\"xaxis\":{\"backgroundcolor\":\"#E5ECF6\",\"gridcolor\":\"white\",\"linecolor\":\"white\",\"showbackground\":true,\"ticks\":\"\",\"zerolinecolor\":\"white\",\"gridwidth\":2},\"yaxis\":{\"backgroundcolor\":\"#E5ECF6\",\"gridcolor\":\"white\",\"linecolor\":\"white\",\"showbackground\":true,\"ticks\":\"\",\"zerolinecolor\":\"white\",\"gridwidth\":2},\"zaxis\":{\"backgroundcolor\":\"#E5ECF6\",\"gridcolor\":\"white\",\"linecolor\":\"white\",\"showbackground\":true,\"ticks\":\"\",\"zerolinecolor\":\"white\",\"gridwidth\":2}},\"shapedefaults\":{\"line\":{\"color\":\"#2a3f5f\"}},\"annotationdefaults\":{\"arrowcolor\":\"#2a3f5f\",\"arrowhead\":0,\"arrowwidth\":1},\"geo\":{\"bgcolor\":\"white\",\"landcolor\":\"#E5ECF6\",\"subunitcolor\":\"white\",\"showland\":true,\"showlakes\":true,\"lakecolor\":\"white\"},\"title\":{\"x\":0.05},\"mapbox\":{\"style\":\"light\"}}},\"xaxis\":{\"anchor\":\"y\",\"domain\":[0.0,1.0],\"title\":{\"text\":\"Country\"}},\"yaxis\":{\"anchor\":\"x\",\"domain\":[0.0,1.0],\"title\":{\"text\":\"count\"}},\"legend\":{\"tracegroupgap\":0},\"title\":{\"text\":\"Count of Institutions by Country\"},\"barmode\":\"relative\"},                        {\"responsive\": true}                    ).then(function(){\n",
       "                            \n",
       "var gd = document.getElementById('3fcb3bb2-57df-4095-85c0-e7e47a65c535');\n",
       "var x = new MutationObserver(function (mutations, observer) {{\n",
       "        var display = window.getComputedStyle(gd).display;\n",
       "        if (!display || display === 'none') {{\n",
       "            console.log([gd, 'removed!']);\n",
       "            Plotly.purge(gd);\n",
       "            observer.disconnect();\n",
       "        }}\n",
       "}});\n",
       "\n",
       "// Listen for the removal of the full notebook cells\n",
       "var notebookContainer = gd.closest('#notebook-container');\n",
       "if (notebookContainer) {{\n",
       "    x.observe(notebookContainer, {childList: true});\n",
       "}}\n",
       "\n",
       "// Listen for the clearing of the current output cell\n",
       "var outputEl = gd.closest('.output');\n",
       "if (outputEl) {{\n",
       "    x.observe(outputEl, {childList: true});\n",
       "}}\n",
       "\n",
       "                        })                };                });            </script>        </div>"
      ]
     },
     "metadata": {},
     "output_type": "display_data"
    }
   ],
   "source": [
    "# Count Plot\n",
    "fig = px.histogram(df, x='Country', title='Count of Institutions by Country')\n",
    "fig.show()"
   ]
  },
  {
   "cell_type": "code",
   "execution_count": 73,
   "id": "66d701eb",
   "metadata": {},
   "outputs": [
    {
     "data": {
      "application/vnd.plotly.v1+json": {
       "config": {
        "plotlyServerURL": "https://plot.ly"
       },
       "data": [
        {
         "hovertemplate": "Score=%{x}<br>Rating=%{y}<extra></extra>",
         "legendgroup": "",
         "marker": {
          "color": "#636efa",
          "symbol": "circle"
         },
         "mode": "markers",
         "name": "",
         "orientation": "v",
         "showlegend": false,
         "type": "scatter",
         "x": [
          "99.06",
          "98.13",
          "96.75",
          "96.53",
          "96.15",
          "94.4",
          "93.69",
          "92.08",
          "91.26",
          "91.23",
          "90.68",
          "90.3",
          "89.67",
          "89.11",
          "88.73",
          "88.52",
          "88.23",
          "87.76",
          "87.64",
          "87.62",
          "86.85",
          "86.6",
          "86.38",
          "86.02",
          "85.08",
          "84.96",
          "84.75",
          "84.64",
          "84.43",
          "83.79",
          "83.39",
          "83.39",
          "83.26",
          "83.04",
          "82.95",
          "82.87",
          "82.8",
          "82.69",
          "82.48",
          "82.38",
          "82.34",
          "82.24",
          "82.06",
          "81.93",
          "81.82",
          "81.46",
          "81.08",
          "80.96",
          "80.83",
          "80.78",
          "80.68",
          "80.11",
          "79.69",
          "79.54",
          "79.46",
          "79.39",
          "79.08",
          "78.86",
          "78.86",
          "78.77",
          "78.72",
          "78.49",
          "77.95",
          "77.94",
          "77.75",
          "77.55",
          "77.42",
          "77.35",
          "77.28",
          "77.22",
          "77.16",
          "76.77",
          "76.77",
          "76.76",
          "76.56",
          "76.46",
          "76.46",
          "76.32",
          "75.66",
          "75.52",
          "75.49",
          "75.45",
          "75.11",
          "74.89",
          "74.8",
          "74.79",
          "74.13",
          "74.11",
          "73.66",
          "73.59",
          "73.21",
          "73.16",
          "73.08",
          "73.05",
          "72.95",
          "72.74",
          "72.57",
          "72.33",
          "72.03",
          "72.03"
         ],
         "xaxis": "x",
         "y": [
          "AAA",
          "AAA",
          "AAA",
          "AAA",
          "AAA",
          "AAA",
          "AAA",
          "AAA",
          "AAA",
          "AAA",
          "AA",
          "AA",
          "AA",
          "AA",
          "AA",
          "AA",
          "AA",
          "AA",
          "AA",
          "AA",
          "AA",
          "AA",
          "AA",
          "AA",
          "A",
          "A",
          "A",
          "A",
          "A",
          "A",
          "A",
          "A",
          "A",
          "A",
          "A",
          "A",
          "A",
          "A",
          "A",
          "A",
          "A",
          "A",
          "A",
          "A",
          "A",
          "A",
          "A",
          "A",
          "A",
          "A",
          "A",
          "A",
          "BBB",
          "BBB",
          "BBB",
          "BBB",
          "BBB",
          "BBB",
          "BBB",
          "BBB",
          "BBB",
          "BBB",
          "BBB",
          "BBB",
          "BBB",
          "BBB",
          "BBB",
          "BBB",
          "BBB",
          "BBB",
          "BBB",
          "BB",
          "BB",
          "BB",
          "BB",
          "BB",
          "BB",
          "BB",
          "BB",
          "BB",
          "BB",
          "BB",
          "BB",
          "B",
          "B",
          "B",
          "B",
          "B",
          "B",
          "B",
          "B",
          "B",
          "B",
          "B",
          "B",
          "B",
          "B",
          "B",
          "B",
          "B"
         ],
         "yaxis": "y"
        }
       ],
       "layout": {
        "legend": {
         "tracegroupgap": 0
        },
        "template": {
         "data": {
          "bar": [
           {
            "error_x": {
             "color": "#2a3f5f"
            },
            "error_y": {
             "color": "#2a3f5f"
            },
            "marker": {
             "line": {
              "color": "#E5ECF6",
              "width": 0.5
             },
             "pattern": {
              "fillmode": "overlay",
              "size": 10,
              "solidity": 0.2
             }
            },
            "type": "bar"
           }
          ],
          "barpolar": [
           {
            "marker": {
             "line": {
              "color": "#E5ECF6",
              "width": 0.5
             },
             "pattern": {
              "fillmode": "overlay",
              "size": 10,
              "solidity": 0.2
             }
            },
            "type": "barpolar"
           }
          ],
          "carpet": [
           {
            "aaxis": {
             "endlinecolor": "#2a3f5f",
             "gridcolor": "white",
             "linecolor": "white",
             "minorgridcolor": "white",
             "startlinecolor": "#2a3f5f"
            },
            "baxis": {
             "endlinecolor": "#2a3f5f",
             "gridcolor": "white",
             "linecolor": "white",
             "minorgridcolor": "white",
             "startlinecolor": "#2a3f5f"
            },
            "type": "carpet"
           }
          ],
          "choropleth": [
           {
            "colorbar": {
             "outlinewidth": 0,
             "ticks": ""
            },
            "type": "choropleth"
           }
          ],
          "contour": [
           {
            "colorbar": {
             "outlinewidth": 0,
             "ticks": ""
            },
            "colorscale": [
             [
              0,
              "#0d0887"
             ],
             [
              0.1111111111111111,
              "#46039f"
             ],
             [
              0.2222222222222222,
              "#7201a8"
             ],
             [
              0.3333333333333333,
              "#9c179e"
             ],
             [
              0.4444444444444444,
              "#bd3786"
             ],
             [
              0.5555555555555556,
              "#d8576b"
             ],
             [
              0.6666666666666666,
              "#ed7953"
             ],
             [
              0.7777777777777778,
              "#fb9f3a"
             ],
             [
              0.8888888888888888,
              "#fdca26"
             ],
             [
              1,
              "#f0f921"
             ]
            ],
            "type": "contour"
           }
          ],
          "contourcarpet": [
           {
            "colorbar": {
             "outlinewidth": 0,
             "ticks": ""
            },
            "type": "contourcarpet"
           }
          ],
          "heatmap": [
           {
            "colorbar": {
             "outlinewidth": 0,
             "ticks": ""
            },
            "colorscale": [
             [
              0,
              "#0d0887"
             ],
             [
              0.1111111111111111,
              "#46039f"
             ],
             [
              0.2222222222222222,
              "#7201a8"
             ],
             [
              0.3333333333333333,
              "#9c179e"
             ],
             [
              0.4444444444444444,
              "#bd3786"
             ],
             [
              0.5555555555555556,
              "#d8576b"
             ],
             [
              0.6666666666666666,
              "#ed7953"
             ],
             [
              0.7777777777777778,
              "#fb9f3a"
             ],
             [
              0.8888888888888888,
              "#fdca26"
             ],
             [
              1,
              "#f0f921"
             ]
            ],
            "type": "heatmap"
           }
          ],
          "heatmapgl": [
           {
            "colorbar": {
             "outlinewidth": 0,
             "ticks": ""
            },
            "colorscale": [
             [
              0,
              "#0d0887"
             ],
             [
              0.1111111111111111,
              "#46039f"
             ],
             [
              0.2222222222222222,
              "#7201a8"
             ],
             [
              0.3333333333333333,
              "#9c179e"
             ],
             [
              0.4444444444444444,
              "#bd3786"
             ],
             [
              0.5555555555555556,
              "#d8576b"
             ],
             [
              0.6666666666666666,
              "#ed7953"
             ],
             [
              0.7777777777777778,
              "#fb9f3a"
             ],
             [
              0.8888888888888888,
              "#fdca26"
             ],
             [
              1,
              "#f0f921"
             ]
            ],
            "type": "heatmapgl"
           }
          ],
          "histogram": [
           {
            "marker": {
             "pattern": {
              "fillmode": "overlay",
              "size": 10,
              "solidity": 0.2
             }
            },
            "type": "histogram"
           }
          ],
          "histogram2d": [
           {
            "colorbar": {
             "outlinewidth": 0,
             "ticks": ""
            },
            "colorscale": [
             [
              0,
              "#0d0887"
             ],
             [
              0.1111111111111111,
              "#46039f"
             ],
             [
              0.2222222222222222,
              "#7201a8"
             ],
             [
              0.3333333333333333,
              "#9c179e"
             ],
             [
              0.4444444444444444,
              "#bd3786"
             ],
             [
              0.5555555555555556,
              "#d8576b"
             ],
             [
              0.6666666666666666,
              "#ed7953"
             ],
             [
              0.7777777777777778,
              "#fb9f3a"
             ],
             [
              0.8888888888888888,
              "#fdca26"
             ],
             [
              1,
              "#f0f921"
             ]
            ],
            "type": "histogram2d"
           }
          ],
          "histogram2dcontour": [
           {
            "colorbar": {
             "outlinewidth": 0,
             "ticks": ""
            },
            "colorscale": [
             [
              0,
              "#0d0887"
             ],
             [
              0.1111111111111111,
              "#46039f"
             ],
             [
              0.2222222222222222,
              "#7201a8"
             ],
             [
              0.3333333333333333,
              "#9c179e"
             ],
             [
              0.4444444444444444,
              "#bd3786"
             ],
             [
              0.5555555555555556,
              "#d8576b"
             ],
             [
              0.6666666666666666,
              "#ed7953"
             ],
             [
              0.7777777777777778,
              "#fb9f3a"
             ],
             [
              0.8888888888888888,
              "#fdca26"
             ],
             [
              1,
              "#f0f921"
             ]
            ],
            "type": "histogram2dcontour"
           }
          ],
          "mesh3d": [
           {
            "colorbar": {
             "outlinewidth": 0,
             "ticks": ""
            },
            "type": "mesh3d"
           }
          ],
          "parcoords": [
           {
            "line": {
             "colorbar": {
              "outlinewidth": 0,
              "ticks": ""
             }
            },
            "type": "parcoords"
           }
          ],
          "pie": [
           {
            "automargin": true,
            "type": "pie"
           }
          ],
          "scatter": [
           {
            "fillpattern": {
             "fillmode": "overlay",
             "size": 10,
             "solidity": 0.2
            },
            "type": "scatter"
           }
          ],
          "scatter3d": [
           {
            "line": {
             "colorbar": {
              "outlinewidth": 0,
              "ticks": ""
             }
            },
            "marker": {
             "colorbar": {
              "outlinewidth": 0,
              "ticks": ""
             }
            },
            "type": "scatter3d"
           }
          ],
          "scattercarpet": [
           {
            "marker": {
             "colorbar": {
              "outlinewidth": 0,
              "ticks": ""
             }
            },
            "type": "scattercarpet"
           }
          ],
          "scattergeo": [
           {
            "marker": {
             "colorbar": {
              "outlinewidth": 0,
              "ticks": ""
             }
            },
            "type": "scattergeo"
           }
          ],
          "scattergl": [
           {
            "marker": {
             "colorbar": {
              "outlinewidth": 0,
              "ticks": ""
             }
            },
            "type": "scattergl"
           }
          ],
          "scattermapbox": [
           {
            "marker": {
             "colorbar": {
              "outlinewidth": 0,
              "ticks": ""
             }
            },
            "type": "scattermapbox"
           }
          ],
          "scatterpolar": [
           {
            "marker": {
             "colorbar": {
              "outlinewidth": 0,
              "ticks": ""
             }
            },
            "type": "scatterpolar"
           }
          ],
          "scatterpolargl": [
           {
            "marker": {
             "colorbar": {
              "outlinewidth": 0,
              "ticks": ""
             }
            },
            "type": "scatterpolargl"
           }
          ],
          "scatterternary": [
           {
            "marker": {
             "colorbar": {
              "outlinewidth": 0,
              "ticks": ""
             }
            },
            "type": "scatterternary"
           }
          ],
          "surface": [
           {
            "colorbar": {
             "outlinewidth": 0,
             "ticks": ""
            },
            "colorscale": [
             [
              0,
              "#0d0887"
             ],
             [
              0.1111111111111111,
              "#46039f"
             ],
             [
              0.2222222222222222,
              "#7201a8"
             ],
             [
              0.3333333333333333,
              "#9c179e"
             ],
             [
              0.4444444444444444,
              "#bd3786"
             ],
             [
              0.5555555555555556,
              "#d8576b"
             ],
             [
              0.6666666666666666,
              "#ed7953"
             ],
             [
              0.7777777777777778,
              "#fb9f3a"
             ],
             [
              0.8888888888888888,
              "#fdca26"
             ],
             [
              1,
              "#f0f921"
             ]
            ],
            "type": "surface"
           }
          ],
          "table": [
           {
            "cells": {
             "fill": {
              "color": "#EBF0F8"
             },
             "line": {
              "color": "white"
             }
            },
            "header": {
             "fill": {
              "color": "#C8D4E3"
             },
             "line": {
              "color": "white"
             }
            },
            "type": "table"
           }
          ]
         },
         "layout": {
          "annotationdefaults": {
           "arrowcolor": "#2a3f5f",
           "arrowhead": 0,
           "arrowwidth": 1
          },
          "autotypenumbers": "strict",
          "coloraxis": {
           "colorbar": {
            "outlinewidth": 0,
            "ticks": ""
           }
          },
          "colorscale": {
           "diverging": [
            [
             0,
             "#8e0152"
            ],
            [
             0.1,
             "#c51b7d"
            ],
            [
             0.2,
             "#de77ae"
            ],
            [
             0.3,
             "#f1b6da"
            ],
            [
             0.4,
             "#fde0ef"
            ],
            [
             0.5,
             "#f7f7f7"
            ],
            [
             0.6,
             "#e6f5d0"
            ],
            [
             0.7,
             "#b8e186"
            ],
            [
             0.8,
             "#7fbc41"
            ],
            [
             0.9,
             "#4d9221"
            ],
            [
             1,
             "#276419"
            ]
           ],
           "sequential": [
            [
             0,
             "#0d0887"
            ],
            [
             0.1111111111111111,
             "#46039f"
            ],
            [
             0.2222222222222222,
             "#7201a8"
            ],
            [
             0.3333333333333333,
             "#9c179e"
            ],
            [
             0.4444444444444444,
             "#bd3786"
            ],
            [
             0.5555555555555556,
             "#d8576b"
            ],
            [
             0.6666666666666666,
             "#ed7953"
            ],
            [
             0.7777777777777778,
             "#fb9f3a"
            ],
            [
             0.8888888888888888,
             "#fdca26"
            ],
            [
             1,
             "#f0f921"
            ]
           ],
           "sequentialminus": [
            [
             0,
             "#0d0887"
            ],
            [
             0.1111111111111111,
             "#46039f"
            ],
            [
             0.2222222222222222,
             "#7201a8"
            ],
            [
             0.3333333333333333,
             "#9c179e"
            ],
            [
             0.4444444444444444,
             "#bd3786"
            ],
            [
             0.5555555555555556,
             "#d8576b"
            ],
            [
             0.6666666666666666,
             "#ed7953"
            ],
            [
             0.7777777777777778,
             "#fb9f3a"
            ],
            [
             0.8888888888888888,
             "#fdca26"
            ],
            [
             1,
             "#f0f921"
            ]
           ]
          },
          "colorway": [
           "#636efa",
           "#EF553B",
           "#00cc96",
           "#ab63fa",
           "#FFA15A",
           "#19d3f3",
           "#FF6692",
           "#B6E880",
           "#FF97FF",
           "#FECB52"
          ],
          "font": {
           "color": "#2a3f5f"
          },
          "geo": {
           "bgcolor": "white",
           "lakecolor": "white",
           "landcolor": "#E5ECF6",
           "showlakes": true,
           "showland": true,
           "subunitcolor": "white"
          },
          "hoverlabel": {
           "align": "left"
          },
          "hovermode": "closest",
          "mapbox": {
           "style": "light"
          },
          "paper_bgcolor": "white",
          "plot_bgcolor": "#E5ECF6",
          "polar": {
           "angularaxis": {
            "gridcolor": "white",
            "linecolor": "white",
            "ticks": ""
           },
           "bgcolor": "#E5ECF6",
           "radialaxis": {
            "gridcolor": "white",
            "linecolor": "white",
            "ticks": ""
           }
          },
          "scene": {
           "xaxis": {
            "backgroundcolor": "#E5ECF6",
            "gridcolor": "white",
            "gridwidth": 2,
            "linecolor": "white",
            "showbackground": true,
            "ticks": "",
            "zerolinecolor": "white"
           },
           "yaxis": {
            "backgroundcolor": "#E5ECF6",
            "gridcolor": "white",
            "gridwidth": 2,
            "linecolor": "white",
            "showbackground": true,
            "ticks": "",
            "zerolinecolor": "white"
           },
           "zaxis": {
            "backgroundcolor": "#E5ECF6",
            "gridcolor": "white",
            "gridwidth": 2,
            "linecolor": "white",
            "showbackground": true,
            "ticks": "",
            "zerolinecolor": "white"
           }
          },
          "shapedefaults": {
           "line": {
            "color": "#2a3f5f"
           }
          },
          "ternary": {
           "aaxis": {
            "gridcolor": "white",
            "linecolor": "white",
            "ticks": ""
           },
           "baxis": {
            "gridcolor": "white",
            "linecolor": "white",
            "ticks": ""
           },
           "bgcolor": "#E5ECF6",
           "caxis": {
            "gridcolor": "white",
            "linecolor": "white",
            "ticks": ""
           }
          },
          "title": {
           "x": 0.05
          },
          "xaxis": {
           "automargin": true,
           "gridcolor": "white",
           "linecolor": "white",
           "ticks": "",
           "title": {
            "standoff": 15
           },
           "zerolinecolor": "white",
           "zerolinewidth": 2
          },
          "yaxis": {
           "automargin": true,
           "gridcolor": "white",
           "linecolor": "white",
           "ticks": "",
           "title": {
            "standoff": 15
           },
           "zerolinecolor": "white",
           "zerolinewidth": 2
          }
         }
        },
        "title": {
         "text": "Score vs. Rating"
        },
        "xaxis": {
         "anchor": "y",
         "domain": [
          0,
          1
         ],
         "title": {
          "text": "Score"
         }
        },
        "yaxis": {
         "anchor": "x",
         "domain": [
          0,
          1
         ],
         "title": {
          "text": "Rating"
         }
        }
       }
      },
      "text/html": [
       "<div>                            <div id=\"2e7963fb-1e6d-4dbf-b73f-c927e39286dc\" class=\"plotly-graph-div\" style=\"height:525px; width:100%;\"></div>            <script type=\"text/javascript\">                require([\"plotly\"], function(Plotly) {                    window.PLOTLYENV=window.PLOTLYENV || {};                                    if (document.getElementById(\"2e7963fb-1e6d-4dbf-b73f-c927e39286dc\")) {                    Plotly.newPlot(                        \"2e7963fb-1e6d-4dbf-b73f-c927e39286dc\",                        [{\"hovertemplate\":\"Score=%{x}<br>Rating=%{y}<extra></extra>\",\"legendgroup\":\"\",\"marker\":{\"color\":\"#636efa\",\"symbol\":\"circle\"},\"mode\":\"markers\",\"name\":\"\",\"orientation\":\"v\",\"showlegend\":false,\"x\":[\"99.06\",\"98.13\",\"96.75\",\"96.53\",\"96.15\",\"94.4\",\"93.69\",\"92.08\",\"91.26\",\"91.23\",\"90.68\",\"90.3\",\"89.67\",\"89.11\",\"88.73\",\"88.52\",\"88.23\",\"87.76\",\"87.64\",\"87.62\",\"86.85\",\"86.6\",\"86.38\",\"86.02\",\"85.08\",\"84.96\",\"84.75\",\"84.64\",\"84.43\",\"83.79\",\"83.39\",\"83.39\",\"83.26\",\"83.04\",\"82.95\",\"82.87\",\"82.8\",\"82.69\",\"82.48\",\"82.38\",\"82.34\",\"82.24\",\"82.06\",\"81.93\",\"81.82\",\"81.46\",\"81.08\",\"80.96\",\"80.83\",\"80.78\",\"80.68\",\"80.11\",\"79.69\",\"79.54\",\"79.46\",\"79.39\",\"79.08\",\"78.86\",\"78.86\",\"78.77\",\"78.72\",\"78.49\",\"77.95\",\"77.94\",\"77.75\",\"77.55\",\"77.42\",\"77.35\",\"77.28\",\"77.22\",\"77.16\",\"76.77\",\"76.77\",\"76.76\",\"76.56\",\"76.46\",\"76.46\",\"76.32\",\"75.66\",\"75.52\",\"75.49\",\"75.45\",\"75.11\",\"74.89\",\"74.8\",\"74.79\",\"74.13\",\"74.11\",\"73.66\",\"73.59\",\"73.21\",\"73.16\",\"73.08\",\"73.05\",\"72.95\",\"72.74\",\"72.57\",\"72.33\",\"72.03\",\"72.03\"],\"xaxis\":\"x\",\"y\":[\"AAA\",\"AAA\",\"AAA\",\"AAA\",\"AAA\",\"AAA\",\"AAA\",\"AAA\",\"AAA\",\"AAA\",\"AA\",\"AA\",\"AA\",\"AA\",\"AA\",\"AA\",\"AA\",\"AA\",\"AA\",\"AA\",\"AA\",\"AA\",\"AA\",\"AA\",\"A\",\"A\",\"A\",\"A\",\"A\",\"A\",\"A\",\"A\",\"A\",\"A\",\"A\",\"A\",\"A\",\"A\",\"A\",\"A\",\"A\",\"A\",\"A\",\"A\",\"A\",\"A\",\"A\",\"A\",\"A\",\"A\",\"A\",\"A\",\"BBB\",\"BBB\",\"BBB\",\"BBB\",\"BBB\",\"BBB\",\"BBB\",\"BBB\",\"BBB\",\"BBB\",\"BBB\",\"BBB\",\"BBB\",\"BBB\",\"BBB\",\"BBB\",\"BBB\",\"BBB\",\"BBB\",\"BB\",\"BB\",\"BB\",\"BB\",\"BB\",\"BB\",\"BB\",\"BB\",\"BB\",\"BB\",\"BB\",\"BB\",\"B\",\"B\",\"B\",\"B\",\"B\",\"B\",\"B\",\"B\",\"B\",\"B\",\"B\",\"B\",\"B\",\"B\",\"B\",\"B\",\"B\"],\"yaxis\":\"y\",\"type\":\"scatter\"}],                        {\"template\":{\"data\":{\"histogram2dcontour\":[{\"type\":\"histogram2dcontour\",\"colorbar\":{\"outlinewidth\":0,\"ticks\":\"\"},\"colorscale\":[[0.0,\"#0d0887\"],[0.1111111111111111,\"#46039f\"],[0.2222222222222222,\"#7201a8\"],[0.3333333333333333,\"#9c179e\"],[0.4444444444444444,\"#bd3786\"],[0.5555555555555556,\"#d8576b\"],[0.6666666666666666,\"#ed7953\"],[0.7777777777777778,\"#fb9f3a\"],[0.8888888888888888,\"#fdca26\"],[1.0,\"#f0f921\"]]}],\"choropleth\":[{\"type\":\"choropleth\",\"colorbar\":{\"outlinewidth\":0,\"ticks\":\"\"}}],\"histogram2d\":[{\"type\":\"histogram2d\",\"colorbar\":{\"outlinewidth\":0,\"ticks\":\"\"},\"colorscale\":[[0.0,\"#0d0887\"],[0.1111111111111111,\"#46039f\"],[0.2222222222222222,\"#7201a8\"],[0.3333333333333333,\"#9c179e\"],[0.4444444444444444,\"#bd3786\"],[0.5555555555555556,\"#d8576b\"],[0.6666666666666666,\"#ed7953\"],[0.7777777777777778,\"#fb9f3a\"],[0.8888888888888888,\"#fdca26\"],[1.0,\"#f0f921\"]]}],\"heatmap\":[{\"type\":\"heatmap\",\"colorbar\":{\"outlinewidth\":0,\"ticks\":\"\"},\"colorscale\":[[0.0,\"#0d0887\"],[0.1111111111111111,\"#46039f\"],[0.2222222222222222,\"#7201a8\"],[0.3333333333333333,\"#9c179e\"],[0.4444444444444444,\"#bd3786\"],[0.5555555555555556,\"#d8576b\"],[0.6666666666666666,\"#ed7953\"],[0.7777777777777778,\"#fb9f3a\"],[0.8888888888888888,\"#fdca26\"],[1.0,\"#f0f921\"]]}],\"heatmapgl\":[{\"type\":\"heatmapgl\",\"colorbar\":{\"outlinewidth\":0,\"ticks\":\"\"},\"colorscale\":[[0.0,\"#0d0887\"],[0.1111111111111111,\"#46039f\"],[0.2222222222222222,\"#7201a8\"],[0.3333333333333333,\"#9c179e\"],[0.4444444444444444,\"#bd3786\"],[0.5555555555555556,\"#d8576b\"],[0.6666666666666666,\"#ed7953\"],[0.7777777777777778,\"#fb9f3a\"],[0.8888888888888888,\"#fdca26\"],[1.0,\"#f0f921\"]]}],\"contourcarpet\":[{\"type\":\"contourcarpet\",\"colorbar\":{\"outlinewidth\":0,\"ticks\":\"\"}}],\"contour\":[{\"type\":\"contour\",\"colorbar\":{\"outlinewidth\":0,\"ticks\":\"\"},\"colorscale\":[[0.0,\"#0d0887\"],[0.1111111111111111,\"#46039f\"],[0.2222222222222222,\"#7201a8\"],[0.3333333333333333,\"#9c179e\"],[0.4444444444444444,\"#bd3786\"],[0.5555555555555556,\"#d8576b\"],[0.6666666666666666,\"#ed7953\"],[0.7777777777777778,\"#fb9f3a\"],[0.8888888888888888,\"#fdca26\"],[1.0,\"#f0f921\"]]}],\"surface\":[{\"type\":\"surface\",\"colorbar\":{\"outlinewidth\":0,\"ticks\":\"\"},\"colorscale\":[[0.0,\"#0d0887\"],[0.1111111111111111,\"#46039f\"],[0.2222222222222222,\"#7201a8\"],[0.3333333333333333,\"#9c179e\"],[0.4444444444444444,\"#bd3786\"],[0.5555555555555556,\"#d8576b\"],[0.6666666666666666,\"#ed7953\"],[0.7777777777777778,\"#fb9f3a\"],[0.8888888888888888,\"#fdca26\"],[1.0,\"#f0f921\"]]}],\"mesh3d\":[{\"type\":\"mesh3d\",\"colorbar\":{\"outlinewidth\":0,\"ticks\":\"\"}}],\"scatter\":[{\"fillpattern\":{\"fillmode\":\"overlay\",\"size\":10,\"solidity\":0.2},\"type\":\"scatter\"}],\"parcoords\":[{\"type\":\"parcoords\",\"line\":{\"colorbar\":{\"outlinewidth\":0,\"ticks\":\"\"}}}],\"scatterpolargl\":[{\"type\":\"scatterpolargl\",\"marker\":{\"colorbar\":{\"outlinewidth\":0,\"ticks\":\"\"}}}],\"bar\":[{\"error_x\":{\"color\":\"#2a3f5f\"},\"error_y\":{\"color\":\"#2a3f5f\"},\"marker\":{\"line\":{\"color\":\"#E5ECF6\",\"width\":0.5},\"pattern\":{\"fillmode\":\"overlay\",\"size\":10,\"solidity\":0.2}},\"type\":\"bar\"}],\"scattergeo\":[{\"type\":\"scattergeo\",\"marker\":{\"colorbar\":{\"outlinewidth\":0,\"ticks\":\"\"}}}],\"scatterpolar\":[{\"type\":\"scatterpolar\",\"marker\":{\"colorbar\":{\"outlinewidth\":0,\"ticks\":\"\"}}}],\"histogram\":[{\"marker\":{\"pattern\":{\"fillmode\":\"overlay\",\"size\":10,\"solidity\":0.2}},\"type\":\"histogram\"}],\"scattergl\":[{\"type\":\"scattergl\",\"marker\":{\"colorbar\":{\"outlinewidth\":0,\"ticks\":\"\"}}}],\"scatter3d\":[{\"type\":\"scatter3d\",\"line\":{\"colorbar\":{\"outlinewidth\":0,\"ticks\":\"\"}},\"marker\":{\"colorbar\":{\"outlinewidth\":0,\"ticks\":\"\"}}}],\"scattermapbox\":[{\"type\":\"scattermapbox\",\"marker\":{\"colorbar\":{\"outlinewidth\":0,\"ticks\":\"\"}}}],\"scatterternary\":[{\"type\":\"scatterternary\",\"marker\":{\"colorbar\":{\"outlinewidth\":0,\"ticks\":\"\"}}}],\"scattercarpet\":[{\"type\":\"scattercarpet\",\"marker\":{\"colorbar\":{\"outlinewidth\":0,\"ticks\":\"\"}}}],\"carpet\":[{\"aaxis\":{\"endlinecolor\":\"#2a3f5f\",\"gridcolor\":\"white\",\"linecolor\":\"white\",\"minorgridcolor\":\"white\",\"startlinecolor\":\"#2a3f5f\"},\"baxis\":{\"endlinecolor\":\"#2a3f5f\",\"gridcolor\":\"white\",\"linecolor\":\"white\",\"minorgridcolor\":\"white\",\"startlinecolor\":\"#2a3f5f\"},\"type\":\"carpet\"}],\"table\":[{\"cells\":{\"fill\":{\"color\":\"#EBF0F8\"},\"line\":{\"color\":\"white\"}},\"header\":{\"fill\":{\"color\":\"#C8D4E3\"},\"line\":{\"color\":\"white\"}},\"type\":\"table\"}],\"barpolar\":[{\"marker\":{\"line\":{\"color\":\"#E5ECF6\",\"width\":0.5},\"pattern\":{\"fillmode\":\"overlay\",\"size\":10,\"solidity\":0.2}},\"type\":\"barpolar\"}],\"pie\":[{\"automargin\":true,\"type\":\"pie\"}]},\"layout\":{\"autotypenumbers\":\"strict\",\"colorway\":[\"#636efa\",\"#EF553B\",\"#00cc96\",\"#ab63fa\",\"#FFA15A\",\"#19d3f3\",\"#FF6692\",\"#B6E880\",\"#FF97FF\",\"#FECB52\"],\"font\":{\"color\":\"#2a3f5f\"},\"hovermode\":\"closest\",\"hoverlabel\":{\"align\":\"left\"},\"paper_bgcolor\":\"white\",\"plot_bgcolor\":\"#E5ECF6\",\"polar\":{\"bgcolor\":\"#E5ECF6\",\"angularaxis\":{\"gridcolor\":\"white\",\"linecolor\":\"white\",\"ticks\":\"\"},\"radialaxis\":{\"gridcolor\":\"white\",\"linecolor\":\"white\",\"ticks\":\"\"}},\"ternary\":{\"bgcolor\":\"#E5ECF6\",\"aaxis\":{\"gridcolor\":\"white\",\"linecolor\":\"white\",\"ticks\":\"\"},\"baxis\":{\"gridcolor\":\"white\",\"linecolor\":\"white\",\"ticks\":\"\"},\"caxis\":{\"gridcolor\":\"white\",\"linecolor\":\"white\",\"ticks\":\"\"}},\"coloraxis\":{\"colorbar\":{\"outlinewidth\":0,\"ticks\":\"\"}},\"colorscale\":{\"sequential\":[[0.0,\"#0d0887\"],[0.1111111111111111,\"#46039f\"],[0.2222222222222222,\"#7201a8\"],[0.3333333333333333,\"#9c179e\"],[0.4444444444444444,\"#bd3786\"],[0.5555555555555556,\"#d8576b\"],[0.6666666666666666,\"#ed7953\"],[0.7777777777777778,\"#fb9f3a\"],[0.8888888888888888,\"#fdca26\"],[1.0,\"#f0f921\"]],\"sequentialminus\":[[0.0,\"#0d0887\"],[0.1111111111111111,\"#46039f\"],[0.2222222222222222,\"#7201a8\"],[0.3333333333333333,\"#9c179e\"],[0.4444444444444444,\"#bd3786\"],[0.5555555555555556,\"#d8576b\"],[0.6666666666666666,\"#ed7953\"],[0.7777777777777778,\"#fb9f3a\"],[0.8888888888888888,\"#fdca26\"],[1.0,\"#f0f921\"]],\"diverging\":[[0,\"#8e0152\"],[0.1,\"#c51b7d\"],[0.2,\"#de77ae\"],[0.3,\"#f1b6da\"],[0.4,\"#fde0ef\"],[0.5,\"#f7f7f7\"],[0.6,\"#e6f5d0\"],[0.7,\"#b8e186\"],[0.8,\"#7fbc41\"],[0.9,\"#4d9221\"],[1,\"#276419\"]]},\"xaxis\":{\"gridcolor\":\"white\",\"linecolor\":\"white\",\"ticks\":\"\",\"title\":{\"standoff\":15},\"zerolinecolor\":\"white\",\"automargin\":true,\"zerolinewidth\":2},\"yaxis\":{\"gridcolor\":\"white\",\"linecolor\":\"white\",\"ticks\":\"\",\"title\":{\"standoff\":15},\"zerolinecolor\":\"white\",\"automargin\":true,\"zerolinewidth\":2},\"scene\":{\"xaxis\":{\"backgroundcolor\":\"#E5ECF6\",\"gridcolor\":\"white\",\"linecolor\":\"white\",\"showbackground\":true,\"ticks\":\"\",\"zerolinecolor\":\"white\",\"gridwidth\":2},\"yaxis\":{\"backgroundcolor\":\"#E5ECF6\",\"gridcolor\":\"white\",\"linecolor\":\"white\",\"showbackground\":true,\"ticks\":\"\",\"zerolinecolor\":\"white\",\"gridwidth\":2},\"zaxis\":{\"backgroundcolor\":\"#E5ECF6\",\"gridcolor\":\"white\",\"linecolor\":\"white\",\"showbackground\":true,\"ticks\":\"\",\"zerolinecolor\":\"white\",\"gridwidth\":2}},\"shapedefaults\":{\"line\":{\"color\":\"#2a3f5f\"}},\"annotationdefaults\":{\"arrowcolor\":\"#2a3f5f\",\"arrowhead\":0,\"arrowwidth\":1},\"geo\":{\"bgcolor\":\"white\",\"landcolor\":\"#E5ECF6\",\"subunitcolor\":\"white\",\"showland\":true,\"showlakes\":true,\"lakecolor\":\"white\"},\"title\":{\"x\":0.05},\"mapbox\":{\"style\":\"light\"}}},\"xaxis\":{\"anchor\":\"y\",\"domain\":[0.0,1.0],\"title\":{\"text\":\"Score\"}},\"yaxis\":{\"anchor\":\"x\",\"domain\":[0.0,1.0],\"title\":{\"text\":\"Rating\"}},\"legend\":{\"tracegroupgap\":0},\"title\":{\"text\":\"Score vs. Rating\"}},                        {\"responsive\": true}                    ).then(function(){\n",
       "                            \n",
       "var gd = document.getElementById('2e7963fb-1e6d-4dbf-b73f-c927e39286dc');\n",
       "var x = new MutationObserver(function (mutations, observer) {{\n",
       "        var display = window.getComputedStyle(gd).display;\n",
       "        if (!display || display === 'none') {{\n",
       "            console.log([gd, 'removed!']);\n",
       "            Plotly.purge(gd);\n",
       "            observer.disconnect();\n",
       "        }}\n",
       "}});\n",
       "\n",
       "// Listen for the removal of the full notebook cells\n",
       "var notebookContainer = gd.closest('#notebook-container');\n",
       "if (notebookContainer) {{\n",
       "    x.observe(notebookContainer, {childList: true});\n",
       "}}\n",
       "\n",
       "// Listen for the clearing of the current output cell\n",
       "var outputEl = gd.closest('.output');\n",
       "if (outputEl) {{\n",
       "    x.observe(outputEl, {childList: true});\n",
       "}}\n",
       "\n",
       "                        })                };                });            </script>        </div>"
      ]
     },
     "metadata": {},
     "output_type": "display_data"
    }
   ],
   "source": [
    "# Scatter Plot\n",
    "\n",
    "fig = px.scatter(df, x='Score', y='Rating', title='Score vs. Rating')\n",
    "fig.show()"
   ]
  },
  {
   "cell_type": "code",
   "execution_count": 74,
   "id": "5053ea96",
   "metadata": {},
   "outputs": [
    {
     "data": {
      "application/vnd.plotly.v1+json": {
       "config": {
        "plotlyServerURL": "https://plot.ly"
       },
       "data": [
        {
         "alignmentgroup": "True",
         "hovertemplate": "Country=%{x}<br>Score=%{y}<extra></extra>",
         "legendgroup": "",
         "marker": {
          "color": "#636efa"
         },
         "name": "",
         "notched": false,
         "offsetgroup": "",
         "orientation": "v",
         "showlegend": false,
         "type": "box",
         "x": [
          "US",
          "US",
          "US",
          "US",
          "US",
          "US",
          "US",
          "US",
          "US",
          "US",
          "US",
          "US",
          "US",
          "US",
          "US",
          "US",
          "US",
          "US",
          "US",
          "US",
          "US",
          "India",
          "US",
          "UK",
          "US",
          "UK",
          "US",
          "US",
          "Canada",
          "Australia",
          "Sweden",
          "US",
          "UK",
          "Australia",
          "UK",
          "US",
          "India",
          "US",
          "UK",
          "Canada",
          "South Korea",
          "Germany",
          "UK",
          "Singapore",
          "US",
          "India",
          "US",
          "Netherlands",
          "US",
          "Japan",
          "Canada",
          "US",
          "Denmark",
          "Netherlands",
          "India",
          "Australia",
          "US",
          "UK",
          "Hong Kong",
          "India",
          "Ukraine",
          "US",
          "Germany",
          "US",
          "Hong Kong",
          "Canada",
          "US",
          "Belgium",
          "India",
          "US",
          "France",
          "Taiwan",
          "US",
          "US",
          "Netherlands",
          "Spain",
          "US",
          "Netherlands",
          "Japan",
          "China",
          "US",
          "South Korea",
          "Switzerland",
          "US",
          "Sweden",
          "Italy",
          "US",
          "Germany",
          "US",
          "Switzerland",
          "Netherlands",
          "Greece",
          "Greece",
          "US",
          "US",
          "US",
          "Netherlands",
          "US",
          "Austria",
          "Greece"
         ],
         "x0": " ",
         "xaxis": "x",
         "y": [
          "99.06",
          "98.13",
          "96.75",
          "96.53",
          "96.15",
          "94.4",
          "93.69",
          "92.08",
          "91.26",
          "91.23",
          "90.68",
          "90.3",
          "89.67",
          "89.11",
          "88.73",
          "88.52",
          "88.23",
          "87.76",
          "87.64",
          "87.62",
          "86.85",
          "86.6",
          "86.38",
          "86.02",
          "85.08",
          "84.96",
          "84.75",
          "84.64",
          "84.43",
          "83.79",
          "83.39",
          "83.39",
          "83.26",
          "83.04",
          "82.95",
          "82.87",
          "82.8",
          "82.69",
          "82.48",
          "82.38",
          "82.34",
          "82.24",
          "82.06",
          "81.93",
          "81.82",
          "81.46",
          "81.08",
          "80.96",
          "80.83",
          "80.78",
          "80.68",
          "80.11",
          "79.69",
          "79.54",
          "79.46",
          "79.39",
          "79.08",
          "78.86",
          "78.86",
          "78.77",
          "78.72",
          "78.49",
          "77.95",
          "77.94",
          "77.75",
          "77.55",
          "77.42",
          "77.35",
          "77.28",
          "77.22",
          "77.16",
          "76.77",
          "76.77",
          "76.76",
          "76.56",
          "76.46",
          "76.46",
          "76.32",
          "75.66",
          "75.52",
          "75.49",
          "75.45",
          "75.11",
          "74.89",
          "74.8",
          "74.79",
          "74.13",
          "74.11",
          "73.66",
          "73.59",
          "73.21",
          "73.16",
          "73.08",
          "73.05",
          "72.95",
          "72.74",
          "72.57",
          "72.33",
          "72.03",
          "72.03"
         ],
         "y0": " ",
         "yaxis": "y"
        }
       ],
       "layout": {
        "boxmode": "group",
        "legend": {
         "tracegroupgap": 0
        },
        "template": {
         "data": {
          "bar": [
           {
            "error_x": {
             "color": "#2a3f5f"
            },
            "error_y": {
             "color": "#2a3f5f"
            },
            "marker": {
             "line": {
              "color": "#E5ECF6",
              "width": 0.5
             },
             "pattern": {
              "fillmode": "overlay",
              "size": 10,
              "solidity": 0.2
             }
            },
            "type": "bar"
           }
          ],
          "barpolar": [
           {
            "marker": {
             "line": {
              "color": "#E5ECF6",
              "width": 0.5
             },
             "pattern": {
              "fillmode": "overlay",
              "size": 10,
              "solidity": 0.2
             }
            },
            "type": "barpolar"
           }
          ],
          "carpet": [
           {
            "aaxis": {
             "endlinecolor": "#2a3f5f",
             "gridcolor": "white",
             "linecolor": "white",
             "minorgridcolor": "white",
             "startlinecolor": "#2a3f5f"
            },
            "baxis": {
             "endlinecolor": "#2a3f5f",
             "gridcolor": "white",
             "linecolor": "white",
             "minorgridcolor": "white",
             "startlinecolor": "#2a3f5f"
            },
            "type": "carpet"
           }
          ],
          "choropleth": [
           {
            "colorbar": {
             "outlinewidth": 0,
             "ticks": ""
            },
            "type": "choropleth"
           }
          ],
          "contour": [
           {
            "colorbar": {
             "outlinewidth": 0,
             "ticks": ""
            },
            "colorscale": [
             [
              0,
              "#0d0887"
             ],
             [
              0.1111111111111111,
              "#46039f"
             ],
             [
              0.2222222222222222,
              "#7201a8"
             ],
             [
              0.3333333333333333,
              "#9c179e"
             ],
             [
              0.4444444444444444,
              "#bd3786"
             ],
             [
              0.5555555555555556,
              "#d8576b"
             ],
             [
              0.6666666666666666,
              "#ed7953"
             ],
             [
              0.7777777777777778,
              "#fb9f3a"
             ],
             [
              0.8888888888888888,
              "#fdca26"
             ],
             [
              1,
              "#f0f921"
             ]
            ],
            "type": "contour"
           }
          ],
          "contourcarpet": [
           {
            "colorbar": {
             "outlinewidth": 0,
             "ticks": ""
            },
            "type": "contourcarpet"
           }
          ],
          "heatmap": [
           {
            "colorbar": {
             "outlinewidth": 0,
             "ticks": ""
            },
            "colorscale": [
             [
              0,
              "#0d0887"
             ],
             [
              0.1111111111111111,
              "#46039f"
             ],
             [
              0.2222222222222222,
              "#7201a8"
             ],
             [
              0.3333333333333333,
              "#9c179e"
             ],
             [
              0.4444444444444444,
              "#bd3786"
             ],
             [
              0.5555555555555556,
              "#d8576b"
             ],
             [
              0.6666666666666666,
              "#ed7953"
             ],
             [
              0.7777777777777778,
              "#fb9f3a"
             ],
             [
              0.8888888888888888,
              "#fdca26"
             ],
             [
              1,
              "#f0f921"
             ]
            ],
            "type": "heatmap"
           }
          ],
          "heatmapgl": [
           {
            "colorbar": {
             "outlinewidth": 0,
             "ticks": ""
            },
            "colorscale": [
             [
              0,
              "#0d0887"
             ],
             [
              0.1111111111111111,
              "#46039f"
             ],
             [
              0.2222222222222222,
              "#7201a8"
             ],
             [
              0.3333333333333333,
              "#9c179e"
             ],
             [
              0.4444444444444444,
              "#bd3786"
             ],
             [
              0.5555555555555556,
              "#d8576b"
             ],
             [
              0.6666666666666666,
              "#ed7953"
             ],
             [
              0.7777777777777778,
              "#fb9f3a"
             ],
             [
              0.8888888888888888,
              "#fdca26"
             ],
             [
              1,
              "#f0f921"
             ]
            ],
            "type": "heatmapgl"
           }
          ],
          "histogram": [
           {
            "marker": {
             "pattern": {
              "fillmode": "overlay",
              "size": 10,
              "solidity": 0.2
             }
            },
            "type": "histogram"
           }
          ],
          "histogram2d": [
           {
            "colorbar": {
             "outlinewidth": 0,
             "ticks": ""
            },
            "colorscale": [
             [
              0,
              "#0d0887"
             ],
             [
              0.1111111111111111,
              "#46039f"
             ],
             [
              0.2222222222222222,
              "#7201a8"
             ],
             [
              0.3333333333333333,
              "#9c179e"
             ],
             [
              0.4444444444444444,
              "#bd3786"
             ],
             [
              0.5555555555555556,
              "#d8576b"
             ],
             [
              0.6666666666666666,
              "#ed7953"
             ],
             [
              0.7777777777777778,
              "#fb9f3a"
             ],
             [
              0.8888888888888888,
              "#fdca26"
             ],
             [
              1,
              "#f0f921"
             ]
            ],
            "type": "histogram2d"
           }
          ],
          "histogram2dcontour": [
           {
            "colorbar": {
             "outlinewidth": 0,
             "ticks": ""
            },
            "colorscale": [
             [
              0,
              "#0d0887"
             ],
             [
              0.1111111111111111,
              "#46039f"
             ],
             [
              0.2222222222222222,
              "#7201a8"
             ],
             [
              0.3333333333333333,
              "#9c179e"
             ],
             [
              0.4444444444444444,
              "#bd3786"
             ],
             [
              0.5555555555555556,
              "#d8576b"
             ],
             [
              0.6666666666666666,
              "#ed7953"
             ],
             [
              0.7777777777777778,
              "#fb9f3a"
             ],
             [
              0.8888888888888888,
              "#fdca26"
             ],
             [
              1,
              "#f0f921"
             ]
            ],
            "type": "histogram2dcontour"
           }
          ],
          "mesh3d": [
           {
            "colorbar": {
             "outlinewidth": 0,
             "ticks": ""
            },
            "type": "mesh3d"
           }
          ],
          "parcoords": [
           {
            "line": {
             "colorbar": {
              "outlinewidth": 0,
              "ticks": ""
             }
            },
            "type": "parcoords"
           }
          ],
          "pie": [
           {
            "automargin": true,
            "type": "pie"
           }
          ],
          "scatter": [
           {
            "fillpattern": {
             "fillmode": "overlay",
             "size": 10,
             "solidity": 0.2
            },
            "type": "scatter"
           }
          ],
          "scatter3d": [
           {
            "line": {
             "colorbar": {
              "outlinewidth": 0,
              "ticks": ""
             }
            },
            "marker": {
             "colorbar": {
              "outlinewidth": 0,
              "ticks": ""
             }
            },
            "type": "scatter3d"
           }
          ],
          "scattercarpet": [
           {
            "marker": {
             "colorbar": {
              "outlinewidth": 0,
              "ticks": ""
             }
            },
            "type": "scattercarpet"
           }
          ],
          "scattergeo": [
           {
            "marker": {
             "colorbar": {
              "outlinewidth": 0,
              "ticks": ""
             }
            },
            "type": "scattergeo"
           }
          ],
          "scattergl": [
           {
            "marker": {
             "colorbar": {
              "outlinewidth": 0,
              "ticks": ""
             }
            },
            "type": "scattergl"
           }
          ],
          "scattermapbox": [
           {
            "marker": {
             "colorbar": {
              "outlinewidth": 0,
              "ticks": ""
             }
            },
            "type": "scattermapbox"
           }
          ],
          "scatterpolar": [
           {
            "marker": {
             "colorbar": {
              "outlinewidth": 0,
              "ticks": ""
             }
            },
            "type": "scatterpolar"
           }
          ],
          "scatterpolargl": [
           {
            "marker": {
             "colorbar": {
              "outlinewidth": 0,
              "ticks": ""
             }
            },
            "type": "scatterpolargl"
           }
          ],
          "scatterternary": [
           {
            "marker": {
             "colorbar": {
              "outlinewidth": 0,
              "ticks": ""
             }
            },
            "type": "scatterternary"
           }
          ],
          "surface": [
           {
            "colorbar": {
             "outlinewidth": 0,
             "ticks": ""
            },
            "colorscale": [
             [
              0,
              "#0d0887"
             ],
             [
              0.1111111111111111,
              "#46039f"
             ],
             [
              0.2222222222222222,
              "#7201a8"
             ],
             [
              0.3333333333333333,
              "#9c179e"
             ],
             [
              0.4444444444444444,
              "#bd3786"
             ],
             [
              0.5555555555555556,
              "#d8576b"
             ],
             [
              0.6666666666666666,
              "#ed7953"
             ],
             [
              0.7777777777777778,
              "#fb9f3a"
             ],
             [
              0.8888888888888888,
              "#fdca26"
             ],
             [
              1,
              "#f0f921"
             ]
            ],
            "type": "surface"
           }
          ],
          "table": [
           {
            "cells": {
             "fill": {
              "color": "#EBF0F8"
             },
             "line": {
              "color": "white"
             }
            },
            "header": {
             "fill": {
              "color": "#C8D4E3"
             },
             "line": {
              "color": "white"
             }
            },
            "type": "table"
           }
          ]
         },
         "layout": {
          "annotationdefaults": {
           "arrowcolor": "#2a3f5f",
           "arrowhead": 0,
           "arrowwidth": 1
          },
          "autotypenumbers": "strict",
          "coloraxis": {
           "colorbar": {
            "outlinewidth": 0,
            "ticks": ""
           }
          },
          "colorscale": {
           "diverging": [
            [
             0,
             "#8e0152"
            ],
            [
             0.1,
             "#c51b7d"
            ],
            [
             0.2,
             "#de77ae"
            ],
            [
             0.3,
             "#f1b6da"
            ],
            [
             0.4,
             "#fde0ef"
            ],
            [
             0.5,
             "#f7f7f7"
            ],
            [
             0.6,
             "#e6f5d0"
            ],
            [
             0.7,
             "#b8e186"
            ],
            [
             0.8,
             "#7fbc41"
            ],
            [
             0.9,
             "#4d9221"
            ],
            [
             1,
             "#276419"
            ]
           ],
           "sequential": [
            [
             0,
             "#0d0887"
            ],
            [
             0.1111111111111111,
             "#46039f"
            ],
            [
             0.2222222222222222,
             "#7201a8"
            ],
            [
             0.3333333333333333,
             "#9c179e"
            ],
            [
             0.4444444444444444,
             "#bd3786"
            ],
            [
             0.5555555555555556,
             "#d8576b"
            ],
            [
             0.6666666666666666,
             "#ed7953"
            ],
            [
             0.7777777777777778,
             "#fb9f3a"
            ],
            [
             0.8888888888888888,
             "#fdca26"
            ],
            [
             1,
             "#f0f921"
            ]
           ],
           "sequentialminus": [
            [
             0,
             "#0d0887"
            ],
            [
             0.1111111111111111,
             "#46039f"
            ],
            [
             0.2222222222222222,
             "#7201a8"
            ],
            [
             0.3333333333333333,
             "#9c179e"
            ],
            [
             0.4444444444444444,
             "#bd3786"
            ],
            [
             0.5555555555555556,
             "#d8576b"
            ],
            [
             0.6666666666666666,
             "#ed7953"
            ],
            [
             0.7777777777777778,
             "#fb9f3a"
            ],
            [
             0.8888888888888888,
             "#fdca26"
            ],
            [
             1,
             "#f0f921"
            ]
           ]
          },
          "colorway": [
           "#636efa",
           "#EF553B",
           "#00cc96",
           "#ab63fa",
           "#FFA15A",
           "#19d3f3",
           "#FF6692",
           "#B6E880",
           "#FF97FF",
           "#FECB52"
          ],
          "font": {
           "color": "#2a3f5f"
          },
          "geo": {
           "bgcolor": "white",
           "lakecolor": "white",
           "landcolor": "#E5ECF6",
           "showlakes": true,
           "showland": true,
           "subunitcolor": "white"
          },
          "hoverlabel": {
           "align": "left"
          },
          "hovermode": "closest",
          "mapbox": {
           "style": "light"
          },
          "paper_bgcolor": "white",
          "plot_bgcolor": "#E5ECF6",
          "polar": {
           "angularaxis": {
            "gridcolor": "white",
            "linecolor": "white",
            "ticks": ""
           },
           "bgcolor": "#E5ECF6",
           "radialaxis": {
            "gridcolor": "white",
            "linecolor": "white",
            "ticks": ""
           }
          },
          "scene": {
           "xaxis": {
            "backgroundcolor": "#E5ECF6",
            "gridcolor": "white",
            "gridwidth": 2,
            "linecolor": "white",
            "showbackground": true,
            "ticks": "",
            "zerolinecolor": "white"
           },
           "yaxis": {
            "backgroundcolor": "#E5ECF6",
            "gridcolor": "white",
            "gridwidth": 2,
            "linecolor": "white",
            "showbackground": true,
            "ticks": "",
            "zerolinecolor": "white"
           },
           "zaxis": {
            "backgroundcolor": "#E5ECF6",
            "gridcolor": "white",
            "gridwidth": 2,
            "linecolor": "white",
            "showbackground": true,
            "ticks": "",
            "zerolinecolor": "white"
           }
          },
          "shapedefaults": {
           "line": {
            "color": "#2a3f5f"
           }
          },
          "ternary": {
           "aaxis": {
            "gridcolor": "white",
            "linecolor": "white",
            "ticks": ""
           },
           "baxis": {
            "gridcolor": "white",
            "linecolor": "white",
            "ticks": ""
           },
           "bgcolor": "#E5ECF6",
           "caxis": {
            "gridcolor": "white",
            "linecolor": "white",
            "ticks": ""
           }
          },
          "title": {
           "x": 0.05
          },
          "xaxis": {
           "automargin": true,
           "gridcolor": "white",
           "linecolor": "white",
           "ticks": "",
           "title": {
            "standoff": 15
           },
           "zerolinecolor": "white",
           "zerolinewidth": 2
          },
          "yaxis": {
           "automargin": true,
           "gridcolor": "white",
           "linecolor": "white",
           "ticks": "",
           "title": {
            "standoff": 15
           },
           "zerolinecolor": "white",
           "zerolinewidth": 2
          }
         }
        },
        "title": {
         "text": "Score by Country"
        },
        "xaxis": {
         "anchor": "y",
         "domain": [
          0,
          1
         ],
         "title": {
          "text": "Country"
         }
        },
        "yaxis": {
         "anchor": "x",
         "domain": [
          0,
          1
         ],
         "title": {
          "text": "Score"
         }
        }
       }
      },
      "text/html": [
       "<div>                            <div id=\"f89f774c-f3ba-4aa2-96b5-c77681aff228\" class=\"plotly-graph-div\" style=\"height:525px; width:100%;\"></div>            <script type=\"text/javascript\">                require([\"plotly\"], function(Plotly) {                    window.PLOTLYENV=window.PLOTLYENV || {};                                    if (document.getElementById(\"f89f774c-f3ba-4aa2-96b5-c77681aff228\")) {                    Plotly.newPlot(                        \"f89f774c-f3ba-4aa2-96b5-c77681aff228\",                        [{\"alignmentgroup\":\"True\",\"hovertemplate\":\"Country=%{x}<br>Score=%{y}<extra></extra>\",\"legendgroup\":\"\",\"marker\":{\"color\":\"#636efa\"},\"name\":\"\",\"notched\":false,\"offsetgroup\":\"\",\"orientation\":\"v\",\"showlegend\":false,\"x\":[\"US\",\"US\",\"US\",\"US\",\"US\",\"US\",\"US\",\"US\",\"US\",\"US\",\"US\",\"US\",\"US\",\"US\",\"US\",\"US\",\"US\",\"US\",\"US\",\"US\",\"US\",\"India\",\"US\",\"UK\",\"US\",\"UK\",\"US\",\"US\",\"Canada\",\"Australia\",\"Sweden\",\"US\",\"UK\",\"Australia\",\"UK\",\"US\",\"India\",\"US\",\"UK\",\"Canada\",\"South Korea\",\"Germany\",\"UK\",\"Singapore\",\"US\",\"India\",\"US\",\"Netherlands\",\"US\",\"Japan\",\"Canada\",\"US\",\"Denmark\",\"Netherlands\",\"India\",\"Australia\",\"US\",\"UK\",\"Hong Kong\",\"India\",\"Ukraine\",\"US\",\"Germany\",\"US\",\"Hong Kong\",\"Canada\",\"US\",\"Belgium\",\"India\",\"US\",\"France\",\"Taiwan\",\"US\",\"US\",\"Netherlands\",\"Spain\",\"US\",\"Netherlands\",\"Japan\",\"China\",\"US\",\"South Korea\",\"Switzerland\",\"US\",\"Sweden\",\"Italy\",\"US\",\"Germany\",\"US\",\"Switzerland\",\"Netherlands\",\"Greece\",\"Greece\",\"US\",\"US\",\"US\",\"Netherlands\",\"US\",\"Austria\",\"Greece\"],\"x0\":\" \",\"xaxis\":\"x\",\"y\":[\"99.06\",\"98.13\",\"96.75\",\"96.53\",\"96.15\",\"94.4\",\"93.69\",\"92.08\",\"91.26\",\"91.23\",\"90.68\",\"90.3\",\"89.67\",\"89.11\",\"88.73\",\"88.52\",\"88.23\",\"87.76\",\"87.64\",\"87.62\",\"86.85\",\"86.6\",\"86.38\",\"86.02\",\"85.08\",\"84.96\",\"84.75\",\"84.64\",\"84.43\",\"83.79\",\"83.39\",\"83.39\",\"83.26\",\"83.04\",\"82.95\",\"82.87\",\"82.8\",\"82.69\",\"82.48\",\"82.38\",\"82.34\",\"82.24\",\"82.06\",\"81.93\",\"81.82\",\"81.46\",\"81.08\",\"80.96\",\"80.83\",\"80.78\",\"80.68\",\"80.11\",\"79.69\",\"79.54\",\"79.46\",\"79.39\",\"79.08\",\"78.86\",\"78.86\",\"78.77\",\"78.72\",\"78.49\",\"77.95\",\"77.94\",\"77.75\",\"77.55\",\"77.42\",\"77.35\",\"77.28\",\"77.22\",\"77.16\",\"76.77\",\"76.77\",\"76.76\",\"76.56\",\"76.46\",\"76.46\",\"76.32\",\"75.66\",\"75.52\",\"75.49\",\"75.45\",\"75.11\",\"74.89\",\"74.8\",\"74.79\",\"74.13\",\"74.11\",\"73.66\",\"73.59\",\"73.21\",\"73.16\",\"73.08\",\"73.05\",\"72.95\",\"72.74\",\"72.57\",\"72.33\",\"72.03\",\"72.03\"],\"y0\":\" \",\"yaxis\":\"y\",\"type\":\"box\"}],                        {\"template\":{\"data\":{\"histogram2dcontour\":[{\"type\":\"histogram2dcontour\",\"colorbar\":{\"outlinewidth\":0,\"ticks\":\"\"},\"colorscale\":[[0.0,\"#0d0887\"],[0.1111111111111111,\"#46039f\"],[0.2222222222222222,\"#7201a8\"],[0.3333333333333333,\"#9c179e\"],[0.4444444444444444,\"#bd3786\"],[0.5555555555555556,\"#d8576b\"],[0.6666666666666666,\"#ed7953\"],[0.7777777777777778,\"#fb9f3a\"],[0.8888888888888888,\"#fdca26\"],[1.0,\"#f0f921\"]]}],\"choropleth\":[{\"type\":\"choropleth\",\"colorbar\":{\"outlinewidth\":0,\"ticks\":\"\"}}],\"histogram2d\":[{\"type\":\"histogram2d\",\"colorbar\":{\"outlinewidth\":0,\"ticks\":\"\"},\"colorscale\":[[0.0,\"#0d0887\"],[0.1111111111111111,\"#46039f\"],[0.2222222222222222,\"#7201a8\"],[0.3333333333333333,\"#9c179e\"],[0.4444444444444444,\"#bd3786\"],[0.5555555555555556,\"#d8576b\"],[0.6666666666666666,\"#ed7953\"],[0.7777777777777778,\"#fb9f3a\"],[0.8888888888888888,\"#fdca26\"],[1.0,\"#f0f921\"]]}],\"heatmap\":[{\"type\":\"heatmap\",\"colorbar\":{\"outlinewidth\":0,\"ticks\":\"\"},\"colorscale\":[[0.0,\"#0d0887\"],[0.1111111111111111,\"#46039f\"],[0.2222222222222222,\"#7201a8\"],[0.3333333333333333,\"#9c179e\"],[0.4444444444444444,\"#bd3786\"],[0.5555555555555556,\"#d8576b\"],[0.6666666666666666,\"#ed7953\"],[0.7777777777777778,\"#fb9f3a\"],[0.8888888888888888,\"#fdca26\"],[1.0,\"#f0f921\"]]}],\"heatmapgl\":[{\"type\":\"heatmapgl\",\"colorbar\":{\"outlinewidth\":0,\"ticks\":\"\"},\"colorscale\":[[0.0,\"#0d0887\"],[0.1111111111111111,\"#46039f\"],[0.2222222222222222,\"#7201a8\"],[0.3333333333333333,\"#9c179e\"],[0.4444444444444444,\"#bd3786\"],[0.5555555555555556,\"#d8576b\"],[0.6666666666666666,\"#ed7953\"],[0.7777777777777778,\"#fb9f3a\"],[0.8888888888888888,\"#fdca26\"],[1.0,\"#f0f921\"]]}],\"contourcarpet\":[{\"type\":\"contourcarpet\",\"colorbar\":{\"outlinewidth\":0,\"ticks\":\"\"}}],\"contour\":[{\"type\":\"contour\",\"colorbar\":{\"outlinewidth\":0,\"ticks\":\"\"},\"colorscale\":[[0.0,\"#0d0887\"],[0.1111111111111111,\"#46039f\"],[0.2222222222222222,\"#7201a8\"],[0.3333333333333333,\"#9c179e\"],[0.4444444444444444,\"#bd3786\"],[0.5555555555555556,\"#d8576b\"],[0.6666666666666666,\"#ed7953\"],[0.7777777777777778,\"#fb9f3a\"],[0.8888888888888888,\"#fdca26\"],[1.0,\"#f0f921\"]]}],\"surface\":[{\"type\":\"surface\",\"colorbar\":{\"outlinewidth\":0,\"ticks\":\"\"},\"colorscale\":[[0.0,\"#0d0887\"],[0.1111111111111111,\"#46039f\"],[0.2222222222222222,\"#7201a8\"],[0.3333333333333333,\"#9c179e\"],[0.4444444444444444,\"#bd3786\"],[0.5555555555555556,\"#d8576b\"],[0.6666666666666666,\"#ed7953\"],[0.7777777777777778,\"#fb9f3a\"],[0.8888888888888888,\"#fdca26\"],[1.0,\"#f0f921\"]]}],\"mesh3d\":[{\"type\":\"mesh3d\",\"colorbar\":{\"outlinewidth\":0,\"ticks\":\"\"}}],\"scatter\":[{\"fillpattern\":{\"fillmode\":\"overlay\",\"size\":10,\"solidity\":0.2},\"type\":\"scatter\"}],\"parcoords\":[{\"type\":\"parcoords\",\"line\":{\"colorbar\":{\"outlinewidth\":0,\"ticks\":\"\"}}}],\"scatterpolargl\":[{\"type\":\"scatterpolargl\",\"marker\":{\"colorbar\":{\"outlinewidth\":0,\"ticks\":\"\"}}}],\"bar\":[{\"error_x\":{\"color\":\"#2a3f5f\"},\"error_y\":{\"color\":\"#2a3f5f\"},\"marker\":{\"line\":{\"color\":\"#E5ECF6\",\"width\":0.5},\"pattern\":{\"fillmode\":\"overlay\",\"size\":10,\"solidity\":0.2}},\"type\":\"bar\"}],\"scattergeo\":[{\"type\":\"scattergeo\",\"marker\":{\"colorbar\":{\"outlinewidth\":0,\"ticks\":\"\"}}}],\"scatterpolar\":[{\"type\":\"scatterpolar\",\"marker\":{\"colorbar\":{\"outlinewidth\":0,\"ticks\":\"\"}}}],\"histogram\":[{\"marker\":{\"pattern\":{\"fillmode\":\"overlay\",\"size\":10,\"solidity\":0.2}},\"type\":\"histogram\"}],\"scattergl\":[{\"type\":\"scattergl\",\"marker\":{\"colorbar\":{\"outlinewidth\":0,\"ticks\":\"\"}}}],\"scatter3d\":[{\"type\":\"scatter3d\",\"line\":{\"colorbar\":{\"outlinewidth\":0,\"ticks\":\"\"}},\"marker\":{\"colorbar\":{\"outlinewidth\":0,\"ticks\":\"\"}}}],\"scattermapbox\":[{\"type\":\"scattermapbox\",\"marker\":{\"colorbar\":{\"outlinewidth\":0,\"ticks\":\"\"}}}],\"scatterternary\":[{\"type\":\"scatterternary\",\"marker\":{\"colorbar\":{\"outlinewidth\":0,\"ticks\":\"\"}}}],\"scattercarpet\":[{\"type\":\"scattercarpet\",\"marker\":{\"colorbar\":{\"outlinewidth\":0,\"ticks\":\"\"}}}],\"carpet\":[{\"aaxis\":{\"endlinecolor\":\"#2a3f5f\",\"gridcolor\":\"white\",\"linecolor\":\"white\",\"minorgridcolor\":\"white\",\"startlinecolor\":\"#2a3f5f\"},\"baxis\":{\"endlinecolor\":\"#2a3f5f\",\"gridcolor\":\"white\",\"linecolor\":\"white\",\"minorgridcolor\":\"white\",\"startlinecolor\":\"#2a3f5f\"},\"type\":\"carpet\"}],\"table\":[{\"cells\":{\"fill\":{\"color\":\"#EBF0F8\"},\"line\":{\"color\":\"white\"}},\"header\":{\"fill\":{\"color\":\"#C8D4E3\"},\"line\":{\"color\":\"white\"}},\"type\":\"table\"}],\"barpolar\":[{\"marker\":{\"line\":{\"color\":\"#E5ECF6\",\"width\":0.5},\"pattern\":{\"fillmode\":\"overlay\",\"size\":10,\"solidity\":0.2}},\"type\":\"barpolar\"}],\"pie\":[{\"automargin\":true,\"type\":\"pie\"}]},\"layout\":{\"autotypenumbers\":\"strict\",\"colorway\":[\"#636efa\",\"#EF553B\",\"#00cc96\",\"#ab63fa\",\"#FFA15A\",\"#19d3f3\",\"#FF6692\",\"#B6E880\",\"#FF97FF\",\"#FECB52\"],\"font\":{\"color\":\"#2a3f5f\"},\"hovermode\":\"closest\",\"hoverlabel\":{\"align\":\"left\"},\"paper_bgcolor\":\"white\",\"plot_bgcolor\":\"#E5ECF6\",\"polar\":{\"bgcolor\":\"#E5ECF6\",\"angularaxis\":{\"gridcolor\":\"white\",\"linecolor\":\"white\",\"ticks\":\"\"},\"radialaxis\":{\"gridcolor\":\"white\",\"linecolor\":\"white\",\"ticks\":\"\"}},\"ternary\":{\"bgcolor\":\"#E5ECF6\",\"aaxis\":{\"gridcolor\":\"white\",\"linecolor\":\"white\",\"ticks\":\"\"},\"baxis\":{\"gridcolor\":\"white\",\"linecolor\":\"white\",\"ticks\":\"\"},\"caxis\":{\"gridcolor\":\"white\",\"linecolor\":\"white\",\"ticks\":\"\"}},\"coloraxis\":{\"colorbar\":{\"outlinewidth\":0,\"ticks\":\"\"}},\"colorscale\":{\"sequential\":[[0.0,\"#0d0887\"],[0.1111111111111111,\"#46039f\"],[0.2222222222222222,\"#7201a8\"],[0.3333333333333333,\"#9c179e\"],[0.4444444444444444,\"#bd3786\"],[0.5555555555555556,\"#d8576b\"],[0.6666666666666666,\"#ed7953\"],[0.7777777777777778,\"#fb9f3a\"],[0.8888888888888888,\"#fdca26\"],[1.0,\"#f0f921\"]],\"sequentialminus\":[[0.0,\"#0d0887\"],[0.1111111111111111,\"#46039f\"],[0.2222222222222222,\"#7201a8\"],[0.3333333333333333,\"#9c179e\"],[0.4444444444444444,\"#bd3786\"],[0.5555555555555556,\"#d8576b\"],[0.6666666666666666,\"#ed7953\"],[0.7777777777777778,\"#fb9f3a\"],[0.8888888888888888,\"#fdca26\"],[1.0,\"#f0f921\"]],\"diverging\":[[0,\"#8e0152\"],[0.1,\"#c51b7d\"],[0.2,\"#de77ae\"],[0.3,\"#f1b6da\"],[0.4,\"#fde0ef\"],[0.5,\"#f7f7f7\"],[0.6,\"#e6f5d0\"],[0.7,\"#b8e186\"],[0.8,\"#7fbc41\"],[0.9,\"#4d9221\"],[1,\"#276419\"]]},\"xaxis\":{\"gridcolor\":\"white\",\"linecolor\":\"white\",\"ticks\":\"\",\"title\":{\"standoff\":15},\"zerolinecolor\":\"white\",\"automargin\":true,\"zerolinewidth\":2},\"yaxis\":{\"gridcolor\":\"white\",\"linecolor\":\"white\",\"ticks\":\"\",\"title\":{\"standoff\":15},\"zerolinecolor\":\"white\",\"automargin\":true,\"zerolinewidth\":2},\"scene\":{\"xaxis\":{\"backgroundcolor\":\"#E5ECF6\",\"gridcolor\":\"white\",\"linecolor\":\"white\",\"showbackground\":true,\"ticks\":\"\",\"zerolinecolor\":\"white\",\"gridwidth\":2},\"yaxis\":{\"backgroundcolor\":\"#E5ECF6\",\"gridcolor\":\"white\",\"linecolor\":\"white\",\"showbackground\":true,\"ticks\":\"\",\"zerolinecolor\":\"white\",\"gridwidth\":2},\"zaxis\":{\"backgroundcolor\":\"#E5ECF6\",\"gridcolor\":\"white\",\"linecolor\":\"white\",\"showbackground\":true,\"ticks\":\"\",\"zerolinecolor\":\"white\",\"gridwidth\":2}},\"shapedefaults\":{\"line\":{\"color\":\"#2a3f5f\"}},\"annotationdefaults\":{\"arrowcolor\":\"#2a3f5f\",\"arrowhead\":0,\"arrowwidth\":1},\"geo\":{\"bgcolor\":\"white\",\"landcolor\":\"#E5ECF6\",\"subunitcolor\":\"white\",\"showland\":true,\"showlakes\":true,\"lakecolor\":\"white\"},\"title\":{\"x\":0.05},\"mapbox\":{\"style\":\"light\"}}},\"xaxis\":{\"anchor\":\"y\",\"domain\":[0.0,1.0],\"title\":{\"text\":\"Country\"}},\"yaxis\":{\"anchor\":\"x\",\"domain\":[0.0,1.0],\"title\":{\"text\":\"Score\"}},\"legend\":{\"tracegroupgap\":0},\"title\":{\"text\":\"Score by Country\"},\"boxmode\":\"group\"},                        {\"responsive\": true}                    ).then(function(){\n",
       "                            \n",
       "var gd = document.getElementById('f89f774c-f3ba-4aa2-96b5-c77681aff228');\n",
       "var x = new MutationObserver(function (mutations, observer) {{\n",
       "        var display = window.getComputedStyle(gd).display;\n",
       "        if (!display || display === 'none') {{\n",
       "            console.log([gd, 'removed!']);\n",
       "            Plotly.purge(gd);\n",
       "            observer.disconnect();\n",
       "        }}\n",
       "}});\n",
       "\n",
       "// Listen for the removal of the full notebook cells\n",
       "var notebookContainer = gd.closest('#notebook-container');\n",
       "if (notebookContainer) {{\n",
       "    x.observe(notebookContainer, {childList: true});\n",
       "}}\n",
       "\n",
       "// Listen for the clearing of the current output cell\n",
       "var outputEl = gd.closest('.output');\n",
       "if (outputEl) {{\n",
       "    x.observe(outputEl, {childList: true});\n",
       "}}\n",
       "\n",
       "                        })                };                });            </script>        </div>"
      ]
     },
     "metadata": {},
     "output_type": "display_data"
    }
   ],
   "source": [
    "# Box Plot\n",
    "fig = px.box(df, x='Country', y='Score', title='Score by Country')\n",
    "fig.show()"
   ]
  },
  {
   "cell_type": "code",
   "execution_count": 79,
   "id": "ec0c6211",
   "metadata": {},
   "outputs": [
    {
     "data": {
      "application/vnd.plotly.v1+json": {
       "config": {
        "plotlyServerURL": "https://plot.ly"
       },
       "data": [
        {
         "coloraxis": "coloraxis",
         "hovertemplate": "Score: %{x}<br>Country: %{y}<br>color: %{z}<extra></extra>",
         "name": "0",
         "texttemplate": "%{z}",
         "type": "heatmap",
         "x": [
          "72.03",
          "72.33",
          "72.57",
          "72.74",
          "72.95",
          "73.05",
          "73.08",
          "73.16",
          "73.21",
          "73.59",
          "73.66",
          "74.11",
          "74.13",
          "74.79",
          "74.8",
          "74.89",
          "75.11",
          "75.45",
          "75.49",
          "75.52",
          "75.66",
          "76.32",
          "76.46",
          "76.56",
          "76.76",
          "76.77",
          "77.16",
          "77.22",
          "77.28",
          "77.35",
          "77.42",
          "77.55",
          "77.75",
          "77.94",
          "77.95",
          "78.49",
          "78.72",
          "78.77",
          "78.86",
          "79.08",
          "79.39",
          "79.46",
          "79.54",
          "79.69",
          "80.11",
          "80.68",
          "80.78",
          "80.83",
          "80.96",
          "81.08",
          "81.46",
          "81.82",
          "81.93",
          "82.06",
          "82.24",
          "82.34",
          "82.38",
          "82.48",
          "82.69",
          "82.8",
          "82.87",
          "82.95",
          "83.04",
          "83.26",
          "83.39",
          "83.79",
          "84.43",
          "84.64",
          "84.75",
          "84.96",
          "85.08",
          "86.02",
          "86.38",
          "86.6",
          "86.85",
          "87.62",
          "87.64",
          "87.76",
          "88.23",
          "88.52",
          "88.73",
          "89.11",
          "89.67",
          "90.3",
          "90.68",
          "91.23",
          "91.26",
          "92.08",
          "93.69",
          "94.4",
          "96.15",
          "96.53",
          "96.75",
          "98.13",
          "99.06"
         ],
         "xaxis": "x",
         "y": [
          "Australia",
          "Austria",
          "Belgium",
          "Canada",
          "China",
          "Denmark",
          "France",
          "Germany",
          "Greece",
          "Hong Kong",
          "India",
          "Italy",
          "Japan",
          "Netherlands",
          "Singapore",
          "South Korea",
          "Spain",
          "Sweden",
          "Switzerland",
          "Taiwan",
          "UK",
          "US",
          "Ukraine"
         ],
         "yaxis": "y",
         "z": [
          [
           0,
           0,
           0,
           0,
           0,
           0,
           0,
           0,
           0,
           0,
           0,
           0,
           0,
           0,
           0,
           0,
           0,
           0,
           0,
           0,
           0,
           0,
           0,
           0,
           0,
           0,
           0,
           0,
           0,
           0,
           0,
           0,
           0,
           0,
           0,
           0,
           0,
           0,
           0,
           0,
           1,
           0,
           0,
           0,
           0,
           0,
           0,
           0,
           0,
           0,
           0,
           0,
           0,
           0,
           0,
           0,
           0,
           0,
           0,
           0,
           0,
           0,
           1,
           0,
           0,
           1,
           0,
           0,
           0,
           0,
           0,
           0,
           0,
           0,
           0,
           0,
           0,
           0,
           0,
           0,
           0,
           0,
           0,
           0,
           0,
           0,
           0,
           0,
           0,
           0,
           0,
           0,
           0,
           0,
           0
          ],
          [
           1,
           0,
           0,
           0,
           0,
           0,
           0,
           0,
           0,
           0,
           0,
           0,
           0,
           0,
           0,
           0,
           0,
           0,
           0,
           0,
           0,
           0,
           0,
           0,
           0,
           0,
           0,
           0,
           0,
           0,
           0,
           0,
           0,
           0,
           0,
           0,
           0,
           0,
           0,
           0,
           0,
           0,
           0,
           0,
           0,
           0,
           0,
           0,
           0,
           0,
           0,
           0,
           0,
           0,
           0,
           0,
           0,
           0,
           0,
           0,
           0,
           0,
           0,
           0,
           0,
           0,
           0,
           0,
           0,
           0,
           0,
           0,
           0,
           0,
           0,
           0,
           0,
           0,
           0,
           0,
           0,
           0,
           0,
           0,
           0,
           0,
           0,
           0,
           0,
           0,
           0,
           0,
           0,
           0,
           0
          ],
          [
           0,
           0,
           0,
           0,
           0,
           0,
           0,
           0,
           0,
           0,
           0,
           0,
           0,
           0,
           0,
           0,
           0,
           0,
           0,
           0,
           0,
           0,
           0,
           0,
           0,
           0,
           0,
           0,
           0,
           1,
           0,
           0,
           0,
           0,
           0,
           0,
           0,
           0,
           0,
           0,
           0,
           0,
           0,
           0,
           0,
           0,
           0,
           0,
           0,
           0,
           0,
           0,
           0,
           0,
           0,
           0,
           0,
           0,
           0,
           0,
           0,
           0,
           0,
           0,
           0,
           0,
           0,
           0,
           0,
           0,
           0,
           0,
           0,
           0,
           0,
           0,
           0,
           0,
           0,
           0,
           0,
           0,
           0,
           0,
           0,
           0,
           0,
           0,
           0,
           0,
           0,
           0,
           0,
           0,
           0
          ],
          [
           0,
           0,
           0,
           0,
           0,
           0,
           0,
           0,
           0,
           0,
           0,
           0,
           0,
           0,
           0,
           0,
           0,
           0,
           0,
           0,
           0,
           0,
           0,
           0,
           0,
           0,
           0,
           0,
           0,
           0,
           0,
           1,
           0,
           0,
           0,
           0,
           0,
           0,
           0,
           0,
           0,
           0,
           0,
           0,
           0,
           1,
           0,
           0,
           0,
           0,
           0,
           0,
           0,
           0,
           0,
           0,
           1,
           0,
           0,
           0,
           0,
           0,
           0,
           0,
           0,
           0,
           1,
           0,
           0,
           0,
           0,
           0,
           0,
           0,
           0,
           0,
           0,
           0,
           0,
           0,
           0,
           0,
           0,
           0,
           0,
           0,
           0,
           0,
           0,
           0,
           0,
           0,
           0,
           0,
           0
          ],
          [
           0,
           0,
           0,
           0,
           0,
           0,
           0,
           0,
           0,
           0,
           0,
           0,
           0,
           0,
           0,
           0,
           0,
           0,
           0,
           1,
           0,
           0,
           0,
           0,
           0,
           0,
           0,
           0,
           0,
           0,
           0,
           0,
           0,
           0,
           0,
           0,
           0,
           0,
           0,
           0,
           0,
           0,
           0,
           0,
           0,
           0,
           0,
           0,
           0,
           0,
           0,
           0,
           0,
           0,
           0,
           0,
           0,
           0,
           0,
           0,
           0,
           0,
           0,
           0,
           0,
           0,
           0,
           0,
           0,
           0,
           0,
           0,
           0,
           0,
           0,
           0,
           0,
           0,
           0,
           0,
           0,
           0,
           0,
           0,
           0,
           0,
           0,
           0,
           0,
           0,
           0,
           0,
           0,
           0,
           0
          ],
          [
           0,
           0,
           0,
           0,
           0,
           0,
           0,
           0,
           0,
           0,
           0,
           0,
           0,
           0,
           0,
           0,
           0,
           0,
           0,
           0,
           0,
           0,
           0,
           0,
           0,
           0,
           0,
           0,
           0,
           0,
           0,
           0,
           0,
           0,
           0,
           0,
           0,
           0,
           0,
           0,
           0,
           0,
           0,
           1,
           0,
           0,
           0,
           0,
           0,
           0,
           0,
           0,
           0,
           0,
           0,
           0,
           0,
           0,
           0,
           0,
           0,
           0,
           0,
           0,
           0,
           0,
           0,
           0,
           0,
           0,
           0,
           0,
           0,
           0,
           0,
           0,
           0,
           0,
           0,
           0,
           0,
           0,
           0,
           0,
           0,
           0,
           0,
           0,
           0,
           0,
           0,
           0,
           0,
           0,
           0
          ],
          [
           0,
           0,
           0,
           0,
           0,
           0,
           0,
           0,
           0,
           0,
           0,
           0,
           0,
           0,
           0,
           0,
           0,
           0,
           0,
           0,
           0,
           0,
           0,
           0,
           0,
           0,
           1,
           0,
           0,
           0,
           0,
           0,
           0,
           0,
           0,
           0,
           0,
           0,
           0,
           0,
           0,
           0,
           0,
           0,
           0,
           0,
           0,
           0,
           0,
           0,
           0,
           0,
           0,
           0,
           0,
           0,
           0,
           0,
           0,
           0,
           0,
           0,
           0,
           0,
           0,
           0,
           0,
           0,
           0,
           0,
           0,
           0,
           0,
           0,
           0,
           0,
           0,
           0,
           0,
           0,
           0,
           0,
           0,
           0,
           0,
           0,
           0,
           0,
           0,
           0,
           0,
           0,
           0,
           0,
           0
          ],
          [
           0,
           0,
           0,
           0,
           0,
           0,
           0,
           0,
           0,
           0,
           0,
           1,
           0,
           0,
           0,
           0,
           0,
           0,
           0,
           0,
           0,
           0,
           0,
           0,
           0,
           0,
           0,
           0,
           0,
           0,
           0,
           0,
           0,
           0,
           1,
           0,
           0,
           0,
           0,
           0,
           0,
           0,
           0,
           0,
           0,
           0,
           0,
           0,
           0,
           0,
           0,
           0,
           0,
           0,
           1,
           0,
           0,
           0,
           0,
           0,
           0,
           0,
           0,
           0,
           0,
           0,
           0,
           0,
           0,
           0,
           0,
           0,
           0,
           0,
           0,
           0,
           0,
           0,
           0,
           0,
           0,
           0,
           0,
           0,
           0,
           0,
           0,
           0,
           0,
           0,
           0,
           0,
           0,
           0,
           0
          ],
          [
           1,
           0,
           0,
           0,
           0,
           0,
           1,
           1,
           0,
           0,
           0,
           0,
           0,
           0,
           0,
           0,
           0,
           0,
           0,
           0,
           0,
           0,
           0,
           0,
           0,
           0,
           0,
           0,
           0,
           0,
           0,
           0,
           0,
           0,
           0,
           0,
           0,
           0,
           0,
           0,
           0,
           0,
           0,
           0,
           0,
           0,
           0,
           0,
           0,
           0,
           0,
           0,
           0,
           0,
           0,
           0,
           0,
           0,
           0,
           0,
           0,
           0,
           0,
           0,
           0,
           0,
           0,
           0,
           0,
           0,
           0,
           0,
           0,
           0,
           0,
           0,
           0,
           0,
           0,
           0,
           0,
           0,
           0,
           0,
           0,
           0,
           0,
           0,
           0,
           0,
           0,
           0,
           0,
           0,
           0
          ],
          [
           0,
           0,
           0,
           0,
           0,
           0,
           0,
           0,
           0,
           0,
           0,
           0,
           0,
           0,
           0,
           0,
           0,
           0,
           0,
           0,
           0,
           0,
           0,
           0,
           0,
           0,
           0,
           0,
           0,
           0,
           0,
           0,
           1,
           0,
           0,
           0,
           0,
           0,
           1,
           0,
           0,
           0,
           0,
           0,
           0,
           0,
           0,
           0,
           0,
           0,
           0,
           0,
           0,
           0,
           0,
           0,
           0,
           0,
           0,
           0,
           0,
           0,
           0,
           0,
           0,
           0,
           0,
           0,
           0,
           0,
           0,
           0,
           0,
           0,
           0,
           0,
           0,
           0,
           0,
           0,
           0,
           0,
           0,
           0,
           0,
           0,
           0,
           0,
           0,
           0,
           0,
           0,
           0,
           0,
           0
          ],
          [
           0,
           0,
           0,
           0,
           0,
           0,
           0,
           0,
           0,
           0,
           0,
           0,
           0,
           0,
           0,
           0,
           0,
           0,
           0,
           0,
           0,
           0,
           0,
           0,
           0,
           0,
           0,
           0,
           1,
           0,
           0,
           0,
           0,
           0,
           0,
           0,
           0,
           1,
           0,
           0,
           0,
           1,
           0,
           0,
           0,
           0,
           0,
           0,
           0,
           0,
           1,
           0,
           0,
           0,
           0,
           0,
           0,
           0,
           0,
           1,
           0,
           0,
           0,
           0,
           0,
           0,
           0,
           0,
           0,
           0,
           0,
           0,
           0,
           1,
           0,
           0,
           0,
           0,
           0,
           0,
           0,
           0,
           0,
           0,
           0,
           0,
           0,
           0,
           0,
           0,
           0,
           0,
           0,
           0,
           0
          ],
          [
           0,
           0,
           0,
           0,
           0,
           0,
           0,
           0,
           0,
           0,
           0,
           0,
           0,
           1,
           0,
           0,
           0,
           0,
           0,
           0,
           0,
           0,
           0,
           0,
           0,
           0,
           0,
           0,
           0,
           0,
           0,
           0,
           0,
           0,
           0,
           0,
           0,
           0,
           0,
           0,
           0,
           0,
           0,
           0,
           0,
           0,
           0,
           0,
           0,
           0,
           0,
           0,
           0,
           0,
           0,
           0,
           0,
           0,
           0,
           0,
           0,
           0,
           0,
           0,
           0,
           0,
           0,
           0,
           0,
           0,
           0,
           0,
           0,
           0,
           0,
           0,
           0,
           0,
           0,
           0,
           0,
           0,
           0,
           0,
           0,
           0,
           0,
           0,
           0,
           0,
           0,
           0,
           0,
           0,
           0
          ],
          [
           0,
           0,
           0,
           0,
           0,
           0,
           0,
           0,
           0,
           0,
           0,
           0,
           0,
           0,
           0,
           0,
           0,
           0,
           0,
           0,
           1,
           0,
           0,
           0,
           0,
           0,
           0,
           0,
           0,
           0,
           0,
           0,
           0,
           0,
           0,
           0,
           0,
           0,
           0,
           0,
           0,
           0,
           0,
           0,
           0,
           0,
           1,
           0,
           0,
           0,
           0,
           0,
           0,
           0,
           0,
           0,
           0,
           0,
           0,
           0,
           0,
           0,
           0,
           0,
           0,
           0,
           0,
           0,
           0,
           0,
           0,
           0,
           0,
           0,
           0,
           0,
           0,
           0,
           0,
           0,
           0,
           0,
           0,
           0,
           0,
           0,
           0,
           0,
           0,
           0,
           0,
           0,
           0,
           0,
           0
          ],
          [
           0,
           0,
           1,
           0,
           0,
           0,
           0,
           0,
           1,
           0,
           0,
           0,
           0,
           0,
           0,
           0,
           0,
           0,
           0,
           0,
           0,
           1,
           0,
           1,
           0,
           0,
           0,
           0,
           0,
           0,
           0,
           0,
           0,
           0,
           0,
           0,
           0,
           0,
           0,
           0,
           0,
           0,
           1,
           0,
           0,
           0,
           0,
           0,
           1,
           0,
           0,
           0,
           0,
           0,
           0,
           0,
           0,
           0,
           0,
           0,
           0,
           0,
           0,
           0,
           0,
           0,
           0,
           0,
           0,
           0,
           0,
           0,
           0,
           0,
           0,
           0,
           0,
           0,
           0,
           0,
           0,
           0,
           0,
           0,
           0,
           0,
           0,
           0,
           0,
           0,
           0,
           0,
           0,
           0,
           0
          ],
          [
           0,
           0,
           0,
           0,
           0,
           0,
           0,
           0,
           0,
           0,
           0,
           0,
           0,
           0,
           0,
           0,
           0,
           0,
           0,
           0,
           0,
           0,
           0,
           0,
           0,
           0,
           0,
           0,
           0,
           0,
           0,
           0,
           0,
           0,
           0,
           0,
           0,
           0,
           0,
           0,
           0,
           0,
           0,
           0,
           0,
           0,
           0,
           0,
           0,
           0,
           0,
           0,
           1,
           0,
           0,
           0,
           0,
           0,
           0,
           0,
           0,
           0,
           0,
           0,
           0,
           0,
           0,
           0,
           0,
           0,
           0,
           0,
           0,
           0,
           0,
           0,
           0,
           0,
           0,
           0,
           0,
           0,
           0,
           0,
           0,
           0,
           0,
           0,
           0,
           0,
           0,
           0,
           0,
           0,
           0
          ],
          [
           0,
           0,
           0,
           0,
           0,
           0,
           0,
           0,
           0,
           0,
           0,
           0,
           0,
           0,
           0,
           0,
           0,
           1,
           0,
           0,
           0,
           0,
           0,
           0,
           0,
           0,
           0,
           0,
           0,
           0,
           0,
           0,
           0,
           0,
           0,
           0,
           0,
           0,
           0,
           0,
           0,
           0,
           0,
           0,
           0,
           0,
           0,
           0,
           0,
           0,
           0,
           0,
           0,
           0,
           0,
           1,
           0,
           0,
           0,
           0,
           0,
           0,
           0,
           0,
           0,
           0,
           0,
           0,
           0,
           0,
           0,
           0,
           0,
           0,
           0,
           0,
           0,
           0,
           0,
           0,
           0,
           0,
           0,
           0,
           0,
           0,
           0,
           0,
           0,
           0,
           0,
           0,
           0,
           0,
           0
          ],
          [
           0,
           0,
           0,
           0,
           0,
           0,
           0,
           0,
           0,
           0,
           0,
           0,
           0,
           0,
           0,
           0,
           0,
           0,
           0,
           0,
           0,
           0,
           1,
           0,
           0,
           0,
           0,
           0,
           0,
           0,
           0,
           0,
           0,
           0,
           0,
           0,
           0,
           0,
           0,
           0,
           0,
           0,
           0,
           0,
           0,
           0,
           0,
           0,
           0,
           0,
           0,
           0,
           0,
           0,
           0,
           0,
           0,
           0,
           0,
           0,
           0,
           0,
           0,
           0,
           0,
           0,
           0,
           0,
           0,
           0,
           0,
           0,
           0,
           0,
           0,
           0,
           0,
           0,
           0,
           0,
           0,
           0,
           0,
           0,
           0,
           0,
           0,
           0,
           0,
           0,
           0,
           0,
           0,
           0,
           0
          ],
          [
           0,
           0,
           0,
           0,
           0,
           0,
           0,
           0,
           0,
           0,
           0,
           0,
           0,
           0,
           1,
           0,
           0,
           0,
           0,
           0,
           0,
           0,
           0,
           0,
           0,
           0,
           0,
           0,
           0,
           0,
           0,
           0,
           0,
           0,
           0,
           0,
           0,
           0,
           0,
           0,
           0,
           0,
           0,
           0,
           0,
           0,
           0,
           0,
           0,
           0,
           0,
           0,
           0,
           0,
           0,
           0,
           0,
           0,
           0,
           0,
           0,
           0,
           0,
           0,
           1,
           0,
           0,
           0,
           0,
           0,
           0,
           0,
           0,
           0,
           0,
           0,
           0,
           0,
           0,
           0,
           0,
           0,
           0,
           0,
           0,
           0,
           0,
           0,
           0,
           0,
           0,
           0,
           0,
           0,
           0
          ],
          [
           0,
           0,
           0,
           0,
           0,
           0,
           0,
           0,
           0,
           1,
           0,
           0,
           0,
           0,
           0,
           0,
           1,
           0,
           0,
           0,
           0,
           0,
           0,
           0,
           0,
           0,
           0,
           0,
           0,
           0,
           0,
           0,
           0,
           0,
           0,
           0,
           0,
           0,
           0,
           0,
           0,
           0,
           0,
           0,
           0,
           0,
           0,
           0,
           0,
           0,
           0,
           0,
           0,
           0,
           0,
           0,
           0,
           0,
           0,
           0,
           0,
           0,
           0,
           0,
           0,
           0,
           0,
           0,
           0,
           0,
           0,
           0,
           0,
           0,
           0,
           0,
           0,
           0,
           0,
           0,
           0,
           0,
           0,
           0,
           0,
           0,
           0,
           0,
           0,
           0,
           0,
           0,
           0,
           0,
           0
          ],
          [
           0,
           0,
           0,
           0,
           0,
           0,
           0,
           0,
           0,
           0,
           0,
           0,
           0,
           0,
           0,
           0,
           0,
           0,
           0,
           0,
           0,
           0,
           0,
           0,
           0,
           1,
           0,
           0,
           0,
           0,
           0,
           0,
           0,
           0,
           0,
           0,
           0,
           0,
           0,
           0,
           0,
           0,
           0,
           0,
           0,
           0,
           0,
           0,
           0,
           0,
           0,
           0,
           0,
           0,
           0,
           0,
           0,
           0,
           0,
           0,
           0,
           0,
           0,
           0,
           0,
           0,
           0,
           0,
           0,
           0,
           0,
           0,
           0,
           0,
           0,
           0,
           0,
           0,
           0,
           0,
           0,
           0,
           0,
           0,
           0,
           0,
           0,
           0,
           0,
           0,
           0,
           0,
           0,
           0,
           0
          ],
          [
           0,
           0,
           0,
           0,
           0,
           0,
           0,
           0,
           0,
           0,
           0,
           0,
           0,
           0,
           0,
           0,
           0,
           0,
           0,
           0,
           0,
           0,
           0,
           0,
           0,
           0,
           0,
           0,
           0,
           0,
           0,
           0,
           0,
           0,
           0,
           0,
           0,
           0,
           1,
           0,
           0,
           0,
           0,
           0,
           0,
           0,
           0,
           0,
           0,
           0,
           0,
           0,
           0,
           1,
           0,
           0,
           0,
           1,
           0,
           0,
           0,
           1,
           0,
           1,
           0,
           0,
           0,
           0,
           0,
           1,
           0,
           1,
           0,
           0,
           0,
           0,
           0,
           0,
           0,
           0,
           0,
           0,
           0,
           0,
           0,
           0,
           0,
           0,
           0,
           0,
           0,
           0,
           0,
           0,
           0
          ],
          [
           0,
           1,
           0,
           1,
           1,
           1,
           0,
           0,
           0,
           0,
           1,
           0,
           1,
           0,
           0,
           1,
           0,
           0,
           1,
           0,
           0,
           0,
           1,
           0,
           1,
           1,
           0,
           1,
           0,
           0,
           1,
           0,
           0,
           1,
           0,
           1,
           0,
           0,
           0,
           1,
           0,
           0,
           0,
           0,
           1,
           0,
           0,
           1,
           0,
           1,
           0,
           1,
           0,
           0,
           0,
           0,
           0,
           0,
           1,
           0,
           1,
           0,
           0,
           0,
           1,
           0,
           0,
           1,
           1,
           0,
           1,
           0,
           1,
           0,
           1,
           1,
           1,
           1,
           1,
           1,
           1,
           1,
           1,
           1,
           1,
           1,
           1,
           1,
           1,
           1,
           1,
           1,
           1,
           1,
           1
          ],
          [
           0,
           0,
           0,
           0,
           0,
           0,
           0,
           0,
           0,
           0,
           0,
           0,
           0,
           0,
           0,
           0,
           0,
           0,
           0,
           0,
           0,
           0,
           0,
           0,
           0,
           0,
           0,
           0,
           0,
           0,
           0,
           0,
           0,
           0,
           0,
           0,
           1,
           0,
           0,
           0,
           0,
           0,
           0,
           0,
           0,
           0,
           0,
           0,
           0,
           0,
           0,
           0,
           0,
           0,
           0,
           0,
           0,
           0,
           0,
           0,
           0,
           0,
           0,
           0,
           0,
           0,
           0,
           0,
           0,
           0,
           0,
           0,
           0,
           0,
           0,
           0,
           0,
           0,
           0,
           0,
           0,
           0,
           0,
           0,
           0,
           0,
           0,
           0,
           0,
           0,
           0,
           0,
           0,
           0,
           0
          ]
         ]
        }
       ],
       "layout": {
        "coloraxis": {
         "colorscale": [
          [
           0,
           "#0d0887"
          ],
          [
           0.1111111111111111,
           "#46039f"
          ],
          [
           0.2222222222222222,
           "#7201a8"
          ],
          [
           0.3333333333333333,
           "#9c179e"
          ],
          [
           0.4444444444444444,
           "#bd3786"
          ],
          [
           0.5555555555555556,
           "#d8576b"
          ],
          [
           0.6666666666666666,
           "#ed7953"
          ],
          [
           0.7777777777777778,
           "#fb9f3a"
          ],
          [
           0.8888888888888888,
           "#fdca26"
          ],
          [
           1,
           "#f0f921"
          ]
         ]
        },
        "template": {
         "data": {
          "bar": [
           {
            "error_x": {
             "color": "#2a3f5f"
            },
            "error_y": {
             "color": "#2a3f5f"
            },
            "marker": {
             "line": {
              "color": "#E5ECF6",
              "width": 0.5
             },
             "pattern": {
              "fillmode": "overlay",
              "size": 10,
              "solidity": 0.2
             }
            },
            "type": "bar"
           }
          ],
          "barpolar": [
           {
            "marker": {
             "line": {
              "color": "#E5ECF6",
              "width": 0.5
             },
             "pattern": {
              "fillmode": "overlay",
              "size": 10,
              "solidity": 0.2
             }
            },
            "type": "barpolar"
           }
          ],
          "carpet": [
           {
            "aaxis": {
             "endlinecolor": "#2a3f5f",
             "gridcolor": "white",
             "linecolor": "white",
             "minorgridcolor": "white",
             "startlinecolor": "#2a3f5f"
            },
            "baxis": {
             "endlinecolor": "#2a3f5f",
             "gridcolor": "white",
             "linecolor": "white",
             "minorgridcolor": "white",
             "startlinecolor": "#2a3f5f"
            },
            "type": "carpet"
           }
          ],
          "choropleth": [
           {
            "colorbar": {
             "outlinewidth": 0,
             "ticks": ""
            },
            "type": "choropleth"
           }
          ],
          "contour": [
           {
            "colorbar": {
             "outlinewidth": 0,
             "ticks": ""
            },
            "colorscale": [
             [
              0,
              "#0d0887"
             ],
             [
              0.1111111111111111,
              "#46039f"
             ],
             [
              0.2222222222222222,
              "#7201a8"
             ],
             [
              0.3333333333333333,
              "#9c179e"
             ],
             [
              0.4444444444444444,
              "#bd3786"
             ],
             [
              0.5555555555555556,
              "#d8576b"
             ],
             [
              0.6666666666666666,
              "#ed7953"
             ],
             [
              0.7777777777777778,
              "#fb9f3a"
             ],
             [
              0.8888888888888888,
              "#fdca26"
             ],
             [
              1,
              "#f0f921"
             ]
            ],
            "type": "contour"
           }
          ],
          "contourcarpet": [
           {
            "colorbar": {
             "outlinewidth": 0,
             "ticks": ""
            },
            "type": "contourcarpet"
           }
          ],
          "heatmap": [
           {
            "colorbar": {
             "outlinewidth": 0,
             "ticks": ""
            },
            "colorscale": [
             [
              0,
              "#0d0887"
             ],
             [
              0.1111111111111111,
              "#46039f"
             ],
             [
              0.2222222222222222,
              "#7201a8"
             ],
             [
              0.3333333333333333,
              "#9c179e"
             ],
             [
              0.4444444444444444,
              "#bd3786"
             ],
             [
              0.5555555555555556,
              "#d8576b"
             ],
             [
              0.6666666666666666,
              "#ed7953"
             ],
             [
              0.7777777777777778,
              "#fb9f3a"
             ],
             [
              0.8888888888888888,
              "#fdca26"
             ],
             [
              1,
              "#f0f921"
             ]
            ],
            "type": "heatmap"
           }
          ],
          "heatmapgl": [
           {
            "colorbar": {
             "outlinewidth": 0,
             "ticks": ""
            },
            "colorscale": [
             [
              0,
              "#0d0887"
             ],
             [
              0.1111111111111111,
              "#46039f"
             ],
             [
              0.2222222222222222,
              "#7201a8"
             ],
             [
              0.3333333333333333,
              "#9c179e"
             ],
             [
              0.4444444444444444,
              "#bd3786"
             ],
             [
              0.5555555555555556,
              "#d8576b"
             ],
             [
              0.6666666666666666,
              "#ed7953"
             ],
             [
              0.7777777777777778,
              "#fb9f3a"
             ],
             [
              0.8888888888888888,
              "#fdca26"
             ],
             [
              1,
              "#f0f921"
             ]
            ],
            "type": "heatmapgl"
           }
          ],
          "histogram": [
           {
            "marker": {
             "pattern": {
              "fillmode": "overlay",
              "size": 10,
              "solidity": 0.2
             }
            },
            "type": "histogram"
           }
          ],
          "histogram2d": [
           {
            "colorbar": {
             "outlinewidth": 0,
             "ticks": ""
            },
            "colorscale": [
             [
              0,
              "#0d0887"
             ],
             [
              0.1111111111111111,
              "#46039f"
             ],
             [
              0.2222222222222222,
              "#7201a8"
             ],
             [
              0.3333333333333333,
              "#9c179e"
             ],
             [
              0.4444444444444444,
              "#bd3786"
             ],
             [
              0.5555555555555556,
              "#d8576b"
             ],
             [
              0.6666666666666666,
              "#ed7953"
             ],
             [
              0.7777777777777778,
              "#fb9f3a"
             ],
             [
              0.8888888888888888,
              "#fdca26"
             ],
             [
              1,
              "#f0f921"
             ]
            ],
            "type": "histogram2d"
           }
          ],
          "histogram2dcontour": [
           {
            "colorbar": {
             "outlinewidth": 0,
             "ticks": ""
            },
            "colorscale": [
             [
              0,
              "#0d0887"
             ],
             [
              0.1111111111111111,
              "#46039f"
             ],
             [
              0.2222222222222222,
              "#7201a8"
             ],
             [
              0.3333333333333333,
              "#9c179e"
             ],
             [
              0.4444444444444444,
              "#bd3786"
             ],
             [
              0.5555555555555556,
              "#d8576b"
             ],
             [
              0.6666666666666666,
              "#ed7953"
             ],
             [
              0.7777777777777778,
              "#fb9f3a"
             ],
             [
              0.8888888888888888,
              "#fdca26"
             ],
             [
              1,
              "#f0f921"
             ]
            ],
            "type": "histogram2dcontour"
           }
          ],
          "mesh3d": [
           {
            "colorbar": {
             "outlinewidth": 0,
             "ticks": ""
            },
            "type": "mesh3d"
           }
          ],
          "parcoords": [
           {
            "line": {
             "colorbar": {
              "outlinewidth": 0,
              "ticks": ""
             }
            },
            "type": "parcoords"
           }
          ],
          "pie": [
           {
            "automargin": true,
            "type": "pie"
           }
          ],
          "scatter": [
           {
            "fillpattern": {
             "fillmode": "overlay",
             "size": 10,
             "solidity": 0.2
            },
            "type": "scatter"
           }
          ],
          "scatter3d": [
           {
            "line": {
             "colorbar": {
              "outlinewidth": 0,
              "ticks": ""
             }
            },
            "marker": {
             "colorbar": {
              "outlinewidth": 0,
              "ticks": ""
             }
            },
            "type": "scatter3d"
           }
          ],
          "scattercarpet": [
           {
            "marker": {
             "colorbar": {
              "outlinewidth": 0,
              "ticks": ""
             }
            },
            "type": "scattercarpet"
           }
          ],
          "scattergeo": [
           {
            "marker": {
             "colorbar": {
              "outlinewidth": 0,
              "ticks": ""
             }
            },
            "type": "scattergeo"
           }
          ],
          "scattergl": [
           {
            "marker": {
             "colorbar": {
              "outlinewidth": 0,
              "ticks": ""
             }
            },
            "type": "scattergl"
           }
          ],
          "scattermapbox": [
           {
            "marker": {
             "colorbar": {
              "outlinewidth": 0,
              "ticks": ""
             }
            },
            "type": "scattermapbox"
           }
          ],
          "scatterpolar": [
           {
            "marker": {
             "colorbar": {
              "outlinewidth": 0,
              "ticks": ""
             }
            },
            "type": "scatterpolar"
           }
          ],
          "scatterpolargl": [
           {
            "marker": {
             "colorbar": {
              "outlinewidth": 0,
              "ticks": ""
             }
            },
            "type": "scatterpolargl"
           }
          ],
          "scatterternary": [
           {
            "marker": {
             "colorbar": {
              "outlinewidth": 0,
              "ticks": ""
             }
            },
            "type": "scatterternary"
           }
          ],
          "surface": [
           {
            "colorbar": {
             "outlinewidth": 0,
             "ticks": ""
            },
            "colorscale": [
             [
              0,
              "#0d0887"
             ],
             [
              0.1111111111111111,
              "#46039f"
             ],
             [
              0.2222222222222222,
              "#7201a8"
             ],
             [
              0.3333333333333333,
              "#9c179e"
             ],
             [
              0.4444444444444444,
              "#bd3786"
             ],
             [
              0.5555555555555556,
              "#d8576b"
             ],
             [
              0.6666666666666666,
              "#ed7953"
             ],
             [
              0.7777777777777778,
              "#fb9f3a"
             ],
             [
              0.8888888888888888,
              "#fdca26"
             ],
             [
              1,
              "#f0f921"
             ]
            ],
            "type": "surface"
           }
          ],
          "table": [
           {
            "cells": {
             "fill": {
              "color": "#EBF0F8"
             },
             "line": {
              "color": "white"
             }
            },
            "header": {
             "fill": {
              "color": "#C8D4E3"
             },
             "line": {
              "color": "white"
             }
            },
            "type": "table"
           }
          ]
         },
         "layout": {
          "annotationdefaults": {
           "arrowcolor": "#2a3f5f",
           "arrowhead": 0,
           "arrowwidth": 1
          },
          "autotypenumbers": "strict",
          "coloraxis": {
           "colorbar": {
            "outlinewidth": 0,
            "ticks": ""
           }
          },
          "colorscale": {
           "diverging": [
            [
             0,
             "#8e0152"
            ],
            [
             0.1,
             "#c51b7d"
            ],
            [
             0.2,
             "#de77ae"
            ],
            [
             0.3,
             "#f1b6da"
            ],
            [
             0.4,
             "#fde0ef"
            ],
            [
             0.5,
             "#f7f7f7"
            ],
            [
             0.6,
             "#e6f5d0"
            ],
            [
             0.7,
             "#b8e186"
            ],
            [
             0.8,
             "#7fbc41"
            ],
            [
             0.9,
             "#4d9221"
            ],
            [
             1,
             "#276419"
            ]
           ],
           "sequential": [
            [
             0,
             "#0d0887"
            ],
            [
             0.1111111111111111,
             "#46039f"
            ],
            [
             0.2222222222222222,
             "#7201a8"
            ],
            [
             0.3333333333333333,
             "#9c179e"
            ],
            [
             0.4444444444444444,
             "#bd3786"
            ],
            [
             0.5555555555555556,
             "#d8576b"
            ],
            [
             0.6666666666666666,
             "#ed7953"
            ],
            [
             0.7777777777777778,
             "#fb9f3a"
            ],
            [
             0.8888888888888888,
             "#fdca26"
            ],
            [
             1,
             "#f0f921"
            ]
           ],
           "sequentialminus": [
            [
             0,
             "#0d0887"
            ],
            [
             0.1111111111111111,
             "#46039f"
            ],
            [
             0.2222222222222222,
             "#7201a8"
            ],
            [
             0.3333333333333333,
             "#9c179e"
            ],
            [
             0.4444444444444444,
             "#bd3786"
            ],
            [
             0.5555555555555556,
             "#d8576b"
            ],
            [
             0.6666666666666666,
             "#ed7953"
            ],
            [
             0.7777777777777778,
             "#fb9f3a"
            ],
            [
             0.8888888888888888,
             "#fdca26"
            ],
            [
             1,
             "#f0f921"
            ]
           ]
          },
          "colorway": [
           "#636efa",
           "#EF553B",
           "#00cc96",
           "#ab63fa",
           "#FFA15A",
           "#19d3f3",
           "#FF6692",
           "#B6E880",
           "#FF97FF",
           "#FECB52"
          ],
          "font": {
           "color": "#2a3f5f"
          },
          "geo": {
           "bgcolor": "white",
           "lakecolor": "white",
           "landcolor": "#E5ECF6",
           "showlakes": true,
           "showland": true,
           "subunitcolor": "white"
          },
          "hoverlabel": {
           "align": "left"
          },
          "hovermode": "closest",
          "mapbox": {
           "style": "light"
          },
          "paper_bgcolor": "white",
          "plot_bgcolor": "#E5ECF6",
          "polar": {
           "angularaxis": {
            "gridcolor": "white",
            "linecolor": "white",
            "ticks": ""
           },
           "bgcolor": "#E5ECF6",
           "radialaxis": {
            "gridcolor": "white",
            "linecolor": "white",
            "ticks": ""
           }
          },
          "scene": {
           "xaxis": {
            "backgroundcolor": "#E5ECF6",
            "gridcolor": "white",
            "gridwidth": 2,
            "linecolor": "white",
            "showbackground": true,
            "ticks": "",
            "zerolinecolor": "white"
           },
           "yaxis": {
            "backgroundcolor": "#E5ECF6",
            "gridcolor": "white",
            "gridwidth": 2,
            "linecolor": "white",
            "showbackground": true,
            "ticks": "",
            "zerolinecolor": "white"
           },
           "zaxis": {
            "backgroundcolor": "#E5ECF6",
            "gridcolor": "white",
            "gridwidth": 2,
            "linecolor": "white",
            "showbackground": true,
            "ticks": "",
            "zerolinecolor": "white"
           }
          },
          "shapedefaults": {
           "line": {
            "color": "#2a3f5f"
           }
          },
          "ternary": {
           "aaxis": {
            "gridcolor": "white",
            "linecolor": "white",
            "ticks": ""
           },
           "baxis": {
            "gridcolor": "white",
            "linecolor": "white",
            "ticks": ""
           },
           "bgcolor": "#E5ECF6",
           "caxis": {
            "gridcolor": "white",
            "linecolor": "white",
            "ticks": ""
           }
          },
          "title": {
           "x": 0.05
          },
          "xaxis": {
           "automargin": true,
           "gridcolor": "white",
           "linecolor": "white",
           "ticks": "",
           "title": {
            "standoff": 15
           },
           "zerolinecolor": "white",
           "zerolinewidth": 2
          },
          "yaxis": {
           "automargin": true,
           "gridcolor": "white",
           "linecolor": "white",
           "ticks": "",
           "title": {
            "standoff": 15
           },
           "zerolinecolor": "white",
           "zerolinewidth": 2
          }
         }
        },
        "title": {
         "text": "Country vs. Campus Type"
        },
        "xaxis": {
         "anchor": "y",
         "constrain": "domain",
         "domain": [
          0,
          1
         ],
         "scaleanchor": "y",
         "title": {
          "text": "Score"
         }
        },
        "yaxis": {
         "anchor": "x",
         "autorange": "reversed",
         "constrain": "domain",
         "domain": [
          0,
          1
         ],
         "title": {
          "text": "Country"
         }
        }
       }
      },
      "text/html": [
       "<div>                            <div id=\"eb8aaf0e-b169-4d47-983b-95855636f41b\" class=\"plotly-graph-div\" style=\"height:525px; width:100%;\"></div>            <script type=\"text/javascript\">                require([\"plotly\"], function(Plotly) {                    window.PLOTLYENV=window.PLOTLYENV || {};                                    if (document.getElementById(\"eb8aaf0e-b169-4d47-983b-95855636f41b\")) {                    Plotly.newPlot(                        \"eb8aaf0e-b169-4d47-983b-95855636f41b\",                        [{\"coloraxis\":\"coloraxis\",\"name\":\"0\",\"texttemplate\":\"%{z}\",\"x\":[\"72.03\",\"72.33\",\"72.57\",\"72.74\",\"72.95\",\"73.05\",\"73.08\",\"73.16\",\"73.21\",\"73.59\",\"73.66\",\"74.11\",\"74.13\",\"74.79\",\"74.8\",\"74.89\",\"75.11\",\"75.45\",\"75.49\",\"75.52\",\"75.66\",\"76.32\",\"76.46\",\"76.56\",\"76.76\",\"76.77\",\"77.16\",\"77.22\",\"77.28\",\"77.35\",\"77.42\",\"77.55\",\"77.75\",\"77.94\",\"77.95\",\"78.49\",\"78.72\",\"78.77\",\"78.86\",\"79.08\",\"79.39\",\"79.46\",\"79.54\",\"79.69\",\"80.11\",\"80.68\",\"80.78\",\"80.83\",\"80.96\",\"81.08\",\"81.46\",\"81.82\",\"81.93\",\"82.06\",\"82.24\",\"82.34\",\"82.38\",\"82.48\",\"82.69\",\"82.8\",\"82.87\",\"82.95\",\"83.04\",\"83.26\",\"83.39\",\"83.79\",\"84.43\",\"84.64\",\"84.75\",\"84.96\",\"85.08\",\"86.02\",\"86.38\",\"86.6\",\"86.85\",\"87.62\",\"87.64\",\"87.76\",\"88.23\",\"88.52\",\"88.73\",\"89.11\",\"89.67\",\"90.3\",\"90.68\",\"91.23\",\"91.26\",\"92.08\",\"93.69\",\"94.4\",\"96.15\",\"96.53\",\"96.75\",\"98.13\",\"99.06\"],\"y\":[\"Australia\",\"Austria\",\"Belgium\",\"Canada\",\"China\",\"Denmark\",\"France\",\"Germany\",\"Greece\",\"Hong Kong\",\"India\",\"Italy\",\"Japan\",\"Netherlands\",\"Singapore\",\"South Korea\",\"Spain\",\"Sweden\",\"Switzerland\",\"Taiwan\",\"UK\",\"US\",\"Ukraine\"],\"z\":[[0,0,0,0,0,0,0,0,0,0,0,0,0,0,0,0,0,0,0,0,0,0,0,0,0,0,0,0,0,0,0,0,0,0,0,0,0,0,0,0,1,0,0,0,0,0,0,0,0,0,0,0,0,0,0,0,0,0,0,0,0,0,1,0,0,1,0,0,0,0,0,0,0,0,0,0,0,0,0,0,0,0,0,0,0,0,0,0,0,0,0,0,0,0,0],[1,0,0,0,0,0,0,0,0,0,0,0,0,0,0,0,0,0,0,0,0,0,0,0,0,0,0,0,0,0,0,0,0,0,0,0,0,0,0,0,0,0,0,0,0,0,0,0,0,0,0,0,0,0,0,0,0,0,0,0,0,0,0,0,0,0,0,0,0,0,0,0,0,0,0,0,0,0,0,0,0,0,0,0,0,0,0,0,0,0,0,0,0,0,0],[0,0,0,0,0,0,0,0,0,0,0,0,0,0,0,0,0,0,0,0,0,0,0,0,0,0,0,0,0,1,0,0,0,0,0,0,0,0,0,0,0,0,0,0,0,0,0,0,0,0,0,0,0,0,0,0,0,0,0,0,0,0,0,0,0,0,0,0,0,0,0,0,0,0,0,0,0,0,0,0,0,0,0,0,0,0,0,0,0,0,0,0,0,0,0],[0,0,0,0,0,0,0,0,0,0,0,0,0,0,0,0,0,0,0,0,0,0,0,0,0,0,0,0,0,0,0,1,0,0,0,0,0,0,0,0,0,0,0,0,0,1,0,0,0,0,0,0,0,0,0,0,1,0,0,0,0,0,0,0,0,0,1,0,0,0,0,0,0,0,0,0,0,0,0,0,0,0,0,0,0,0,0,0,0,0,0,0,0,0,0],[0,0,0,0,0,0,0,0,0,0,0,0,0,0,0,0,0,0,0,1,0,0,0,0,0,0,0,0,0,0,0,0,0,0,0,0,0,0,0,0,0,0,0,0,0,0,0,0,0,0,0,0,0,0,0,0,0,0,0,0,0,0,0,0,0,0,0,0,0,0,0,0,0,0,0,0,0,0,0,0,0,0,0,0,0,0,0,0,0,0,0,0,0,0,0],[0,0,0,0,0,0,0,0,0,0,0,0,0,0,0,0,0,0,0,0,0,0,0,0,0,0,0,0,0,0,0,0,0,0,0,0,0,0,0,0,0,0,0,1,0,0,0,0,0,0,0,0,0,0,0,0,0,0,0,0,0,0,0,0,0,0,0,0,0,0,0,0,0,0,0,0,0,0,0,0,0,0,0,0,0,0,0,0,0,0,0,0,0,0,0],[0,0,0,0,0,0,0,0,0,0,0,0,0,0,0,0,0,0,0,0,0,0,0,0,0,0,1,0,0,0,0,0,0,0,0,0,0,0,0,0,0,0,0,0,0,0,0,0,0,0,0,0,0,0,0,0,0,0,0,0,0,0,0,0,0,0,0,0,0,0,0,0,0,0,0,0,0,0,0,0,0,0,0,0,0,0,0,0,0,0,0,0,0,0,0],[0,0,0,0,0,0,0,0,0,0,0,1,0,0,0,0,0,0,0,0,0,0,0,0,0,0,0,0,0,0,0,0,0,0,1,0,0,0,0,0,0,0,0,0,0,0,0,0,0,0,0,0,0,0,1,0,0,0,0,0,0,0,0,0,0,0,0,0,0,0,0,0,0,0,0,0,0,0,0,0,0,0,0,0,0,0,0,0,0,0,0,0,0,0,0],[1,0,0,0,0,0,1,1,0,0,0,0,0,0,0,0,0,0,0,0,0,0,0,0,0,0,0,0,0,0,0,0,0,0,0,0,0,0,0,0,0,0,0,0,0,0,0,0,0,0,0,0,0,0,0,0,0,0,0,0,0,0,0,0,0,0,0,0,0,0,0,0,0,0,0,0,0,0,0,0,0,0,0,0,0,0,0,0,0,0,0,0,0,0,0],[0,0,0,0,0,0,0,0,0,0,0,0,0,0,0,0,0,0,0,0,0,0,0,0,0,0,0,0,0,0,0,0,1,0,0,0,0,0,1,0,0,0,0,0,0,0,0,0,0,0,0,0,0,0,0,0,0,0,0,0,0,0,0,0,0,0,0,0,0,0,0,0,0,0,0,0,0,0,0,0,0,0,0,0,0,0,0,0,0,0,0,0,0,0,0],[0,0,0,0,0,0,0,0,0,0,0,0,0,0,0,0,0,0,0,0,0,0,0,0,0,0,0,0,1,0,0,0,0,0,0,0,0,1,0,0,0,1,0,0,0,0,0,0,0,0,1,0,0,0,0,0,0,0,0,1,0,0,0,0,0,0,0,0,0,0,0,0,0,1,0,0,0,0,0,0,0,0,0,0,0,0,0,0,0,0,0,0,0,0,0],[0,0,0,0,0,0,0,0,0,0,0,0,0,1,0,0,0,0,0,0,0,0,0,0,0,0,0,0,0,0,0,0,0,0,0,0,0,0,0,0,0,0,0,0,0,0,0,0,0,0,0,0,0,0,0,0,0,0,0,0,0,0,0,0,0,0,0,0,0,0,0,0,0,0,0,0,0,0,0,0,0,0,0,0,0,0,0,0,0,0,0,0,0,0,0],[0,0,0,0,0,0,0,0,0,0,0,0,0,0,0,0,0,0,0,0,1,0,0,0,0,0,0,0,0,0,0,0,0,0,0,0,0,0,0,0,0,0,0,0,0,0,1,0,0,0,0,0,0,0,0,0,0,0,0,0,0,0,0,0,0,0,0,0,0,0,0,0,0,0,0,0,0,0,0,0,0,0,0,0,0,0,0,0,0,0,0,0,0,0,0],[0,0,1,0,0,0,0,0,1,0,0,0,0,0,0,0,0,0,0,0,0,1,0,1,0,0,0,0,0,0,0,0,0,0,0,0,0,0,0,0,0,0,1,0,0,0,0,0,1,0,0,0,0,0,0,0,0,0,0,0,0,0,0,0,0,0,0,0,0,0,0,0,0,0,0,0,0,0,0,0,0,0,0,0,0,0,0,0,0,0,0,0,0,0,0],[0,0,0,0,0,0,0,0,0,0,0,0,0,0,0,0,0,0,0,0,0,0,0,0,0,0,0,0,0,0,0,0,0,0,0,0,0,0,0,0,0,0,0,0,0,0,0,0,0,0,0,0,1,0,0,0,0,0,0,0,0,0,0,0,0,0,0,0,0,0,0,0,0,0,0,0,0,0,0,0,0,0,0,0,0,0,0,0,0,0,0,0,0,0,0],[0,0,0,0,0,0,0,0,0,0,0,0,0,0,0,0,0,1,0,0,0,0,0,0,0,0,0,0,0,0,0,0,0,0,0,0,0,0,0,0,0,0,0,0,0,0,0,0,0,0,0,0,0,0,0,1,0,0,0,0,0,0,0,0,0,0,0,0,0,0,0,0,0,0,0,0,0,0,0,0,0,0,0,0,0,0,0,0,0,0,0,0,0,0,0],[0,0,0,0,0,0,0,0,0,0,0,0,0,0,0,0,0,0,0,0,0,0,1,0,0,0,0,0,0,0,0,0,0,0,0,0,0,0,0,0,0,0,0,0,0,0,0,0,0,0,0,0,0,0,0,0,0,0,0,0,0,0,0,0,0,0,0,0,0,0,0,0,0,0,0,0,0,0,0,0,0,0,0,0,0,0,0,0,0,0,0,0,0,0,0],[0,0,0,0,0,0,0,0,0,0,0,0,0,0,1,0,0,0,0,0,0,0,0,0,0,0,0,0,0,0,0,0,0,0,0,0,0,0,0,0,0,0,0,0,0,0,0,0,0,0,0,0,0,0,0,0,0,0,0,0,0,0,0,0,1,0,0,0,0,0,0,0,0,0,0,0,0,0,0,0,0,0,0,0,0,0,0,0,0,0,0,0,0,0,0],[0,0,0,0,0,0,0,0,0,1,0,0,0,0,0,0,1,0,0,0,0,0,0,0,0,0,0,0,0,0,0,0,0,0,0,0,0,0,0,0,0,0,0,0,0,0,0,0,0,0,0,0,0,0,0,0,0,0,0,0,0,0,0,0,0,0,0,0,0,0,0,0,0,0,0,0,0,0,0,0,0,0,0,0,0,0,0,0,0,0,0,0,0,0,0],[0,0,0,0,0,0,0,0,0,0,0,0,0,0,0,0,0,0,0,0,0,0,0,0,0,1,0,0,0,0,0,0,0,0,0,0,0,0,0,0,0,0,0,0,0,0,0,0,0,0,0,0,0,0,0,0,0,0,0,0,0,0,0,0,0,0,0,0,0,0,0,0,0,0,0,0,0,0,0,0,0,0,0,0,0,0,0,0,0,0,0,0,0,0,0],[0,0,0,0,0,0,0,0,0,0,0,0,0,0,0,0,0,0,0,0,0,0,0,0,0,0,0,0,0,0,0,0,0,0,0,0,0,0,1,0,0,0,0,0,0,0,0,0,0,0,0,0,0,1,0,0,0,1,0,0,0,1,0,1,0,0,0,0,0,1,0,1,0,0,0,0,0,0,0,0,0,0,0,0,0,0,0,0,0,0,0,0,0,0,0],[0,1,0,1,1,1,0,0,0,0,1,0,1,0,0,1,0,0,1,0,0,0,1,0,1,1,0,1,0,0,1,0,0,1,0,1,0,0,0,1,0,0,0,0,1,0,0,1,0,1,0,1,0,0,0,0,0,0,1,0,1,0,0,0,1,0,0,1,1,0,1,0,1,0,1,1,1,1,1,1,1,1,1,1,1,1,1,1,1,1,1,1,1,1,1],[0,0,0,0,0,0,0,0,0,0,0,0,0,0,0,0,0,0,0,0,0,0,0,0,0,0,0,0,0,0,0,0,0,0,0,0,1,0,0,0,0,0,0,0,0,0,0,0,0,0,0,0,0,0,0,0,0,0,0,0,0,0,0,0,0,0,0,0,0,0,0,0,0,0,0,0,0,0,0,0,0,0,0,0,0,0,0,0,0,0,0,0,0,0,0]],\"type\":\"heatmap\",\"xaxis\":\"x\",\"yaxis\":\"y\",\"hovertemplate\":\"Score: %{x}<br>Country: %{y}<br>color: %{z}<extra></extra>\"}],                        {\"template\":{\"data\":{\"histogram2dcontour\":[{\"type\":\"histogram2dcontour\",\"colorbar\":{\"outlinewidth\":0,\"ticks\":\"\"},\"colorscale\":[[0.0,\"#0d0887\"],[0.1111111111111111,\"#46039f\"],[0.2222222222222222,\"#7201a8\"],[0.3333333333333333,\"#9c179e\"],[0.4444444444444444,\"#bd3786\"],[0.5555555555555556,\"#d8576b\"],[0.6666666666666666,\"#ed7953\"],[0.7777777777777778,\"#fb9f3a\"],[0.8888888888888888,\"#fdca26\"],[1.0,\"#f0f921\"]]}],\"choropleth\":[{\"type\":\"choropleth\",\"colorbar\":{\"outlinewidth\":0,\"ticks\":\"\"}}],\"histogram2d\":[{\"type\":\"histogram2d\",\"colorbar\":{\"outlinewidth\":0,\"ticks\":\"\"},\"colorscale\":[[0.0,\"#0d0887\"],[0.1111111111111111,\"#46039f\"],[0.2222222222222222,\"#7201a8\"],[0.3333333333333333,\"#9c179e\"],[0.4444444444444444,\"#bd3786\"],[0.5555555555555556,\"#d8576b\"],[0.6666666666666666,\"#ed7953\"],[0.7777777777777778,\"#fb9f3a\"],[0.8888888888888888,\"#fdca26\"],[1.0,\"#f0f921\"]]}],\"heatmap\":[{\"type\":\"heatmap\",\"colorbar\":{\"outlinewidth\":0,\"ticks\":\"\"},\"colorscale\":[[0.0,\"#0d0887\"],[0.1111111111111111,\"#46039f\"],[0.2222222222222222,\"#7201a8\"],[0.3333333333333333,\"#9c179e\"],[0.4444444444444444,\"#bd3786\"],[0.5555555555555556,\"#d8576b\"],[0.6666666666666666,\"#ed7953\"],[0.7777777777777778,\"#fb9f3a\"],[0.8888888888888888,\"#fdca26\"],[1.0,\"#f0f921\"]]}],\"heatmapgl\":[{\"type\":\"heatmapgl\",\"colorbar\":{\"outlinewidth\":0,\"ticks\":\"\"},\"colorscale\":[[0.0,\"#0d0887\"],[0.1111111111111111,\"#46039f\"],[0.2222222222222222,\"#7201a8\"],[0.3333333333333333,\"#9c179e\"],[0.4444444444444444,\"#bd3786\"],[0.5555555555555556,\"#d8576b\"],[0.6666666666666666,\"#ed7953\"],[0.7777777777777778,\"#fb9f3a\"],[0.8888888888888888,\"#fdca26\"],[1.0,\"#f0f921\"]]}],\"contourcarpet\":[{\"type\":\"contourcarpet\",\"colorbar\":{\"outlinewidth\":0,\"ticks\":\"\"}}],\"contour\":[{\"type\":\"contour\",\"colorbar\":{\"outlinewidth\":0,\"ticks\":\"\"},\"colorscale\":[[0.0,\"#0d0887\"],[0.1111111111111111,\"#46039f\"],[0.2222222222222222,\"#7201a8\"],[0.3333333333333333,\"#9c179e\"],[0.4444444444444444,\"#bd3786\"],[0.5555555555555556,\"#d8576b\"],[0.6666666666666666,\"#ed7953\"],[0.7777777777777778,\"#fb9f3a\"],[0.8888888888888888,\"#fdca26\"],[1.0,\"#f0f921\"]]}],\"surface\":[{\"type\":\"surface\",\"colorbar\":{\"outlinewidth\":0,\"ticks\":\"\"},\"colorscale\":[[0.0,\"#0d0887\"],[0.1111111111111111,\"#46039f\"],[0.2222222222222222,\"#7201a8\"],[0.3333333333333333,\"#9c179e\"],[0.4444444444444444,\"#bd3786\"],[0.5555555555555556,\"#d8576b\"],[0.6666666666666666,\"#ed7953\"],[0.7777777777777778,\"#fb9f3a\"],[0.8888888888888888,\"#fdca26\"],[1.0,\"#f0f921\"]]}],\"mesh3d\":[{\"type\":\"mesh3d\",\"colorbar\":{\"outlinewidth\":0,\"ticks\":\"\"}}],\"scatter\":[{\"fillpattern\":{\"fillmode\":\"overlay\",\"size\":10,\"solidity\":0.2},\"type\":\"scatter\"}],\"parcoords\":[{\"type\":\"parcoords\",\"line\":{\"colorbar\":{\"outlinewidth\":0,\"ticks\":\"\"}}}],\"scatterpolargl\":[{\"type\":\"scatterpolargl\",\"marker\":{\"colorbar\":{\"outlinewidth\":0,\"ticks\":\"\"}}}],\"bar\":[{\"error_x\":{\"color\":\"#2a3f5f\"},\"error_y\":{\"color\":\"#2a3f5f\"},\"marker\":{\"line\":{\"color\":\"#E5ECF6\",\"width\":0.5},\"pattern\":{\"fillmode\":\"overlay\",\"size\":10,\"solidity\":0.2}},\"type\":\"bar\"}],\"scattergeo\":[{\"type\":\"scattergeo\",\"marker\":{\"colorbar\":{\"outlinewidth\":0,\"ticks\":\"\"}}}],\"scatterpolar\":[{\"type\":\"scatterpolar\",\"marker\":{\"colorbar\":{\"outlinewidth\":0,\"ticks\":\"\"}}}],\"histogram\":[{\"marker\":{\"pattern\":{\"fillmode\":\"overlay\",\"size\":10,\"solidity\":0.2}},\"type\":\"histogram\"}],\"scattergl\":[{\"type\":\"scattergl\",\"marker\":{\"colorbar\":{\"outlinewidth\":0,\"ticks\":\"\"}}}],\"scatter3d\":[{\"type\":\"scatter3d\",\"line\":{\"colorbar\":{\"outlinewidth\":0,\"ticks\":\"\"}},\"marker\":{\"colorbar\":{\"outlinewidth\":0,\"ticks\":\"\"}}}],\"scattermapbox\":[{\"type\":\"scattermapbox\",\"marker\":{\"colorbar\":{\"outlinewidth\":0,\"ticks\":\"\"}}}],\"scatterternary\":[{\"type\":\"scatterternary\",\"marker\":{\"colorbar\":{\"outlinewidth\":0,\"ticks\":\"\"}}}],\"scattercarpet\":[{\"type\":\"scattercarpet\",\"marker\":{\"colorbar\":{\"outlinewidth\":0,\"ticks\":\"\"}}}],\"carpet\":[{\"aaxis\":{\"endlinecolor\":\"#2a3f5f\",\"gridcolor\":\"white\",\"linecolor\":\"white\",\"minorgridcolor\":\"white\",\"startlinecolor\":\"#2a3f5f\"},\"baxis\":{\"endlinecolor\":\"#2a3f5f\",\"gridcolor\":\"white\",\"linecolor\":\"white\",\"minorgridcolor\":\"white\",\"startlinecolor\":\"#2a3f5f\"},\"type\":\"carpet\"}],\"table\":[{\"cells\":{\"fill\":{\"color\":\"#EBF0F8\"},\"line\":{\"color\":\"white\"}},\"header\":{\"fill\":{\"color\":\"#C8D4E3\"},\"line\":{\"color\":\"white\"}},\"type\":\"table\"}],\"barpolar\":[{\"marker\":{\"line\":{\"color\":\"#E5ECF6\",\"width\":0.5},\"pattern\":{\"fillmode\":\"overlay\",\"size\":10,\"solidity\":0.2}},\"type\":\"barpolar\"}],\"pie\":[{\"automargin\":true,\"type\":\"pie\"}]},\"layout\":{\"autotypenumbers\":\"strict\",\"colorway\":[\"#636efa\",\"#EF553B\",\"#00cc96\",\"#ab63fa\",\"#FFA15A\",\"#19d3f3\",\"#FF6692\",\"#B6E880\",\"#FF97FF\",\"#FECB52\"],\"font\":{\"color\":\"#2a3f5f\"},\"hovermode\":\"closest\",\"hoverlabel\":{\"align\":\"left\"},\"paper_bgcolor\":\"white\",\"plot_bgcolor\":\"#E5ECF6\",\"polar\":{\"bgcolor\":\"#E5ECF6\",\"angularaxis\":{\"gridcolor\":\"white\",\"linecolor\":\"white\",\"ticks\":\"\"},\"radialaxis\":{\"gridcolor\":\"white\",\"linecolor\":\"white\",\"ticks\":\"\"}},\"ternary\":{\"bgcolor\":\"#E5ECF6\",\"aaxis\":{\"gridcolor\":\"white\",\"linecolor\":\"white\",\"ticks\":\"\"},\"baxis\":{\"gridcolor\":\"white\",\"linecolor\":\"white\",\"ticks\":\"\"},\"caxis\":{\"gridcolor\":\"white\",\"linecolor\":\"white\",\"ticks\":\"\"}},\"coloraxis\":{\"colorbar\":{\"outlinewidth\":0,\"ticks\":\"\"}},\"colorscale\":{\"sequential\":[[0.0,\"#0d0887\"],[0.1111111111111111,\"#46039f\"],[0.2222222222222222,\"#7201a8\"],[0.3333333333333333,\"#9c179e\"],[0.4444444444444444,\"#bd3786\"],[0.5555555555555556,\"#d8576b\"],[0.6666666666666666,\"#ed7953\"],[0.7777777777777778,\"#fb9f3a\"],[0.8888888888888888,\"#fdca26\"],[1.0,\"#f0f921\"]],\"sequentialminus\":[[0.0,\"#0d0887\"],[0.1111111111111111,\"#46039f\"],[0.2222222222222222,\"#7201a8\"],[0.3333333333333333,\"#9c179e\"],[0.4444444444444444,\"#bd3786\"],[0.5555555555555556,\"#d8576b\"],[0.6666666666666666,\"#ed7953\"],[0.7777777777777778,\"#fb9f3a\"],[0.8888888888888888,\"#fdca26\"],[1.0,\"#f0f921\"]],\"diverging\":[[0,\"#8e0152\"],[0.1,\"#c51b7d\"],[0.2,\"#de77ae\"],[0.3,\"#f1b6da\"],[0.4,\"#fde0ef\"],[0.5,\"#f7f7f7\"],[0.6,\"#e6f5d0\"],[0.7,\"#b8e186\"],[0.8,\"#7fbc41\"],[0.9,\"#4d9221\"],[1,\"#276419\"]]},\"xaxis\":{\"gridcolor\":\"white\",\"linecolor\":\"white\",\"ticks\":\"\",\"title\":{\"standoff\":15},\"zerolinecolor\":\"white\",\"automargin\":true,\"zerolinewidth\":2},\"yaxis\":{\"gridcolor\":\"white\",\"linecolor\":\"white\",\"ticks\":\"\",\"title\":{\"standoff\":15},\"zerolinecolor\":\"white\",\"automargin\":true,\"zerolinewidth\":2},\"scene\":{\"xaxis\":{\"backgroundcolor\":\"#E5ECF6\",\"gridcolor\":\"white\",\"linecolor\":\"white\",\"showbackground\":true,\"ticks\":\"\",\"zerolinecolor\":\"white\",\"gridwidth\":2},\"yaxis\":{\"backgroundcolor\":\"#E5ECF6\",\"gridcolor\":\"white\",\"linecolor\":\"white\",\"showbackground\":true,\"ticks\":\"\",\"zerolinecolor\":\"white\",\"gridwidth\":2},\"zaxis\":{\"backgroundcolor\":\"#E5ECF6\",\"gridcolor\":\"white\",\"linecolor\":\"white\",\"showbackground\":true,\"ticks\":\"\",\"zerolinecolor\":\"white\",\"gridwidth\":2}},\"shapedefaults\":{\"line\":{\"color\":\"#2a3f5f\"}},\"annotationdefaults\":{\"arrowcolor\":\"#2a3f5f\",\"arrowhead\":0,\"arrowwidth\":1},\"geo\":{\"bgcolor\":\"white\",\"landcolor\":\"#E5ECF6\",\"subunitcolor\":\"white\",\"showland\":true,\"showlakes\":true,\"lakecolor\":\"white\"},\"title\":{\"x\":0.05},\"mapbox\":{\"style\":\"light\"}}},\"xaxis\":{\"anchor\":\"y\",\"domain\":[0.0,1.0],\"scaleanchor\":\"y\",\"constrain\":\"domain\",\"title\":{\"text\":\"Score\"}},\"yaxis\":{\"anchor\":\"x\",\"domain\":[0.0,1.0],\"autorange\":\"reversed\",\"constrain\":\"domain\",\"title\":{\"text\":\"Country\"}},\"coloraxis\":{\"colorscale\":[[0.0,\"#0d0887\"],[0.1111111111111111,\"#46039f\"],[0.2222222222222222,\"#7201a8\"],[0.3333333333333333,\"#9c179e\"],[0.4444444444444444,\"#bd3786\"],[0.5555555555555556,\"#d8576b\"],[0.6666666666666666,\"#ed7953\"],[0.7777777777777778,\"#fb9f3a\"],[0.8888888888888888,\"#fdca26\"],[1.0,\"#f0f921\"]]},\"title\":{\"text\":\"Country vs. Campus Type\"}},                        {\"responsive\": true}                    ).then(function(){\n",
       "                            \n",
       "var gd = document.getElementById('eb8aaf0e-b169-4d47-983b-95855636f41b');\n",
       "var x = new MutationObserver(function (mutations, observer) {{\n",
       "        var display = window.getComputedStyle(gd).display;\n",
       "        if (!display || display === 'none') {{\n",
       "            console.log([gd, 'removed!']);\n",
       "            Plotly.purge(gd);\n",
       "            observer.disconnect();\n",
       "        }}\n",
       "}});\n",
       "\n",
       "// Listen for the removal of the full notebook cells\n",
       "var notebookContainer = gd.closest('#notebook-container');\n",
       "if (notebookContainer) {{\n",
       "    x.observe(notebookContainer, {childList: true});\n",
       "}}\n",
       "\n",
       "// Listen for the clearing of the current output cell\n",
       "var outputEl = gd.closest('.output');\n",
       "if (outputEl) {{\n",
       "    x.observe(outputEl, {childList: true});\n",
       "}}\n",
       "\n",
       "                        })                };                });            </script>        </div>"
      ]
     },
     "metadata": {},
     "output_type": "display_data"
    }
   ],
   "source": [
    "# Heatmap\n",
    "# Assuming you have a categorical column 'Campus_Type'\n",
    "\n",
    "crosstab = pd.crosstab(df['Country'], df['Score'])\n",
    "fig = px.imshow(crosstab, text_auto=True, title='Country vs. Campus Type')\n",
    "fig.show()"
   ]
  },
  {
   "cell_type": "code",
   "execution_count": 76,
   "id": "15d4310d",
   "metadata": {},
   "outputs": [
    {
     "data": {
      "text/html": [
       "<div>\n",
       "<style scoped>\n",
       "    .dataframe tbody tr th:only-of-type {\n",
       "        vertical-align: middle;\n",
       "    }\n",
       "\n",
       "    .dataframe tbody tr th {\n",
       "        vertical-align: top;\n",
       "    }\n",
       "\n",
       "    .dataframe thead th {\n",
       "        text-align: right;\n",
       "    }\n",
       "</style>\n",
       "<table border=\"1\" class=\"dataframe\">\n",
       "  <thead>\n",
       "    <tr style=\"text-align: right;\">\n",
       "      <th></th>\n",
       "      <th>Instute_Name</th>\n",
       "      <th>Country</th>\n",
       "      <th>Campus</th>\n",
       "      <th>Score</th>\n",
       "      <th>Rating</th>\n",
       "    </tr>\n",
       "  </thead>\n",
       "  <tbody>\n",
       "    <tr>\n",
       "      <th>0</th>\n",
       "      <td>Harvard Medical School</td>\n",
       "      <td>US</td>\n",
       "      <td>Boston, MA</td>\n",
       "      <td>99.06</td>\n",
       "      <td>AAA</td>\n",
       "    </tr>\n",
       "    <tr>\n",
       "      <th>1</th>\n",
       "      <td>Johns Hopkins University School of Medicine</td>\n",
       "      <td>US</td>\n",
       "      <td>Baltimore, Maryland</td>\n",
       "      <td>98.13</td>\n",
       "      <td>AAA</td>\n",
       "    </tr>\n",
       "    <tr>\n",
       "      <th>2</th>\n",
       "      <td>NYU Grossman School of Medicine</td>\n",
       "      <td>US</td>\n",
       "      <td>New York City, New York</td>\n",
       "      <td>96.75</td>\n",
       "      <td>AAA</td>\n",
       "    </tr>\n",
       "    <tr>\n",
       "      <th>3</th>\n",
       "      <td>Perelman School of Medicine at the University ...</td>\n",
       "      <td>US</td>\n",
       "      <td>Philadelphia, Pennsylvania</td>\n",
       "      <td>96.53</td>\n",
       "      <td>AAA</td>\n",
       "    </tr>\n",
       "    <tr>\n",
       "      <th>4</th>\n",
       "      <td>Columbia University Vagelos College of Physici...</td>\n",
       "      <td>US</td>\n",
       "      <td>New York City, New York</td>\n",
       "      <td>96.15</td>\n",
       "      <td>AAA</td>\n",
       "    </tr>\n",
       "  </tbody>\n",
       "</table>\n",
       "</div>"
      ],
      "text/plain": [
       "                                        Instute_Name Country  \\\n",
       "0                             Harvard Medical School      US   \n",
       "1        Johns Hopkins University School of Medicine      US   \n",
       "2                    NYU Grossman School of Medicine      US   \n",
       "3  Perelman School of Medicine at the University ...      US   \n",
       "4  Columbia University Vagelos College of Physici...      US   \n",
       "\n",
       "                       Campus  Score Rating  \n",
       "0                  Boston, MA  99.06    AAA  \n",
       "1         Baltimore, Maryland  98.13    AAA  \n",
       "2     New York City, New York  96.75    AAA  \n",
       "3  Philadelphia, Pennsylvania  96.53    AAA  \n",
       "4     New York City, New York  96.15    AAA  "
      ]
     },
     "execution_count": 76,
     "metadata": {},
     "output_type": "execute_result"
    }
   ],
   "source": [
    "df.head()"
   ]
  },
  {
   "cell_type": "code",
   "execution_count": 81,
   "id": "3dac47c2",
   "metadata": {},
   "outputs": [
    {
     "ename": "AttributeError",
     "evalue": "'DataFrame' object has no attribute 'iteritems'",
     "output_type": "error",
     "traceback": [
      "\u001b[1;31m---------------------------------------------------------------------------\u001b[0m",
      "\u001b[1;31mAttributeError\u001b[0m                            Traceback (most recent call last)",
      "\u001b[1;32m~\\AppData\\Local\\Temp\\ipykernel_6932\\945897288.py\u001b[0m in \u001b[0;36m?\u001b[1;34m()\u001b[0m\n\u001b[1;32m----> 1\u001b[1;33m \u001b[0mfig\u001b[0m \u001b[1;33m=\u001b[0m \u001b[0mpx\u001b[0m\u001b[1;33m.\u001b[0m\u001b[0mscatter_matrix\u001b[0m\u001b[1;33m(\u001b[0m\u001b[0mdf\u001b[0m\u001b[1;33m,\u001b[0m \u001b[0mdimensions\u001b[0m\u001b[1;33m=\u001b[0m\u001b[1;33m[\u001b[0m\u001b[1;34m'Score'\u001b[0m\u001b[1;33m,\u001b[0m \u001b[1;34m'Rating'\u001b[0m\u001b[1;33m]\u001b[0m\u001b[1;33m,\u001b[0m \u001b[0mcolor\u001b[0m\u001b[1;33m=\u001b[0m\u001b[1;34m'Country'\u001b[0m\u001b[1;33m)\u001b[0m\u001b[1;33m\u001b[0m\u001b[1;33m\u001b[0m\u001b[0m\n\u001b[0m\u001b[0;32m      2\u001b[0m \u001b[1;33m\u001b[0m\u001b[0m\n\u001b[0;32m      3\u001b[0m \u001b[0mfig\u001b[0m\u001b[1;33m.\u001b[0m\u001b[0mshow\u001b[0m\u001b[1;33m(\u001b[0m\u001b[1;33m)\u001b[0m\u001b[1;33m\u001b[0m\u001b[1;33m\u001b[0m\u001b[0m\n",
      "\u001b[1;32m~\\anaconda3\\Lib\\site-packages\\plotly\\express\\_chart_types.py\u001b[0m in \u001b[0;36m?\u001b[1;34m(data_frame, dimensions, color, symbol, size, hover_name, hover_data, custom_data, category_orders, labels, color_discrete_sequence, color_discrete_map, color_continuous_scale, range_color, color_continuous_midpoint, symbol_sequence, symbol_map, opacity, size_max, title, template, width, height)\u001b[0m\n\u001b[0;32m   1388\u001b[0m     \u001b[0mrepresented\u001b[0m \u001b[0mby\u001b[0m \u001b[0ma\u001b[0m \u001b[0mmultiple\u001b[0m \u001b[0msymbol\u001b[0m \u001b[0mmarks\u001b[0m\u001b[1;33m,\u001b[0m \u001b[0mone\u001b[0m \u001b[1;32min\u001b[0m \u001b[0meach\u001b[0m \u001b[0mcell\u001b[0m \u001b[0mof\u001b[0m \u001b[0ma\u001b[0m \u001b[0mgrid\u001b[0m \u001b[0mof\u001b[0m\u001b[1;33m\u001b[0m\u001b[1;33m\u001b[0m\u001b[0m\n\u001b[0;32m   1389\u001b[0m     \u001b[1;36m2\u001b[0m\u001b[0mD\u001b[0m \u001b[0mscatter\u001b[0m \u001b[0mplots\u001b[0m\u001b[1;33m,\u001b[0m \u001b[0mwhich\u001b[0m \u001b[0mplot\u001b[0m \u001b[0meach\u001b[0m \u001b[0mpair\u001b[0m \u001b[0mof\u001b[0m\u001b[0;31m \u001b[0m\u001b[0;31m`\u001b[0m\u001b[0mdimensions\u001b[0m\u001b[0;31m`\u001b[0m \u001b[0magainst\u001b[0m \u001b[0meach\u001b[0m\u001b[1;33m\u001b[0m\u001b[1;33m\u001b[0m\u001b[0m\n\u001b[0;32m   1390\u001b[0m     \u001b[0mother\u001b[0m\u001b[1;33m.\u001b[0m\u001b[1;33m\u001b[0m\u001b[1;33m\u001b[0m\u001b[0m\n\u001b[0;32m   1391\u001b[0m     \"\"\"\n\u001b[1;32m-> 1392\u001b[1;33m     return make_figure(\n\u001b[0m\u001b[0;32m   1393\u001b[0m         \u001b[0margs\u001b[0m\u001b[1;33m=\u001b[0m\u001b[0mlocals\u001b[0m\u001b[1;33m(\u001b[0m\u001b[1;33m)\u001b[0m\u001b[1;33m,\u001b[0m \u001b[0mconstructor\u001b[0m\u001b[1;33m=\u001b[0m\u001b[0mgo\u001b[0m\u001b[1;33m.\u001b[0m\u001b[0mSplom\u001b[0m\u001b[1;33m,\u001b[0m \u001b[0mlayout_patch\u001b[0m\u001b[1;33m=\u001b[0m\u001b[0mdict\u001b[0m\u001b[1;33m(\u001b[0m\u001b[0mdragmode\u001b[0m\u001b[1;33m=\u001b[0m\u001b[1;34m\"select\"\u001b[0m\u001b[1;33m)\u001b[0m\u001b[1;33m\u001b[0m\u001b[1;33m\u001b[0m\u001b[0m\n\u001b[0;32m   1394\u001b[0m     )\n",
      "\u001b[1;32m~\\anaconda3\\Lib\\site-packages\\plotly\\express\\_core.py\u001b[0m in \u001b[0;36m?\u001b[1;34m(args, constructor, trace_patch, layout_patch)\u001b[0m\n\u001b[0;32m   2163\u001b[0m                     \u001b[0mgroup\u001b[0m\u001b[1;33m[\u001b[0m\u001b[0mvar\u001b[0m\u001b[1;33m]\u001b[0m \u001b[1;33m=\u001b[0m \u001b[0mgroup\u001b[0m\u001b[1;33m[\u001b[0m\u001b[0mvar\u001b[0m\u001b[1;33m]\u001b[0m \u001b[1;33m/\u001b[0m \u001b[0mgroup_sum\u001b[0m\u001b[1;33m\u001b[0m\u001b[1;33m\u001b[0m\u001b[0m\n\u001b[0;32m   2164\u001b[0m                 \u001b[1;32melif\u001b[0m \u001b[0margs\u001b[0m\u001b[1;33m[\u001b[0m\u001b[1;34m\"ecdfnorm\"\u001b[0m\u001b[1;33m]\u001b[0m \u001b[1;33m==\u001b[0m \u001b[1;34m\"percent\"\u001b[0m\u001b[1;33m:\u001b[0m\u001b[1;33m\u001b[0m\u001b[1;33m\u001b[0m\u001b[0m\n\u001b[0;32m   2165\u001b[0m                     \u001b[0mgroup\u001b[0m\u001b[1;33m[\u001b[0m\u001b[0mvar\u001b[0m\u001b[1;33m]\u001b[0m \u001b[1;33m=\u001b[0m \u001b[1;36m100.0\u001b[0m \u001b[1;33m*\u001b[0m \u001b[0mgroup\u001b[0m\u001b[1;33m[\u001b[0m\u001b[0mvar\u001b[0m\u001b[1;33m]\u001b[0m \u001b[1;33m/\u001b[0m \u001b[0mgroup_sum\u001b[0m\u001b[1;33m\u001b[0m\u001b[1;33m\u001b[0m\u001b[0m\n\u001b[0;32m   2166\u001b[0m \u001b[1;33m\u001b[0m\u001b[0m\n\u001b[1;32m-> 2167\u001b[1;33m             patch, fit_results = make_trace_kwargs(\n\u001b[0m\u001b[0;32m   2168\u001b[0m                 \u001b[0margs\u001b[0m\u001b[1;33m,\u001b[0m \u001b[0mtrace_spec\u001b[0m\u001b[1;33m,\u001b[0m \u001b[0mgroup\u001b[0m\u001b[1;33m,\u001b[0m \u001b[0mmapping_labels\u001b[0m\u001b[1;33m.\u001b[0m\u001b[0mcopy\u001b[0m\u001b[1;33m(\u001b[0m\u001b[1;33m)\u001b[0m\u001b[1;33m,\u001b[0m \u001b[0msizeref\u001b[0m\u001b[1;33m\u001b[0m\u001b[1;33m\u001b[0m\u001b[0m\n\u001b[0;32m   2169\u001b[0m             )\n\u001b[0;32m   2170\u001b[0m             \u001b[0mtrace\u001b[0m\u001b[1;33m.\u001b[0m\u001b[0mupdate\u001b[0m\u001b[1;33m(\u001b[0m\u001b[0mpatch\u001b[0m\u001b[1;33m)\u001b[0m\u001b[1;33m\u001b[0m\u001b[1;33m\u001b[0m\u001b[0m\n",
      "\u001b[1;32m~\\anaconda3\\Lib\\site-packages\\plotly\\express\\_core.py\u001b[0m in \u001b[0;36m?\u001b[1;34m(args, trace_spec, trace_data, mapping_labels, sizeref)\u001b[0m\n\u001b[0;32m    277\u001b[0m         \u001b[0mattr_label\u001b[0m \u001b[1;33m=\u001b[0m \u001b[0mget_decorated_label\u001b[0m\u001b[1;33m(\u001b[0m\u001b[0margs\u001b[0m\u001b[1;33m,\u001b[0m \u001b[0mattr_value\u001b[0m\u001b[1;33m,\u001b[0m \u001b[0mattr_name\u001b[0m\u001b[1;33m)\u001b[0m\u001b[1;33m\u001b[0m\u001b[1;33m\u001b[0m\u001b[0m\n\u001b[0;32m    278\u001b[0m         \u001b[1;32mif\u001b[0m \u001b[0mattr_name\u001b[0m \u001b[1;33m==\u001b[0m \u001b[1;34m\"dimensions\"\u001b[0m\u001b[1;33m:\u001b[0m\u001b[1;33m\u001b[0m\u001b[1;33m\u001b[0m\u001b[0m\n\u001b[0;32m    279\u001b[0m             dims = [\n\u001b[0;32m    280\u001b[0m                 \u001b[1;33m(\u001b[0m\u001b[0mname\u001b[0m\u001b[1;33m,\u001b[0m \u001b[0mcolumn\u001b[0m\u001b[1;33m)\u001b[0m\u001b[1;33m\u001b[0m\u001b[1;33m\u001b[0m\u001b[0m\n\u001b[1;32m--> 281\u001b[1;33m                 \u001b[1;32mfor\u001b[0m \u001b[1;33m(\u001b[0m\u001b[0mname\u001b[0m\u001b[1;33m,\u001b[0m \u001b[0mcolumn\u001b[0m\u001b[1;33m)\u001b[0m \u001b[1;32min\u001b[0m \u001b[0mtrace_data\u001b[0m\u001b[1;33m.\u001b[0m\u001b[0miteritems\u001b[0m\u001b[1;33m(\u001b[0m\u001b[1;33m)\u001b[0m\u001b[1;33m\u001b[0m\u001b[1;33m\u001b[0m\u001b[0m\n\u001b[0m\u001b[0;32m    282\u001b[0m                 \u001b[1;32mif\u001b[0m \u001b[1;33m(\u001b[0m\u001b[1;33m(\u001b[0m\u001b[1;32mnot\u001b[0m \u001b[0mattr_value\u001b[0m\u001b[1;33m)\u001b[0m \u001b[1;32mor\u001b[0m \u001b[1;33m(\u001b[0m\u001b[0mname\u001b[0m \u001b[1;32min\u001b[0m \u001b[0mattr_value\u001b[0m\u001b[1;33m)\u001b[0m\u001b[1;33m)\u001b[0m\u001b[1;33m\u001b[0m\u001b[1;33m\u001b[0m\u001b[0m\n\u001b[0;32m    283\u001b[0m                 and (\n\u001b[0;32m    284\u001b[0m                     \u001b[0mtrace_spec\u001b[0m\u001b[1;33m.\u001b[0m\u001b[0mconstructor\u001b[0m \u001b[1;33m!=\u001b[0m \u001b[0mgo\u001b[0m\u001b[1;33m.\u001b[0m\u001b[0mParcoords\u001b[0m\u001b[1;33m\u001b[0m\u001b[1;33m\u001b[0m\u001b[0m\n",
      "\u001b[1;32m~\\anaconda3\\Lib\\site-packages\\pandas\\core\\generic.py\u001b[0m in \u001b[0;36m?\u001b[1;34m(self, name)\u001b[0m\n\u001b[0;32m   5985\u001b[0m             \u001b[1;32mand\u001b[0m \u001b[0mname\u001b[0m \u001b[1;32mnot\u001b[0m \u001b[1;32min\u001b[0m \u001b[0mself\u001b[0m\u001b[1;33m.\u001b[0m\u001b[0m_accessors\u001b[0m\u001b[1;33m\u001b[0m\u001b[1;33m\u001b[0m\u001b[0m\n\u001b[0;32m   5986\u001b[0m             \u001b[1;32mand\u001b[0m \u001b[0mself\u001b[0m\u001b[1;33m.\u001b[0m\u001b[0m_info_axis\u001b[0m\u001b[1;33m.\u001b[0m\u001b[0m_can_hold_identifiers_and_holds_name\u001b[0m\u001b[1;33m(\u001b[0m\u001b[0mname\u001b[0m\u001b[1;33m)\u001b[0m\u001b[1;33m\u001b[0m\u001b[1;33m\u001b[0m\u001b[0m\n\u001b[0;32m   5987\u001b[0m         ):\n\u001b[0;32m   5988\u001b[0m             \u001b[1;32mreturn\u001b[0m \u001b[0mself\u001b[0m\u001b[1;33m[\u001b[0m\u001b[0mname\u001b[0m\u001b[1;33m]\u001b[0m\u001b[1;33m\u001b[0m\u001b[1;33m\u001b[0m\u001b[0m\n\u001b[1;32m-> 5989\u001b[1;33m         \u001b[1;32mreturn\u001b[0m \u001b[0mobject\u001b[0m\u001b[1;33m.\u001b[0m\u001b[0m__getattribute__\u001b[0m\u001b[1;33m(\u001b[0m\u001b[0mself\u001b[0m\u001b[1;33m,\u001b[0m \u001b[0mname\u001b[0m\u001b[1;33m)\u001b[0m\u001b[1;33m\u001b[0m\u001b[1;33m\u001b[0m\u001b[0m\n\u001b[0m",
      "\u001b[1;31mAttributeError\u001b[0m: 'DataFrame' object has no attribute 'iteritems'"
     ]
    }
   ],
   "source": [
    "fig = px.scatter_matrix(df, dimensions=['Score', 'Rating'], color='Country')\n",
    "\n",
    "fig.show()"
   ]
  },
  {
   "cell_type": "code",
   "execution_count": null,
   "id": "8afaa49e",
   "metadata": {},
   "outputs": [],
   "source": []
  }
 ],
 "metadata": {
  "kernelspec": {
   "display_name": "Python 3 (ipykernel)",
   "language": "python",
   "name": "python3"
  },
  "language_info": {
   "codemirror_mode": {
    "name": "ipython",
    "version": 3
   },
   "file_extension": ".py",
   "mimetype": "text/x-python",
   "name": "python",
   "nbconvert_exporter": "python",
   "pygments_lexer": "ipython3",
   "version": "3.11.5"
  }
 },
 "nbformat": 4,
 "nbformat_minor": 5
}
